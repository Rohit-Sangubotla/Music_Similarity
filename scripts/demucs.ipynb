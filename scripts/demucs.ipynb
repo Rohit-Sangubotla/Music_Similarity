{
 "cells": [
  {
   "cell_type": "markdown",
   "metadata": {},
   "source": [
    "This notebook is to seperate the individual instruments of the songs in the dataset. This is achieved using demucs."
   ]
  },
  {
   "cell_type": "code",
   "execution_count": 3,
   "metadata": {},
   "outputs": [
    {
     "name": "stdout",
     "output_type": "stream",
     "text": [
      "\u001b[1mImportant: the default model was recently changed to `htdemucs`\u001b[0m the latest Hybrid Transformer Demucs model. In some cases, this model can actually perform worse than previous models. To get back the old default model use `-n mdx_extra_q`.\n",
      "Selected model is a bag of 1 models. You will see that many progress bars per track.\n",
      "Separated tracks will be stored in /home/rohitsangubotla/Documents/Projects/Music_Similarity/dataset/separated/Allantha Doorala/htdemucs\n",
      "Separating track ../dataset/mp3/Allantha Doorala.mp3\n"
     ]
    },
    {
     "name": "stderr",
     "output_type": "stream",
     "text": [
      "  0%|                                                                     | 0.0/280.79999999999995 [00:00<?, ?seconds/s]/home/rohitsangubotla/Documents/Projects/Music_Similarity/.venv/lib/python3.10/site-packages/torch/nn/modules/conv.py:456: UserWarning: Plan failed with a cudnnException: CUDNN_BACKEND_EXECUTION_PLAN_DESCRIPTOR: cudnnFinalize Descriptor Failed cudnn_status: CUDNN_STATUS_NOT_SUPPORTED (Triggered internally at ../aten/src/ATen/native/cudnn/Conv_v8.cpp:919.)\n",
      "  return F.conv2d(input, weight, bias, self.stride,\n",
      "/home/rohitsangubotla/Documents/Projects/Music_Similarity/.venv/lib/python3.10/site-packages/torch/nn/modules/conv.py:306: UserWarning: Plan failed with a cudnnException: CUDNN_BACKEND_EXECUTION_PLAN_DESCRIPTOR: cudnnFinalize Descriptor Failed cudnn_status: CUDNN_STATUS_NOT_SUPPORTED (Triggered internally at ../aten/src/ATen/native/cudnn/Conv_v8.cpp:919.)\n",
      "  return F.conv1d(input, weight, bias, self.stride,\n",
      "/home/rohitsangubotla/Documents/Projects/Music_Similarity/.venv/lib/python3.10/site-packages/torch/nn/modules/conv.py:306: UserWarning: Plan failed with a cudnnException: CUDNN_BACKEND_EXECUTION_PLAN_DESCRIPTOR: cudnnFinalize Descriptor Failed cudnn_status: CUDNN_STATUS_NOT_SUPPORTED (Triggered internally at ../aten/src/ATen/native/cudnn/Conv_v8.cpp:919.)\n",
      "  return F.conv1d(input, weight, bias, self.stride,\n",
      "100%|██████████████████████████████████████████████| 280.79999999999995/280.79999999999995 [00:18<00:00, 15.58seconds/s]\n"
     ]
    },
    {
     "name": "stdout",
     "output_type": "stream",
     "text": [
      "\u001b[1mImportant: the default model was recently changed to `htdemucs`\u001b[0m the latest Hybrid Transformer Demucs model. In some cases, this model can actually perform worse than previous models. To get back the old default model use `-n mdx_extra_q`.\n",
      "Selected model is a bag of 1 models. You will see that many progress bars per track.\n",
      "Separated tracks will be stored in /home/rohitsangubotla/Documents/Projects/Music_Similarity/dataset/separated/Pranavalaya/htdemucs\n",
      "Separating track ../dataset/mp3/Pranavalaya.mp3\n"
     ]
    },
    {
     "name": "stderr",
     "output_type": "stream",
     "text": [
      "  0%|                                                                                 | 0.0/263.25 [00:00<?, ?seconds/s]/home/rohitsangubotla/Documents/Projects/Music_Similarity/.venv/lib/python3.10/site-packages/torch/nn/modules/conv.py:456: UserWarning: Plan failed with a cudnnException: CUDNN_BACKEND_EXECUTION_PLAN_DESCRIPTOR: cudnnFinalize Descriptor Failed cudnn_status: CUDNN_STATUS_NOT_SUPPORTED (Triggered internally at ../aten/src/ATen/native/cudnn/Conv_v8.cpp:919.)\n",
      "  return F.conv2d(input, weight, bias, self.stride,\n",
      "/home/rohitsangubotla/Documents/Projects/Music_Similarity/.venv/lib/python3.10/site-packages/torch/nn/modules/conv.py:306: UserWarning: Plan failed with a cudnnException: CUDNN_BACKEND_EXECUTION_PLAN_DESCRIPTOR: cudnnFinalize Descriptor Failed cudnn_status: CUDNN_STATUS_NOT_SUPPORTED (Triggered internally at ../aten/src/ATen/native/cudnn/Conv_v8.cpp:919.)\n",
      "  return F.conv1d(input, weight, bias, self.stride,\n",
      "/home/rohitsangubotla/Documents/Projects/Music_Similarity/.venv/lib/python3.10/site-packages/torch/nn/modules/conv.py:306: UserWarning: Plan failed with a cudnnException: CUDNN_BACKEND_EXECUTION_PLAN_DESCRIPTOR: cudnnFinalize Descriptor Failed cudnn_status: CUDNN_STATUS_NOT_SUPPORTED (Triggered internally at ../aten/src/ATen/native/cudnn/Conv_v8.cpp:919.)\n",
      "  return F.conv1d(input, weight, bias, self.stride,\n",
      "100%|██████████████████████████████████████████████████████████████████████| 263.25/263.25 [00:16<00:00, 15.65seconds/s]\n"
     ]
    },
    {
     "name": "stdout",
     "output_type": "stream",
     "text": [
      "\u001b[1mImportant: the default model was recently changed to `htdemucs`\u001b[0m the latest Hybrid Transformer Demucs model. In some cases, this model can actually perform worse than previous models. To get back the old default model use `-n mdx_extra_q`.\n",
      "Selected model is a bag of 1 models. You will see that many progress bars per track.\n",
      "Separated tracks will be stored in /home/rohitsangubotla/Documents/Projects/Music_Similarity/dataset/separated/Adiga Adiga/htdemucs\n",
      "Separating track ../dataset/mp3/Adiga Adiga.mp3\n"
     ]
    },
    {
     "name": "stderr",
     "output_type": "stream",
     "text": [
      "  0%|                                                                                 | 0.0/216.45 [00:00<?, ?seconds/s]/home/rohitsangubotla/Documents/Projects/Music_Similarity/.venv/lib/python3.10/site-packages/torch/nn/modules/conv.py:456: UserWarning: Plan failed with a cudnnException: CUDNN_BACKEND_EXECUTION_PLAN_DESCRIPTOR: cudnnFinalize Descriptor Failed cudnn_status: CUDNN_STATUS_NOT_SUPPORTED (Triggered internally at ../aten/src/ATen/native/cudnn/Conv_v8.cpp:919.)\n",
      "  return F.conv2d(input, weight, bias, self.stride,\n",
      "/home/rohitsangubotla/Documents/Projects/Music_Similarity/.venv/lib/python3.10/site-packages/torch/nn/modules/conv.py:306: UserWarning: Plan failed with a cudnnException: CUDNN_BACKEND_EXECUTION_PLAN_DESCRIPTOR: cudnnFinalize Descriptor Failed cudnn_status: CUDNN_STATUS_NOT_SUPPORTED (Triggered internally at ../aten/src/ATen/native/cudnn/Conv_v8.cpp:919.)\n",
      "  return F.conv1d(input, weight, bias, self.stride,\n",
      "/home/rohitsangubotla/Documents/Projects/Music_Similarity/.venv/lib/python3.10/site-packages/torch/nn/modules/conv.py:306: UserWarning: Plan failed with a cudnnException: CUDNN_BACKEND_EXECUTION_PLAN_DESCRIPTOR: cudnnFinalize Descriptor Failed cudnn_status: CUDNN_STATUS_NOT_SUPPORTED (Triggered internally at ../aten/src/ATen/native/cudnn/Conv_v8.cpp:919.)\n",
      "  return F.conv1d(input, weight, bias, self.stride,\n",
      "100%|██████████████████████████████████████████████████████████████████████| 216.45/216.45 [00:13<00:00, 16.44seconds/s]\n"
     ]
    },
    {
     "name": "stdout",
     "output_type": "stream",
     "text": [
      "\u001b[1mImportant: the default model was recently changed to `htdemucs`\u001b[0m the latest Hybrid Transformer Demucs model. In some cases, this model can actually perform worse than previous models. To get back the old default model use `-n mdx_extra_q`.\n",
      "Selected model is a bag of 1 models. You will see that many progress bars per track.\n",
      "Separated tracks will be stored in /home/rohitsangubotla/Documents/Projects/Music_Similarity/dataset/separated/Guruvaram/htdemucs\n",
      "Separating track ../dataset/mp3/Guruvaram.mp3\n"
     ]
    },
    {
     "name": "stderr",
     "output_type": "stream",
     "text": [
      "  0%|                                                                     | 0.0/269.09999999999997 [00:00<?, ?seconds/s]/home/rohitsangubotla/Documents/Projects/Music_Similarity/.venv/lib/python3.10/site-packages/torch/nn/modules/conv.py:456: UserWarning: Plan failed with a cudnnException: CUDNN_BACKEND_EXECUTION_PLAN_DESCRIPTOR: cudnnFinalize Descriptor Failed cudnn_status: CUDNN_STATUS_NOT_SUPPORTED (Triggered internally at ../aten/src/ATen/native/cudnn/Conv_v8.cpp:919.)\n",
      "  return F.conv2d(input, weight, bias, self.stride,\n",
      "/home/rohitsangubotla/Documents/Projects/Music_Similarity/.venv/lib/python3.10/site-packages/torch/nn/modules/conv.py:306: UserWarning: Plan failed with a cudnnException: CUDNN_BACKEND_EXECUTION_PLAN_DESCRIPTOR: cudnnFinalize Descriptor Failed cudnn_status: CUDNN_STATUS_NOT_SUPPORTED (Triggered internally at ../aten/src/ATen/native/cudnn/Conv_v8.cpp:919.)\n",
      "  return F.conv1d(input, weight, bias, self.stride,\n",
      "/home/rohitsangubotla/Documents/Projects/Music_Similarity/.venv/lib/python3.10/site-packages/torch/nn/modules/conv.py:306: UserWarning: Plan failed with a cudnnException: CUDNN_BACKEND_EXECUTION_PLAN_DESCRIPTOR: cudnnFinalize Descriptor Failed cudnn_status: CUDNN_STATUS_NOT_SUPPORTED (Triggered internally at ../aten/src/ATen/native/cudnn/Conv_v8.cpp:919.)\n",
      "  return F.conv1d(input, weight, bias, self.stride,\n",
      "100%|██████████████████████████████████████████████| 269.09999999999997/269.09999999999997 [00:16<00:00, 16.72seconds/s]\n"
     ]
    },
    {
     "name": "stdout",
     "output_type": "stream",
     "text": [
      "\u001b[1mImportant: the default model was recently changed to `htdemucs`\u001b[0m the latest Hybrid Transformer Demucs model. In some cases, this model can actually perform worse than previous models. To get back the old default model use `-n mdx_extra_q`.\n",
      "Selected model is a bag of 1 models. You will see that many progress bars per track.\n",
      "Separated tracks will be stored in /home/rohitsangubotla/Documents/Projects/Music_Similarity/dataset/separated/Ghal Ghal Ghal Ghal/htdemucs\n",
      "Separating track ../dataset/mp3/Ghal Ghal Ghal Ghal.mp3\n"
     ]
    },
    {
     "name": "stderr",
     "output_type": "stream",
     "text": [
      "  0%|                                                                     | 0.0/327.59999999999997 [00:00<?, ?seconds/s]/home/rohitsangubotla/Documents/Projects/Music_Similarity/.venv/lib/python3.10/site-packages/torch/nn/modules/conv.py:456: UserWarning: Plan failed with a cudnnException: CUDNN_BACKEND_EXECUTION_PLAN_DESCRIPTOR: cudnnFinalize Descriptor Failed cudnn_status: CUDNN_STATUS_NOT_SUPPORTED (Triggered internally at ../aten/src/ATen/native/cudnn/Conv_v8.cpp:919.)\n",
      "  return F.conv2d(input, weight, bias, self.stride,\n",
      "/home/rohitsangubotla/Documents/Projects/Music_Similarity/.venv/lib/python3.10/site-packages/torch/nn/modules/conv.py:306: UserWarning: Plan failed with a cudnnException: CUDNN_BACKEND_EXECUTION_PLAN_DESCRIPTOR: cudnnFinalize Descriptor Failed cudnn_status: CUDNN_STATUS_NOT_SUPPORTED (Triggered internally at ../aten/src/ATen/native/cudnn/Conv_v8.cpp:919.)\n",
      "  return F.conv1d(input, weight, bias, self.stride,\n",
      "/home/rohitsangubotla/Documents/Projects/Music_Similarity/.venv/lib/python3.10/site-packages/torch/nn/modules/conv.py:306: UserWarning: Plan failed with a cudnnException: CUDNN_BACKEND_EXECUTION_PLAN_DESCRIPTOR: cudnnFinalize Descriptor Failed cudnn_status: CUDNN_STATUS_NOT_SUPPORTED (Triggered internally at ../aten/src/ATen/native/cudnn/Conv_v8.cpp:919.)\n",
      "  return F.conv1d(input, weight, bias, self.stride,\n",
      "100%|██████████████████████████████████████████████| 327.59999999999997/327.59999999999997 [00:20<00:00, 16.12seconds/s]\n"
     ]
    },
    {
     "name": "stdout",
     "output_type": "stream",
     "text": [
      "\u001b[1mImportant: the default model was recently changed to `htdemucs`\u001b[0m the latest Hybrid Transformer Demucs model. In some cases, this model can actually perform worse than previous models. To get back the old default model use `-n mdx_extra_q`.\n",
      "Selected model is a bag of 1 models. You will see that many progress bars per track.\n",
      "Separated tracks will be stored in /home/rohitsangubotla/Documents/Projects/Music_Similarity/dataset/separated/Ninnila/htdemucs\n",
      "Separating track ../dataset/mp3/Ninnila.mp3\n"
     ]
    },
    {
     "name": "stderr",
     "output_type": "stream",
     "text": [
      "  0%|                                                                                 | 0.0/239.85 [00:00<?, ?seconds/s]/home/rohitsangubotla/Documents/Projects/Music_Similarity/.venv/lib/python3.10/site-packages/torch/nn/modules/conv.py:456: UserWarning: Plan failed with a cudnnException: CUDNN_BACKEND_EXECUTION_PLAN_DESCRIPTOR: cudnnFinalize Descriptor Failed cudnn_status: CUDNN_STATUS_NOT_SUPPORTED (Triggered internally at ../aten/src/ATen/native/cudnn/Conv_v8.cpp:919.)\n",
      "  return F.conv2d(input, weight, bias, self.stride,\n",
      "/home/rohitsangubotla/Documents/Projects/Music_Similarity/.venv/lib/python3.10/site-packages/torch/nn/modules/conv.py:306: UserWarning: Plan failed with a cudnnException: CUDNN_BACKEND_EXECUTION_PLAN_DESCRIPTOR: cudnnFinalize Descriptor Failed cudnn_status: CUDNN_STATUS_NOT_SUPPORTED (Triggered internally at ../aten/src/ATen/native/cudnn/Conv_v8.cpp:919.)\n",
      "  return F.conv1d(input, weight, bias, self.stride,\n",
      "/home/rohitsangubotla/Documents/Projects/Music_Similarity/.venv/lib/python3.10/site-packages/torch/nn/modules/conv.py:306: UserWarning: Plan failed with a cudnnException: CUDNN_BACKEND_EXECUTION_PLAN_DESCRIPTOR: cudnnFinalize Descriptor Failed cudnn_status: CUDNN_STATUS_NOT_SUPPORTED (Triggered internally at ../aten/src/ATen/native/cudnn/Conv_v8.cpp:919.)\n",
      "  return F.conv1d(input, weight, bias, self.stride,\n",
      "100%|██████████████████████████████████████████████████████████████████████| 239.85/239.85 [00:13<00:00, 17.57seconds/s]\n"
     ]
    },
    {
     "name": "stdout",
     "output_type": "stream",
     "text": [
      "\u001b[1mImportant: the default model was recently changed to `htdemucs`\u001b[0m the latest Hybrid Transformer Demucs model. In some cases, this model can actually perform worse than previous models. To get back the old default model use `-n mdx_extra_q`.\n",
      "Selected model is a bag of 1 models. You will see that many progress bars per track.\n",
      "Separated tracks will be stored in /home/rohitsangubotla/Documents/Projects/Music_Similarity/dataset/separated/Hukum/htdemucs\n",
      "Separating track ../dataset/mp3/Hukum.mp3\n"
     ]
    },
    {
     "name": "stderr",
     "output_type": "stream",
     "text": [
      "  0%|                                                                                  | 0.0/210.6 [00:00<?, ?seconds/s]/home/rohitsangubotla/Documents/Projects/Music_Similarity/.venv/lib/python3.10/site-packages/torch/nn/modules/conv.py:456: UserWarning: Plan failed with a cudnnException: CUDNN_BACKEND_EXECUTION_PLAN_DESCRIPTOR: cudnnFinalize Descriptor Failed cudnn_status: CUDNN_STATUS_NOT_SUPPORTED (Triggered internally at ../aten/src/ATen/native/cudnn/Conv_v8.cpp:919.)\n",
      "  return F.conv2d(input, weight, bias, self.stride,\n",
      "/home/rohitsangubotla/Documents/Projects/Music_Similarity/.venv/lib/python3.10/site-packages/torch/nn/modules/conv.py:306: UserWarning: Plan failed with a cudnnException: CUDNN_BACKEND_EXECUTION_PLAN_DESCRIPTOR: cudnnFinalize Descriptor Failed cudnn_status: CUDNN_STATUS_NOT_SUPPORTED (Triggered internally at ../aten/src/ATen/native/cudnn/Conv_v8.cpp:919.)\n",
      "  return F.conv1d(input, weight, bias, self.stride,\n",
      "/home/rohitsangubotla/Documents/Projects/Music_Similarity/.venv/lib/python3.10/site-packages/torch/nn/modules/conv.py:306: UserWarning: Plan failed with a cudnnException: CUDNN_BACKEND_EXECUTION_PLAN_DESCRIPTOR: cudnnFinalize Descriptor Failed cudnn_status: CUDNN_STATUS_NOT_SUPPORTED (Triggered internally at ../aten/src/ATen/native/cudnn/Conv_v8.cpp:919.)\n",
      "  return F.conv1d(input, weight, bias, self.stride,\n",
      "100%|████████████████████████████████████████████████████████████████████████| 210.6/210.6 [00:12<00:00, 17.11seconds/s]\n"
     ]
    },
    {
     "name": "stdout",
     "output_type": "stream",
     "text": [
      "\u001b[1mImportant: the default model was recently changed to `htdemucs`\u001b[0m the latest Hybrid Transformer Demucs model. In some cases, this model can actually perform worse than previous models. To get back the old default model use `-n mdx_extra_q`.\n",
      "Selected model is a bag of 1 models. You will see that many progress bars per track.\n",
      "Separated tracks will be stored in /home/rohitsangubotla/Documents/Projects/Music_Similarity/dataset/separated/Chinnari Thalli/htdemucs\n",
      "Separating track ../dataset/mp3/Chinnari Thalli.mp3\n"
     ]
    },
    {
     "name": "stderr",
     "output_type": "stream",
     "text": [
      "  0%|                                                                                 | 0.0/274.95 [00:00<?, ?seconds/s]/home/rohitsangubotla/Documents/Projects/Music_Similarity/.venv/lib/python3.10/site-packages/torch/nn/modules/conv.py:456: UserWarning: Plan failed with a cudnnException: CUDNN_BACKEND_EXECUTION_PLAN_DESCRIPTOR: cudnnFinalize Descriptor Failed cudnn_status: CUDNN_STATUS_NOT_SUPPORTED (Triggered internally at ../aten/src/ATen/native/cudnn/Conv_v8.cpp:919.)\n",
      "  return F.conv2d(input, weight, bias, self.stride,\n",
      "/home/rohitsangubotla/Documents/Projects/Music_Similarity/.venv/lib/python3.10/site-packages/torch/nn/modules/conv.py:306: UserWarning: Plan failed with a cudnnException: CUDNN_BACKEND_EXECUTION_PLAN_DESCRIPTOR: cudnnFinalize Descriptor Failed cudnn_status: CUDNN_STATUS_NOT_SUPPORTED (Triggered internally at ../aten/src/ATen/native/cudnn/Conv_v8.cpp:919.)\n",
      "  return F.conv1d(input, weight, bias, self.stride,\n",
      "/home/rohitsangubotla/Documents/Projects/Music_Similarity/.venv/lib/python3.10/site-packages/torch/nn/modules/conv.py:306: UserWarning: Plan failed with a cudnnException: CUDNN_BACKEND_EXECUTION_PLAN_DESCRIPTOR: cudnnFinalize Descriptor Failed cudnn_status: CUDNN_STATUS_NOT_SUPPORTED (Triggered internally at ../aten/src/ATen/native/cudnn/Conv_v8.cpp:919.)\n",
      "  return F.conv1d(input, weight, bias, self.stride,\n",
      "100%|██████████████████████████████████████████████████████████████████████| 274.95/274.95 [00:17<00:00, 16.15seconds/s]\n"
     ]
    },
    {
     "name": "stdout",
     "output_type": "stream",
     "text": [
      "\u001b[1mImportant: the default model was recently changed to `htdemucs`\u001b[0m the latest Hybrid Transformer Demucs model. In some cases, this model can actually perform worse than previous models. To get back the old default model use `-n mdx_extra_q`.\n",
      "Selected model is a bag of 1 models. You will see that many progress bars per track.\n",
      "Separated tracks will be stored in /home/rohitsangubotla/Documents/Projects/Music_Similarity/dataset/separated/O Cheliya/htdemucs\n",
      "Separating track ../dataset/mp3/O Cheliya.mp3\n"
     ]
    },
    {
     "name": "stderr",
     "output_type": "stream",
     "text": [
      "  0%|                                                                                  | 0.0/315.9 [00:00<?, ?seconds/s]/home/rohitsangubotla/Documents/Projects/Music_Similarity/.venv/lib/python3.10/site-packages/torch/nn/modules/conv.py:456: UserWarning: Plan failed with a cudnnException: CUDNN_BACKEND_EXECUTION_PLAN_DESCRIPTOR: cudnnFinalize Descriptor Failed cudnn_status: CUDNN_STATUS_NOT_SUPPORTED (Triggered internally at ../aten/src/ATen/native/cudnn/Conv_v8.cpp:919.)\n",
      "  return F.conv2d(input, weight, bias, self.stride,\n",
      "/home/rohitsangubotla/Documents/Projects/Music_Similarity/.venv/lib/python3.10/site-packages/torch/nn/modules/conv.py:306: UserWarning: Plan failed with a cudnnException: CUDNN_BACKEND_EXECUTION_PLAN_DESCRIPTOR: cudnnFinalize Descriptor Failed cudnn_status: CUDNN_STATUS_NOT_SUPPORTED (Triggered internally at ../aten/src/ATen/native/cudnn/Conv_v8.cpp:919.)\n",
      "  return F.conv1d(input, weight, bias, self.stride,\n",
      "/home/rohitsangubotla/Documents/Projects/Music_Similarity/.venv/lib/python3.10/site-packages/torch/nn/modules/conv.py:306: UserWarning: Plan failed with a cudnnException: CUDNN_BACKEND_EXECUTION_PLAN_DESCRIPTOR: cudnnFinalize Descriptor Failed cudnn_status: CUDNN_STATUS_NOT_SUPPORTED (Triggered internally at ../aten/src/ATen/native/cudnn/Conv_v8.cpp:919.)\n",
      "  return F.conv1d(input, weight, bias, self.stride,\n",
      "100%|████████████████████████████████████████████████████████████████████████| 315.9/315.9 [00:19<00:00, 16.54seconds/s]\n"
     ]
    },
    {
     "name": "stdout",
     "output_type": "stream",
     "text": [
      "\u001b[1mImportant: the default model was recently changed to `htdemucs`\u001b[0m the latest Hybrid Transformer Demucs model. In some cases, this model can actually perform worse than previous models. To get back the old default model use `-n mdx_extra_q`.\n",
      "Selected model is a bag of 1 models. You will see that many progress bars per track.\n",
      "Separated tracks will be stored in /home/rohitsangubotla/Documents/Projects/Music_Similarity/dataset/separated/Nattu Nattu/htdemucs\n",
      "Separating track ../dataset/mp3/Nattu Nattu.mp3\n"
     ]
    },
    {
     "name": "stderr",
     "output_type": "stream",
     "text": [
      "  0%|                                                                                  | 0.0/210.6 [00:00<?, ?seconds/s]/home/rohitsangubotla/Documents/Projects/Music_Similarity/.venv/lib/python3.10/site-packages/torch/nn/modules/conv.py:456: UserWarning: Plan failed with a cudnnException: CUDNN_BACKEND_EXECUTION_PLAN_DESCRIPTOR: cudnnFinalize Descriptor Failed cudnn_status: CUDNN_STATUS_NOT_SUPPORTED (Triggered internally at ../aten/src/ATen/native/cudnn/Conv_v8.cpp:919.)\n",
      "  return F.conv2d(input, weight, bias, self.stride,\n",
      "/home/rohitsangubotla/Documents/Projects/Music_Similarity/.venv/lib/python3.10/site-packages/torch/nn/modules/conv.py:306: UserWarning: Plan failed with a cudnnException: CUDNN_BACKEND_EXECUTION_PLAN_DESCRIPTOR: cudnnFinalize Descriptor Failed cudnn_status: CUDNN_STATUS_NOT_SUPPORTED (Triggered internally at ../aten/src/ATen/native/cudnn/Conv_v8.cpp:919.)\n",
      "  return F.conv1d(input, weight, bias, self.stride,\n",
      "/home/rohitsangubotla/Documents/Projects/Music_Similarity/.venv/lib/python3.10/site-packages/torch/nn/modules/conv.py:306: UserWarning: Plan failed with a cudnnException: CUDNN_BACKEND_EXECUTION_PLAN_DESCRIPTOR: cudnnFinalize Descriptor Failed cudnn_status: CUDNN_STATUS_NOT_SUPPORTED (Triggered internally at ../aten/src/ATen/native/cudnn/Conv_v8.cpp:919.)\n",
      "  return F.conv1d(input, weight, bias, self.stride,\n",
      "100%|████████████████████████████████████████████████████████████████████████| 210.6/210.6 [00:12<00:00, 16.39seconds/s]\n"
     ]
    },
    {
     "name": "stdout",
     "output_type": "stream",
     "text": [
      "\u001b[1mImportant: the default model was recently changed to `htdemucs`\u001b[0m the latest Hybrid Transformer Demucs model. In some cases, this model can actually perform worse than previous models. To get back the old default model use `-n mdx_extra_q`.\n",
      "Selected model is a bag of 1 models. You will see that many progress bars per track.\n",
      "Separated tracks will be stored in /home/rohitsangubotla/Documents/Projects/Music_Similarity/dataset/separated/Kurchi Madathapetti/htdemucs\n",
      "Separating track ../dataset/mp3/Kurchi Madathapetti.mp3\n"
     ]
    },
    {
     "name": "stderr",
     "output_type": "stream",
     "text": [
      "  0%|                                                                                 | 0.0/216.45 [00:00<?, ?seconds/s]/home/rohitsangubotla/Documents/Projects/Music_Similarity/.venv/lib/python3.10/site-packages/torch/nn/modules/conv.py:456: UserWarning: Plan failed with a cudnnException: CUDNN_BACKEND_EXECUTION_PLAN_DESCRIPTOR: cudnnFinalize Descriptor Failed cudnn_status: CUDNN_STATUS_NOT_SUPPORTED (Triggered internally at ../aten/src/ATen/native/cudnn/Conv_v8.cpp:919.)\n",
      "  return F.conv2d(input, weight, bias, self.stride,\n",
      "/home/rohitsangubotla/Documents/Projects/Music_Similarity/.venv/lib/python3.10/site-packages/torch/nn/modules/conv.py:306: UserWarning: Plan failed with a cudnnException: CUDNN_BACKEND_EXECUTION_PLAN_DESCRIPTOR: cudnnFinalize Descriptor Failed cudnn_status: CUDNN_STATUS_NOT_SUPPORTED (Triggered internally at ../aten/src/ATen/native/cudnn/Conv_v8.cpp:919.)\n",
      "  return F.conv1d(input, weight, bias, self.stride,\n",
      "/home/rohitsangubotla/Documents/Projects/Music_Similarity/.venv/lib/python3.10/site-packages/torch/nn/modules/conv.py:306: UserWarning: Plan failed with a cudnnException: CUDNN_BACKEND_EXECUTION_PLAN_DESCRIPTOR: cudnnFinalize Descriptor Failed cudnn_status: CUDNN_STATUS_NOT_SUPPORTED (Triggered internally at ../aten/src/ATen/native/cudnn/Conv_v8.cpp:919.)\n",
      "  return F.conv1d(input, weight, bias, self.stride,\n",
      "100%|██████████████████████████████████████████████████████████████████████| 216.45/216.45 [00:12<00:00, 16.78seconds/s]\n"
     ]
    },
    {
     "name": "stdout",
     "output_type": "stream",
     "text": [
      "\u001b[1mImportant: the default model was recently changed to `htdemucs`\u001b[0m the latest Hybrid Transformer Demucs model. In some cases, this model can actually perform worse than previous models. To get back the old default model use `-n mdx_extra_q`.\n",
      "Selected model is a bag of 1 models. You will see that many progress bars per track.\n",
      "Separated tracks will be stored in /home/rohitsangubotla/Documents/Projects/Music_Similarity/dataset/separated/Urike Urike/htdemucs\n",
      "Separating track ../dataset/mp3/Urike Urike.mp3\n"
     ]
    },
    {
     "name": "stderr",
     "output_type": "stream",
     "text": [
      "  0%|                                                                                  | 0.0/210.6 [00:00<?, ?seconds/s]/home/rohitsangubotla/Documents/Projects/Music_Similarity/.venv/lib/python3.10/site-packages/torch/nn/modules/conv.py:456: UserWarning: Plan failed with a cudnnException: CUDNN_BACKEND_EXECUTION_PLAN_DESCRIPTOR: cudnnFinalize Descriptor Failed cudnn_status: CUDNN_STATUS_NOT_SUPPORTED (Triggered internally at ../aten/src/ATen/native/cudnn/Conv_v8.cpp:919.)\n",
      "  return F.conv2d(input, weight, bias, self.stride,\n",
      "/home/rohitsangubotla/Documents/Projects/Music_Similarity/.venv/lib/python3.10/site-packages/torch/nn/modules/conv.py:306: UserWarning: Plan failed with a cudnnException: CUDNN_BACKEND_EXECUTION_PLAN_DESCRIPTOR: cudnnFinalize Descriptor Failed cudnn_status: CUDNN_STATUS_NOT_SUPPORTED (Triggered internally at ../aten/src/ATen/native/cudnn/Conv_v8.cpp:919.)\n",
      "  return F.conv1d(input, weight, bias, self.stride,\n",
      "/home/rohitsangubotla/Documents/Projects/Music_Similarity/.venv/lib/python3.10/site-packages/torch/nn/modules/conv.py:306: UserWarning: Plan failed with a cudnnException: CUDNN_BACKEND_EXECUTION_PLAN_DESCRIPTOR: cudnnFinalize Descriptor Failed cudnn_status: CUDNN_STATUS_NOT_SUPPORTED (Triggered internally at ../aten/src/ATen/native/cudnn/Conv_v8.cpp:919.)\n",
      "  return F.conv1d(input, weight, bias, self.stride,\n",
      "100%|████████████████████████████████████████████████████████████████████████| 210.6/210.6 [00:12<00:00, 17.09seconds/s]\n"
     ]
    },
    {
     "name": "stdout",
     "output_type": "stream",
     "text": [
      "\u001b[1mImportant: the default model was recently changed to `htdemucs`\u001b[0m the latest Hybrid Transformer Demucs model. In some cases, this model can actually perform worse than previous models. To get back the old default model use `-n mdx_extra_q`.\n",
      "Selected model is a bag of 1 models. You will see that many progress bars per track.\n",
      "Separated tracks will be stored in /home/rohitsangubotla/Documents/Projects/Music_Similarity/dataset/separated/Saahore Baahubali/htdemucs\n",
      "Separating track ../dataset/mp3/Saahore Baahubali.mp3\n"
     ]
    },
    {
     "name": "stderr",
     "output_type": "stream",
     "text": [
      "  0%|                                                                                 | 0.0/204.75 [00:00<?, ?seconds/s]/home/rohitsangubotla/Documents/Projects/Music_Similarity/.venv/lib/python3.10/site-packages/torch/nn/modules/conv.py:456: UserWarning: Plan failed with a cudnnException: CUDNN_BACKEND_EXECUTION_PLAN_DESCRIPTOR: cudnnFinalize Descriptor Failed cudnn_status: CUDNN_STATUS_NOT_SUPPORTED (Triggered internally at ../aten/src/ATen/native/cudnn/Conv_v8.cpp:919.)\n",
      "  return F.conv2d(input, weight, bias, self.stride,\n",
      "/home/rohitsangubotla/Documents/Projects/Music_Similarity/.venv/lib/python3.10/site-packages/torch/nn/modules/conv.py:306: UserWarning: Plan failed with a cudnnException: CUDNN_BACKEND_EXECUTION_PLAN_DESCRIPTOR: cudnnFinalize Descriptor Failed cudnn_status: CUDNN_STATUS_NOT_SUPPORTED (Triggered internally at ../aten/src/ATen/native/cudnn/Conv_v8.cpp:919.)\n",
      "  return F.conv1d(input, weight, bias, self.stride,\n",
      "/home/rohitsangubotla/Documents/Projects/Music_Similarity/.venv/lib/python3.10/site-packages/torch/nn/modules/conv.py:306: UserWarning: Plan failed with a cudnnException: CUDNN_BACKEND_EXECUTION_PLAN_DESCRIPTOR: cudnnFinalize Descriptor Failed cudnn_status: CUDNN_STATUS_NOT_SUPPORTED (Triggered internally at ../aten/src/ATen/native/cudnn/Conv_v8.cpp:919.)\n",
      "  return F.conv1d(input, weight, bias, self.stride,\n",
      "100%|██████████████████████████████████████████████████████████████████████| 204.75/204.75 [00:12<00:00, 16.86seconds/s]\n"
     ]
    },
    {
     "name": "stdout",
     "output_type": "stream",
     "text": [
      "\u001b[1mImportant: the default model was recently changed to `htdemucs`\u001b[0m the latest Hybrid Transformer Demucs model. In some cases, this model can actually perform worse than previous models. To get back the old default model use `-n mdx_extra_q`.\n",
      "Selected model is a bag of 1 models. You will see that many progress bars per track.\n",
      "Separated tracks will be stored in /home/rohitsangubotla/Documents/Projects/Music_Similarity/dataset/separated/Nenani Neevani/htdemucs\n",
      "Separating track ../dataset/mp3/Nenani Neevani.mp3\n"
     ]
    },
    {
     "name": "stderr",
     "output_type": "stream",
     "text": [
      "  0%|                                                                                  | 0.0/315.9 [00:00<?, ?seconds/s]/home/rohitsangubotla/Documents/Projects/Music_Similarity/.venv/lib/python3.10/site-packages/torch/nn/modules/conv.py:456: UserWarning: Plan failed with a cudnnException: CUDNN_BACKEND_EXECUTION_PLAN_DESCRIPTOR: cudnnFinalize Descriptor Failed cudnn_status: CUDNN_STATUS_NOT_SUPPORTED (Triggered internally at ../aten/src/ATen/native/cudnn/Conv_v8.cpp:919.)\n",
      "  return F.conv2d(input, weight, bias, self.stride,\n",
      "/home/rohitsangubotla/Documents/Projects/Music_Similarity/.venv/lib/python3.10/site-packages/torch/nn/modules/conv.py:306: UserWarning: Plan failed with a cudnnException: CUDNN_BACKEND_EXECUTION_PLAN_DESCRIPTOR: cudnnFinalize Descriptor Failed cudnn_status: CUDNN_STATUS_NOT_SUPPORTED (Triggered internally at ../aten/src/ATen/native/cudnn/Conv_v8.cpp:919.)\n",
      "  return F.conv1d(input, weight, bias, self.stride,\n",
      "/home/rohitsangubotla/Documents/Projects/Music_Similarity/.venv/lib/python3.10/site-packages/torch/nn/modules/conv.py:306: UserWarning: Plan failed with a cudnnException: CUDNN_BACKEND_EXECUTION_PLAN_DESCRIPTOR: cudnnFinalize Descriptor Failed cudnn_status: CUDNN_STATUS_NOT_SUPPORTED (Triggered internally at ../aten/src/ATen/native/cudnn/Conv_v8.cpp:919.)\n",
      "  return F.conv1d(input, weight, bias, self.stride,\n",
      "100%|████████████████████████████████████████████████████████████████████████| 315.9/315.9 [00:19<00:00, 16.06seconds/s]\n"
     ]
    },
    {
     "name": "stdout",
     "output_type": "stream",
     "text": [
      "\u001b[1mImportant: the default model was recently changed to `htdemucs`\u001b[0m the latest Hybrid Transformer Demucs model. In some cases, this model can actually perform worse than previous models. To get back the old default model use `-n mdx_extra_q`.\n",
      "Selected model is a bag of 1 models. You will see that many progress bars per track.\n",
      "Separated tracks will be stored in /home/rohitsangubotla/Documents/Projects/Music_Similarity/dataset/separated/Manasavacha/htdemucs\n",
      "Separating track ../dataset/mp3/Manasavacha.mp3\n"
     ]
    },
    {
     "name": "stderr",
     "output_type": "stream",
     "text": [
      "  0%|                                                                                  | 0.0/292.5 [00:00<?, ?seconds/s]/home/rohitsangubotla/Documents/Projects/Music_Similarity/.venv/lib/python3.10/site-packages/torch/nn/modules/conv.py:456: UserWarning: Plan failed with a cudnnException: CUDNN_BACKEND_EXECUTION_PLAN_DESCRIPTOR: cudnnFinalize Descriptor Failed cudnn_status: CUDNN_STATUS_NOT_SUPPORTED (Triggered internally at ../aten/src/ATen/native/cudnn/Conv_v8.cpp:919.)\n",
      "  return F.conv2d(input, weight, bias, self.stride,\n",
      "/home/rohitsangubotla/Documents/Projects/Music_Similarity/.venv/lib/python3.10/site-packages/torch/nn/modules/conv.py:306: UserWarning: Plan failed with a cudnnException: CUDNN_BACKEND_EXECUTION_PLAN_DESCRIPTOR: cudnnFinalize Descriptor Failed cudnn_status: CUDNN_STATUS_NOT_SUPPORTED (Triggered internally at ../aten/src/ATen/native/cudnn/Conv_v8.cpp:919.)\n",
      "  return F.conv1d(input, weight, bias, self.stride,\n",
      "/home/rohitsangubotla/Documents/Projects/Music_Similarity/.venv/lib/python3.10/site-packages/torch/nn/modules/conv.py:306: UserWarning: Plan failed with a cudnnException: CUDNN_BACKEND_EXECUTION_PLAN_DESCRIPTOR: cudnnFinalize Descriptor Failed cudnn_status: CUDNN_STATUS_NOT_SUPPORTED (Triggered internally at ../aten/src/ATen/native/cudnn/Conv_v8.cpp:919.)\n",
      "  return F.conv1d(input, weight, bias, self.stride,\n",
      "100%|████████████████████████████████████████████████████████████████████████| 292.5/292.5 [00:18<00:00, 15.45seconds/s]\n"
     ]
    },
    {
     "name": "stdout",
     "output_type": "stream",
     "text": [
      "\u001b[1mImportant: the default model was recently changed to `htdemucs`\u001b[0m the latest Hybrid Transformer Demucs model. In some cases, this model can actually perform worse than previous models. To get back the old default model use `-n mdx_extra_q`.\n",
      "Selected model is a bag of 1 models. You will see that many progress bars per track.\n",
      "Separated tracks will be stored in /home/rohitsangubotla/Documents/Projects/Music_Similarity/dataset/separated/Ammaadi/htdemucs\n",
      "Separating track ../dataset/mp3/Ammaadi.mp3\n"
     ]
    },
    {
     "name": "stderr",
     "output_type": "stream",
     "text": [
      "  0%|                                                                                 | 0.0/216.45 [00:00<?, ?seconds/s]/home/rohitsangubotla/Documents/Projects/Music_Similarity/.venv/lib/python3.10/site-packages/torch/nn/modules/conv.py:456: UserWarning: Plan failed with a cudnnException: CUDNN_BACKEND_EXECUTION_PLAN_DESCRIPTOR: cudnnFinalize Descriptor Failed cudnn_status: CUDNN_STATUS_NOT_SUPPORTED (Triggered internally at ../aten/src/ATen/native/cudnn/Conv_v8.cpp:919.)\n",
      "  return F.conv2d(input, weight, bias, self.stride,\n",
      "/home/rohitsangubotla/Documents/Projects/Music_Similarity/.venv/lib/python3.10/site-packages/torch/nn/modules/conv.py:306: UserWarning: Plan failed with a cudnnException: CUDNN_BACKEND_EXECUTION_PLAN_DESCRIPTOR: cudnnFinalize Descriptor Failed cudnn_status: CUDNN_STATUS_NOT_SUPPORTED (Triggered internally at ../aten/src/ATen/native/cudnn/Conv_v8.cpp:919.)\n",
      "  return F.conv1d(input, weight, bias, self.stride,\n",
      "/home/rohitsangubotla/Documents/Projects/Music_Similarity/.venv/lib/python3.10/site-packages/torch/nn/modules/conv.py:306: UserWarning: Plan failed with a cudnnException: CUDNN_BACKEND_EXECUTION_PLAN_DESCRIPTOR: cudnnFinalize Descriptor Failed cudnn_status: CUDNN_STATUS_NOT_SUPPORTED (Triggered internally at ../aten/src/ATen/native/cudnn/Conv_v8.cpp:919.)\n",
      "  return F.conv1d(input, weight, bias, self.stride,\n",
      "100%|██████████████████████████████████████████████████████████████████████| 216.45/216.45 [00:13<00:00, 16.18seconds/s]\n"
     ]
    },
    {
     "name": "stdout",
     "output_type": "stream",
     "text": [
      "\u001b[1mImportant: the default model was recently changed to `htdemucs`\u001b[0m the latest Hybrid Transformer Demucs model. In some cases, this model can actually perform worse than previous models. To get back the old default model use `-n mdx_extra_q`.\n",
      "Selected model is a bag of 1 models. You will see that many progress bars per track.\n",
      "Separated tracks will be stored in /home/rohitsangubotla/Documents/Projects/Music_Similarity/dataset/separated/Dheera Dheera Dheera/htdemucs\n",
      "Separating track ../dataset/mp3/Dheera Dheera Dheera.mp3\n"
     ]
    },
    {
     "name": "stderr",
     "output_type": "stream",
     "text": [
      "  0%|                                                                                  | 0.0/292.5 [00:00<?, ?seconds/s]/home/rohitsangubotla/Documents/Projects/Music_Similarity/.venv/lib/python3.10/site-packages/torch/nn/modules/conv.py:456: UserWarning: Plan failed with a cudnnException: CUDNN_BACKEND_EXECUTION_PLAN_DESCRIPTOR: cudnnFinalize Descriptor Failed cudnn_status: CUDNN_STATUS_NOT_SUPPORTED (Triggered internally at ../aten/src/ATen/native/cudnn/Conv_v8.cpp:919.)\n",
      "  return F.conv2d(input, weight, bias, self.stride,\n",
      "/home/rohitsangubotla/Documents/Projects/Music_Similarity/.venv/lib/python3.10/site-packages/torch/nn/modules/conv.py:306: UserWarning: Plan failed with a cudnnException: CUDNN_BACKEND_EXECUTION_PLAN_DESCRIPTOR: cudnnFinalize Descriptor Failed cudnn_status: CUDNN_STATUS_NOT_SUPPORTED (Triggered internally at ../aten/src/ATen/native/cudnn/Conv_v8.cpp:919.)\n",
      "  return F.conv1d(input, weight, bias, self.stride,\n",
      "/home/rohitsangubotla/Documents/Projects/Music_Similarity/.venv/lib/python3.10/site-packages/torch/nn/modules/conv.py:306: UserWarning: Plan failed with a cudnnException: CUDNN_BACKEND_EXECUTION_PLAN_DESCRIPTOR: cudnnFinalize Descriptor Failed cudnn_status: CUDNN_STATUS_NOT_SUPPORTED (Triggered internally at ../aten/src/ATen/native/cudnn/Conv_v8.cpp:919.)\n",
      "  return F.conv1d(input, weight, bias, self.stride,\n",
      "100%|████████████████████████████████████████████████████████████████████████| 292.5/292.5 [00:17<00:00, 16.52seconds/s]\n"
     ]
    },
    {
     "name": "stdout",
     "output_type": "stream",
     "text": [
      "\u001b[1mImportant: the default model was recently changed to `htdemucs`\u001b[0m the latest Hybrid Transformer Demucs model. In some cases, this model can actually perform worse than previous models. To get back the old default model use `-n mdx_extra_q`.\n",
      "Selected model is a bag of 1 models. You will see that many progress bars per track.\n",
      "Separated tracks will be stored in /home/rohitsangubotla/Documents/Projects/Music_Similarity/dataset/separated/Pedave Palikina/htdemucs\n",
      "Separating track ../dataset/mp3/Pedave Palikina.mp3\n"
     ]
    },
    {
     "name": "stderr",
     "output_type": "stream",
     "text": [
      "  0%|                                                                                 | 0.0/263.25 [00:00<?, ?seconds/s]/home/rohitsangubotla/Documents/Projects/Music_Similarity/.venv/lib/python3.10/site-packages/torch/nn/modules/conv.py:456: UserWarning: Plan failed with a cudnnException: CUDNN_BACKEND_EXECUTION_PLAN_DESCRIPTOR: cudnnFinalize Descriptor Failed cudnn_status: CUDNN_STATUS_NOT_SUPPORTED (Triggered internally at ../aten/src/ATen/native/cudnn/Conv_v8.cpp:919.)\n",
      "  return F.conv2d(input, weight, bias, self.stride,\n",
      "/home/rohitsangubotla/Documents/Projects/Music_Similarity/.venv/lib/python3.10/site-packages/torch/nn/modules/conv.py:306: UserWarning: Plan failed with a cudnnException: CUDNN_BACKEND_EXECUTION_PLAN_DESCRIPTOR: cudnnFinalize Descriptor Failed cudnn_status: CUDNN_STATUS_NOT_SUPPORTED (Triggered internally at ../aten/src/ATen/native/cudnn/Conv_v8.cpp:919.)\n",
      "  return F.conv1d(input, weight, bias, self.stride,\n",
      "/home/rohitsangubotla/Documents/Projects/Music_Similarity/.venv/lib/python3.10/site-packages/torch/nn/modules/conv.py:306: UserWarning: Plan failed with a cudnnException: CUDNN_BACKEND_EXECUTION_PLAN_DESCRIPTOR: cudnnFinalize Descriptor Failed cudnn_status: CUDNN_STATUS_NOT_SUPPORTED (Triggered internally at ../aten/src/ATen/native/cudnn/Conv_v8.cpp:919.)\n",
      "  return F.conv1d(input, weight, bias, self.stride,\n",
      "100%|██████████████████████████████████████████████████████████████████████| 263.25/263.25 [00:17<00:00, 15.16seconds/s]\n"
     ]
    },
    {
     "name": "stdout",
     "output_type": "stream",
     "text": [
      "\u001b[1mImportant: the default model was recently changed to `htdemucs`\u001b[0m the latest Hybrid Transformer Demucs model. In some cases, this model can actually perform worse than previous models. To get back the old default model use `-n mdx_extra_q`.\n",
      "Selected model is a bag of 1 models. You will see that many progress bars per track.\n",
      "Separated tracks will be stored in /home/rohitsangubotla/Documents/Projects/Music_Similarity/dataset/separated/Oosupodu/htdemucs\n",
      "Separating track ../dataset/mp3/Oosupodu.mp3\n"
     ]
    },
    {
     "name": "stderr",
     "output_type": "stream",
     "text": [
      "  0%|                                                                                 | 0.0/274.95 [00:00<?, ?seconds/s]/home/rohitsangubotla/Documents/Projects/Music_Similarity/.venv/lib/python3.10/site-packages/torch/nn/modules/conv.py:456: UserWarning: Plan failed with a cudnnException: CUDNN_BACKEND_EXECUTION_PLAN_DESCRIPTOR: cudnnFinalize Descriptor Failed cudnn_status: CUDNN_STATUS_NOT_SUPPORTED (Triggered internally at ../aten/src/ATen/native/cudnn/Conv_v8.cpp:919.)\n",
      "  return F.conv2d(input, weight, bias, self.stride,\n",
      "/home/rohitsangubotla/Documents/Projects/Music_Similarity/.venv/lib/python3.10/site-packages/torch/nn/modules/conv.py:306: UserWarning: Plan failed with a cudnnException: CUDNN_BACKEND_EXECUTION_PLAN_DESCRIPTOR: cudnnFinalize Descriptor Failed cudnn_status: CUDNN_STATUS_NOT_SUPPORTED (Triggered internally at ../aten/src/ATen/native/cudnn/Conv_v8.cpp:919.)\n",
      "  return F.conv1d(input, weight, bias, self.stride,\n",
      "/home/rohitsangubotla/Documents/Projects/Music_Similarity/.venv/lib/python3.10/site-packages/torch/nn/modules/conv.py:306: UserWarning: Plan failed with a cudnnException: CUDNN_BACKEND_EXECUTION_PLAN_DESCRIPTOR: cudnnFinalize Descriptor Failed cudnn_status: CUDNN_STATUS_NOT_SUPPORTED (Triggered internally at ../aten/src/ATen/native/cudnn/Conv_v8.cpp:919.)\n",
      "  return F.conv1d(input, weight, bias, self.stride,\n",
      "100%|██████████████████████████████████████████████████████████████████████| 274.95/274.95 [00:19<00:00, 14.32seconds/s]\n"
     ]
    },
    {
     "name": "stdout",
     "output_type": "stream",
     "text": [
      "\u001b[1mImportant: the default model was recently changed to `htdemucs`\u001b[0m the latest Hybrid Transformer Demucs model. In some cases, this model can actually perform worse than previous models. To get back the old default model use `-n mdx_extra_q`.\n",
      "Selected model is a bag of 1 models. You will see that many progress bars per track.\n",
      "Separated tracks will be stored in /home/rohitsangubotla/Documents/Projects/Music_Similarity/dataset/separated/Sirivennela/htdemucs\n",
      "Separating track ../dataset/mp3/Sirivennela.mp3\n"
     ]
    },
    {
     "name": "stderr",
     "output_type": "stream",
     "text": [
      "  0%|                                                                                  | 0.0/257.4 [00:00<?, ?seconds/s]/home/rohitsangubotla/Documents/Projects/Music_Similarity/.venv/lib/python3.10/site-packages/torch/nn/modules/conv.py:456: UserWarning: Plan failed with a cudnnException: CUDNN_BACKEND_EXECUTION_PLAN_DESCRIPTOR: cudnnFinalize Descriptor Failed cudnn_status: CUDNN_STATUS_NOT_SUPPORTED (Triggered internally at ../aten/src/ATen/native/cudnn/Conv_v8.cpp:919.)\n",
      "  return F.conv2d(input, weight, bias, self.stride,\n",
      "/home/rohitsangubotla/Documents/Projects/Music_Similarity/.venv/lib/python3.10/site-packages/torch/nn/modules/conv.py:306: UserWarning: Plan failed with a cudnnException: CUDNN_BACKEND_EXECUTION_PLAN_DESCRIPTOR: cudnnFinalize Descriptor Failed cudnn_status: CUDNN_STATUS_NOT_SUPPORTED (Triggered internally at ../aten/src/ATen/native/cudnn/Conv_v8.cpp:919.)\n",
      "  return F.conv1d(input, weight, bias, self.stride,\n",
      "/home/rohitsangubotla/Documents/Projects/Music_Similarity/.venv/lib/python3.10/site-packages/torch/nn/modules/conv.py:306: UserWarning: Plan failed with a cudnnException: CUDNN_BACKEND_EXECUTION_PLAN_DESCRIPTOR: cudnnFinalize Descriptor Failed cudnn_status: CUDNN_STATUS_NOT_SUPPORTED (Triggered internally at ../aten/src/ATen/native/cudnn/Conv_v8.cpp:919.)\n",
      "  return F.conv1d(input, weight, bias, self.stride,\n",
      "100%|████████████████████████████████████████████████████████████████████████| 257.4/257.4 [00:17<00:00, 14.65seconds/s]\n"
     ]
    },
    {
     "name": "stdout",
     "output_type": "stream",
     "text": [
      "Separation complete.\n"
     ]
    }
   ],
   "source": [
    "import os\n",
    "import subprocess\n",
    "\n",
    "input_dir = '../dataset/mp3'\n",
    "output_dir = '../dataset/separated'\n",
    "\n",
    "mp3_files = [f for f in os.listdir(input_dir)]\n",
    "\n",
    "for mp3_file in mp3_files:\n",
    "    mp3_path = os.path.join(input_dir, mp3_file)\n",
    "    song_name = os.path.splitext(mp3_file)[0]\n",
    "    song_output_dir = os.path.join(output_dir, song_name)\n",
    "    if not os.path.exists(song_output_dir):\n",
    "        os.makedirs(song_output_dir)\n",
    "    command = ['demucs', mp3_path, '-o', song_output_dir]\n",
    "    subprocess.run(command)\n",
    "\n",
    "print(\"Separation complete.\")\n"
   ]
  },
  {
   "cell_type": "markdown",
   "metadata": {},
   "source": [
    "Next we will copy all the bass into one folder bass, and so on for each category."
   ]
  },
  {
   "cell_type": "code",
   "execution_count": 40,
   "metadata": {},
   "outputs": [
    {
     "name": "stdout",
     "output_type": "stream",
     "text": [
      "../dataset/separated/Adiga Adiga/htdemucs/Adiga Adiga/bass.wav\n",
      "../dataset/bass/Adiga Adiga_bass.wav\n",
      "../dataset/separated/Adiga Adiga/htdemucs/Adiga Adiga/drums.wav\n",
      "../dataset/drums/Adiga Adiga_drums.wav\n",
      "../dataset/separated/Adiga Adiga/htdemucs/Adiga Adiga/other.wav\n",
      "../dataset/other/Adiga Adiga_other.wav\n",
      "../dataset/separated/Adiga Adiga/htdemucs/Adiga Adiga/vocals.wav\n",
      "../dataset/vocals/Adiga Adiga_vocals.wav\n",
      "../dataset/separated/Pedave Palikina/htdemucs/Pedave Palikina/bass.wav\n",
      "../dataset/bass/Pedave Palikina_bass.wav\n",
      "../dataset/separated/Pedave Palikina/htdemucs/Pedave Palikina/drums.wav\n",
      "../dataset/drums/Pedave Palikina_drums.wav\n",
      "../dataset/separated/Pedave Palikina/htdemucs/Pedave Palikina/other.wav\n",
      "../dataset/other/Pedave Palikina_other.wav\n",
      "../dataset/separated/Pedave Palikina/htdemucs/Pedave Palikina/vocals.wav\n",
      "../dataset/vocals/Pedave Palikina_vocals.wav\n",
      "../dataset/separated/Ghal Ghal Ghal Ghal/htdemucs/Ghal Ghal Ghal Ghal/bass.wav\n",
      "../dataset/bass/Ghal Ghal Ghal Ghal_bass.wav\n",
      "../dataset/separated/Ghal Ghal Ghal Ghal/htdemucs/Ghal Ghal Ghal Ghal/drums.wav\n",
      "../dataset/drums/Ghal Ghal Ghal Ghal_drums.wav\n",
      "../dataset/separated/Ghal Ghal Ghal Ghal/htdemucs/Ghal Ghal Ghal Ghal/other.wav\n",
      "../dataset/other/Ghal Ghal Ghal Ghal_other.wav\n",
      "../dataset/separated/Ghal Ghal Ghal Ghal/htdemucs/Ghal Ghal Ghal Ghal/vocals.wav\n",
      "../dataset/vocals/Ghal Ghal Ghal Ghal_vocals.wav\n",
      "../dataset/separated/Saahore Baahubali/htdemucs/Saahore Baahubali/bass.wav\n",
      "../dataset/bass/Saahore Baahubali_bass.wav\n",
      "../dataset/separated/Saahore Baahubali/htdemucs/Saahore Baahubali/drums.wav\n",
      "../dataset/drums/Saahore Baahubali_drums.wav\n",
      "../dataset/separated/Saahore Baahubali/htdemucs/Saahore Baahubali/other.wav\n",
      "../dataset/other/Saahore Baahubali_other.wav\n",
      "../dataset/separated/Saahore Baahubali/htdemucs/Saahore Baahubali/vocals.wav\n",
      "../dataset/vocals/Saahore Baahubali_vocals.wav\n",
      "../dataset/separated/Sirivennela/htdemucs/Sirivennela/bass.wav\n",
      "../dataset/bass/Sirivennela_bass.wav\n",
      "../dataset/separated/Sirivennela/htdemucs/Sirivennela/drums.wav\n",
      "../dataset/drums/Sirivennela_drums.wav\n",
      "../dataset/separated/Sirivennela/htdemucs/Sirivennela/other.wav\n",
      "../dataset/other/Sirivennela_other.wav\n",
      "../dataset/separated/Sirivennela/htdemucs/Sirivennela/vocals.wav\n",
      "../dataset/vocals/Sirivennela_vocals.wav\n",
      "../dataset/separated/Dheera Dheera Dheera/htdemucs/Dheera Dheera Dheera/bass.wav\n",
      "../dataset/bass/Dheera Dheera Dheera_bass.wav\n",
      "../dataset/separated/Dheera Dheera Dheera/htdemucs/Dheera Dheera Dheera/drums.wav\n",
      "../dataset/drums/Dheera Dheera Dheera_drums.wav\n",
      "../dataset/separated/Dheera Dheera Dheera/htdemucs/Dheera Dheera Dheera/other.wav\n",
      "../dataset/other/Dheera Dheera Dheera_other.wav\n",
      "../dataset/separated/Dheera Dheera Dheera/htdemucs/Dheera Dheera Dheera/vocals.wav\n",
      "../dataset/vocals/Dheera Dheera Dheera_vocals.wav\n",
      "../dataset/separated/Ninnila/htdemucs/Ninnila/bass.wav\n",
      "../dataset/bass/Ninnila_bass.wav\n",
      "../dataset/separated/Ninnila/htdemucs/Ninnila/drums.wav\n",
      "../dataset/drums/Ninnila_drums.wav\n",
      "../dataset/separated/Ninnila/htdemucs/Ninnila/other.wav\n",
      "../dataset/other/Ninnila_other.wav\n",
      "../dataset/separated/Ninnila/htdemucs/Ninnila/vocals.wav\n",
      "../dataset/vocals/Ninnila_vocals.wav\n",
      "../dataset/separated/Chinnari Thalli/htdemucs/Chinnari Thalli/bass.wav\n",
      "../dataset/bass/Chinnari Thalli_bass.wav\n",
      "../dataset/separated/Chinnari Thalli/htdemucs/Chinnari Thalli/drums.wav\n",
      "../dataset/drums/Chinnari Thalli_drums.wav\n",
      "../dataset/separated/Chinnari Thalli/htdemucs/Chinnari Thalli/other.wav\n",
      "../dataset/other/Chinnari Thalli_other.wav\n",
      "../dataset/separated/Chinnari Thalli/htdemucs/Chinnari Thalli/vocals.wav\n",
      "../dataset/vocals/Chinnari Thalli_vocals.wav\n",
      "../dataset/separated/Pranavalaya/htdemucs/Pranavalaya/bass.wav\n",
      "../dataset/bass/Pranavalaya_bass.wav\n",
      "../dataset/separated/Pranavalaya/htdemucs/Pranavalaya/drums.wav\n",
      "../dataset/drums/Pranavalaya_drums.wav\n",
      "../dataset/separated/Pranavalaya/htdemucs/Pranavalaya/other.wav\n",
      "../dataset/other/Pranavalaya_other.wav\n",
      "../dataset/separated/Pranavalaya/htdemucs/Pranavalaya/vocals.wav\n",
      "../dataset/vocals/Pranavalaya_vocals.wav\n",
      "../dataset/separated/Hukum/htdemucs/Hukum/bass.wav\n",
      "../dataset/bass/Hukum_bass.wav\n",
      "../dataset/separated/Hukum/htdemucs/Hukum/drums.wav\n",
      "../dataset/drums/Hukum_drums.wav\n",
      "../dataset/separated/Hukum/htdemucs/Hukum/other.wav\n",
      "../dataset/other/Hukum_other.wav\n",
      "../dataset/separated/Hukum/htdemucs/Hukum/vocals.wav\n",
      "../dataset/vocals/Hukum_vocals.wav\n",
      "../dataset/separated/Manasavacha/htdemucs/Manasavacha/bass.wav\n",
      "../dataset/bass/Manasavacha_bass.wav\n",
      "../dataset/separated/Manasavacha/htdemucs/Manasavacha/drums.wav\n",
      "../dataset/drums/Manasavacha_drums.wav\n",
      "../dataset/separated/Manasavacha/htdemucs/Manasavacha/other.wav\n",
      "../dataset/other/Manasavacha_other.wav\n",
      "../dataset/separated/Manasavacha/htdemucs/Manasavacha/vocals.wav\n",
      "../dataset/vocals/Manasavacha_vocals.wav\n",
      "../dataset/separated/Kurchi Madathapetti/htdemucs/Kurchi Madathapetti/bass.wav\n",
      "../dataset/bass/Kurchi Madathapetti_bass.wav\n",
      "../dataset/separated/Kurchi Madathapetti/htdemucs/Kurchi Madathapetti/drums.wav\n",
      "../dataset/drums/Kurchi Madathapetti_drums.wav\n",
      "../dataset/separated/Kurchi Madathapetti/htdemucs/Kurchi Madathapetti/other.wav\n",
      "../dataset/other/Kurchi Madathapetti_other.wav\n",
      "../dataset/separated/Kurchi Madathapetti/htdemucs/Kurchi Madathapetti/vocals.wav\n",
      "../dataset/vocals/Kurchi Madathapetti_vocals.wav\n",
      "../dataset/separated/Nattu Nattu/htdemucs/Nattu Nattu/bass.wav\n",
      "../dataset/bass/Nattu Nattu_bass.wav\n",
      "../dataset/separated/Nattu Nattu/htdemucs/Nattu Nattu/drums.wav\n",
      "../dataset/drums/Nattu Nattu_drums.wav\n",
      "../dataset/separated/Nattu Nattu/htdemucs/Nattu Nattu/other.wav\n",
      "../dataset/other/Nattu Nattu_other.wav\n",
      "../dataset/separated/Nattu Nattu/htdemucs/Nattu Nattu/vocals.wav\n",
      "../dataset/vocals/Nattu Nattu_vocals.wav\n",
      "../dataset/separated/Oosupodu/htdemucs/Oosupodu/bass.wav\n",
      "../dataset/bass/Oosupodu_bass.wav\n",
      "../dataset/separated/Oosupodu/htdemucs/Oosupodu/drums.wav\n",
      "../dataset/drums/Oosupodu_drums.wav\n",
      "../dataset/separated/Oosupodu/htdemucs/Oosupodu/other.wav\n",
      "../dataset/other/Oosupodu_other.wav\n",
      "../dataset/separated/Oosupodu/htdemucs/Oosupodu/vocals.wav\n",
      "../dataset/vocals/Oosupodu_vocals.wav\n",
      "../dataset/separated/O Cheliya/htdemucs/O Cheliya/bass.wav\n",
      "../dataset/bass/O Cheliya_bass.wav\n",
      "../dataset/separated/O Cheliya/htdemucs/O Cheliya/drums.wav\n",
      "../dataset/drums/O Cheliya_drums.wav\n",
      "../dataset/separated/O Cheliya/htdemucs/O Cheliya/other.wav\n",
      "../dataset/other/O Cheliya_other.wav\n",
      "../dataset/separated/O Cheliya/htdemucs/O Cheliya/vocals.wav\n",
      "../dataset/vocals/O Cheliya_vocals.wav\n",
      "../dataset/separated/Ammaadi/htdemucs/Ammaadi/bass.wav\n",
      "../dataset/bass/Ammaadi_bass.wav\n",
      "../dataset/separated/Ammaadi/htdemucs/Ammaadi/drums.wav\n",
      "../dataset/drums/Ammaadi_drums.wav\n",
      "../dataset/separated/Ammaadi/htdemucs/Ammaadi/other.wav\n",
      "../dataset/other/Ammaadi_other.wav\n",
      "../dataset/separated/Ammaadi/htdemucs/Ammaadi/vocals.wav\n",
      "../dataset/vocals/Ammaadi_vocals.wav\n",
      "../dataset/separated/Nenani Neevani/htdemucs/Nenani Neevani/bass.wav\n",
      "../dataset/bass/Nenani Neevani_bass.wav\n",
      "../dataset/separated/Nenani Neevani/htdemucs/Nenani Neevani/drums.wav\n",
      "../dataset/drums/Nenani Neevani_drums.wav\n",
      "../dataset/separated/Nenani Neevani/htdemucs/Nenani Neevani/other.wav\n",
      "../dataset/other/Nenani Neevani_other.wav\n",
      "../dataset/separated/Nenani Neevani/htdemucs/Nenani Neevani/vocals.wav\n",
      "../dataset/vocals/Nenani Neevani_vocals.wav\n",
      "../dataset/separated/Guruvaram/htdemucs/Guruvaram/bass.wav\n",
      "../dataset/bass/Guruvaram_bass.wav\n",
      "../dataset/separated/Guruvaram/htdemucs/Guruvaram/drums.wav\n",
      "../dataset/drums/Guruvaram_drums.wav\n",
      "../dataset/separated/Guruvaram/htdemucs/Guruvaram/other.wav\n",
      "../dataset/other/Guruvaram_other.wav\n",
      "../dataset/separated/Guruvaram/htdemucs/Guruvaram/vocals.wav\n",
      "../dataset/vocals/Guruvaram_vocals.wav\n",
      "../dataset/separated/Urike Urike/htdemucs/Urike Urike/bass.wav\n",
      "../dataset/bass/Urike Urike_bass.wav\n",
      "../dataset/separated/Urike Urike/htdemucs/Urike Urike/drums.wav\n",
      "../dataset/drums/Urike Urike_drums.wav\n",
      "../dataset/separated/Urike Urike/htdemucs/Urike Urike/other.wav\n",
      "../dataset/other/Urike Urike_other.wav\n",
      "../dataset/separated/Urike Urike/htdemucs/Urike Urike/vocals.wav\n",
      "../dataset/vocals/Urike Urike_vocals.wav\n",
      "../dataset/separated/Allantha Doorala/htdemucs/Allantha Doorala/bass.wav\n",
      "../dataset/bass/Allantha Doorala_bass.wav\n",
      "../dataset/separated/Allantha Doorala/htdemucs/Allantha Doorala/drums.wav\n",
      "../dataset/drums/Allantha Doorala_drums.wav\n",
      "../dataset/separated/Allantha Doorala/htdemucs/Allantha Doorala/other.wav\n",
      "../dataset/other/Allantha Doorala_other.wav\n",
      "../dataset/separated/Allantha Doorala/htdemucs/Allantha Doorala/vocals.wav\n",
      "../dataset/vocals/Allantha Doorala_vocals.wav\n"
     ]
    }
   ],
   "source": [
    "import os\n",
    "import shutil\n",
    "\n",
    "SEPARATED_DIR = '../dataset/separated'\n",
    "TARGET_DIRS = {\n",
    "    'bass': '../dataset/bass',\n",
    "    'drums': '../dataset/drums',\n",
    "    'other': '../dataset/other',\n",
    "    'vocals': '../dataset/vocals'\n",
    "}\n",
    "\n",
    "for target_dir in TARGET_DIRS.values():\n",
    "    os.makedirs(target_dir, exist_ok=True)\n",
    "\n",
    "for song_dir in os.listdir(SEPARATED_DIR):\n",
    "    song_path = os.path.join(SEPARATED_DIR, song_dir)\n",
    "    if os.path.isdir(song_path):\n",
    "        for file_type in TARGET_DIRS.keys():\n",
    "            source_file = os.path.join(song_path,'htdemucs',song_dir, f'{file_type}.wav')\n",
    "            print(source_file)\n",
    "            if os.path.exists(source_file):\n",
    "                target_file = os.path.join(TARGET_DIRS[file_type], f'{song_dir}_{file_type}.wav')\n",
    "                print(target_file)\n",
    "                shutil.move(source_file, target_file)\n",
    "\n",
    "        "
   ]
  }
 ],
 "metadata": {
  "kernelspec": {
   "display_name": ".venv",
   "language": "python",
   "name": "python3"
  },
  "language_info": {
   "codemirror_mode": {
    "name": "ipython",
    "version": 3
   },
   "file_extension": ".py",
   "mimetype": "text/x-python",
   "name": "python",
   "nbconvert_exporter": "python",
   "pygments_lexer": "ipython3",
   "version": "3.10.12"
  }
 },
 "nbformat": 4,
 "nbformat_minor": 2
}
