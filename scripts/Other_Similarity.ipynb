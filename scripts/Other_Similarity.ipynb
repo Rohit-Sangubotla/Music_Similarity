{
 "cells": [
  {
   "cell_type": "markdown",
   "metadata": {},
   "source": [
    "### Step 1: Import necessary libraries"
   ]
  },
  {
   "cell_type": "code",
   "execution_count": 1,
   "metadata": {},
   "outputs": [
    {
     "name": "stderr",
     "output_type": "stream",
     "text": [
      "2024-05-25 04:23:22.274219: I tensorflow/core/util/port.cc:113] oneDNN custom operations are on. You may see slightly different numerical results due to floating-point round-off errors from different computation orders. To turn them off, set the environment variable `TF_ENABLE_ONEDNN_OPTS=0`.\n",
      "2024-05-25 04:23:22.309011: I tensorflow/core/platform/cpu_feature_guard.cc:210] This TensorFlow binary is optimized to use available CPU instructions in performance-critical operations.\n",
      "To enable the following instructions: AVX2 AVX_VNNI FMA, in other operations, rebuild TensorFlow with the appropriate compiler flags.\n",
      "2024-05-25 04:23:22.835237: W tensorflow/compiler/tf2tensorrt/utils/py_utils.cc:38] TF-TRT Warning: Could not find TensorRT\n"
     ]
    }
   ],
   "source": [
    "import os\n",
    "import numpy as np\n",
    "import librosa\n",
    "import tensorflow as tf\n",
    "from sklearn.metrics.pairwise import cosine_similarity\n",
    "from sklearn.preprocessing import MultiLabelBinarizer\n",
    "import plotly.express as px\n",
    "import pandas as pd\n",
    "from plotly.subplots import make_subplots\n",
    "import plotly.graph_objects as go\n",
    "import json"
   ]
  },
  {
   "cell_type": "markdown",
   "metadata": {},
   "source": [
    "### Step 2: Download model and define paths"
   ]
  },
  {
   "cell_type": "markdown",
   "metadata": {},
   "source": [
    "Download the model and move to 'model' directory. (skip this step if model is already downloaded)"
   ]
  },
  {
   "cell_type": "code",
   "execution_count": 3,
   "metadata": {},
   "outputs": [
    {
     "name": "stdout",
     "output_type": "stream",
     "text": [
      "  % Total    % Received % Xferd  Average Speed   Time    Time     Time  Current\n",
      "                                 Dload  Upload   Total   Spent    Left  Speed\n",
      "100  3101  100  3101    0     0   2416      0  0:00:01  0:00:01 --:--:--  2416\n",
      "  % Total    % Received % Xferd  Average Speed   Time    Time     Time  Current\n",
      "                                 Dload  Upload   Total   Spent    Left  Speed\n",
      "  0     0    0     0    0     0      0      0 --:--:-- --:--:-- --:--:--     0^C\n"
     ]
    }
   ],
   "source": [
    "!curl -SLO https://essentia.upf.edu/models/classifiers/genre_tzanetakis/genre_tzanetakis-musicnn-msd-1.json\n",
    "!curl -SLO https://essentia.upf.edu/models/classifiers/genre_tzanetakis/genre_tzanetakis-musicnn-msd-1.pb"
   ]
  },
  {
   "cell_type": "code",
   "execution_count": 2,
   "metadata": {},
   "outputs": [],
   "source": [
    "MUSICNN_SR = 16000\n",
    "MODEL_PATH = 'model/genre_tzanetakis-musicnn-msd-1.pb'\n",
    "DATASET_DIR = 'dataset/other'"
   ]
  },
  {
   "cell_type": "code",
   "execution_count": 3,
   "metadata": {},
   "outputs": [
    {
     "name": "stdout",
     "output_type": "stream",
     "text": [
      "name: genre GTZAN\n",
      "type: multi-class classifier\n",
      "link: https://essentia.upf.edu/models/classifiers/genre_tzanetakis/genre_tzanetakis-musicnn-msd-1.pb\n",
      "version: 1\n",
      "description: classification of music by genre\n",
      "author: Pablo Alonso\n",
      "email: pablo.alonso@upf.edu\n",
      "release_date: 2020-03-31\n",
      "framework: tensorflow\n",
      "framework_version: 1.15.0\n",
      "classes: ['blu', 'cla', 'cou', 'dis', 'hip', 'jaz', 'met', 'pop', 'reg', 'roc']\n",
      "model_types: ['frozen_model']\n",
      "dataset: {'name': 'the GTZAN Genre Collection', 'citation': '@article{tzanetakis2002musical,\\n  title={Musical genre classification of audio signals},\\n  author={Tzanetakis, George and Cook, Perry},\\n  journal={IEEE Transactions on speech and audio processing},\\n  volume={10},\\n  number={5},\\n  pages={293--302},\\n  year={2002},\\n  publisher={IEEE}\\n}', 'size': '1000 track excerpts, 100 per genre', 'metrics': {'5-fold_cross_validation_normalized_accuracy': 0.83}}\n",
      "schema: {'inputs': [{'name': 'model/Placeholder', 'type': 'float', 'shape': [187, 96]}], 'outputs': [{'name': 'model/Sigmoid', 'type': 'float', 'shape': [1, 10], 'op': 'Sigmoid', 'output_purpose': 'predictions'}, {'name': 'model/dense_2/BiasAdd', 'type': 'float', 'shape': [1, 10], 'op': 'fully connected', 'description': 'logits', 'output_purpose': ''}, {'name': 'model/dense_1/BiasAdd', 'type': 'float', 'shape': [1, 100], 'op': 'fully connected', 'description': 'penultimate layer', 'output_purpose': ''}, {'name': 'model/dense/BiasAdd', 'type': 'float', 'shape': [1, 200], 'op': 'fully connected', 'output_purpose': 'embeddings'}]}\n",
      "citation: @inproceedings{alonso2020tensorflow,\n",
      "  title={Tensorflow Audio Models in Essentia},\n",
      "  author={Alonso-Jim{\\'e}nez, Pablo and Bogdanov, Dmitry and Pons, Jordi and Serra, Xavier},\n",
      "  booktitle={IEEE International Conference on Acoustics, Speech and Signal Processing (ICASSP)},\n",
      "  year={2020}\n",
      "}\n",
      "inference: {'sample_rate': 16000, 'algorithm': 'TensorflowPredictMusiCNN'}\n"
     ]
    }
   ],
   "source": [
    "MODEL_NAME = 'model/genre_tzanetakis-musicnn-msd-1'\n",
    "MODEL_JSON = f'{MODEL_NAME}.json'\n",
    "MODEL_PB = f'{MODEL_NAME}.pb'\n",
    "\n",
    "musicnn_metadata = json.load(open(MODEL_JSON, 'r'))\n",
    "for k, v in musicnn_metadata.items():\n",
    "    print('{}: {}'.format(k , v))"
   ]
  },
  {
   "cell_type": "markdown",
   "metadata": {},
   "source": [
    "We can observe the output of the penultimate dense layer is proposed as embeddings. \n",
    "We will use it to extract songs embeddings from our dataset."
   ]
  },
  {
   "cell_type": "markdown",
   "metadata": {},
   "source": [
    "### Step 3: Define genres for each song"
   ]
  },
  {
   "cell_type": "code",
   "execution_count": 4,
   "metadata": {},
   "outputs": [],
   "source": [
    "genres = [\n",
    "    ['Romantic', 'Melody'], # Allantha Doorala 0\n",
    "    ['Romantic', 'Melody'], # Pranavalaya 1\n",
    "    ['Romantic', 'Sad'], # Adiga Adiga 2\n",
    "    ['Romantic', 'Upbeat'], # Guruvaram 3\n",
    "    ['Romantic', 'Folk'],   # Ghal Ghal 4\n",
    "    ['Romantic', 'Melody'], # Ninnila 5\n",
    "    ['Mass', 'Inspirational'], # Hukum 6\n",
    "    ['Melody'], # Chinnari Thalli 7\n",
    "    ['Romantic', 'Melody'], # O Cheliya 8\n",
    "    ['Folk', 'Dance'],      # Naatu Naatu 9 \n",
    "    ['Folk', 'Dance'],      # Kurchi Madathapetti 10\n",
    "    ['Romantic', 'Upbeat'], # Urike Urike 11\n",
    "    ['Inspirational', 'Mass'], # Saahore Baahubali 12\n",
    "    ['Romantic', 'Melody'], # Nenani Neevani 13\n",
    "    ['Romantic', 'Melody'], # Manasavacha 14\n",
    "    ['Romantic', 'Melody'],       # Ammaadi 15\n",
    "    ['Romantic', 'Melody'], # Dheera Dheera 16\n",
    "    ['Melody'], # Pedave Palikina 17 \n",
    "    ['Romantic', 'Sad'],   # Oosupodu 18\n",
    "    ['Romantic', 'Melody'] # Sirivennela 19\n",
    "]"
   ]
  },
  {
   "cell_type": "markdown",
   "metadata": {},
   "source": [
    "### Step 4: Encode genres"
   ]
  },
  {
   "cell_type": "code",
   "execution_count": 5,
   "metadata": {},
   "outputs": [],
   "source": [
    "mlb = MultiLabelBinarizer()\n",
    "genre_labels = mlb.fit_transform(genres)"
   ]
  },
  {
   "cell_type": "markdown",
   "metadata": {},
   "source": [
    "### Step 5: Functions for loading and processing audio"
   ]
  },
  {
   "cell_type": "code",
   "execution_count": 6,
   "metadata": {},
   "outputs": [],
   "source": [
    "def load_model(pb_file_path):\n",
    "    with tf.io.gfile.GFile(pb_file_path, \"rb\") as f:\n",
    "        graph_def = tf.compat.v1.GraphDef()\n",
    "        graph_def.ParseFromString(f.read())\n",
    "    with tf.compat.v1.Graph().as_default() as graph:\n",
    "        tf.import_graph_def(graph_def, name=\"\")\n",
    "    return graph\n",
    "\n",
    "def preprocess_audio(file_path, sample_rate=MUSICNN_SR):\n",
    "    y, sr = librosa.load(file_path, sr=sample_rate)\n",
    "    mel_spec = librosa.feature.melspectrogram(y=y, sr=sr, n_mels=96, n_fft=2048, hop_length=512)\n",
    "    log_mel_spec = librosa.power_to_db(mel_spec, ref=np.max)\n",
    "    if log_mel_spec.shape[1] > 187:\n",
    "        log_mel_spec = log_mel_spec[:, :187]\n",
    "    else:\n",
    "        pad_width = 187 - log_mel_spec.shape[1]\n",
    "        log_mel_spec = np.pad(log_mel_spec, ((0, 0), (0, pad_width)), mode='constant')\n",
    "    return log_mel_spec.T[np.newaxis, :, :]\n",
    "\n",
    "def run_model(graph, input_data):\n",
    "    input_tensor = graph.get_tensor_by_name('model/Placeholder:0')\n",
    "    output_tensor = graph.get_tensor_by_name('model/dense/BiasAdd:0')\n",
    "    with tf.compat.v1.Session(graph=graph) as sess:\n",
    "        embeddings = sess.run(output_tensor, feed_dict={input_tensor: input_data})\n",
    "    return embeddings\n",
    "\n",
    "def extract_mean_embedding(filename):\n",
    "    audio_data = preprocess_audio(filename)\n",
    "    graph = load_model(MODEL_PATH)\n",
    "    embeddings = run_model(graph, audio_data)\n",
    "    return embeddings\n",
    "\n",
    "def process_dataset(dataset_dir):\n",
    "    embeddings = []\n",
    "    for root, dirs, files in os.walk(dataset_dir):\n",
    "        for file in files:\n",
    "            if file.endswith('.wav'):\n",
    "                file_path = os.path.join(root, file)\n",
    "                mean_embedding = extract_mean_embedding(file_path)\n",
    "                embeddings.append((file_path, mean_embedding))\n",
    "    return embeddings"
   ]
  },
  {
   "cell_type": "markdown",
   "metadata": {},
   "source": [
    "### Step 6: Process dataset and extract embeddings"
   ]
  },
  {
   "cell_type": "code",
   "execution_count": 7,
   "metadata": {},
   "outputs": [
    {
     "name": "stderr",
     "output_type": "stream",
     "text": [
      "2024-05-25 04:23:36.962702: I external/local_xla/xla/stream_executor/cuda/cuda_executor.cc:998] successful NUMA node read from SysFS had negative value (-1), but there must be at least one NUMA node, so returning NUMA node zero. See more at https://github.com/torvalds/linux/blob/v6.0/Documentation/ABI/testing/sysfs-bus-pci#L344-L355\n",
      "2024-05-25 04:23:37.007009: W tensorflow/core/common_runtime/gpu/gpu_device.cc:2251] Cannot dlopen some GPU libraries. Please make sure the missing libraries mentioned above are installed properly if you would like to use GPU. Follow the guide at https://www.tensorflow.org/install/gpu for how to download and setup the required libraries for your platform.\n",
      "Skipping registering GPU devices...\n",
      "2024-05-25 04:23:37.014305: I tensorflow/compiler/mlir/mlir_graph_optimization_pass.cc:388] MLIR V1 optimization pass is not enabled\n"
     ]
    },
    {
     "name": "stdout",
     "output_type": "stream",
     "text": [
      "File path: dataset/other/Ninnila_other.wav\n",
      "File path: dataset/other/Urike Urike_other.wav\n",
      "File path: dataset/other/Allantha Doorala_other.wav\n",
      "File path: dataset/other/Dheera Dheera Dheera_other.wav\n",
      "File path: dataset/other/Saahore Baahubali_other.wav\n",
      "File path: dataset/other/Pranavalaya_other.wav\n",
      "File path: dataset/other/Guruvaram_other.wav\n",
      "File path: dataset/other/Chinnari Thalli_other.wav\n",
      "File path: dataset/other/Sirivennela_other.wav\n",
      "File path: dataset/other/Pedave Palikina_other.wav\n",
      "File path: dataset/other/Nattu Nattu_other.wav\n",
      "File path: dataset/other/Ghal Ghal Ghal Ghal_other.wav\n",
      "File path: dataset/other/Nenani Neevani_other.wav\n",
      "File path: dataset/other/Hukum_other.wav\n",
      "File path: dataset/other/Ammaadi_other.wav\n",
      "File path: dataset/other/Adiga Adiga_other.wav\n",
      "File path: dataset/other/O Cheliya_other.wav\n",
      "File path: dataset/other/Manasavacha_other.wav\n",
      "File path: dataset/other/Oosupodu_other.wav\n",
      "File path: dataset/other/Kurchi Madathapetti_other.wav\n"
     ]
    }
   ],
   "source": [
    "file_embeddings = process_dataset(DATASET_DIR)\n",
    "embeddings = []\n",
    "for file_path, embedding in file_embeddings:\n",
    "    print(f'File path: {file_path}')\n",
    "    embeddings.append(embedding)\n",
    "\n",
    "embeddings = np.array(embeddings)\n",
    "embeddings_matrix = np.vstack([emb for emb in embeddings])  # to convert list of tuples to a numpy matrix\n",
    "similarities = cosine_similarity(embeddings_matrix)"
   ]
  },
  {
   "cell_type": "code",
   "execution_count": 8,
   "metadata": {},
   "outputs": [
    {
     "name": "stdout",
     "output_type": "stream",
     "text": [
      "(20, 20)\n",
      "Min value: 0.6183504462242126\n",
      "Max value: 1.0000001192092896\n"
     ]
    },
    {
     "data": {
      "application/vnd.plotly.v1+json": {
       "config": {
        "plotlyServerURL": "https://plot.ly"
       },
       "data": [
        {
         "coloraxis": "coloraxis",
         "hovertemplate": "x: %{x}<br>y: %{y}<br>color: %{z}<extra></extra>",
         "name": "0",
         "type": "heatmap",
         "xaxis": "x",
         "yaxis": "y",
         "z": [
          [
           0.9999998807907104,
           0.873370885848999,
           0.9651654958724976,
           0.964081883430481,
           0.9806850552558899,
           0.9152231812477112,
           0.9888086915016174,
           0.9613221883773804,
           0.9163947105407715,
           0.9833382368087769,
           0.9691947102546692,
           0.9590325951576233,
           0.7453449964523315,
           0.9181727170944214,
           0.8390390276908875,
           0.9429421424865723,
           0.9888908863067627,
           0.9787499904632568,
           0.9057793617248535,
           0.9639675617218018
          ],
          [
           0.873370885848999,
           0.9999995827674866,
           0.7830647230148315,
           0.7719666361808777,
           0.8779627680778503,
           0.9929041862487793,
           0.8675830960273743,
           0.9683923125267029,
           0.9897872805595398,
           0.8909496665000916,
           0.7858593463897705,
           0.8344915509223938,
           0.9659070372581482,
           0.9913480281829834,
           0.9949479699134827,
           0.9834370613098145,
           0.8510353565216064,
           0.8486607670783997,
           0.9934558868408203,
           0.7757043242454529
          ],
          [
           0.9651654958724976,
           0.7830647230148315,
           1.0000001192092896,
           0.9985030889511108,
           0.9723219871520996,
           0.8383384943008423,
           0.96769779920578,
           0.8956759572029114,
           0.838391900062561,
           0.9639589190483093,
           0.9976272583007812,
           0.9799363017082214,
           0.6348550915718079,
           0.8372070789337158,
           0.7379034757614136,
           0.8719565272331238,
           0.9848820567131042,
           0.9740397930145264,
           0.8210148215293884,
           0.9988688826560974
          ],
          [
           0.964081883430481,
           0.7719666361808777,
           0.9985030889511108,
           1.0000001192092896,
           0.9676406979560852,
           0.8299334645271301,
           0.968543291091919,
           0.8894764184951782,
           0.8294086456298828,
           0.9607051610946655,
           0.9983628988265991,
           0.9738502502441406,
           0.6183504462242126,
           0.8285397887229919,
           0.7268707156181335,
           0.8638227581977844,
           0.9818771481513977,
           0.9722750782966614,
           0.8135808706283569,
           0.9995971918106079
          ],
          [
           0.9806850552558899,
           0.8779627680778503,
           0.9723219871520996,
           0.9676406979560852,
           0.9999998807907104,
           0.9182231426239014,
           0.98717200756073,
           0.9531745910644531,
           0.9142974019050598,
           0.9902973175048828,
           0.9766967296600342,
           0.9899056553840637,
           0.748984694480896,
           0.9168464541435242,
           0.8406187295913696,
           0.9458916187286377,
           0.9934832453727722,
           0.9908764958381653,
           0.9036098122596741,
           0.9701265096664429
          ],
          [
           0.9152231812477112,
           0.9929041862487793,
           0.8383384943008423,
           0.8299334645271301,
           0.9182231426239014,
           0.9999997615814209,
           0.9132282137870789,
           0.9869420528411865,
           0.9931668639183044,
           0.9297066330909729,
           0.8427839875221252,
           0.8795788288116455,
           0.9316688179969788,
           0.9950119853019714,
           0.98033207654953,
           0.9941439628601074,
           0.8977667689323425,
           0.8947283625602722,
           0.9983648061752319,
           0.8331753611564636
          ],
          [
           0.9888086915016174,
           0.8675830960273743,
           0.96769779920578,
           0.968543291091919,
           0.98717200756073,
           0.9132282137870789,
           1,
           0.9512572884559631,
           0.9155152440071106,
           0.9945974946022034,
           0.9769232273101807,
           0.9760236144065857,
           0.726197361946106,
           0.9076718688011169,
           0.8267176151275635,
           0.937469482421875,
           0.9924489855766296,
           0.9914346933364868,
           0.8997384905815125,
           0.9699379205703735
          ],
          [
           0.9613221883773804,
           0.9683923125267029,
           0.8956759572029114,
           0.8894764184951782,
           0.9531745910644531,
           0.9869420528411865,
           0.9512572884559631,
           0.9999999403953552,
           0.9827632308006287,
           0.9593197703361511,
           0.8996811509132385,
           0.9166606664657593,
           0.890369176864624,
           0.9899775981903076,
           0.9504161477088928,
           0.9930222034454346,
           0.9421437382698059,
           0.9303295016288757,
           0.9831365346908569,
           0.8910764455795288
          ],
          [
           0.9163947105407715,
           0.9897872805595398,
           0.838391900062561,
           0.8294086456298828,
           0.9142974019050598,
           0.9931668639183044,
           0.9155152440071106,
           0.9827632308006287,
           0.9999998807907104,
           0.9335482716560364,
           0.842077374458313,
           0.8805335164070129,
           0.9326336979866028,
           0.9901096820831299,
           0.9737959504127502,
           0.9905928373336792,
           0.8987667560577393,
           0.895493745803833,
           0.9890198111534119,
           0.8328080177307129
          ],
          [
           0.9833382368087769,
           0.8909496665000916,
           0.9639589190483093,
           0.9607051610946655,
           0.9902973175048828,
           0.9297066330909729,
           0.9945974946022034,
           0.9593197703361511,
           0.9335482716560364,
           0.9999997615814209,
           0.9697803258895874,
           0.983845591545105,
           0.759350597858429,
           0.9223666787147522,
           0.8498518466949463,
           0.9511972069740295,
           0.9905729293823242,
           0.9925351142883301,
           0.9150824546813965,
           0.9636516571044922
          ],
          [
           0.9691947102546692,
           0.7858593463897705,
           0.9976272583007812,
           0.9983628988265991,
           0.9766967296600342,
           0.8427839875221252,
           0.9769232273101807,
           0.8996811509132385,
           0.842077374458313,
           0.9697803258895874,
           0.9999997615814209,
           0.9815424680709839,
           0.6327250003814697,
           0.8409100770950317,
           0.7403378486633301,
           0.8760280013084412,
           0.988131582736969,
           0.9794731140136719,
           0.8255879878997803,
           0.9987388849258423
          ],
          [
           0.9590325951576233,
           0.8344915509223938,
           0.9799363017082214,
           0.9738502502441406,
           0.9899056553840637,
           0.8795788288116455,
           0.9760236144065857,
           0.9166606664657593,
           0.8805335164070129,
           0.983845591545105,
           0.9815424680709839,
           0.9999998211860657,
           0.6943190097808838,
           0.8725436925888062,
           0.7872640490531921,
           0.908299446105957,
           0.9882354736328125,
           0.9885169267654419,
           0.8588944673538208,
           0.9777440428733826
          ],
          [
           0.7453449964523315,
           0.9659070372581482,
           0.6348550915718079,
           0.6183504462242126,
           0.748984694480896,
           0.9316688179969788,
           0.726197361946106,
           0.890369176864624,
           0.9326336979866028,
           0.759350597858429,
           0.6327250003814697,
           0.6943190097808838,
           0.9999997615814209,
           0.9424036145210266,
           0.9806331396102905,
           0.9122464656829834,
           0.7119706869125366,
           0.6996049880981445,
           0.9374651908874512,
           0.6222566962242126
          ],
          [
           0.9181727170944214,
           0.9913480281829834,
           0.8372070789337158,
           0.8285397887229919,
           0.9168464541435242,
           0.9950119853019714,
           0.9076718688011169,
           0.9899775981903076,
           0.9901096820831299,
           0.9223666787147522,
           0.8409100770950317,
           0.8725436925888062,
           0.9424036145210266,
           0.9999995827674866,
           0.9834395051002502,
           0.9938413500785828,
           0.8953381776809692,
           0.885495662689209,
           0.994266152381897,
           0.8309168219566345
          ],
          [
           0.8390390276908875,
           0.9949479699134827,
           0.7379034757614136,
           0.7268707156181335,
           0.8406187295913696,
           0.98033207654953,
           0.8267176151275635,
           0.9504161477088928,
           0.9737959504127502,
           0.8498518466949463,
           0.7403378486633301,
           0.7872640490531921,
           0.9806331396102905,
           0.9834395051002502,
           0.9999998807907104,
           0.9678349494934082,
           0.8089470267295837,
           0.8038086891174316,
           0.9853454232215881,
           0.7299444675445557
          ],
          [
           0.9429421424865723,
           0.9834370613098145,
           0.8719565272331238,
           0.8638227581977844,
           0.9458916187286377,
           0.9941439628601074,
           0.937469482421875,
           0.9930222034454346,
           0.9905928373336792,
           0.9511972069740295,
           0.8760280013084412,
           0.908299446105957,
           0.9122464656829834,
           0.9938413500785828,
           0.9678349494934082,
           1,
           0.9270227551460266,
           0.9238878488540649,
           0.9908441305160522,
           0.8665165901184082
          ],
          [
           0.9888908863067627,
           0.8510353565216064,
           0.9848820567131042,
           0.9818771481513977,
           0.9934832453727722,
           0.8977667689323425,
           0.9924489855766296,
           0.9421437382698059,
           0.8987667560577393,
           0.9905729293823242,
           0.988131582736969,
           0.9882354736328125,
           0.7119706869125366,
           0.8953381776809692,
           0.8089470267295837,
           0.9270227551460266,
           0.9999999403953552,
           0.9926349520683289,
           0.8821542263031006,
           0.9837583899497986
          ],
          [
           0.9787499904632568,
           0.8486607670783997,
           0.9740397930145264,
           0.9722750782966614,
           0.9908764958381653,
           0.8947283625602722,
           0.9914346933364868,
           0.9303295016288757,
           0.895493745803833,
           0.9925351142883301,
           0.9794731140136719,
           0.9885169267654419,
           0.6996049880981445,
           0.885495662689209,
           0.8038086891174316,
           0.9238878488540649,
           0.9926349520683289,
           0.9999999403953552,
           0.8791455030441284,
           0.9748386740684509
          ],
          [
           0.9057793617248535,
           0.9934558868408203,
           0.8210148215293884,
           0.8135808706283569,
           0.9036098122596741,
           0.9983648061752319,
           0.8997384905815125,
           0.9831365346908569,
           0.9890198111534119,
           0.9150824546813965,
           0.8255879878997803,
           0.8588944673538208,
           0.9374651908874512,
           0.994266152381897,
           0.9853454232215881,
           0.9908441305160522,
           0.8821542263031006,
           0.8791455030441284,
           1.0000001192092896,
           0.8162093758583069
          ],
          [
           0.9639675617218018,
           0.7757043242454529,
           0.9988688826560974,
           0.9995971918106079,
           0.9701265096664429,
           0.8331753611564636,
           0.9699379205703735,
           0.8910764455795288,
           0.8328080177307129,
           0.9636516571044922,
           0.9987388849258423,
           0.9777440428733826,
           0.6222566962242126,
           0.8309168219566345,
           0.7299444675445557,
           0.8665165901184082,
           0.9837583899497986,
           0.9748386740684509,
           0.8162093758583069,
           1
          ]
         ]
        }
       ],
       "layout": {
        "coloraxis": {
         "colorscale": [
          [
           0,
           "rgb(165,0,38)"
          ],
          [
           0.1,
           "rgb(215,48,39)"
          ],
          [
           0.2,
           "rgb(244,109,67)"
          ],
          [
           0.3,
           "rgb(253,174,97)"
          ],
          [
           0.4,
           "rgb(254,224,139)"
          ],
          [
           0.5,
           "rgb(255,255,191)"
          ],
          [
           0.6,
           "rgb(217,239,139)"
          ],
          [
           0.7,
           "rgb(166,217,106)"
          ],
          [
           0.8,
           "rgb(102,189,99)"
          ],
          [
           0.9,
           "rgb(26,152,80)"
          ],
          [
           1,
           "rgb(0,104,55)"
          ]
         ]
        },
        "margin": {
         "t": 60
        },
        "template": {
         "data": {
          "bar": [
           {
            "error_x": {
             "color": "#2a3f5f"
            },
            "error_y": {
             "color": "#2a3f5f"
            },
            "marker": {
             "line": {
              "color": "#E5ECF6",
              "width": 0.5
             },
             "pattern": {
              "fillmode": "overlay",
              "size": 10,
              "solidity": 0.2
             }
            },
            "type": "bar"
           }
          ],
          "barpolar": [
           {
            "marker": {
             "line": {
              "color": "#E5ECF6",
              "width": 0.5
             },
             "pattern": {
              "fillmode": "overlay",
              "size": 10,
              "solidity": 0.2
             }
            },
            "type": "barpolar"
           }
          ],
          "carpet": [
           {
            "aaxis": {
             "endlinecolor": "#2a3f5f",
             "gridcolor": "white",
             "linecolor": "white",
             "minorgridcolor": "white",
             "startlinecolor": "#2a3f5f"
            },
            "baxis": {
             "endlinecolor": "#2a3f5f",
             "gridcolor": "white",
             "linecolor": "white",
             "minorgridcolor": "white",
             "startlinecolor": "#2a3f5f"
            },
            "type": "carpet"
           }
          ],
          "choropleth": [
           {
            "colorbar": {
             "outlinewidth": 0,
             "ticks": ""
            },
            "type": "choropleth"
           }
          ],
          "contour": [
           {
            "colorbar": {
             "outlinewidth": 0,
             "ticks": ""
            },
            "colorscale": [
             [
              0,
              "#0d0887"
             ],
             [
              0.1111111111111111,
              "#46039f"
             ],
             [
              0.2222222222222222,
              "#7201a8"
             ],
             [
              0.3333333333333333,
              "#9c179e"
             ],
             [
              0.4444444444444444,
              "#bd3786"
             ],
             [
              0.5555555555555556,
              "#d8576b"
             ],
             [
              0.6666666666666666,
              "#ed7953"
             ],
             [
              0.7777777777777778,
              "#fb9f3a"
             ],
             [
              0.8888888888888888,
              "#fdca26"
             ],
             [
              1,
              "#f0f921"
             ]
            ],
            "type": "contour"
           }
          ],
          "contourcarpet": [
           {
            "colorbar": {
             "outlinewidth": 0,
             "ticks": ""
            },
            "type": "contourcarpet"
           }
          ],
          "heatmap": [
           {
            "colorbar": {
             "outlinewidth": 0,
             "ticks": ""
            },
            "colorscale": [
             [
              0,
              "#0d0887"
             ],
             [
              0.1111111111111111,
              "#46039f"
             ],
             [
              0.2222222222222222,
              "#7201a8"
             ],
             [
              0.3333333333333333,
              "#9c179e"
             ],
             [
              0.4444444444444444,
              "#bd3786"
             ],
             [
              0.5555555555555556,
              "#d8576b"
             ],
             [
              0.6666666666666666,
              "#ed7953"
             ],
             [
              0.7777777777777778,
              "#fb9f3a"
             ],
             [
              0.8888888888888888,
              "#fdca26"
             ],
             [
              1,
              "#f0f921"
             ]
            ],
            "type": "heatmap"
           }
          ],
          "heatmapgl": [
           {
            "colorbar": {
             "outlinewidth": 0,
             "ticks": ""
            },
            "colorscale": [
             [
              0,
              "#0d0887"
             ],
             [
              0.1111111111111111,
              "#46039f"
             ],
             [
              0.2222222222222222,
              "#7201a8"
             ],
             [
              0.3333333333333333,
              "#9c179e"
             ],
             [
              0.4444444444444444,
              "#bd3786"
             ],
             [
              0.5555555555555556,
              "#d8576b"
             ],
             [
              0.6666666666666666,
              "#ed7953"
             ],
             [
              0.7777777777777778,
              "#fb9f3a"
             ],
             [
              0.8888888888888888,
              "#fdca26"
             ],
             [
              1,
              "#f0f921"
             ]
            ],
            "type": "heatmapgl"
           }
          ],
          "histogram": [
           {
            "marker": {
             "pattern": {
              "fillmode": "overlay",
              "size": 10,
              "solidity": 0.2
             }
            },
            "type": "histogram"
           }
          ],
          "histogram2d": [
           {
            "colorbar": {
             "outlinewidth": 0,
             "ticks": ""
            },
            "colorscale": [
             [
              0,
              "#0d0887"
             ],
             [
              0.1111111111111111,
              "#46039f"
             ],
             [
              0.2222222222222222,
              "#7201a8"
             ],
             [
              0.3333333333333333,
              "#9c179e"
             ],
             [
              0.4444444444444444,
              "#bd3786"
             ],
             [
              0.5555555555555556,
              "#d8576b"
             ],
             [
              0.6666666666666666,
              "#ed7953"
             ],
             [
              0.7777777777777778,
              "#fb9f3a"
             ],
             [
              0.8888888888888888,
              "#fdca26"
             ],
             [
              1,
              "#f0f921"
             ]
            ],
            "type": "histogram2d"
           }
          ],
          "histogram2dcontour": [
           {
            "colorbar": {
             "outlinewidth": 0,
             "ticks": ""
            },
            "colorscale": [
             [
              0,
              "#0d0887"
             ],
             [
              0.1111111111111111,
              "#46039f"
             ],
             [
              0.2222222222222222,
              "#7201a8"
             ],
             [
              0.3333333333333333,
              "#9c179e"
             ],
             [
              0.4444444444444444,
              "#bd3786"
             ],
             [
              0.5555555555555556,
              "#d8576b"
             ],
             [
              0.6666666666666666,
              "#ed7953"
             ],
             [
              0.7777777777777778,
              "#fb9f3a"
             ],
             [
              0.8888888888888888,
              "#fdca26"
             ],
             [
              1,
              "#f0f921"
             ]
            ],
            "type": "histogram2dcontour"
           }
          ],
          "mesh3d": [
           {
            "colorbar": {
             "outlinewidth": 0,
             "ticks": ""
            },
            "type": "mesh3d"
           }
          ],
          "parcoords": [
           {
            "line": {
             "colorbar": {
              "outlinewidth": 0,
              "ticks": ""
             }
            },
            "type": "parcoords"
           }
          ],
          "pie": [
           {
            "automargin": true,
            "type": "pie"
           }
          ],
          "scatter": [
           {
            "fillpattern": {
             "fillmode": "overlay",
             "size": 10,
             "solidity": 0.2
            },
            "type": "scatter"
           }
          ],
          "scatter3d": [
           {
            "line": {
             "colorbar": {
              "outlinewidth": 0,
              "ticks": ""
             }
            },
            "marker": {
             "colorbar": {
              "outlinewidth": 0,
              "ticks": ""
             }
            },
            "type": "scatter3d"
           }
          ],
          "scattercarpet": [
           {
            "marker": {
             "colorbar": {
              "outlinewidth": 0,
              "ticks": ""
             }
            },
            "type": "scattercarpet"
           }
          ],
          "scattergeo": [
           {
            "marker": {
             "colorbar": {
              "outlinewidth": 0,
              "ticks": ""
             }
            },
            "type": "scattergeo"
           }
          ],
          "scattergl": [
           {
            "marker": {
             "colorbar": {
              "outlinewidth": 0,
              "ticks": ""
             }
            },
            "type": "scattergl"
           }
          ],
          "scattermapbox": [
           {
            "marker": {
             "colorbar": {
              "outlinewidth": 0,
              "ticks": ""
             }
            },
            "type": "scattermapbox"
           }
          ],
          "scatterpolar": [
           {
            "marker": {
             "colorbar": {
              "outlinewidth": 0,
              "ticks": ""
             }
            },
            "type": "scatterpolar"
           }
          ],
          "scatterpolargl": [
           {
            "marker": {
             "colorbar": {
              "outlinewidth": 0,
              "ticks": ""
             }
            },
            "type": "scatterpolargl"
           }
          ],
          "scatterternary": [
           {
            "marker": {
             "colorbar": {
              "outlinewidth": 0,
              "ticks": ""
             }
            },
            "type": "scatterternary"
           }
          ],
          "surface": [
           {
            "colorbar": {
             "outlinewidth": 0,
             "ticks": ""
            },
            "colorscale": [
             [
              0,
              "#0d0887"
             ],
             [
              0.1111111111111111,
              "#46039f"
             ],
             [
              0.2222222222222222,
              "#7201a8"
             ],
             [
              0.3333333333333333,
              "#9c179e"
             ],
             [
              0.4444444444444444,
              "#bd3786"
             ],
             [
              0.5555555555555556,
              "#d8576b"
             ],
             [
              0.6666666666666666,
              "#ed7953"
             ],
             [
              0.7777777777777778,
              "#fb9f3a"
             ],
             [
              0.8888888888888888,
              "#fdca26"
             ],
             [
              1,
              "#f0f921"
             ]
            ],
            "type": "surface"
           }
          ],
          "table": [
           {
            "cells": {
             "fill": {
              "color": "#EBF0F8"
             },
             "line": {
              "color": "white"
             }
            },
            "header": {
             "fill": {
              "color": "#C8D4E3"
             },
             "line": {
              "color": "white"
             }
            },
            "type": "table"
           }
          ]
         },
         "layout": {
          "annotationdefaults": {
           "arrowcolor": "#2a3f5f",
           "arrowhead": 0,
           "arrowwidth": 1
          },
          "autotypenumbers": "strict",
          "coloraxis": {
           "colorbar": {
            "outlinewidth": 0,
            "ticks": ""
           }
          },
          "colorscale": {
           "diverging": [
            [
             0,
             "#8e0152"
            ],
            [
             0.1,
             "#c51b7d"
            ],
            [
             0.2,
             "#de77ae"
            ],
            [
             0.3,
             "#f1b6da"
            ],
            [
             0.4,
             "#fde0ef"
            ],
            [
             0.5,
             "#f7f7f7"
            ],
            [
             0.6,
             "#e6f5d0"
            ],
            [
             0.7,
             "#b8e186"
            ],
            [
             0.8,
             "#7fbc41"
            ],
            [
             0.9,
             "#4d9221"
            ],
            [
             1,
             "#276419"
            ]
           ],
           "sequential": [
            [
             0,
             "#0d0887"
            ],
            [
             0.1111111111111111,
             "#46039f"
            ],
            [
             0.2222222222222222,
             "#7201a8"
            ],
            [
             0.3333333333333333,
             "#9c179e"
            ],
            [
             0.4444444444444444,
             "#bd3786"
            ],
            [
             0.5555555555555556,
             "#d8576b"
            ],
            [
             0.6666666666666666,
             "#ed7953"
            ],
            [
             0.7777777777777778,
             "#fb9f3a"
            ],
            [
             0.8888888888888888,
             "#fdca26"
            ],
            [
             1,
             "#f0f921"
            ]
           ],
           "sequentialminus": [
            [
             0,
             "#0d0887"
            ],
            [
             0.1111111111111111,
             "#46039f"
            ],
            [
             0.2222222222222222,
             "#7201a8"
            ],
            [
             0.3333333333333333,
             "#9c179e"
            ],
            [
             0.4444444444444444,
             "#bd3786"
            ],
            [
             0.5555555555555556,
             "#d8576b"
            ],
            [
             0.6666666666666666,
             "#ed7953"
            ],
            [
             0.7777777777777778,
             "#fb9f3a"
            ],
            [
             0.8888888888888888,
             "#fdca26"
            ],
            [
             1,
             "#f0f921"
            ]
           ]
          },
          "colorway": [
           "#636efa",
           "#EF553B",
           "#00cc96",
           "#ab63fa",
           "#FFA15A",
           "#19d3f3",
           "#FF6692",
           "#B6E880",
           "#FF97FF",
           "#FECB52"
          ],
          "font": {
           "color": "#2a3f5f"
          },
          "geo": {
           "bgcolor": "white",
           "lakecolor": "white",
           "landcolor": "#E5ECF6",
           "showlakes": true,
           "showland": true,
           "subunitcolor": "white"
          },
          "hoverlabel": {
           "align": "left"
          },
          "hovermode": "closest",
          "mapbox": {
           "style": "light"
          },
          "paper_bgcolor": "white",
          "plot_bgcolor": "#E5ECF6",
          "polar": {
           "angularaxis": {
            "gridcolor": "white",
            "linecolor": "white",
            "ticks": ""
           },
           "bgcolor": "#E5ECF6",
           "radialaxis": {
            "gridcolor": "white",
            "linecolor": "white",
            "ticks": ""
           }
          },
          "scene": {
           "xaxis": {
            "backgroundcolor": "#E5ECF6",
            "gridcolor": "white",
            "gridwidth": 2,
            "linecolor": "white",
            "showbackground": true,
            "ticks": "",
            "zerolinecolor": "white"
           },
           "yaxis": {
            "backgroundcolor": "#E5ECF6",
            "gridcolor": "white",
            "gridwidth": 2,
            "linecolor": "white",
            "showbackground": true,
            "ticks": "",
            "zerolinecolor": "white"
           },
           "zaxis": {
            "backgroundcolor": "#E5ECF6",
            "gridcolor": "white",
            "gridwidth": 2,
            "linecolor": "white",
            "showbackground": true,
            "ticks": "",
            "zerolinecolor": "white"
           }
          },
          "shapedefaults": {
           "line": {
            "color": "#2a3f5f"
           }
          },
          "ternary": {
           "aaxis": {
            "gridcolor": "white",
            "linecolor": "white",
            "ticks": ""
           },
           "baxis": {
            "gridcolor": "white",
            "linecolor": "white",
            "ticks": ""
           },
           "bgcolor": "#E5ECF6",
           "caxis": {
            "gridcolor": "white",
            "linecolor": "white",
            "ticks": ""
           }
          },
          "title": {
           "x": 0.05
          },
          "xaxis": {
           "automargin": true,
           "gridcolor": "white",
           "linecolor": "white",
           "ticks": "",
           "title": {
            "standoff": 15
           },
           "zerolinecolor": "white",
           "zerolinewidth": 2
          },
          "yaxis": {
           "automargin": true,
           "gridcolor": "white",
           "linecolor": "white",
           "ticks": "",
           "title": {
            "standoff": 15
           },
           "zerolinecolor": "white",
           "zerolinewidth": 2
          }
         }
        },
        "xaxis": {
         "anchor": "y",
         "constrain": "domain",
         "domain": [
          0,
          1
         ],
         "scaleanchor": "y"
        },
        "yaxis": {
         "anchor": "x",
         "autorange": "reversed",
         "constrain": "domain",
         "domain": [
          0,
          1
         ]
        }
       }
      }
     },
     "metadata": {},
     "output_type": "display_data"
    }
   ],
   "source": [
    "print(similarities.shape)\n",
    "print(f'Min value: {similarities.min()}')\n",
    "print(f'Max value: {similarities.max()}')\n",
    "\n",
    "fig = px.imshow(similarities, color_continuous_scale='RdYlGn')\n",
    "fig.show()"
   ]
  },
  {
   "cell_type": "markdown",
   "metadata": {},
   "source": [
    "### Step 7: Compute sorted indexes and similar songs matrix"
   ]
  },
  {
   "cell_type": "code",
   "execution_count": 9,
   "metadata": {},
   "outputs": [],
   "source": [
    "sorted_indexes = np.argsort(similarities, axis=1)\n",
    "sorted_indexes = np.fliplr(sorted_indexes)\n",
    "\n",
    "def match_genres(genres_i, genres_j):\n",
    "    return any(genre in genres_j for genre in genres_i)\n",
    "\n",
    "similar_songs = np.zeros_like(sorted_indexes)\n",
    "\n",
    "for i in range(sorted_indexes.shape[0]):\n",
    "    genre_i = genres[i] \n",
    "    sorted_indexes_i = sorted_indexes[i, :]  \n",
    "    similar_songs_i = np.array([1 if match_genres(genre_i, genres[j]) else 0 for j in sorted_indexes_i])\n",
    "    similar_songs[i, :] = similar_songs_i\n"
   ]
  },
  {
   "cell_type": "markdown",
   "metadata": {},
   "source": [
    "### Step 8: Evaluation metrics: AP@N and MAP@N"
   ]
  },
  {
   "cell_type": "code",
   "execution_count": 10,
   "metadata": {},
   "outputs": [],
   "source": [
    "def precision_k(similar_items, k):\n",
    "    similar_items_k = similar_items[:k]\n",
    "    P = sum(similar_items_k) / k\n",
    "    return P\n",
    "\n",
    "def average_precision_N(similar_items, N):\n",
    "    m = np.min([np.sum(similar_items), N])\n",
    "    sum_vector = []\n",
    "    for k in range(1, N+1):\n",
    "        if k-1 < len(similar_items):\n",
    "            sum_vector.append(precision_k(similar_items, k) * similar_items[k-1])\n",
    "    AP = (1/m) * sum(sum_vector)\n",
    "    return AP\n"
   ]
  },
  {
   "cell_type": "markdown",
   "metadata": {},
   "source": [
    "### Step 9: Evaluate music similarity"
   ]
  },
  {
   "cell_type": "code",
   "execution_count": 11,
   "metadata": {},
   "outputs": [
    {
     "data": {
      "text/html": [
       "<div>\n",
       "<style scoped>\n",
       "    .dataframe tbody tr th:only-of-type {\n",
       "        vertical-align: middle;\n",
       "    }\n",
       "\n",
       "    .dataframe tbody tr th {\n",
       "        vertical-align: top;\n",
       "    }\n",
       "\n",
       "    .dataframe thead th {\n",
       "        text-align: right;\n",
       "    }\n",
       "</style>\n",
       "<table border=\"1\" class=\"dataframe\">\n",
       "  <thead>\n",
       "    <tr style=\"text-align: right;\">\n",
       "      <th></th>\n",
       "      <th>song_name</th>\n",
       "      <th>genre</th>\n",
       "      <th>@3</th>\n",
       "      <th>@5</th>\n",
       "      <th>@10</th>\n",
       "      <th>@13</th>\n",
       "      <th>@15</th>\n",
       "    </tr>\n",
       "  </thead>\n",
       "  <tbody>\n",
       "    <tr>\n",
       "      <th>0</th>\n",
       "      <td>0</td>\n",
       "      <td>Romantic,Melody</td>\n",
       "      <td>0.666667</td>\n",
       "      <td>0.520000</td>\n",
       "      <td>0.525833</td>\n",
       "      <td>0.577295</td>\n",
       "      <td>0.606037</td>\n",
       "    </tr>\n",
       "    <tr>\n",
       "      <th>1</th>\n",
       "      <td>1</td>\n",
       "      <td>Romantic,Melody</td>\n",
       "      <td>1.000000</td>\n",
       "      <td>1.000000</td>\n",
       "      <td>0.800000</td>\n",
       "      <td>0.742424</td>\n",
       "      <td>0.749149</td>\n",
       "    </tr>\n",
       "    <tr>\n",
       "      <th>2</th>\n",
       "      <td>2</td>\n",
       "      <td>Romantic,Sad</td>\n",
       "      <td>1.000000</td>\n",
       "      <td>0.760000</td>\n",
       "      <td>0.608333</td>\n",
       "      <td>0.515286</td>\n",
       "      <td>0.572017</td>\n",
       "    </tr>\n",
       "    <tr>\n",
       "      <th>3</th>\n",
       "      <td>3</td>\n",
       "      <td>Romantic,Upbeat</td>\n",
       "      <td>1.000000</td>\n",
       "      <td>0.760000</td>\n",
       "      <td>0.600000</td>\n",
       "      <td>0.508876</td>\n",
       "      <td>0.566065</td>\n",
       "    </tr>\n",
       "    <tr>\n",
       "      <th>4</th>\n",
       "      <td>4</td>\n",
       "      <td>Romantic,Folk</td>\n",
       "      <td>0.666667</td>\n",
       "      <td>0.710000</td>\n",
       "      <td>0.659206</td>\n",
       "      <td>0.629190</td>\n",
       "      <td>0.651013</td>\n",
       "    </tr>\n",
       "    <tr>\n",
       "      <th>5</th>\n",
       "      <td>5</td>\n",
       "      <td>Romantic,Melody</td>\n",
       "      <td>1.000000</td>\n",
       "      <td>1.000000</td>\n",
       "      <td>0.800000</td>\n",
       "      <td>0.742424</td>\n",
       "      <td>0.749149</td>\n",
       "    </tr>\n",
       "    <tr>\n",
       "      <th>6</th>\n",
       "      <td>6</td>\n",
       "      <td>Mass,Inspirational</td>\n",
       "      <td>0.500000</td>\n",
       "      <td>0.500000</td>\n",
       "      <td>0.500000</td>\n",
       "      <td>0.500000</td>\n",
       "      <td>0.500000</td>\n",
       "    </tr>\n",
       "    <tr>\n",
       "      <th>7</th>\n",
       "      <td>7</td>\n",
       "      <td>Melody</td>\n",
       "      <td>1.000000</td>\n",
       "      <td>0.800000</td>\n",
       "      <td>0.656548</td>\n",
       "      <td>0.720405</td>\n",
       "      <td>0.785340</td>\n",
       "    </tr>\n",
       "    <tr>\n",
       "      <th>8</th>\n",
       "      <td>8</td>\n",
       "      <td>Romantic,Melody</td>\n",
       "      <td>1.000000</td>\n",
       "      <td>1.000000</td>\n",
       "      <td>0.800000</td>\n",
       "      <td>0.737493</td>\n",
       "      <td>0.744875</td>\n",
       "    </tr>\n",
       "    <tr>\n",
       "      <th>9</th>\n",
       "      <td>9</td>\n",
       "      <td>Folk,Dance</td>\n",
       "      <td>0.333333</td>\n",
       "      <td>0.466667</td>\n",
       "      <td>0.591667</td>\n",
       "      <td>0.591667</td>\n",
       "      <td>0.591667</td>\n",
       "    </tr>\n",
       "    <tr>\n",
       "      <th>10</th>\n",
       "      <td>10</td>\n",
       "      <td>Folk,Dance</td>\n",
       "      <td>0.333333</td>\n",
       "      <td>0.333333</td>\n",
       "      <td>0.507407</td>\n",
       "      <td>0.507407</td>\n",
       "      <td>0.507407</td>\n",
       "    </tr>\n",
       "    <tr>\n",
       "      <th>11</th>\n",
       "      <td>11</td>\n",
       "      <td>Romantic,Upbeat</td>\n",
       "      <td>0.666667</td>\n",
       "      <td>0.550000</td>\n",
       "      <td>0.454643</td>\n",
       "      <td>0.446014</td>\n",
       "      <td>0.507693</td>\n",
       "    </tr>\n",
       "    <tr>\n",
       "      <th>12</th>\n",
       "      <td>12</td>\n",
       "      <td>Inspirational,Mass</td>\n",
       "      <td>0.500000</td>\n",
       "      <td>0.500000</td>\n",
       "      <td>0.500000</td>\n",
       "      <td>0.576923</td>\n",
       "      <td>0.576923</td>\n",
       "    </tr>\n",
       "    <tr>\n",
       "      <th>13</th>\n",
       "      <td>13</td>\n",
       "      <td>Romantic,Melody</td>\n",
       "      <td>1.000000</td>\n",
       "      <td>1.000000</td>\n",
       "      <td>0.800000</td>\n",
       "      <td>0.742424</td>\n",
       "      <td>0.749149</td>\n",
       "    </tr>\n",
       "    <tr>\n",
       "      <th>14</th>\n",
       "      <td>14</td>\n",
       "      <td>Romantic,Melody</td>\n",
       "      <td>1.000000</td>\n",
       "      <td>0.800000</td>\n",
       "      <td>0.745437</td>\n",
       "      <td>0.700452</td>\n",
       "      <td>0.712773</td>\n",
       "    </tr>\n",
       "    <tr>\n",
       "      <th>15</th>\n",
       "      <td>15</td>\n",
       "      <td>Romantic,Melody</td>\n",
       "      <td>1.000000</td>\n",
       "      <td>1.000000</td>\n",
       "      <td>0.890000</td>\n",
       "      <td>0.819634</td>\n",
       "      <td>0.767493</td>\n",
       "    </tr>\n",
       "    <tr>\n",
       "      <th>16</th>\n",
       "      <td>16</td>\n",
       "      <td>Romantic,Melody</td>\n",
       "      <td>1.000000</td>\n",
       "      <td>0.600000</td>\n",
       "      <td>0.574762</td>\n",
       "      <td>0.614933</td>\n",
       "      <td>0.638656</td>\n",
       "    </tr>\n",
       "    <tr>\n",
       "      <th>17</th>\n",
       "      <td>17</td>\n",
       "      <td>Melody</td>\n",
       "      <td>0.666667</td>\n",
       "      <td>0.400000</td>\n",
       "      <td>0.281944</td>\n",
       "      <td>0.336150</td>\n",
       "      <td>0.430089</td>\n",
       "    </tr>\n",
       "    <tr>\n",
       "      <th>18</th>\n",
       "      <td>18</td>\n",
       "      <td>Romantic,Sad</td>\n",
       "      <td>1.000000</td>\n",
       "      <td>1.000000</td>\n",
       "      <td>0.700000</td>\n",
       "      <td>0.652098</td>\n",
       "      <td>0.656540</td>\n",
       "    </tr>\n",
       "    <tr>\n",
       "      <th>19</th>\n",
       "      <td>19</td>\n",
       "      <td>Romantic,Melody</td>\n",
       "      <td>1.000000</td>\n",
       "      <td>0.760000</td>\n",
       "      <td>0.716548</td>\n",
       "      <td>0.668054</td>\n",
       "      <td>0.684695</td>\n",
       "    </tr>\n",
       "  </tbody>\n",
       "</table>\n",
       "</div>"
      ],
      "text/plain": [
       "    song_name               genre        @3        @5       @10       @13  \\\n",
       "0           0     Romantic,Melody  0.666667  0.520000  0.525833  0.577295   \n",
       "1           1     Romantic,Melody  1.000000  1.000000  0.800000  0.742424   \n",
       "2           2        Romantic,Sad  1.000000  0.760000  0.608333  0.515286   \n",
       "3           3     Romantic,Upbeat  1.000000  0.760000  0.600000  0.508876   \n",
       "4           4       Romantic,Folk  0.666667  0.710000  0.659206  0.629190   \n",
       "5           5     Romantic,Melody  1.000000  1.000000  0.800000  0.742424   \n",
       "6           6  Mass,Inspirational  0.500000  0.500000  0.500000  0.500000   \n",
       "7           7              Melody  1.000000  0.800000  0.656548  0.720405   \n",
       "8           8     Romantic,Melody  1.000000  1.000000  0.800000  0.737493   \n",
       "9           9          Folk,Dance  0.333333  0.466667  0.591667  0.591667   \n",
       "10         10          Folk,Dance  0.333333  0.333333  0.507407  0.507407   \n",
       "11         11     Romantic,Upbeat  0.666667  0.550000  0.454643  0.446014   \n",
       "12         12  Inspirational,Mass  0.500000  0.500000  0.500000  0.576923   \n",
       "13         13     Romantic,Melody  1.000000  1.000000  0.800000  0.742424   \n",
       "14         14     Romantic,Melody  1.000000  0.800000  0.745437  0.700452   \n",
       "15         15     Romantic,Melody  1.000000  1.000000  0.890000  0.819634   \n",
       "16         16     Romantic,Melody  1.000000  0.600000  0.574762  0.614933   \n",
       "17         17              Melody  0.666667  0.400000  0.281944  0.336150   \n",
       "18         18        Romantic,Sad  1.000000  1.000000  0.700000  0.652098   \n",
       "19         19     Romantic,Melody  1.000000  0.760000  0.716548  0.668054   \n",
       "\n",
       "         @15  \n",
       "0   0.606037  \n",
       "1   0.749149  \n",
       "2   0.572017  \n",
       "3   0.566065  \n",
       "4   0.651013  \n",
       "5   0.749149  \n",
       "6   0.500000  \n",
       "7   0.785340  \n",
       "8   0.744875  \n",
       "9   0.591667  \n",
       "10  0.507407  \n",
       "11  0.507693  \n",
       "12  0.576923  \n",
       "13  0.749149  \n",
       "14  0.712773  \n",
       "15  0.767493  \n",
       "16  0.638656  \n",
       "17  0.430089  \n",
       "18  0.656540  \n",
       "19  0.684695  "
      ]
     },
     "execution_count": 11,
     "metadata": {},
     "output_type": "execute_result"
    }
   ],
   "source": [
    "N_range = [3, 5, 10, 13, 15]\n",
    "AP_songs = []\n",
    "\n",
    "for N in N_range:\n",
    "    AP_by_N = []\n",
    "    for i in range(similar_songs.shape[0]):\n",
    "        AP_by_N.append(average_precision_N(similar_songs[i, :], N))\n",
    "    AP_songs.append(AP_by_N)\n",
    "\n",
    "genre_strings = [','.join(genre) for genre in genres]\n",
    "\n",
    "df = pd.DataFrame(\n",
    "    list(zip(\n",
    "        [file_path for file_path in range(len(file_path))], \n",
    "        genre_strings,\n",
    "        *AP_songs\n",
    "    )),\n",
    "    columns=['song_name', 'genre'] + [f'@{N}' for N in N_range]\n",
    ")\n",
    "\n",
    "df.head(20)"
   ]
  },
  {
   "cell_type": "markdown",
   "metadata": {},
   "source": [
    "### Step 10: Plotting AP@N histograms"
   ]
  },
  {
   "cell_type": "code",
   "execution_count": 12,
   "metadata": {},
   "outputs": [
    {
     "data": {
      "application/vnd.plotly.v1+json": {
       "config": {
        "plotlyServerURL": "https://plot.ly"
       },
       "data": [
        {
         "type": "histogram",
         "x": [
          0.6666666666666666,
          1,
          1,
          1,
          0.6666666666666666,
          1,
          0.5,
          1,
          1,
          0.3333333333333333,
          0.3333333333333333,
          0.6666666666666666,
          0.5,
          1,
          1,
          1,
          1,
          0.6666666666666666,
          1,
          1
         ],
         "xaxis": "x",
         "yaxis": "y"
        },
        {
         "type": "histogram",
         "x": [
          0.52,
          1,
          0.76,
          0.76,
          0.71,
          1,
          0.5,
          0.8,
          1,
          0.4666666666666666,
          0.3333333333333333,
          0.55,
          0.5,
          1,
          0.8,
          1,
          0.6000000000000001,
          0.4,
          1,
          0.76
         ],
         "xaxis": "x2",
         "yaxis": "y2"
        },
        {
         "type": "histogram",
         "x": [
          0.5258333333333334,
          0.8,
          0.6083333333333334,
          0.6000000000000001,
          0.6592063492063492,
          0.8,
          0.5,
          0.656547619047619,
          0.8,
          0.5916666666666666,
          0.5074074074074074,
          0.4546428571428571,
          0.5,
          0.8,
          0.745436507936508,
          0.8900000000000001,
          0.5747619047619048,
          0.2819444444444445,
          0.7000000000000001,
          0.716547619047619
         ],
         "xaxis": "x3",
         "yaxis": "y3"
        },
        {
         "type": "histogram",
         "x": [
          0.5772951407566793,
          0.7424242424242425,
          0.5152859960552268,
          0.5088757396449705,
          0.6291904676520061,
          0.7424242424242425,
          0.5,
          0.7204045954045954,
          0.7374932759548145,
          0.5916666666666666,
          0.5074074074074074,
          0.4460136017828325,
          0.5769230769230769,
          0.7424242424242425,
          0.7004523254523255,
          0.8196342119419043,
          0.6149325033940419,
          0.33614996114996115,
          0.6520979020979021,
          0.66805438151592
         ],
         "xaxis": "x4",
         "yaxis": "y4"
        },
        {
         "type": "histogram",
         "x": [
          0.6060367410367411,
          0.7491486291486293,
          0.5720172684458399,
          0.566064887493459,
          0.6510126910126911,
          0.7491486291486293,
          0.5,
          0.7853396603396603,
          0.7448751248751251,
          0.5916666666666666,
          0.5074074074074074,
          0.5076929023357595,
          0.5769230769230769,
          0.7491486291486293,
          0.712772967772968,
          0.7674925074925075,
          0.6386557886557886,
          0.4300893550893551,
          0.6565398886827457,
          0.6846947496947497
         ],
         "xaxis": "x5",
         "yaxis": "y5"
        }
       ],
       "layout": {
        "annotations": [
         {
          "font": {
           "size": 16
          },
          "showarrow": false,
          "text": "AP@2",
          "x": 0.14444444444444446,
          "xanchor": "center",
          "xref": "paper",
          "y": 1,
          "yanchor": "bottom",
          "yref": "paper"
         },
         {
          "font": {
           "size": 16
          },
          "showarrow": false,
          "text": "AP@3",
          "x": 0.5,
          "xanchor": "center",
          "xref": "paper",
          "y": 1,
          "yanchor": "bottom",
          "yref": "paper"
         },
         {
          "font": {
           "size": 16
          },
          "showarrow": false,
          "text": "AP@5",
          "x": 0.8555555555555556,
          "xanchor": "center",
          "xref": "paper",
          "y": 1,
          "yanchor": "bottom",
          "yref": "paper"
         },
         {
          "font": {
           "size": 16
          },
          "showarrow": false,
          "text": "AP@10",
          "x": 0.14444444444444446,
          "xanchor": "center",
          "xref": "paper",
          "y": 0.375,
          "yanchor": "bottom",
          "yref": "paper"
         },
         {
          "font": {
           "size": 16
          },
          "showarrow": false,
          "text": "AP@15",
          "x": 0.5,
          "xanchor": "center",
          "xref": "paper",
          "y": 0.375,
          "yanchor": "bottom",
          "yref": "paper"
         }
        ],
        "height": 500,
        "showlegend": false,
        "template": {
         "data": {
          "bar": [
           {
            "error_x": {
             "color": "#2a3f5f"
            },
            "error_y": {
             "color": "#2a3f5f"
            },
            "marker": {
             "line": {
              "color": "#E5ECF6",
              "width": 0.5
             },
             "pattern": {
              "fillmode": "overlay",
              "size": 10,
              "solidity": 0.2
             }
            },
            "type": "bar"
           }
          ],
          "barpolar": [
           {
            "marker": {
             "line": {
              "color": "#E5ECF6",
              "width": 0.5
             },
             "pattern": {
              "fillmode": "overlay",
              "size": 10,
              "solidity": 0.2
             }
            },
            "type": "barpolar"
           }
          ],
          "carpet": [
           {
            "aaxis": {
             "endlinecolor": "#2a3f5f",
             "gridcolor": "white",
             "linecolor": "white",
             "minorgridcolor": "white",
             "startlinecolor": "#2a3f5f"
            },
            "baxis": {
             "endlinecolor": "#2a3f5f",
             "gridcolor": "white",
             "linecolor": "white",
             "minorgridcolor": "white",
             "startlinecolor": "#2a3f5f"
            },
            "type": "carpet"
           }
          ],
          "choropleth": [
           {
            "colorbar": {
             "outlinewidth": 0,
             "ticks": ""
            },
            "type": "choropleth"
           }
          ],
          "contour": [
           {
            "colorbar": {
             "outlinewidth": 0,
             "ticks": ""
            },
            "colorscale": [
             [
              0,
              "#0d0887"
             ],
             [
              0.1111111111111111,
              "#46039f"
             ],
             [
              0.2222222222222222,
              "#7201a8"
             ],
             [
              0.3333333333333333,
              "#9c179e"
             ],
             [
              0.4444444444444444,
              "#bd3786"
             ],
             [
              0.5555555555555556,
              "#d8576b"
             ],
             [
              0.6666666666666666,
              "#ed7953"
             ],
             [
              0.7777777777777778,
              "#fb9f3a"
             ],
             [
              0.8888888888888888,
              "#fdca26"
             ],
             [
              1,
              "#f0f921"
             ]
            ],
            "type": "contour"
           }
          ],
          "contourcarpet": [
           {
            "colorbar": {
             "outlinewidth": 0,
             "ticks": ""
            },
            "type": "contourcarpet"
           }
          ],
          "heatmap": [
           {
            "colorbar": {
             "outlinewidth": 0,
             "ticks": ""
            },
            "colorscale": [
             [
              0,
              "#0d0887"
             ],
             [
              0.1111111111111111,
              "#46039f"
             ],
             [
              0.2222222222222222,
              "#7201a8"
             ],
             [
              0.3333333333333333,
              "#9c179e"
             ],
             [
              0.4444444444444444,
              "#bd3786"
             ],
             [
              0.5555555555555556,
              "#d8576b"
             ],
             [
              0.6666666666666666,
              "#ed7953"
             ],
             [
              0.7777777777777778,
              "#fb9f3a"
             ],
             [
              0.8888888888888888,
              "#fdca26"
             ],
             [
              1,
              "#f0f921"
             ]
            ],
            "type": "heatmap"
           }
          ],
          "heatmapgl": [
           {
            "colorbar": {
             "outlinewidth": 0,
             "ticks": ""
            },
            "colorscale": [
             [
              0,
              "#0d0887"
             ],
             [
              0.1111111111111111,
              "#46039f"
             ],
             [
              0.2222222222222222,
              "#7201a8"
             ],
             [
              0.3333333333333333,
              "#9c179e"
             ],
             [
              0.4444444444444444,
              "#bd3786"
             ],
             [
              0.5555555555555556,
              "#d8576b"
             ],
             [
              0.6666666666666666,
              "#ed7953"
             ],
             [
              0.7777777777777778,
              "#fb9f3a"
             ],
             [
              0.8888888888888888,
              "#fdca26"
             ],
             [
              1,
              "#f0f921"
             ]
            ],
            "type": "heatmapgl"
           }
          ],
          "histogram": [
           {
            "marker": {
             "pattern": {
              "fillmode": "overlay",
              "size": 10,
              "solidity": 0.2
             }
            },
            "type": "histogram"
           }
          ],
          "histogram2d": [
           {
            "colorbar": {
             "outlinewidth": 0,
             "ticks": ""
            },
            "colorscale": [
             [
              0,
              "#0d0887"
             ],
             [
              0.1111111111111111,
              "#46039f"
             ],
             [
              0.2222222222222222,
              "#7201a8"
             ],
             [
              0.3333333333333333,
              "#9c179e"
             ],
             [
              0.4444444444444444,
              "#bd3786"
             ],
             [
              0.5555555555555556,
              "#d8576b"
             ],
             [
              0.6666666666666666,
              "#ed7953"
             ],
             [
              0.7777777777777778,
              "#fb9f3a"
             ],
             [
              0.8888888888888888,
              "#fdca26"
             ],
             [
              1,
              "#f0f921"
             ]
            ],
            "type": "histogram2d"
           }
          ],
          "histogram2dcontour": [
           {
            "colorbar": {
             "outlinewidth": 0,
             "ticks": ""
            },
            "colorscale": [
             [
              0,
              "#0d0887"
             ],
             [
              0.1111111111111111,
              "#46039f"
             ],
             [
              0.2222222222222222,
              "#7201a8"
             ],
             [
              0.3333333333333333,
              "#9c179e"
             ],
             [
              0.4444444444444444,
              "#bd3786"
             ],
             [
              0.5555555555555556,
              "#d8576b"
             ],
             [
              0.6666666666666666,
              "#ed7953"
             ],
             [
              0.7777777777777778,
              "#fb9f3a"
             ],
             [
              0.8888888888888888,
              "#fdca26"
             ],
             [
              1,
              "#f0f921"
             ]
            ],
            "type": "histogram2dcontour"
           }
          ],
          "mesh3d": [
           {
            "colorbar": {
             "outlinewidth": 0,
             "ticks": ""
            },
            "type": "mesh3d"
           }
          ],
          "parcoords": [
           {
            "line": {
             "colorbar": {
              "outlinewidth": 0,
              "ticks": ""
             }
            },
            "type": "parcoords"
           }
          ],
          "pie": [
           {
            "automargin": true,
            "type": "pie"
           }
          ],
          "scatter": [
           {
            "fillpattern": {
             "fillmode": "overlay",
             "size": 10,
             "solidity": 0.2
            },
            "type": "scatter"
           }
          ],
          "scatter3d": [
           {
            "line": {
             "colorbar": {
              "outlinewidth": 0,
              "ticks": ""
             }
            },
            "marker": {
             "colorbar": {
              "outlinewidth": 0,
              "ticks": ""
             }
            },
            "type": "scatter3d"
           }
          ],
          "scattercarpet": [
           {
            "marker": {
             "colorbar": {
              "outlinewidth": 0,
              "ticks": ""
             }
            },
            "type": "scattercarpet"
           }
          ],
          "scattergeo": [
           {
            "marker": {
             "colorbar": {
              "outlinewidth": 0,
              "ticks": ""
             }
            },
            "type": "scattergeo"
           }
          ],
          "scattergl": [
           {
            "marker": {
             "colorbar": {
              "outlinewidth": 0,
              "ticks": ""
             }
            },
            "type": "scattergl"
           }
          ],
          "scattermapbox": [
           {
            "marker": {
             "colorbar": {
              "outlinewidth": 0,
              "ticks": ""
             }
            },
            "type": "scattermapbox"
           }
          ],
          "scatterpolar": [
           {
            "marker": {
             "colorbar": {
              "outlinewidth": 0,
              "ticks": ""
             }
            },
            "type": "scatterpolar"
           }
          ],
          "scatterpolargl": [
           {
            "marker": {
             "colorbar": {
              "outlinewidth": 0,
              "ticks": ""
             }
            },
            "type": "scatterpolargl"
           }
          ],
          "scatterternary": [
           {
            "marker": {
             "colorbar": {
              "outlinewidth": 0,
              "ticks": ""
             }
            },
            "type": "scatterternary"
           }
          ],
          "surface": [
           {
            "colorbar": {
             "outlinewidth": 0,
             "ticks": ""
            },
            "colorscale": [
             [
              0,
              "#0d0887"
             ],
             [
              0.1111111111111111,
              "#46039f"
             ],
             [
              0.2222222222222222,
              "#7201a8"
             ],
             [
              0.3333333333333333,
              "#9c179e"
             ],
             [
              0.4444444444444444,
              "#bd3786"
             ],
             [
              0.5555555555555556,
              "#d8576b"
             ],
             [
              0.6666666666666666,
              "#ed7953"
             ],
             [
              0.7777777777777778,
              "#fb9f3a"
             ],
             [
              0.8888888888888888,
              "#fdca26"
             ],
             [
              1,
              "#f0f921"
             ]
            ],
            "type": "surface"
           }
          ],
          "table": [
           {
            "cells": {
             "fill": {
              "color": "#EBF0F8"
             },
             "line": {
              "color": "white"
             }
            },
            "header": {
             "fill": {
              "color": "#C8D4E3"
             },
             "line": {
              "color": "white"
             }
            },
            "type": "table"
           }
          ]
         },
         "layout": {
          "annotationdefaults": {
           "arrowcolor": "#2a3f5f",
           "arrowhead": 0,
           "arrowwidth": 1
          },
          "autotypenumbers": "strict",
          "coloraxis": {
           "colorbar": {
            "outlinewidth": 0,
            "ticks": ""
           }
          },
          "colorscale": {
           "diverging": [
            [
             0,
             "#8e0152"
            ],
            [
             0.1,
             "#c51b7d"
            ],
            [
             0.2,
             "#de77ae"
            ],
            [
             0.3,
             "#f1b6da"
            ],
            [
             0.4,
             "#fde0ef"
            ],
            [
             0.5,
             "#f7f7f7"
            ],
            [
             0.6,
             "#e6f5d0"
            ],
            [
             0.7,
             "#b8e186"
            ],
            [
             0.8,
             "#7fbc41"
            ],
            [
             0.9,
             "#4d9221"
            ],
            [
             1,
             "#276419"
            ]
           ],
           "sequential": [
            [
             0,
             "#0d0887"
            ],
            [
             0.1111111111111111,
             "#46039f"
            ],
            [
             0.2222222222222222,
             "#7201a8"
            ],
            [
             0.3333333333333333,
             "#9c179e"
            ],
            [
             0.4444444444444444,
             "#bd3786"
            ],
            [
             0.5555555555555556,
             "#d8576b"
            ],
            [
             0.6666666666666666,
             "#ed7953"
            ],
            [
             0.7777777777777778,
             "#fb9f3a"
            ],
            [
             0.8888888888888888,
             "#fdca26"
            ],
            [
             1,
             "#f0f921"
            ]
           ],
           "sequentialminus": [
            [
             0,
             "#0d0887"
            ],
            [
             0.1111111111111111,
             "#46039f"
            ],
            [
             0.2222222222222222,
             "#7201a8"
            ],
            [
             0.3333333333333333,
             "#9c179e"
            ],
            [
             0.4444444444444444,
             "#bd3786"
            ],
            [
             0.5555555555555556,
             "#d8576b"
            ],
            [
             0.6666666666666666,
             "#ed7953"
            ],
            [
             0.7777777777777778,
             "#fb9f3a"
            ],
            [
             0.8888888888888888,
             "#fdca26"
            ],
            [
             1,
             "#f0f921"
            ]
           ]
          },
          "colorway": [
           "#636efa",
           "#EF553B",
           "#00cc96",
           "#ab63fa",
           "#FFA15A",
           "#19d3f3",
           "#FF6692",
           "#B6E880",
           "#FF97FF",
           "#FECB52"
          ],
          "font": {
           "color": "#2a3f5f"
          },
          "geo": {
           "bgcolor": "white",
           "lakecolor": "white",
           "landcolor": "#E5ECF6",
           "showlakes": true,
           "showland": true,
           "subunitcolor": "white"
          },
          "hoverlabel": {
           "align": "left"
          },
          "hovermode": "closest",
          "mapbox": {
           "style": "light"
          },
          "paper_bgcolor": "white",
          "plot_bgcolor": "#E5ECF6",
          "polar": {
           "angularaxis": {
            "gridcolor": "white",
            "linecolor": "white",
            "ticks": ""
           },
           "bgcolor": "#E5ECF6",
           "radialaxis": {
            "gridcolor": "white",
            "linecolor": "white",
            "ticks": ""
           }
          },
          "scene": {
           "xaxis": {
            "backgroundcolor": "#E5ECF6",
            "gridcolor": "white",
            "gridwidth": 2,
            "linecolor": "white",
            "showbackground": true,
            "ticks": "",
            "zerolinecolor": "white"
           },
           "yaxis": {
            "backgroundcolor": "#E5ECF6",
            "gridcolor": "white",
            "gridwidth": 2,
            "linecolor": "white",
            "showbackground": true,
            "ticks": "",
            "zerolinecolor": "white"
           },
           "zaxis": {
            "backgroundcolor": "#E5ECF6",
            "gridcolor": "white",
            "gridwidth": 2,
            "linecolor": "white",
            "showbackground": true,
            "ticks": "",
            "zerolinecolor": "white"
           }
          },
          "shapedefaults": {
           "line": {
            "color": "#2a3f5f"
           }
          },
          "ternary": {
           "aaxis": {
            "gridcolor": "white",
            "linecolor": "white",
            "ticks": ""
           },
           "baxis": {
            "gridcolor": "white",
            "linecolor": "white",
            "ticks": ""
           },
           "bgcolor": "#E5ECF6",
           "caxis": {
            "gridcolor": "white",
            "linecolor": "white",
            "ticks": ""
           }
          },
          "title": {
           "x": 0.05
          },
          "xaxis": {
           "automargin": true,
           "gridcolor": "white",
           "linecolor": "white",
           "ticks": "",
           "title": {
            "standoff": 15
           },
           "zerolinecolor": "white",
           "zerolinewidth": 2
          },
          "yaxis": {
           "automargin": true,
           "gridcolor": "white",
           "linecolor": "white",
           "ticks": "",
           "title": {
            "standoff": 15
           },
           "zerolinecolor": "white",
           "zerolinewidth": 2
          }
         }
        },
        "title": {
         "text": "AP@N histograms"
        },
        "width": 1000,
        "xaxis": {
         "anchor": "y",
         "domain": [
          0,
          0.2888888888888889
         ]
        },
        "xaxis2": {
         "anchor": "y2",
         "domain": [
          0.35555555555555557,
          0.6444444444444445
         ]
        },
        "xaxis3": {
         "anchor": "y3",
         "domain": [
          0.7111111111111111,
          1
         ]
        },
        "xaxis4": {
         "anchor": "y4",
         "domain": [
          0,
          0.2888888888888889
         ]
        },
        "xaxis5": {
         "anchor": "y5",
         "domain": [
          0.35555555555555557,
          0.6444444444444445
         ]
        },
        "xaxis6": {
         "anchor": "y6",
         "domain": [
          0.7111111111111111,
          1
         ]
        },
        "yaxis": {
         "anchor": "x",
         "domain": [
          0.625,
          1
         ]
        },
        "yaxis2": {
         "anchor": "x2",
         "domain": [
          0.625,
          1
         ]
        },
        "yaxis3": {
         "anchor": "x3",
         "domain": [
          0.625,
          1
         ]
        },
        "yaxis4": {
         "anchor": "x4",
         "domain": [
          0,
          0.375
         ]
        },
        "yaxis5": {
         "anchor": "x5",
         "domain": [
          0,
          0.375
         ]
        },
        "yaxis6": {
         "anchor": "x6",
         "domain": [
          0,
          0.375
         ]
        }
       }
      }
     },
     "metadata": {},
     "output_type": "display_data"
    }
   ],
   "source": [
    "fig = make_subplots(rows=2, cols=3, subplot_titles=(\"AP@2\", \"AP@3\", \"AP@5\", \"AP@10\", \"AP@15\"))\n",
    "\n",
    "fig.add_trace(go.Histogram(x=AP_songs[0]), row=1, col=1)\n",
    "fig.add_trace(go.Histogram(x=AP_songs[1]), row=1, col=2)\n",
    "fig.add_trace(go.Histogram(x=AP_songs[2]), row=1, col=3)\n",
    "fig.add_trace(go.Histogram(x=AP_songs[3]), row=2, col=1)\n",
    "fig.add_trace(go.Histogram(x=AP_songs[4]), row=2, col=2)\n",
    "\n",
    "fig.update_layout(height=500, \n",
    "                  width=1000, \n",
    "                  showlegend=False,\n",
    "                  title_text=\"AP@N histograms\")\n",
    "\n",
    "fig.show()"
   ]
  },
  {
   "cell_type": "markdown",
   "metadata": {},
   "source": [
    "### Step 11: Compute mAP@N for each genre and for the whole dataset"
   ]
  },
  {
   "cell_type": "code",
   "execution_count": 13,
   "metadata": {},
   "outputs": [
    {
     "name": "stdout",
     "output_type": "stream",
     "text": [
      "Mean average precision for each genre: \n",
      "                          @3        @5       @10       @13       @15\n",
      "genre                                                               \n",
      "Folk,Dance          0.333333  0.400000  0.549537  0.549537  0.549537\n",
      "Inspirational,Mass  0.500000  0.500000  0.500000  0.576923  0.576923\n",
      "Mass,Inspirational  0.500000  0.500000  0.500000  0.500000  0.500000\n",
      "Melody              0.833333  0.600000  0.469246  0.528277  0.607715\n",
      "Romantic,Folk       0.666667  0.710000  0.659206  0.629190  0.651013\n",
      "Romantic,Melody     0.962963  0.853333  0.739175  0.705015  0.711330\n",
      "Romantic,Sad        1.000000  0.880000  0.654167  0.583692  0.614279\n",
      "Romantic,Upbeat     0.833333  0.655000  0.527321  0.477445  0.536879\n",
      "Mean average precision for entire dataset: \n",
      "          mAP\n",
      "@3   0.816667\n",
      "@5   0.723000\n",
      "@10  0.635616\n",
      "@13  0.616457\n",
      "@15  0.637336\n"
     ]
    },
    {
     "data": {
      "application/vnd.plotly.v1+json": {
       "config": {
        "plotlyServerURL": "https://plot.ly"
       },
       "data": [
        {
         "mode": "lines+markers",
         "name": "Romantic,Melody",
         "type": "scatter",
         "x": [
          3,
          5,
          10,
          13,
          15
         ],
         "y": [
          0.9629629629629629,
          0.8533333333333333,
          0.7391754850088184,
          0.7050149518098237,
          0.7113304185526409
         ]
        },
        {
         "mode": "lines+markers",
         "name": "Romantic,Sad",
         "type": "scatter",
         "x": [
          3,
          5,
          10,
          13,
          15
         ],
         "y": [
          1,
          0.88,
          0.6541666666666668,
          0.5836919490765644,
          0.6142785785642928
         ]
        },
        {
         "mode": "lines+markers",
         "name": "Romantic,Upbeat",
         "type": "scatter",
         "x": [
          3,
          5,
          10,
          13,
          15
         ],
         "y": [
          0.8333333333333333,
          0.655,
          0.5273214285714286,
          0.4774446707139015,
          0.5368788949146093
         ]
        },
        {
         "mode": "lines+markers",
         "name": "Romantic,Folk",
         "type": "scatter",
         "x": [
          3,
          5,
          10,
          13,
          15
         ],
         "y": [
          0.6666666666666666,
          0.71,
          0.6592063492063492,
          0.6291904676520061,
          0.6510126910126911
         ]
        },
        {
         "mode": "lines+markers",
         "name": "Mass,Inspirational",
         "type": "scatter",
         "x": [
          3,
          5,
          10,
          13,
          15
         ],
         "y": [
          0.5,
          0.5,
          0.5,
          0.5,
          0.5
         ]
        },
        {
         "mode": "lines+markers",
         "name": "Melody",
         "type": "scatter",
         "x": [
          3,
          5,
          10,
          13,
          15
         ],
         "y": [
          0.8333333333333333,
          0.6000000000000001,
          0.46924603174603174,
          0.5282772782772783,
          0.6077145077145076
         ]
        },
        {
         "mode": "lines+markers",
         "name": "Folk,Dance",
         "type": "scatter",
         "x": [
          3,
          5,
          10,
          13,
          15
         ],
         "y": [
          0.3333333333333333,
          0.39999999999999997,
          0.5495370370370369,
          0.5495370370370369,
          0.5495370370370369
         ]
        },
        {
         "mode": "lines+markers",
         "name": "Inspirational,Mass",
         "type": "scatter",
         "x": [
          3,
          5,
          10,
          13,
          15
         ],
         "y": [
          0.5,
          0.5,
          0.5,
          0.5769230769230769,
          0.5769230769230769
         ]
        },
        {
         "line": {
          "dash": "dash",
          "width": 4
         },
         "mode": "lines+markers",
         "name": "mean",
         "type": "scatter",
         "x": [
          3,
          5,
          10,
          13,
          15
         ],
         "y": [
          0.8166666666666667,
          0.723,
          0.6356164021164021,
          0.6164574990536529,
          0.6373363785685214
         ]
        }
       ],
       "layout": {
        "template": {
         "data": {
          "bar": [
           {
            "error_x": {
             "color": "#2a3f5f"
            },
            "error_y": {
             "color": "#2a3f5f"
            },
            "marker": {
             "line": {
              "color": "#E5ECF6",
              "width": 0.5
             },
             "pattern": {
              "fillmode": "overlay",
              "size": 10,
              "solidity": 0.2
             }
            },
            "type": "bar"
           }
          ],
          "barpolar": [
           {
            "marker": {
             "line": {
              "color": "#E5ECF6",
              "width": 0.5
             },
             "pattern": {
              "fillmode": "overlay",
              "size": 10,
              "solidity": 0.2
             }
            },
            "type": "barpolar"
           }
          ],
          "carpet": [
           {
            "aaxis": {
             "endlinecolor": "#2a3f5f",
             "gridcolor": "white",
             "linecolor": "white",
             "minorgridcolor": "white",
             "startlinecolor": "#2a3f5f"
            },
            "baxis": {
             "endlinecolor": "#2a3f5f",
             "gridcolor": "white",
             "linecolor": "white",
             "minorgridcolor": "white",
             "startlinecolor": "#2a3f5f"
            },
            "type": "carpet"
           }
          ],
          "choropleth": [
           {
            "colorbar": {
             "outlinewidth": 0,
             "ticks": ""
            },
            "type": "choropleth"
           }
          ],
          "contour": [
           {
            "colorbar": {
             "outlinewidth": 0,
             "ticks": ""
            },
            "colorscale": [
             [
              0,
              "#0d0887"
             ],
             [
              0.1111111111111111,
              "#46039f"
             ],
             [
              0.2222222222222222,
              "#7201a8"
             ],
             [
              0.3333333333333333,
              "#9c179e"
             ],
             [
              0.4444444444444444,
              "#bd3786"
             ],
             [
              0.5555555555555556,
              "#d8576b"
             ],
             [
              0.6666666666666666,
              "#ed7953"
             ],
             [
              0.7777777777777778,
              "#fb9f3a"
             ],
             [
              0.8888888888888888,
              "#fdca26"
             ],
             [
              1,
              "#f0f921"
             ]
            ],
            "type": "contour"
           }
          ],
          "contourcarpet": [
           {
            "colorbar": {
             "outlinewidth": 0,
             "ticks": ""
            },
            "type": "contourcarpet"
           }
          ],
          "heatmap": [
           {
            "colorbar": {
             "outlinewidth": 0,
             "ticks": ""
            },
            "colorscale": [
             [
              0,
              "#0d0887"
             ],
             [
              0.1111111111111111,
              "#46039f"
             ],
             [
              0.2222222222222222,
              "#7201a8"
             ],
             [
              0.3333333333333333,
              "#9c179e"
             ],
             [
              0.4444444444444444,
              "#bd3786"
             ],
             [
              0.5555555555555556,
              "#d8576b"
             ],
             [
              0.6666666666666666,
              "#ed7953"
             ],
             [
              0.7777777777777778,
              "#fb9f3a"
             ],
             [
              0.8888888888888888,
              "#fdca26"
             ],
             [
              1,
              "#f0f921"
             ]
            ],
            "type": "heatmap"
           }
          ],
          "heatmapgl": [
           {
            "colorbar": {
             "outlinewidth": 0,
             "ticks": ""
            },
            "colorscale": [
             [
              0,
              "#0d0887"
             ],
             [
              0.1111111111111111,
              "#46039f"
             ],
             [
              0.2222222222222222,
              "#7201a8"
             ],
             [
              0.3333333333333333,
              "#9c179e"
             ],
             [
              0.4444444444444444,
              "#bd3786"
             ],
             [
              0.5555555555555556,
              "#d8576b"
             ],
             [
              0.6666666666666666,
              "#ed7953"
             ],
             [
              0.7777777777777778,
              "#fb9f3a"
             ],
             [
              0.8888888888888888,
              "#fdca26"
             ],
             [
              1,
              "#f0f921"
             ]
            ],
            "type": "heatmapgl"
           }
          ],
          "histogram": [
           {
            "marker": {
             "pattern": {
              "fillmode": "overlay",
              "size": 10,
              "solidity": 0.2
             }
            },
            "type": "histogram"
           }
          ],
          "histogram2d": [
           {
            "colorbar": {
             "outlinewidth": 0,
             "ticks": ""
            },
            "colorscale": [
             [
              0,
              "#0d0887"
             ],
             [
              0.1111111111111111,
              "#46039f"
             ],
             [
              0.2222222222222222,
              "#7201a8"
             ],
             [
              0.3333333333333333,
              "#9c179e"
             ],
             [
              0.4444444444444444,
              "#bd3786"
             ],
             [
              0.5555555555555556,
              "#d8576b"
             ],
             [
              0.6666666666666666,
              "#ed7953"
             ],
             [
              0.7777777777777778,
              "#fb9f3a"
             ],
             [
              0.8888888888888888,
              "#fdca26"
             ],
             [
              1,
              "#f0f921"
             ]
            ],
            "type": "histogram2d"
           }
          ],
          "histogram2dcontour": [
           {
            "colorbar": {
             "outlinewidth": 0,
             "ticks": ""
            },
            "colorscale": [
             [
              0,
              "#0d0887"
             ],
             [
              0.1111111111111111,
              "#46039f"
             ],
             [
              0.2222222222222222,
              "#7201a8"
             ],
             [
              0.3333333333333333,
              "#9c179e"
             ],
             [
              0.4444444444444444,
              "#bd3786"
             ],
             [
              0.5555555555555556,
              "#d8576b"
             ],
             [
              0.6666666666666666,
              "#ed7953"
             ],
             [
              0.7777777777777778,
              "#fb9f3a"
             ],
             [
              0.8888888888888888,
              "#fdca26"
             ],
             [
              1,
              "#f0f921"
             ]
            ],
            "type": "histogram2dcontour"
           }
          ],
          "mesh3d": [
           {
            "colorbar": {
             "outlinewidth": 0,
             "ticks": ""
            },
            "type": "mesh3d"
           }
          ],
          "parcoords": [
           {
            "line": {
             "colorbar": {
              "outlinewidth": 0,
              "ticks": ""
             }
            },
            "type": "parcoords"
           }
          ],
          "pie": [
           {
            "automargin": true,
            "type": "pie"
           }
          ],
          "scatter": [
           {
            "fillpattern": {
             "fillmode": "overlay",
             "size": 10,
             "solidity": 0.2
            },
            "type": "scatter"
           }
          ],
          "scatter3d": [
           {
            "line": {
             "colorbar": {
              "outlinewidth": 0,
              "ticks": ""
             }
            },
            "marker": {
             "colorbar": {
              "outlinewidth": 0,
              "ticks": ""
             }
            },
            "type": "scatter3d"
           }
          ],
          "scattercarpet": [
           {
            "marker": {
             "colorbar": {
              "outlinewidth": 0,
              "ticks": ""
             }
            },
            "type": "scattercarpet"
           }
          ],
          "scattergeo": [
           {
            "marker": {
             "colorbar": {
              "outlinewidth": 0,
              "ticks": ""
             }
            },
            "type": "scattergeo"
           }
          ],
          "scattergl": [
           {
            "marker": {
             "colorbar": {
              "outlinewidth": 0,
              "ticks": ""
             }
            },
            "type": "scattergl"
           }
          ],
          "scattermapbox": [
           {
            "marker": {
             "colorbar": {
              "outlinewidth": 0,
              "ticks": ""
             }
            },
            "type": "scattermapbox"
           }
          ],
          "scatterpolar": [
           {
            "marker": {
             "colorbar": {
              "outlinewidth": 0,
              "ticks": ""
             }
            },
            "type": "scatterpolar"
           }
          ],
          "scatterpolargl": [
           {
            "marker": {
             "colorbar": {
              "outlinewidth": 0,
              "ticks": ""
             }
            },
            "type": "scatterpolargl"
           }
          ],
          "scatterternary": [
           {
            "marker": {
             "colorbar": {
              "outlinewidth": 0,
              "ticks": ""
             }
            },
            "type": "scatterternary"
           }
          ],
          "surface": [
           {
            "colorbar": {
             "outlinewidth": 0,
             "ticks": ""
            },
            "colorscale": [
             [
              0,
              "#0d0887"
             ],
             [
              0.1111111111111111,
              "#46039f"
             ],
             [
              0.2222222222222222,
              "#7201a8"
             ],
             [
              0.3333333333333333,
              "#9c179e"
             ],
             [
              0.4444444444444444,
              "#bd3786"
             ],
             [
              0.5555555555555556,
              "#d8576b"
             ],
             [
              0.6666666666666666,
              "#ed7953"
             ],
             [
              0.7777777777777778,
              "#fb9f3a"
             ],
             [
              0.8888888888888888,
              "#fdca26"
             ],
             [
              1,
              "#f0f921"
             ]
            ],
            "type": "surface"
           }
          ],
          "table": [
           {
            "cells": {
             "fill": {
              "color": "#EBF0F8"
             },
             "line": {
              "color": "white"
             }
            },
            "header": {
             "fill": {
              "color": "#C8D4E3"
             },
             "line": {
              "color": "white"
             }
            },
            "type": "table"
           }
          ]
         },
         "layout": {
          "annotationdefaults": {
           "arrowcolor": "#2a3f5f",
           "arrowhead": 0,
           "arrowwidth": 1
          },
          "autotypenumbers": "strict",
          "coloraxis": {
           "colorbar": {
            "outlinewidth": 0,
            "ticks": ""
           }
          },
          "colorscale": {
           "diverging": [
            [
             0,
             "#8e0152"
            ],
            [
             0.1,
             "#c51b7d"
            ],
            [
             0.2,
             "#de77ae"
            ],
            [
             0.3,
             "#f1b6da"
            ],
            [
             0.4,
             "#fde0ef"
            ],
            [
             0.5,
             "#f7f7f7"
            ],
            [
             0.6,
             "#e6f5d0"
            ],
            [
             0.7,
             "#b8e186"
            ],
            [
             0.8,
             "#7fbc41"
            ],
            [
             0.9,
             "#4d9221"
            ],
            [
             1,
             "#276419"
            ]
           ],
           "sequential": [
            [
             0,
             "#0d0887"
            ],
            [
             0.1111111111111111,
             "#46039f"
            ],
            [
             0.2222222222222222,
             "#7201a8"
            ],
            [
             0.3333333333333333,
             "#9c179e"
            ],
            [
             0.4444444444444444,
             "#bd3786"
            ],
            [
             0.5555555555555556,
             "#d8576b"
            ],
            [
             0.6666666666666666,
             "#ed7953"
            ],
            [
             0.7777777777777778,
             "#fb9f3a"
            ],
            [
             0.8888888888888888,
             "#fdca26"
            ],
            [
             1,
             "#f0f921"
            ]
           ],
           "sequentialminus": [
            [
             0,
             "#0d0887"
            ],
            [
             0.1111111111111111,
             "#46039f"
            ],
            [
             0.2222222222222222,
             "#7201a8"
            ],
            [
             0.3333333333333333,
             "#9c179e"
            ],
            [
             0.4444444444444444,
             "#bd3786"
            ],
            [
             0.5555555555555556,
             "#d8576b"
            ],
            [
             0.6666666666666666,
             "#ed7953"
            ],
            [
             0.7777777777777778,
             "#fb9f3a"
            ],
            [
             0.8888888888888888,
             "#fdca26"
            ],
            [
             1,
             "#f0f921"
            ]
           ]
          },
          "colorway": [
           "#636efa",
           "#EF553B",
           "#00cc96",
           "#ab63fa",
           "#FFA15A",
           "#19d3f3",
           "#FF6692",
           "#B6E880",
           "#FF97FF",
           "#FECB52"
          ],
          "font": {
           "color": "#2a3f5f"
          },
          "geo": {
           "bgcolor": "white",
           "lakecolor": "white",
           "landcolor": "#E5ECF6",
           "showlakes": true,
           "showland": true,
           "subunitcolor": "white"
          },
          "hoverlabel": {
           "align": "left"
          },
          "hovermode": "closest",
          "mapbox": {
           "style": "light"
          },
          "paper_bgcolor": "white",
          "plot_bgcolor": "#E5ECF6",
          "polar": {
           "angularaxis": {
            "gridcolor": "white",
            "linecolor": "white",
            "ticks": ""
           },
           "bgcolor": "#E5ECF6",
           "radialaxis": {
            "gridcolor": "white",
            "linecolor": "white",
            "ticks": ""
           }
          },
          "scene": {
           "xaxis": {
            "backgroundcolor": "#E5ECF6",
            "gridcolor": "white",
            "gridwidth": 2,
            "linecolor": "white",
            "showbackground": true,
            "ticks": "",
            "zerolinecolor": "white"
           },
           "yaxis": {
            "backgroundcolor": "#E5ECF6",
            "gridcolor": "white",
            "gridwidth": 2,
            "linecolor": "white",
            "showbackground": true,
            "ticks": "",
            "zerolinecolor": "white"
           },
           "zaxis": {
            "backgroundcolor": "#E5ECF6",
            "gridcolor": "white",
            "gridwidth": 2,
            "linecolor": "white",
            "showbackground": true,
            "ticks": "",
            "zerolinecolor": "white"
           }
          },
          "shapedefaults": {
           "line": {
            "color": "#2a3f5f"
           }
          },
          "ternary": {
           "aaxis": {
            "gridcolor": "white",
            "linecolor": "white",
            "ticks": ""
           },
           "baxis": {
            "gridcolor": "white",
            "linecolor": "white",
            "ticks": ""
           },
           "bgcolor": "#E5ECF6",
           "caxis": {
            "gridcolor": "white",
            "linecolor": "white",
            "ticks": ""
           }
          },
          "title": {
           "x": 0.05
          },
          "xaxis": {
           "automargin": true,
           "gridcolor": "white",
           "linecolor": "white",
           "ticks": "",
           "title": {
            "standoff": 15
           },
           "zerolinecolor": "white",
           "zerolinewidth": 2
          },
          "yaxis": {
           "automargin": true,
           "gridcolor": "white",
           "linecolor": "white",
           "ticks": "",
           "title": {
            "standoff": 15
           },
           "zerolinecolor": "white",
           "zerolinewidth": 2
          }
         }
        },
        "title": {
         "text": "MAP@N by genre"
        },
        "xaxis": {
         "title": {
          "text": "N"
         }
        },
        "yaxis": {
         "title": {
          "text": "MAP@N"
         }
        }
       }
      }
     },
     "metadata": {},
     "output_type": "display_data"
    }
   ],
   "source": [
    "numeric_columns = [f'@{N}' for N in N_range]\n",
    "\n",
    "mAP_by_genre = df.groupby('genre')[numeric_columns].mean()\n",
    "mAP_dataset = df[numeric_columns].mean().to_frame().rename(columns={0: 'mAP'})\n",
    "\n",
    "print('Mean average precision for each genre: ')\n",
    "print(mAP_by_genre)\n",
    "print('Mean average precision for entire dataset: ')\n",
    "print(mAP_dataset)\n",
    "\n",
    "fig = go.Figure()\n",
    "for genre in df['genre'].unique():\n",
    "    fig.add_trace(go.Scatter(y=mAP_by_genre.loc[genre], x=N_range, mode='lines+markers', name=genre))\n",
    "fig.add_trace(go.Scatter(y=mAP_dataset['mAP'], x=N_range, mode='lines+markers', name='mean', line=dict(width=4, dash='dash')))\n",
    "\n",
    "fig.update_layout(title='MAP@N by genre', xaxis_title='N', yaxis_title='MAP@N')\n",
    "fig.show()"
   ]
  }
 ],
 "metadata": {
  "kernelspec": {
   "display_name": ".venv",
   "language": "python",
   "name": "python3"
  },
  "language_info": {
   "codemirror_mode": {
    "name": "ipython",
    "version": 3
   },
   "file_extension": ".py",
   "mimetype": "text/x-python",
   "name": "python",
   "nbconvert_exporter": "python",
   "pygments_lexer": "ipython3",
   "version": "3.10.12"
  }
 },
 "nbformat": 4,
 "nbformat_minor": 2
}
