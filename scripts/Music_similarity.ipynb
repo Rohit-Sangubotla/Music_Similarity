{
 "cells": [
  {
   "cell_type": "markdown",
   "metadata": {},
   "source": [
    "# Music Similarity Detection\n",
    "In this notebook, we will detect similarity of music for a given dataset of songs. The dataset is 20 telugu songs in mp3 format. The MusiCNN model is used for evaluating similarity between the songs.\n",
    "Evaluation metrics such as average precision@10, MAP@10, and MAP@50 will be computed across the entire dataset."
   ]
  },
  {
   "cell_type": "markdown",
   "metadata": {},
   "source": [
    "### Step 1: Import necessary libraries"
   ]
  },
  {
   "cell_type": "code",
   "execution_count": 2,
   "metadata": {},
   "outputs": [
    {
     "name": "stderr",
     "output_type": "stream",
     "text": [
      "2024-06-20 23:45:51.425285: I tensorflow/core/util/port.cc:113] oneDNN custom operations are on. You may see slightly different numerical results due to floating-point round-off errors from different computation orders. To turn them off, set the environment variable `TF_ENABLE_ONEDNN_OPTS=0`.\n",
      "2024-06-20 23:45:51.463939: I tensorflow/core/platform/cpu_feature_guard.cc:210] This TensorFlow binary is optimized to use available CPU instructions in performance-critical operations.\n",
      "To enable the following instructions: AVX2 AVX_VNNI FMA, in other operations, rebuild TensorFlow with the appropriate compiler flags.\n",
      "2024-06-20 23:45:52.042527: W tensorflow/compiler/tf2tensorrt/utils/py_utils.cc:38] TF-TRT Warning: Could not find TensorRT\n"
     ]
    }
   ],
   "source": [
    "import os\n",
    "import numpy as np\n",
    "import librosa\n",
    "import tensorflow as tf\n",
    "from sklearn.metrics.pairwise import cosine_similarity\n",
    "from sklearn.preprocessing import MultiLabelBinarizer\n",
    "import plotly.express as px\n",
    "import pandas as pd\n",
    "from plotly.subplots import make_subplots\n",
    "import plotly.graph_objects as go\n",
    "import json"
   ]
  },
  {
   "cell_type": "markdown",
   "metadata": {},
   "source": [
    "### Step 2: Download model and define paths"
   ]
  },
  {
   "cell_type": "markdown",
   "metadata": {},
   "source": [
    "Download the model and move to 'model' directory.\n",
    "This step is not necessary if the model has already been downloaded."
   ]
  },
  {
   "cell_type": "code",
   "execution_count": 2,
   "metadata": {},
   "outputs": [
    {
     "name": "stdout",
     "output_type": "stream",
     "text": [
      "  % Total    % Received % Xferd  Average Speed   Time    Time     Time  Current\n",
      "                                 Dload  Upload   Total   Spent    Left  Speed\n",
      "  0     0    0     0    0     0      0      0 --:--:-- --:--:-- --:--:--     0^C\n",
      "  % Total    % Received % Xferd  Average Speed   Time    Time     Time  Current\n",
      "                                 Dload  Upload   Total   Spent    Left  Speed\n",
      " 39 3166k   39 1237k    0     0   106k      0  0:00:29  0:00:11  0:00:18  111k"
     ]
    }
   ],
   "source": [
    "!curl -SLO https://essentia.upf.edu/models/classifiers/genre_tzanetakis/genre_tzanetakis-musicnn-msd-1.json\n",
    "!curl -SLO https://essentia.upf.edu/models/classifiers/genre_tzanetakis/genre_tzanetakis-musicnn-msd-1.pb"
   ]
  },
  {
   "cell_type": "code",
   "execution_count": 3,
   "metadata": {},
   "outputs": [],
   "source": [
    "MUSICNN_SR = 16000\n",
    "DATASET_DIR = '../dataset/mp3'"
   ]
  },
  {
   "cell_type": "code",
   "execution_count": 4,
   "metadata": {},
   "outputs": [
    {
     "name": "stdout",
     "output_type": "stream",
     "text": [
      "name: genre GTZAN\n",
      "type: multi-class classifier\n",
      "link: https://essentia.upf.edu/models/classifiers/genre_tzanetakis/genre_tzanetakis-musicnn-msd-1.pb\n",
      "version: 1\n",
      "description: classification of music by genre\n",
      "author: Pablo Alonso\n",
      "email: pablo.alonso@upf.edu\n",
      "release_date: 2020-03-31\n",
      "framework: tensorflow\n",
      "framework_version: 1.15.0\n",
      "classes: ['blu', 'cla', 'cou', 'dis', 'hip', 'jaz', 'met', 'pop', 'reg', 'roc']\n",
      "model_types: ['frozen_model']\n",
      "dataset: {'name': 'the GTZAN Genre Collection', 'citation': '@article{tzanetakis2002musical,\\n  title={Musical genre classification of audio signals},\\n  author={Tzanetakis, George and Cook, Perry},\\n  journal={IEEE Transactions on speech and audio processing},\\n  volume={10},\\n  number={5},\\n  pages={293--302},\\n  year={2002},\\n  publisher={IEEE}\\n}', 'size': '1000 track excerpts, 100 per genre', 'metrics': {'5-fold_cross_validation_normalized_accuracy': 0.83}}\n",
      "schema: {'inputs': [{'name': 'model/Placeholder', 'type': 'float', 'shape': [187, 96]}], 'outputs': [{'name': 'model/Sigmoid', 'type': 'float', 'shape': [1, 10], 'op': 'Sigmoid', 'output_purpose': 'predictions'}, {'name': 'model/dense_2/BiasAdd', 'type': 'float', 'shape': [1, 10], 'op': 'fully connected', 'description': 'logits', 'output_purpose': ''}, {'name': 'model/dense_1/BiasAdd', 'type': 'float', 'shape': [1, 100], 'op': 'fully connected', 'description': 'penultimate layer', 'output_purpose': ''}, {'name': 'model/dense/BiasAdd', 'type': 'float', 'shape': [1, 200], 'op': 'fully connected', 'output_purpose': 'embeddings'}]}\n",
      "citation: @inproceedings{alonso2020tensorflow,\n",
      "  title={Tensorflow Audio Models in Essentia},\n",
      "  author={Alonso-Jim{\\'e}nez, Pablo and Bogdanov, Dmitry and Pons, Jordi and Serra, Xavier},\n",
      "  booktitle={IEEE International Conference on Acoustics, Speech and Signal Processing (ICASSP)},\n",
      "  year={2020}\n",
      "}\n",
      "inference: {'sample_rate': 16000, 'algorithm': 'TensorflowPredictMusiCNN'}\n"
     ]
    }
   ],
   "source": [
    "MODEL_NAME = '../model/genre_tzanetakis-musicnn-msd-1'\n",
    "MODEL_JSON = f'{MODEL_NAME}.json'\n",
    "MODEL_PB = f'{MODEL_NAME}.pb'\n",
    "\n",
    "musicnn_metadata = json.load(open(MODEL_JSON, 'r'))\n",
    "for k, v in musicnn_metadata.items():\n",
    "    print('{}: {}'.format(k , v))"
   ]
  },
  {
   "cell_type": "markdown",
   "metadata": {},
   "source": [
    "We can observe the output of the penultimate dense layer is proposed as embeddings. \n",
    "We will use it to extract songs embeddings from our dataset."
   ]
  },
  {
   "cell_type": "markdown",
   "metadata": {},
   "source": [
    "### Step 3: Define genres for each song"
   ]
  },
  {
   "cell_type": "code",
   "execution_count": 5,
   "metadata": {},
   "outputs": [],
   "source": [
    "genres = [\n",
    "    ['Romantic', 'Melody'], # Allantha Doorala 0\n",
    "    ['Romantic', 'Melody'], # Pranavalaya 1\n",
    "    ['Romantic', 'Sad'], # Adiga Adiga 2\n",
    "    ['Romantic', 'Upbeat'], # Guruvaram 3\n",
    "    ['Romantic', 'Folk'],   # Ghal Ghal 4\n",
    "    ['Romantic', 'Melody'], # Ninnila 5\n",
    "    ['Mass', 'Inspirational'], # Hukum 6\n",
    "    ['Melody'], # Chinnari Thalli 7\n",
    "    ['Romantic', 'Melody'], # O Cheliya 8\n",
    "    ['Folk', 'Dance'],      # Naatu Naatu 9 \n",
    "    ['Folk', 'Dance'],      # Kurchi Madathapetti 10\n",
    "    ['Romantic', 'Upbeat'], # Urike Urike 11\n",
    "    ['Inspirational', 'Mass'], # Saahore Baahubali 12\n",
    "    ['Romantic', 'Melody'], # Nenani Neevani 13\n",
    "    ['Romantic', 'Melody'], # Manasavacha 14\n",
    "    ['Romantic', 'Melody'],       # Ammaadi 15\n",
    "    ['Romantic', 'Melody'], # Dheera Dheera 16\n",
    "    ['Melody'], # Pedave Palikina 17 \n",
    "    ['Romantic', 'Sad'],   # Oosupodu 18\n",
    "    ['Romantic', 'Melody'] # Sirivennela 19\n",
    "]"
   ]
  },
  {
   "cell_type": "markdown",
   "metadata": {},
   "source": [
    "### Step 4: Encode genres"
   ]
  },
  {
   "cell_type": "code",
   "execution_count": 6,
   "metadata": {},
   "outputs": [],
   "source": [
    "mlb = MultiLabelBinarizer()\n",
    "genre_labels = mlb.fit_transform(genres)"
   ]
  },
  {
   "cell_type": "markdown",
   "metadata": {},
   "source": [
    "### Step 5: Functions for loading and processing audio"
   ]
  },
  {
   "cell_type": "code",
   "execution_count": 7,
   "metadata": {},
   "outputs": [],
   "source": [
    "def load_model(pb_file_path):\n",
    "    with tf.io.gfile.GFile(pb_file_path, \"rb\") as f:\n",
    "        graph_def = tf.compat.v1.GraphDef()\n",
    "        graph_def.ParseFromString(f.read())\n",
    "    with tf.compat.v1.Graph().as_default() as graph:\n",
    "        tf.import_graph_def(graph_def, name=\"\")\n",
    "    return graph\n",
    "\n",
    "def preprocess_audio(file_path, sample_rate=MUSICNN_SR):\n",
    "    y, sr = librosa.load(file_path, sr=sample_rate)\n",
    "    mel_spec = librosa.feature.melspectrogram(y=y, sr=sr, n_mels=96, n_fft=2048, hop_length=512)\n",
    "    log_mel_spec = librosa.power_to_db(mel_spec, ref=np.max)\n",
    "    if log_mel_spec.shape[1] > 187:\n",
    "        log_mel_spec = log_mel_spec[:, :187]\n",
    "    else:\n",
    "        pad_width = 187 - log_mel_spec.shape[1]\n",
    "        log_mel_spec = np.pad(log_mel_spec, ((0, 0), (0, pad_width)), mode='constant')\n",
    "    return log_mel_spec.T[np.newaxis, :, :]\n",
    "\n",
    "def run_model(graph, input_data):\n",
    "    input_tensor = graph.get_tensor_by_name('model/Placeholder:0')\n",
    "    output_tensor = graph.get_tensor_by_name('model/dense/BiasAdd:0')\n",
    "    with tf.compat.v1.Session(graph=graph) as sess:\n",
    "        embeddings = sess.run(output_tensor, feed_dict={input_tensor: input_data})\n",
    "    return embeddings\n",
    "\n",
    "def extract_mean_embedding(filename):\n",
    "    audio_data = preprocess_audio(filename)\n",
    "    graph = load_model(MODEL_PB)\n",
    "    embeddings = run_model(graph, audio_data)\n",
    "    return embeddings\n",
    "\n",
    "def process_dataset(dataset_dir):\n",
    "    embeddings = []\n",
    "    for root, dirs, files in os.walk(dataset_dir):\n",
    "        for file in files:\n",
    "            if file.endswith('.mp3'):\n",
    "                file_path = os.path.join(root, file)\n",
    "                mean_embedding = extract_mean_embedding(file_path)\n",
    "                embeddings.append((file_path, mean_embedding))\n",
    "    return embeddings"
   ]
  },
  {
   "cell_type": "markdown",
   "metadata": {},
   "source": [
    "### Step 6: Process dataset and extract embeddings"
   ]
  },
  {
   "cell_type": "code",
   "execution_count": 8,
   "metadata": {},
   "outputs": [
    {
     "name": "stderr",
     "output_type": "stream",
     "text": [
      "2024-06-20 23:46:07.845000: I external/local_xla/xla/stream_executor/cuda/cuda_executor.cc:998] successful NUMA node read from SysFS had negative value (-1), but there must be at least one NUMA node, so returning NUMA node zero. See more at https://github.com/torvalds/linux/blob/v6.0/Documentation/ABI/testing/sysfs-bus-pci#L344-L355\n",
      "2024-06-20 23:46:07.898141: W tensorflow/core/common_runtime/gpu/gpu_device.cc:2251] Cannot dlopen some GPU libraries. Please make sure the missing libraries mentioned above are installed properly if you would like to use GPU. Follow the guide at https://www.tensorflow.org/install/gpu for how to download and setup the required libraries for your platform.\n",
      "Skipping registering GPU devices...\n",
      "2024-06-20 23:46:07.904834: I tensorflow/compiler/mlir/mlir_graph_optimization_pass.cc:388] MLIR V1 optimization pass is not enabled\n"
     ]
    },
    {
     "name": "stdout",
     "output_type": "stream",
     "text": [
      "File path: ../dataset/mp3/Allantha Doorala.mp3\n",
      "File path: ../dataset/mp3/Pranavalaya.mp3\n",
      "File path: ../dataset/mp3/Adiga Adiga.mp3\n",
      "File path: ../dataset/mp3/Guruvaram.mp3\n",
      "File path: ../dataset/mp3/Ghal Ghal Ghal Ghal.mp3\n",
      "File path: ../dataset/mp3/Ninnila.mp3\n",
      "File path: ../dataset/mp3/Hukum.mp3\n",
      "File path: ../dataset/mp3/Chinnari Thalli.mp3\n",
      "File path: ../dataset/mp3/O Cheliya.mp3\n",
      "File path: ../dataset/mp3/Nattu Nattu.mp3\n",
      "File path: ../dataset/mp3/Kurchi Madathapetti.mp3\n",
      "File path: ../dataset/mp3/Urike Urike.mp3\n",
      "File path: ../dataset/mp3/Saahore Baahubali.mp3\n",
      "File path: ../dataset/mp3/Nenani Neevani.mp3\n",
      "File path: ../dataset/mp3/Manasavacha.mp3\n",
      "File path: ../dataset/mp3/Ammaadi.mp3\n",
      "File path: ../dataset/mp3/Dheera Dheera Dheera.mp3\n",
      "File path: ../dataset/mp3/Pedave Palikina.mp3\n",
      "File path: ../dataset/mp3/Oosupodu.mp3\n",
      "File path: ../dataset/mp3/Sirivennela.mp3\n"
     ]
    }
   ],
   "source": [
    "file_embeddings = process_dataset(DATASET_DIR)\n",
    "embeddings = []\n",
    "for file_path, embedding in file_embeddings:\n",
    "    print(f'File path: {file_path}')\n",
    "    embeddings.append(embedding)\n",
    "\n",
    "embeddings = np.array(embeddings)\n",
    "embeddings_matrix = np.vstack([emb for emb in embeddings]) \n",
    "similarities = cosine_similarity(embeddings_matrix)"
   ]
  },
  {
   "cell_type": "code",
   "execution_count": 9,
   "metadata": {},
   "outputs": [
    {
     "name": "stdout",
     "output_type": "stream",
     "text": [
      "(20, 20)\n",
      "Min value: 0.649370014667511\n",
      "Max value: 1.0\n"
     ]
    },
    {
     "data": {
      "application/vnd.plotly.v1+json": {
       "config": {
        "plotlyServerURL": "https://plot.ly"
       },
       "data": [
        {
         "coloraxis": "coloraxis",
         "hovertemplate": "x: %{x}<br>y: %{y}<br>color: %{z}<extra></extra>",
         "name": "0",
         "type": "heatmap",
         "xaxis": "x",
         "yaxis": "y",
         "z": [
          [
           1,
           0.9551600217819214,
           0.7716599702835083,
           0.9917500019073486,
           0.857729971408844,
           0.9912700057029724,
           0.8731099963188171,
           0.6847900152206421,
           0.960349977016449,
           0.9124900102615356,
           0.97461998462677,
           0.9093599915504456,
           0.9272500276565552,
           0.7361699938774109,
           0.9770799875259399,
           0.8190199732780457,
           0.9810500144958496,
           0.9772700071334839,
           0.9292600154876709,
           0.8976500034332275
          ],
          [
           0.9551600217819214,
           1,
           0.9109500050544739,
           0.9608500003814697,
           0.9673699736595154,
           0.968970000743866,
           0.9729999899864197,
           0.8413599729537964,
           0.9349600076675415,
           0.9771199822425842,
           0.9512900114059448,
           0.9877300262451172,
           0.989329993724823,
           0.8828799724578857,
           0.964739978313446,
           0.9428499937057495,
           0.9746500253677368,
           0.9797599911689758,
           0.9958199858665466,
           0.9836099743843079
          ],
          [
           0.7716599702835083,
           0.9109500050544739,
           1,
           0.7730900049209595,
           0.9749000072479248,
           0.7970499992370605,
           0.9788200259208679,
           0.9847699999809265,
           0.7494800090789795,
           0.9380099773406982,
           0.799239993095398,
           0.9567000269889832,
           0.940339982509613,
           0.9957699775695801,
           0.7932199835777283,
           0.9950799942016602,
           0.8158900141716003,
           0.8291400074958801,
           0.9358599781990051,
           0.965969979763031
          ],
          [
           0.9917500019073486,
           0.9608500003814697,
           0.7730900049209595,
           1,
           0.8692100048065186,
           0.9934599995613098,
           0.8764200210571289,
           0.6773800253868103,
           0.9751999974250793,
           0.9146400094032288,
           0.9666299819946289,
           0.9174000024795532,
           0.9353899955749512,
           0.7354300022125244,
           0.9915599822998047,
           0.8219599723815918,
           0.9920300245285034,
           0.9905999898910522,
           0.9354000091552734,
           0.9020599722862244
          ],
          [
           0.857729971408844,
           0.9673699736595154,
           0.9749000072479248,
           0.8692100048065186,
           1,
           0.8842899799346924,
           0.9931300282478333,
           0.9302600026130676,
           0.851419985294342,
           0.9753400087356567,
           0.8754400014877319,
           0.9889000058174133,
           0.982729971408844,
           0.9584699869155884,
           0.8872100114822388,
           0.9870799779891968,
           0.8998500108718872,
           0.9133700132369995,
           0.9789000153541565,
           0.9914199709892273
          ],
          [
           0.9912700057029724,
           0.968970000743866,
           0.7970499992370605,
           0.9934599995613098,
           0.8842899799346924,
           1,
           0.8942599892616272,
           0.7069200277328491,
           0.9814500212669373,
           0.9387500286102295,
           0.9856100082397461,
           0.9275299906730652,
           0.9464799761772156,
           0.7598900198936462,
           0.9914000034332275,
           0.8422200083732605,
           0.9929900169372559,
           0.9899200201034546,
           0.9459099769592285,
           0.9155799746513367
          ],
          [
           0.8731099963188171,
           0.9729999899864197,
           0.9788200259208679,
           0.8764200210571289,
           0.9931300282478333,
           0.8942599892616272,
           1,
           0.9383400082588196,
           0.8501399755477905,
           0.9758099913597107,
           0.8860700130462646,
           0.9924499988555908,
           0.9828400015830994,
           0.9636099934577942,
           0.8886500000953674,
           0.9924499988555908,
           0.9067100286483765,
           0.9167100191116333,
           0.9858400225639343,
           0.9967300295829773
          ],
          [
           0.6847900152206421,
           0.8413599729537964,
           0.9847699999809265,
           0.6773800253868103,
           0.9302600026130676,
           0.7069200277328491,
           0.9383400082588196,
           1,
           0.649370014667511,
           0.8812999725341797,
           0.7167699933052063,
           0.900189995765686,
           0.8783100247383118,
           0.9930300116539001,
           0.6924899816513062,
           0.9689099788665771,
           0.720300018787384,
           0.7386199831962585,
           0.8728899955749512,
           0.9164100289344788
          ],
          [
           0.960349977016449,
           0.9349600076675415,
           0.7494800090789795,
           0.9751999974250793,
           0.851419985294342,
           0.9814500212669373,
           0.8501399755477905,
           0.649370014667511,
           1,
           0.9128199815750122,
           0.9763299822807312,
           0.8927599787712097,
           0.9188600182533264,
           0.7110499739646912,
           0.9872000217437744,
           0.7951099872589111,
           0.9789900183677673,
           0.9762099981307983,
           0.9080299735069275,
           0.8765900135040283
          ],
          [
           0.9124900102615356,
           0.9771199822425842,
           0.9380099773406982,
           0.9146400094032288,
           0.9753400087356567,
           0.9387500286102295,
           0.9758099913597107,
           0.8812999725341797,
           0.9128199815750122,
           1,
           0.9441900253295898,
           0.9796500205993652,
           0.9907400012016296,
           0.9141499996185303,
           0.932129979133606,
           0.9554700255393982,
           0.940339982509613,
           0.9451900124549866,
           0.975380003452301,
           0.9780700206756592
          ],
          [
           0.97461998462677,
           0.9512900114059448,
           0.799239993095398,
           0.9666299819946289,
           0.8754400014877319,
           0.9856100082397461,
           0.8860700130462646,
           0.7167699933052063,
           0.9763299822807312,
           0.9441900253295898,
           1,
           0.9143700003623962,
           0.9375100135803223,
           0.7648199796676636,
           0.9729899764060974,
           0.8370599746704102,
           0.9716100096702576,
           0.9662200212478638,
           0.928409993648529,
           0.906059980392456
          ],
          [
           0.9093599915504456,
           0.9877300262451172,
           0.9567000269889832,
           0.9174000024795532,
           0.9889000058174133,
           0.9275299906730652,
           0.9924499988555908,
           0.900189995765686,
           0.8927599787712097,
           0.9796500205993652,
           0.9143700003623962,
           1,
           0.9941400289535522,
           0.9377899765968323,
           0.9299700260162354,
           0.9763200283050537,
           0.9430299997329712,
           0.9525799751281738,
           0.9933900237083435,
           0.9982900023460388
          ],
          [
           0.9272500276565552,
           0.989329993724823,
           0.940339982509613,
           0.9353899955749512,
           0.982729971408844,
           0.9464799761772156,
           0.9828400015830994,
           0.8783100247383118,
           0.9188600182533264,
           0.9907400012016296,
           0.9375100135803223,
           0.9941400289535522,
           1,
           0.9179900288581848,
           0.9481800198554993,
           0.9615499973297119,
           0.9575300216674805,
           0.9643499851226807,
           0.9878399968147278,
           0.9898499846458435
          ],
          [
           0.7361699938774109,
           0.8828799724578857,
           0.9957699775695801,
           0.7354300022125244,
           0.9584699869155884,
           0.7598900198936462,
           0.9636099934577942,
           0.9930300116539001,
           0.7110499739646912,
           0.9141499996185303,
           0.7648199796676636,
           0.9377899765968323,
           0.9179900288581848,
           1,
           0.754859983921051,
           0.9858999848365784,
           0.7790600061416626,
           0.7966300249099731,
           0.9101700186729431,
           0.9490399956703186
          ],
          [
           0.9770799875259399,
           0.964739978313446,
           0.7932199835777283,
           0.9915599822998047,
           0.8872100114822388,
           0.9914000034332275,
           0.8886500000953674,
           0.6924899816513062,
           0.9872000217437744,
           0.932129979133606,
           0.9729899764060974,
           0.9299700260162354,
           0.9481800198554993,
           0.754859983921051,
           1,
           0.8371899724006653,
           0.9972000122070312,
           0.9945600032806396,
           0.9427800178527832,
           0.9139699935913086
          ],
          [
           0.8190199732780457,
           0.9428499937057495,
           0.9950799942016602,
           0.8219599723815918,
           0.9870799779891968,
           0.8422200083732605,
           0.9924499988555908,
           0.9689099788665771,
           0.7951099872589111,
           0.9554700255393982,
           0.8370599746704102,
           0.9763200283050537,
           0.9615499973297119,
           0.9858999848365784,
           0.8371899724006653,
           1,
           0.8590199947357178,
           0.870639979839325,
           0.9633200168609619,
           0.9835900068283081
          ],
          [
           0.9810500144958496,
           0.9746500253677368,
           0.8158900141716003,
           0.9920300245285034,
           0.8998500108718872,
           0.9929900169372559,
           0.9067100286483765,
           0.720300018787384,
           0.9789900183677673,
           0.940339982509613,
           0.9716100096702576,
           0.9430299997329712,
           0.9575300216674805,
           0.7790600061416626,
           0.9972000122070312,
           0.8590199947357178,
           1,
           0.9960200190544128,
           0.9564800262451172,
           0.9289000034332275
          ],
          [
           0.9772700071334839,
           0.9797599911689758,
           0.8291400074958801,
           0.9905999898910522,
           0.9133700132369995,
           0.9899200201034546,
           0.9167100191116333,
           0.7386199831962585,
           0.9762099981307983,
           0.9451900124549866,
           0.9662200212478638,
           0.9525799751281738,
           0.9643499851226807,
           0.7966300249099731,
           0.9945600032806396,
           0.870639979839325,
           0.9960200190544128,
           1,
           0.962119996547699,
           0.9389100074768066
          ],
          [
           0.9292600154876709,
           0.9958199858665466,
           0.9358599781990051,
           0.9354000091552734,
           0.9789000153541565,
           0.9459099769592285,
           0.9858400225639343,
           0.8728899955749512,
           0.9080299735069275,
           0.975380003452301,
           0.928409993648529,
           0.9933900237083435,
           0.9878399968147278,
           0.9101700186729431,
           0.9427800178527832,
           0.9633200168609619,
           0.9564800262451172,
           0.962119996547699,
           1,
           0.9922500252723694
          ],
          [
           0.8976500034332275,
           0.9836099743843079,
           0.965969979763031,
           0.9020599722862244,
           0.9914199709892273,
           0.9155799746513367,
           0.9967300295829773,
           0.9164100289344788,
           0.8765900135040283,
           0.9780700206756592,
           0.906059980392456,
           0.9982900023460388,
           0.9898499846458435,
           0.9490399956703186,
           0.9139699935913086,
           0.9835900068283081,
           0.9289000034332275,
           0.9389100074768066,
           0.9922500252723694,
           1
          ]
         ]
        }
       ],
       "layout": {
        "coloraxis": {
         "colorscale": [
          [
           0,
           "rgb(165,0,38)"
          ],
          [
           0.1,
           "rgb(215,48,39)"
          ],
          [
           0.2,
           "rgb(244,109,67)"
          ],
          [
           0.3,
           "rgb(253,174,97)"
          ],
          [
           0.4,
           "rgb(254,224,139)"
          ],
          [
           0.5,
           "rgb(255,255,191)"
          ],
          [
           0.6,
           "rgb(217,239,139)"
          ],
          [
           0.7,
           "rgb(166,217,106)"
          ],
          [
           0.8,
           "rgb(102,189,99)"
          ],
          [
           0.9,
           "rgb(26,152,80)"
          ],
          [
           1,
           "rgb(0,104,55)"
          ]
         ]
        },
        "margin": {
         "t": 60
        },
        "template": {
         "data": {
          "bar": [
           {
            "error_x": {
             "color": "#2a3f5f"
            },
            "error_y": {
             "color": "#2a3f5f"
            },
            "marker": {
             "line": {
              "color": "#E5ECF6",
              "width": 0.5
             },
             "pattern": {
              "fillmode": "overlay",
              "size": 10,
              "solidity": 0.2
             }
            },
            "type": "bar"
           }
          ],
          "barpolar": [
           {
            "marker": {
             "line": {
              "color": "#E5ECF6",
              "width": 0.5
             },
             "pattern": {
              "fillmode": "overlay",
              "size": 10,
              "solidity": 0.2
             }
            },
            "type": "barpolar"
           }
          ],
          "carpet": [
           {
            "aaxis": {
             "endlinecolor": "#2a3f5f",
             "gridcolor": "white",
             "linecolor": "white",
             "minorgridcolor": "white",
             "startlinecolor": "#2a3f5f"
            },
            "baxis": {
             "endlinecolor": "#2a3f5f",
             "gridcolor": "white",
             "linecolor": "white",
             "minorgridcolor": "white",
             "startlinecolor": "#2a3f5f"
            },
            "type": "carpet"
           }
          ],
          "choropleth": [
           {
            "colorbar": {
             "outlinewidth": 0,
             "ticks": ""
            },
            "type": "choropleth"
           }
          ],
          "contour": [
           {
            "colorbar": {
             "outlinewidth": 0,
             "ticks": ""
            },
            "colorscale": [
             [
              0,
              "#0d0887"
             ],
             [
              0.1111111111111111,
              "#46039f"
             ],
             [
              0.2222222222222222,
              "#7201a8"
             ],
             [
              0.3333333333333333,
              "#9c179e"
             ],
             [
              0.4444444444444444,
              "#bd3786"
             ],
             [
              0.5555555555555556,
              "#d8576b"
             ],
             [
              0.6666666666666666,
              "#ed7953"
             ],
             [
              0.7777777777777778,
              "#fb9f3a"
             ],
             [
              0.8888888888888888,
              "#fdca26"
             ],
             [
              1,
              "#f0f921"
             ]
            ],
            "type": "contour"
           }
          ],
          "contourcarpet": [
           {
            "colorbar": {
             "outlinewidth": 0,
             "ticks": ""
            },
            "type": "contourcarpet"
           }
          ],
          "heatmap": [
           {
            "colorbar": {
             "outlinewidth": 0,
             "ticks": ""
            },
            "colorscale": [
             [
              0,
              "#0d0887"
             ],
             [
              0.1111111111111111,
              "#46039f"
             ],
             [
              0.2222222222222222,
              "#7201a8"
             ],
             [
              0.3333333333333333,
              "#9c179e"
             ],
             [
              0.4444444444444444,
              "#bd3786"
             ],
             [
              0.5555555555555556,
              "#d8576b"
             ],
             [
              0.6666666666666666,
              "#ed7953"
             ],
             [
              0.7777777777777778,
              "#fb9f3a"
             ],
             [
              0.8888888888888888,
              "#fdca26"
             ],
             [
              1,
              "#f0f921"
             ]
            ],
            "type": "heatmap"
           }
          ],
          "heatmapgl": [
           {
            "colorbar": {
             "outlinewidth": 0,
             "ticks": ""
            },
            "colorscale": [
             [
              0,
              "#0d0887"
             ],
             [
              0.1111111111111111,
              "#46039f"
             ],
             [
              0.2222222222222222,
              "#7201a8"
             ],
             [
              0.3333333333333333,
              "#9c179e"
             ],
             [
              0.4444444444444444,
              "#bd3786"
             ],
             [
              0.5555555555555556,
              "#d8576b"
             ],
             [
              0.6666666666666666,
              "#ed7953"
             ],
             [
              0.7777777777777778,
              "#fb9f3a"
             ],
             [
              0.8888888888888888,
              "#fdca26"
             ],
             [
              1,
              "#f0f921"
             ]
            ],
            "type": "heatmapgl"
           }
          ],
          "histogram": [
           {
            "marker": {
             "pattern": {
              "fillmode": "overlay",
              "size": 10,
              "solidity": 0.2
             }
            },
            "type": "histogram"
           }
          ],
          "histogram2d": [
           {
            "colorbar": {
             "outlinewidth": 0,
             "ticks": ""
            },
            "colorscale": [
             [
              0,
              "#0d0887"
             ],
             [
              0.1111111111111111,
              "#46039f"
             ],
             [
              0.2222222222222222,
              "#7201a8"
             ],
             [
              0.3333333333333333,
              "#9c179e"
             ],
             [
              0.4444444444444444,
              "#bd3786"
             ],
             [
              0.5555555555555556,
              "#d8576b"
             ],
             [
              0.6666666666666666,
              "#ed7953"
             ],
             [
              0.7777777777777778,
              "#fb9f3a"
             ],
             [
              0.8888888888888888,
              "#fdca26"
             ],
             [
              1,
              "#f0f921"
             ]
            ],
            "type": "histogram2d"
           }
          ],
          "histogram2dcontour": [
           {
            "colorbar": {
             "outlinewidth": 0,
             "ticks": ""
            },
            "colorscale": [
             [
              0,
              "#0d0887"
             ],
             [
              0.1111111111111111,
              "#46039f"
             ],
             [
              0.2222222222222222,
              "#7201a8"
             ],
             [
              0.3333333333333333,
              "#9c179e"
             ],
             [
              0.4444444444444444,
              "#bd3786"
             ],
             [
              0.5555555555555556,
              "#d8576b"
             ],
             [
              0.6666666666666666,
              "#ed7953"
             ],
             [
              0.7777777777777778,
              "#fb9f3a"
             ],
             [
              0.8888888888888888,
              "#fdca26"
             ],
             [
              1,
              "#f0f921"
             ]
            ],
            "type": "histogram2dcontour"
           }
          ],
          "mesh3d": [
           {
            "colorbar": {
             "outlinewidth": 0,
             "ticks": ""
            },
            "type": "mesh3d"
           }
          ],
          "parcoords": [
           {
            "line": {
             "colorbar": {
              "outlinewidth": 0,
              "ticks": ""
             }
            },
            "type": "parcoords"
           }
          ],
          "pie": [
           {
            "automargin": true,
            "type": "pie"
           }
          ],
          "scatter": [
           {
            "fillpattern": {
             "fillmode": "overlay",
             "size": 10,
             "solidity": 0.2
            },
            "type": "scatter"
           }
          ],
          "scatter3d": [
           {
            "line": {
             "colorbar": {
              "outlinewidth": 0,
              "ticks": ""
             }
            },
            "marker": {
             "colorbar": {
              "outlinewidth": 0,
              "ticks": ""
             }
            },
            "type": "scatter3d"
           }
          ],
          "scattercarpet": [
           {
            "marker": {
             "colorbar": {
              "outlinewidth": 0,
              "ticks": ""
             }
            },
            "type": "scattercarpet"
           }
          ],
          "scattergeo": [
           {
            "marker": {
             "colorbar": {
              "outlinewidth": 0,
              "ticks": ""
             }
            },
            "type": "scattergeo"
           }
          ],
          "scattergl": [
           {
            "marker": {
             "colorbar": {
              "outlinewidth": 0,
              "ticks": ""
             }
            },
            "type": "scattergl"
           }
          ],
          "scattermapbox": [
           {
            "marker": {
             "colorbar": {
              "outlinewidth": 0,
              "ticks": ""
             }
            },
            "type": "scattermapbox"
           }
          ],
          "scatterpolar": [
           {
            "marker": {
             "colorbar": {
              "outlinewidth": 0,
              "ticks": ""
             }
            },
            "type": "scatterpolar"
           }
          ],
          "scatterpolargl": [
           {
            "marker": {
             "colorbar": {
              "outlinewidth": 0,
              "ticks": ""
             }
            },
            "type": "scatterpolargl"
           }
          ],
          "scatterternary": [
           {
            "marker": {
             "colorbar": {
              "outlinewidth": 0,
              "ticks": ""
             }
            },
            "type": "scatterternary"
           }
          ],
          "surface": [
           {
            "colorbar": {
             "outlinewidth": 0,
             "ticks": ""
            },
            "colorscale": [
             [
              0,
              "#0d0887"
             ],
             [
              0.1111111111111111,
              "#46039f"
             ],
             [
              0.2222222222222222,
              "#7201a8"
             ],
             [
              0.3333333333333333,
              "#9c179e"
             ],
             [
              0.4444444444444444,
              "#bd3786"
             ],
             [
              0.5555555555555556,
              "#d8576b"
             ],
             [
              0.6666666666666666,
              "#ed7953"
             ],
             [
              0.7777777777777778,
              "#fb9f3a"
             ],
             [
              0.8888888888888888,
              "#fdca26"
             ],
             [
              1,
              "#f0f921"
             ]
            ],
            "type": "surface"
           }
          ],
          "table": [
           {
            "cells": {
             "fill": {
              "color": "#EBF0F8"
             },
             "line": {
              "color": "white"
             }
            },
            "header": {
             "fill": {
              "color": "#C8D4E3"
             },
             "line": {
              "color": "white"
             }
            },
            "type": "table"
           }
          ]
         },
         "layout": {
          "annotationdefaults": {
           "arrowcolor": "#2a3f5f",
           "arrowhead": 0,
           "arrowwidth": 1
          },
          "autotypenumbers": "strict",
          "coloraxis": {
           "colorbar": {
            "outlinewidth": 0,
            "ticks": ""
           }
          },
          "colorscale": {
           "diverging": [
            [
             0,
             "#8e0152"
            ],
            [
             0.1,
             "#c51b7d"
            ],
            [
             0.2,
             "#de77ae"
            ],
            [
             0.3,
             "#f1b6da"
            ],
            [
             0.4,
             "#fde0ef"
            ],
            [
             0.5,
             "#f7f7f7"
            ],
            [
             0.6,
             "#e6f5d0"
            ],
            [
             0.7,
             "#b8e186"
            ],
            [
             0.8,
             "#7fbc41"
            ],
            [
             0.9,
             "#4d9221"
            ],
            [
             1,
             "#276419"
            ]
           ],
           "sequential": [
            [
             0,
             "#0d0887"
            ],
            [
             0.1111111111111111,
             "#46039f"
            ],
            [
             0.2222222222222222,
             "#7201a8"
            ],
            [
             0.3333333333333333,
             "#9c179e"
            ],
            [
             0.4444444444444444,
             "#bd3786"
            ],
            [
             0.5555555555555556,
             "#d8576b"
            ],
            [
             0.6666666666666666,
             "#ed7953"
            ],
            [
             0.7777777777777778,
             "#fb9f3a"
            ],
            [
             0.8888888888888888,
             "#fdca26"
            ],
            [
             1,
             "#f0f921"
            ]
           ],
           "sequentialminus": [
            [
             0,
             "#0d0887"
            ],
            [
             0.1111111111111111,
             "#46039f"
            ],
            [
             0.2222222222222222,
             "#7201a8"
            ],
            [
             0.3333333333333333,
             "#9c179e"
            ],
            [
             0.4444444444444444,
             "#bd3786"
            ],
            [
             0.5555555555555556,
             "#d8576b"
            ],
            [
             0.6666666666666666,
             "#ed7953"
            ],
            [
             0.7777777777777778,
             "#fb9f3a"
            ],
            [
             0.8888888888888888,
             "#fdca26"
            ],
            [
             1,
             "#f0f921"
            ]
           ]
          },
          "colorway": [
           "#636efa",
           "#EF553B",
           "#00cc96",
           "#ab63fa",
           "#FFA15A",
           "#19d3f3",
           "#FF6692",
           "#B6E880",
           "#FF97FF",
           "#FECB52"
          ],
          "font": {
           "color": "#2a3f5f"
          },
          "geo": {
           "bgcolor": "white",
           "lakecolor": "white",
           "landcolor": "#E5ECF6",
           "showlakes": true,
           "showland": true,
           "subunitcolor": "white"
          },
          "hoverlabel": {
           "align": "left"
          },
          "hovermode": "closest",
          "mapbox": {
           "style": "light"
          },
          "paper_bgcolor": "white",
          "plot_bgcolor": "#E5ECF6",
          "polar": {
           "angularaxis": {
            "gridcolor": "white",
            "linecolor": "white",
            "ticks": ""
           },
           "bgcolor": "#E5ECF6",
           "radialaxis": {
            "gridcolor": "white",
            "linecolor": "white",
            "ticks": ""
           }
          },
          "scene": {
           "xaxis": {
            "backgroundcolor": "#E5ECF6",
            "gridcolor": "white",
            "gridwidth": 2,
            "linecolor": "white",
            "showbackground": true,
            "ticks": "",
            "zerolinecolor": "white"
           },
           "yaxis": {
            "backgroundcolor": "#E5ECF6",
            "gridcolor": "white",
            "gridwidth": 2,
            "linecolor": "white",
            "showbackground": true,
            "ticks": "",
            "zerolinecolor": "white"
           },
           "zaxis": {
            "backgroundcolor": "#E5ECF6",
            "gridcolor": "white",
            "gridwidth": 2,
            "linecolor": "white",
            "showbackground": true,
            "ticks": "",
            "zerolinecolor": "white"
           }
          },
          "shapedefaults": {
           "line": {
            "color": "#2a3f5f"
           }
          },
          "ternary": {
           "aaxis": {
            "gridcolor": "white",
            "linecolor": "white",
            "ticks": ""
           },
           "baxis": {
            "gridcolor": "white",
            "linecolor": "white",
            "ticks": ""
           },
           "bgcolor": "#E5ECF6",
           "caxis": {
            "gridcolor": "white",
            "linecolor": "white",
            "ticks": ""
           }
          },
          "title": {
           "x": 0.05
          },
          "xaxis": {
           "automargin": true,
           "gridcolor": "white",
           "linecolor": "white",
           "ticks": "",
           "title": {
            "standoff": 15
           },
           "zerolinecolor": "white",
           "zerolinewidth": 2
          },
          "yaxis": {
           "automargin": true,
           "gridcolor": "white",
           "linecolor": "white",
           "ticks": "",
           "title": {
            "standoff": 15
           },
           "zerolinecolor": "white",
           "zerolinewidth": 2
          }
         }
        },
        "xaxis": {
         "anchor": "y",
         "constrain": "domain",
         "domain": [
          0,
          1
         ],
         "scaleanchor": "y"
        },
        "yaxis": {
         "anchor": "x",
         "autorange": "reversed",
         "constrain": "domain",
         "domain": [
          0,
          1
         ]
        }
       }
      }
     },
     "metadata": {},
     "output_type": "display_data"
    }
   ],
   "source": [
    "print(similarities.shape)\n",
    "similarities = similarities.round(5)\n",
    "print(f'Min value: {similarities.min()}')\n",
    "print(f'Max value: {similarities.max()}')\n",
    "df_similarities = pd.DataFrame(similarities)\n",
    "df_similarities.to_csv('../data/similarity_data.csv', index=False)\n",
    "fig = px.imshow(similarities, color_continuous_scale='RdYlGn')\n",
    "fig.show()"
   ]
  },
  {
   "cell_type": "markdown",
   "metadata": {},
   "source": [
    "### Step 7: Compute sorted indexes and similar songs matrix"
   ]
  },
  {
   "cell_type": "code",
   "execution_count": 10,
   "metadata": {},
   "outputs": [],
   "source": [
    "sorted_indexes = np.argsort(similarities, axis=1)\n",
    "sorted_indexes = np.fliplr(sorted_indexes)\n",
    "\n",
    "def match_genres(genres_i, genres_j):\n",
    "    return any(genre in genres_j for genre in genres_i)\n",
    "\n",
    "similar_songs = np.zeros_like(sorted_indexes)\n",
    "\n",
    "for i in range(sorted_indexes.shape[0]):\n",
    "    genre_i = genres[i] \n",
    "    sorted_indexes_i = sorted_indexes[i, :]  \n",
    "    similar_songs_i = np.array([1 if match_genres(genre_i, genres[j]) else 0 for j in sorted_indexes_i])\n",
    "    similar_songs[i, :] = similar_songs_i\n"
   ]
  },
  {
   "cell_type": "markdown",
   "metadata": {},
   "source": [
    "### Step 8: Evaluation metrics: AP@N and MAP@N"
   ]
  },
  {
   "cell_type": "code",
   "execution_count": 11,
   "metadata": {},
   "outputs": [],
   "source": [
    "def precision_k(similar_items, k):\n",
    "    similar_items_k = similar_items[:k]\n",
    "    P = sum(similar_items_k) / k\n",
    "    return P\n",
    "\n",
    "def average_precision_N(similar_items, N):\n",
    "    m = np.min([np.sum(similar_items), N])\n",
    "    sum_vector = []\n",
    "    for k in range(1, N+1):\n",
    "        if k-1 < len(similar_items):\n",
    "            sum_vector.append(precision_k(similar_items, k) * similar_items[k-1])\n",
    "    AP = (1/m) * sum(sum_vector)\n",
    "    return AP\n"
   ]
  },
  {
   "cell_type": "markdown",
   "metadata": {},
   "source": [
    "### Step 9: Evaluate music similarity"
   ]
  },
  {
   "cell_type": "code",
   "execution_count": 12,
   "metadata": {},
   "outputs": [
    {
     "data": {
      "text/html": [
       "<div>\n",
       "<style scoped>\n",
       "    .dataframe tbody tr th:only-of-type {\n",
       "        vertical-align: middle;\n",
       "    }\n",
       "\n",
       "    .dataframe tbody tr th {\n",
       "        vertical-align: top;\n",
       "    }\n",
       "\n",
       "    .dataframe thead th {\n",
       "        text-align: right;\n",
       "    }\n",
       "</style>\n",
       "<table border=\"1\" class=\"dataframe\">\n",
       "  <thead>\n",
       "    <tr style=\"text-align: right;\">\n",
       "      <th></th>\n",
       "      <th>song_name</th>\n",
       "      <th>genre</th>\n",
       "      <th>@3</th>\n",
       "      <th>@5</th>\n",
       "      <th>@10</th>\n",
       "      <th>@13</th>\n",
       "      <th>@15</th>\n",
       "    </tr>\n",
       "  </thead>\n",
       "  <tbody>\n",
       "    <tr>\n",
       "      <th>0</th>\n",
       "      <td>0</td>\n",
       "      <td>Romantic,Melody</td>\n",
       "      <td>1.000000</td>\n",
       "      <td>1.000000</td>\n",
       "      <td>0.866389</td>\n",
       "      <td>0.725625</td>\n",
       "      <td>0.681256</td>\n",
       "    </tr>\n",
       "    <tr>\n",
       "      <th>1</th>\n",
       "      <td>1</td>\n",
       "      <td>Romantic,Melody</td>\n",
       "      <td>0.666667</td>\n",
       "      <td>0.710000</td>\n",
       "      <td>0.583333</td>\n",
       "      <td>0.621526</td>\n",
       "      <td>0.591037</td>\n",
       "    </tr>\n",
       "    <tr>\n",
       "      <th>2</th>\n",
       "      <td>2</td>\n",
       "      <td>Romantic,Sad</td>\n",
       "      <td>1.000000</td>\n",
       "      <td>0.600000</td>\n",
       "      <td>0.513095</td>\n",
       "      <td>0.494922</td>\n",
       "      <td>0.505489</td>\n",
       "    </tr>\n",
       "    <tr>\n",
       "      <th>3</th>\n",
       "      <td>3</td>\n",
       "      <td>Romantic,Upbeat</td>\n",
       "      <td>1.000000</td>\n",
       "      <td>1.000000</td>\n",
       "      <td>0.743492</td>\n",
       "      <td>0.629609</td>\n",
       "      <td>0.635658</td>\n",
       "    </tr>\n",
       "    <tr>\n",
       "      <th>4</th>\n",
       "      <td>4</td>\n",
       "      <td>Romantic,Folk</td>\n",
       "      <td>0.555556</td>\n",
       "      <td>0.643333</td>\n",
       "      <td>0.625873</td>\n",
       "      <td>0.544378</td>\n",
       "      <td>0.568302</td>\n",
       "    </tr>\n",
       "    <tr>\n",
       "      <th>5</th>\n",
       "      <td>5</td>\n",
       "      <td>Romantic,Melody</td>\n",
       "      <td>1.000000</td>\n",
       "      <td>1.000000</td>\n",
       "      <td>0.776389</td>\n",
       "      <td>0.719331</td>\n",
       "      <td>0.675801</td>\n",
       "    </tr>\n",
       "    <tr>\n",
       "      <th>6</th>\n",
       "      <td>6</td>\n",
       "      <td>Mass,Inspirational</td>\n",
       "      <td>0.500000</td>\n",
       "      <td>0.500000</td>\n",
       "      <td>0.642857</td>\n",
       "      <td>0.642857</td>\n",
       "      <td>0.642857</td>\n",
       "    </tr>\n",
       "    <tr>\n",
       "      <th>7</th>\n",
       "      <td>7</td>\n",
       "      <td>Melody</td>\n",
       "      <td>0.666667</td>\n",
       "      <td>0.550000</td>\n",
       "      <td>0.332143</td>\n",
       "      <td>0.381785</td>\n",
       "      <td>0.427239</td>\n",
       "    </tr>\n",
       "    <tr>\n",
       "      <th>8</th>\n",
       "      <td>8</td>\n",
       "      <td>Romantic,Melody</td>\n",
       "      <td>1.000000</td>\n",
       "      <td>0.800000</td>\n",
       "      <td>0.745437</td>\n",
       "      <td>0.690277</td>\n",
       "      <td>0.703954</td>\n",
       "    </tr>\n",
       "    <tr>\n",
       "      <th>9</th>\n",
       "      <td>9</td>\n",
       "      <td>Folk,Dance</td>\n",
       "      <td>0.333333</td>\n",
       "      <td>0.333333</td>\n",
       "      <td>0.416667</td>\n",
       "      <td>0.507576</td>\n",
       "      <td>0.507576</td>\n",
       "    </tr>\n",
       "    <tr>\n",
       "      <th>10</th>\n",
       "      <td>10</td>\n",
       "      <td>Folk,Dance</td>\n",
       "      <td>0.333333</td>\n",
       "      <td>0.333333</td>\n",
       "      <td>0.400000</td>\n",
       "      <td>0.400000</td>\n",
       "      <td>0.400000</td>\n",
       "    </tr>\n",
       "    <tr>\n",
       "      <th>11</th>\n",
       "      <td>11</td>\n",
       "      <td>Romantic,Upbeat</td>\n",
       "      <td>0.666667</td>\n",
       "      <td>0.550000</td>\n",
       "      <td>0.549762</td>\n",
       "      <td>0.527430</td>\n",
       "      <td>0.593158</td>\n",
       "    </tr>\n",
       "    <tr>\n",
       "      <th>12</th>\n",
       "      <td>12</td>\n",
       "      <td>Inspirational,Mass</td>\n",
       "      <td>0.500000</td>\n",
       "      <td>0.500000</td>\n",
       "      <td>0.642857</td>\n",
       "      <td>0.642857</td>\n",
       "      <td>0.642857</td>\n",
       "    </tr>\n",
       "    <tr>\n",
       "      <th>13</th>\n",
       "      <td>13</td>\n",
       "      <td>Romantic,Melody</td>\n",
       "      <td>1.000000</td>\n",
       "      <td>0.800000</td>\n",
       "      <td>0.656548</td>\n",
       "      <td>0.677845</td>\n",
       "      <td>0.639846</td>\n",
       "    </tr>\n",
       "    <tr>\n",
       "      <th>14</th>\n",
       "      <td>14</td>\n",
       "      <td>Romantic,Melody</td>\n",
       "      <td>1.000000</td>\n",
       "      <td>1.000000</td>\n",
       "      <td>0.788889</td>\n",
       "      <td>0.728946</td>\n",
       "      <td>0.684134</td>\n",
       "    </tr>\n",
       "    <tr>\n",
       "      <th>15</th>\n",
       "      <td>15</td>\n",
       "      <td>Romantic,Melody</td>\n",
       "      <td>0.666667</td>\n",
       "      <td>0.710000</td>\n",
       "      <td>0.700437</td>\n",
       "      <td>0.655661</td>\n",
       "      <td>0.673954</td>\n",
       "    </tr>\n",
       "    <tr>\n",
       "      <th>16</th>\n",
       "      <td>16</td>\n",
       "      <td>Romantic,Melody</td>\n",
       "      <td>1.000000</td>\n",
       "      <td>1.000000</td>\n",
       "      <td>0.800000</td>\n",
       "      <td>0.742424</td>\n",
       "      <td>0.695815</td>\n",
       "    </tr>\n",
       "    <tr>\n",
       "      <th>17</th>\n",
       "      <td>17</td>\n",
       "      <td>Melody</td>\n",
       "      <td>1.000000</td>\n",
       "      <td>0.760000</td>\n",
       "      <td>0.636548</td>\n",
       "      <td>0.578680</td>\n",
       "      <td>0.630628</td>\n",
       "    </tr>\n",
       "    <tr>\n",
       "      <th>18</th>\n",
       "      <td>18</td>\n",
       "      <td>Romantic,Sad</td>\n",
       "      <td>1.000000</td>\n",
       "      <td>0.800000</td>\n",
       "      <td>0.538095</td>\n",
       "      <td>0.567407</td>\n",
       "      <td>0.630279</td>\n",
       "    </tr>\n",
       "    <tr>\n",
       "      <th>19</th>\n",
       "      <td>19</td>\n",
       "      <td>Romantic,Melody</td>\n",
       "      <td>0.666667</td>\n",
       "      <td>0.710000</td>\n",
       "      <td>0.571429</td>\n",
       "      <td>0.612368</td>\n",
       "      <td>0.636434</td>\n",
       "    </tr>\n",
       "  </tbody>\n",
       "</table>\n",
       "</div>"
      ],
      "text/plain": [
       "    song_name               genre        @3        @5       @10       @13  \\\n",
       "0           0     Romantic,Melody  1.000000  1.000000  0.866389  0.725625   \n",
       "1           1     Romantic,Melody  0.666667  0.710000  0.583333  0.621526   \n",
       "2           2        Romantic,Sad  1.000000  0.600000  0.513095  0.494922   \n",
       "3           3     Romantic,Upbeat  1.000000  1.000000  0.743492  0.629609   \n",
       "4           4       Romantic,Folk  0.555556  0.643333  0.625873  0.544378   \n",
       "5           5     Romantic,Melody  1.000000  1.000000  0.776389  0.719331   \n",
       "6           6  Mass,Inspirational  0.500000  0.500000  0.642857  0.642857   \n",
       "7           7              Melody  0.666667  0.550000  0.332143  0.381785   \n",
       "8           8     Romantic,Melody  1.000000  0.800000  0.745437  0.690277   \n",
       "9           9          Folk,Dance  0.333333  0.333333  0.416667  0.507576   \n",
       "10         10          Folk,Dance  0.333333  0.333333  0.400000  0.400000   \n",
       "11         11     Romantic,Upbeat  0.666667  0.550000  0.549762  0.527430   \n",
       "12         12  Inspirational,Mass  0.500000  0.500000  0.642857  0.642857   \n",
       "13         13     Romantic,Melody  1.000000  0.800000  0.656548  0.677845   \n",
       "14         14     Romantic,Melody  1.000000  1.000000  0.788889  0.728946   \n",
       "15         15     Romantic,Melody  0.666667  0.710000  0.700437  0.655661   \n",
       "16         16     Romantic,Melody  1.000000  1.000000  0.800000  0.742424   \n",
       "17         17              Melody  1.000000  0.760000  0.636548  0.578680   \n",
       "18         18        Romantic,Sad  1.000000  0.800000  0.538095  0.567407   \n",
       "19         19     Romantic,Melody  0.666667  0.710000  0.571429  0.612368   \n",
       "\n",
       "         @15  \n",
       "0   0.681256  \n",
       "1   0.591037  \n",
       "2   0.505489  \n",
       "3   0.635658  \n",
       "4   0.568302  \n",
       "5   0.675801  \n",
       "6   0.642857  \n",
       "7   0.427239  \n",
       "8   0.703954  \n",
       "9   0.507576  \n",
       "10  0.400000  \n",
       "11  0.593158  \n",
       "12  0.642857  \n",
       "13  0.639846  \n",
       "14  0.684134  \n",
       "15  0.673954  \n",
       "16  0.695815  \n",
       "17  0.630628  \n",
       "18  0.630279  \n",
       "19  0.636434  "
      ]
     },
     "execution_count": 12,
     "metadata": {},
     "output_type": "execute_result"
    }
   ],
   "source": [
    "N_range = [3, 5, 10, 13, 15]\n",
    "AP_songs = []\n",
    "\n",
    "for N in N_range:\n",
    "    AP_by_N = []\n",
    "    for i in range(similar_songs.shape[0]):\n",
    "        AP_by_N.append(average_precision_N(similar_songs[i, :], N))\n",
    "    AP_songs.append(AP_by_N)\n",
    "\n",
    "genre_strings = [','.join(genre) for genre in genres]\n",
    "\n",
    "df = pd.DataFrame(\n",
    "    list(zip(\n",
    "        [file_path for file_path in range(len(file_path))], \n",
    "        genre_strings,\n",
    "        *AP_songs\n",
    "    )),\n",
    "    columns=['song_name', 'genre'] + [f'@{N}' for N in N_range]\n",
    ")\n",
    "\n",
    "df.head(20)"
   ]
  },
  {
   "cell_type": "markdown",
   "metadata": {},
   "source": [
    "### Step 10: Plotting AP@N histograms"
   ]
  },
  {
   "cell_type": "code",
   "execution_count": 13,
   "metadata": {},
   "outputs": [
    {
     "data": {
      "application/vnd.plotly.v1+json": {
       "config": {
        "plotlyServerURL": "https://plot.ly"
       },
       "data": [
        {
         "type": "histogram",
         "x": [
          1,
          0.6666666666666666,
          1,
          1,
          0.5555555555555555,
          1,
          0.5,
          0.6666666666666666,
          1,
          0.3333333333333333,
          0.3333333333333333,
          0.6666666666666666,
          0.5,
          1,
          1,
          0.6666666666666666,
          1,
          1,
          1,
          0.6666666666666666
         ],
         "xaxis": "x",
         "yaxis": "y"
        },
        {
         "type": "histogram",
         "x": [
          1,
          0.71,
          0.6000000000000001,
          1,
          0.6433333333333334,
          1,
          0.5,
          0.55,
          0.8,
          0.3333333333333333,
          0.3333333333333333,
          0.55,
          0.5,
          0.8,
          1,
          0.71,
          1,
          0.76,
          0.8,
          0.71
         ],
         "xaxis": "x2",
         "yaxis": "y2"
        },
        {
         "type": "histogram",
         "x": [
          0.866388888888889,
          0.5833333333333334,
          0.513095238095238,
          0.7434920634920634,
          0.6258730158730159,
          0.776388888888889,
          0.6428571428571428,
          0.33214285714285713,
          0.745436507936508,
          0.41666666666666663,
          0.39999999999999997,
          0.5497619047619048,
          0.6428571428571428,
          0.656547619047619,
          0.788888888888889,
          0.7004365079365078,
          0.8,
          0.636547619047619,
          0.5380952380952382,
          0.5714285714285715
         ],
         "xaxis": "x3",
         "yaxis": "y3"
        },
        {
         "type": "histogram",
         "x": [
          0.7256245890861277,
          0.6215259099874485,
          0.49492174492174495,
          0.6296092796092795,
          0.5443778443778444,
          0.7193308827924214,
          0.6428571428571428,
          0.38178488178488174,
          0.6902766037381423,
          0.5075757575757576,
          0.39999999999999997,
          0.5274302620456467,
          0.6428571428571428,
          0.6778445913061297,
          0.728946267407806,
          0.6556612191227575,
          0.7424242424242425,
          0.5786796536796536,
          0.5674069520223368,
          0.6123684008299394
         ],
         "xaxis": "x4",
         "yaxis": "y4"
        },
        {
         "type": "histogram",
         "x": [
          0.6812555962555964,
          0.5910367410367411,
          0.5054885590599877,
          0.6356575963718819,
          0.5683020683020683,
          0.6758010508010509,
          0.6428571428571428,
          0.4272394272394272,
          0.7039540089540091,
          0.5075757575757576,
          0.39999999999999997,
          0.5931580324437467,
          0.6428571428571428,
          0.6398462648462648,
          0.6841343841343843,
          0.673954008954009,
          0.6958152958152959,
          0.6306277056277055,
          0.6302792445649588,
          0.6364335664335665
         ],
         "xaxis": "x5",
         "yaxis": "y5"
        }
       ],
       "layout": {
        "annotations": [
         {
          "font": {
           "size": 16
          },
          "showarrow": false,
          "text": "AP@2",
          "x": 0.14444444444444446,
          "xanchor": "center",
          "xref": "paper",
          "y": 1,
          "yanchor": "bottom",
          "yref": "paper"
         },
         {
          "font": {
           "size": 16
          },
          "showarrow": false,
          "text": "AP@3",
          "x": 0.5,
          "xanchor": "center",
          "xref": "paper",
          "y": 1,
          "yanchor": "bottom",
          "yref": "paper"
         },
         {
          "font": {
           "size": 16
          },
          "showarrow": false,
          "text": "AP@5",
          "x": 0.8555555555555556,
          "xanchor": "center",
          "xref": "paper",
          "y": 1,
          "yanchor": "bottom",
          "yref": "paper"
         },
         {
          "font": {
           "size": 16
          },
          "showarrow": false,
          "text": "AP@10",
          "x": 0.14444444444444446,
          "xanchor": "center",
          "xref": "paper",
          "y": 0.375,
          "yanchor": "bottom",
          "yref": "paper"
         },
         {
          "font": {
           "size": 16
          },
          "showarrow": false,
          "text": "AP@15",
          "x": 0.5,
          "xanchor": "center",
          "xref": "paper",
          "y": 0.375,
          "yanchor": "bottom",
          "yref": "paper"
         }
        ],
        "height": 500,
        "showlegend": false,
        "template": {
         "data": {
          "bar": [
           {
            "error_x": {
             "color": "#2a3f5f"
            },
            "error_y": {
             "color": "#2a3f5f"
            },
            "marker": {
             "line": {
              "color": "#E5ECF6",
              "width": 0.5
             },
             "pattern": {
              "fillmode": "overlay",
              "size": 10,
              "solidity": 0.2
             }
            },
            "type": "bar"
           }
          ],
          "barpolar": [
           {
            "marker": {
             "line": {
              "color": "#E5ECF6",
              "width": 0.5
             },
             "pattern": {
              "fillmode": "overlay",
              "size": 10,
              "solidity": 0.2
             }
            },
            "type": "barpolar"
           }
          ],
          "carpet": [
           {
            "aaxis": {
             "endlinecolor": "#2a3f5f",
             "gridcolor": "white",
             "linecolor": "white",
             "minorgridcolor": "white",
             "startlinecolor": "#2a3f5f"
            },
            "baxis": {
             "endlinecolor": "#2a3f5f",
             "gridcolor": "white",
             "linecolor": "white",
             "minorgridcolor": "white",
             "startlinecolor": "#2a3f5f"
            },
            "type": "carpet"
           }
          ],
          "choropleth": [
           {
            "colorbar": {
             "outlinewidth": 0,
             "ticks": ""
            },
            "type": "choropleth"
           }
          ],
          "contour": [
           {
            "colorbar": {
             "outlinewidth": 0,
             "ticks": ""
            },
            "colorscale": [
             [
              0,
              "#0d0887"
             ],
             [
              0.1111111111111111,
              "#46039f"
             ],
             [
              0.2222222222222222,
              "#7201a8"
             ],
             [
              0.3333333333333333,
              "#9c179e"
             ],
             [
              0.4444444444444444,
              "#bd3786"
             ],
             [
              0.5555555555555556,
              "#d8576b"
             ],
             [
              0.6666666666666666,
              "#ed7953"
             ],
             [
              0.7777777777777778,
              "#fb9f3a"
             ],
             [
              0.8888888888888888,
              "#fdca26"
             ],
             [
              1,
              "#f0f921"
             ]
            ],
            "type": "contour"
           }
          ],
          "contourcarpet": [
           {
            "colorbar": {
             "outlinewidth": 0,
             "ticks": ""
            },
            "type": "contourcarpet"
           }
          ],
          "heatmap": [
           {
            "colorbar": {
             "outlinewidth": 0,
             "ticks": ""
            },
            "colorscale": [
             [
              0,
              "#0d0887"
             ],
             [
              0.1111111111111111,
              "#46039f"
             ],
             [
              0.2222222222222222,
              "#7201a8"
             ],
             [
              0.3333333333333333,
              "#9c179e"
             ],
             [
              0.4444444444444444,
              "#bd3786"
             ],
             [
              0.5555555555555556,
              "#d8576b"
             ],
             [
              0.6666666666666666,
              "#ed7953"
             ],
             [
              0.7777777777777778,
              "#fb9f3a"
             ],
             [
              0.8888888888888888,
              "#fdca26"
             ],
             [
              1,
              "#f0f921"
             ]
            ],
            "type": "heatmap"
           }
          ],
          "heatmapgl": [
           {
            "colorbar": {
             "outlinewidth": 0,
             "ticks": ""
            },
            "colorscale": [
             [
              0,
              "#0d0887"
             ],
             [
              0.1111111111111111,
              "#46039f"
             ],
             [
              0.2222222222222222,
              "#7201a8"
             ],
             [
              0.3333333333333333,
              "#9c179e"
             ],
             [
              0.4444444444444444,
              "#bd3786"
             ],
             [
              0.5555555555555556,
              "#d8576b"
             ],
             [
              0.6666666666666666,
              "#ed7953"
             ],
             [
              0.7777777777777778,
              "#fb9f3a"
             ],
             [
              0.8888888888888888,
              "#fdca26"
             ],
             [
              1,
              "#f0f921"
             ]
            ],
            "type": "heatmapgl"
           }
          ],
          "histogram": [
           {
            "marker": {
             "pattern": {
              "fillmode": "overlay",
              "size": 10,
              "solidity": 0.2
             }
            },
            "type": "histogram"
           }
          ],
          "histogram2d": [
           {
            "colorbar": {
             "outlinewidth": 0,
             "ticks": ""
            },
            "colorscale": [
             [
              0,
              "#0d0887"
             ],
             [
              0.1111111111111111,
              "#46039f"
             ],
             [
              0.2222222222222222,
              "#7201a8"
             ],
             [
              0.3333333333333333,
              "#9c179e"
             ],
             [
              0.4444444444444444,
              "#bd3786"
             ],
             [
              0.5555555555555556,
              "#d8576b"
             ],
             [
              0.6666666666666666,
              "#ed7953"
             ],
             [
              0.7777777777777778,
              "#fb9f3a"
             ],
             [
              0.8888888888888888,
              "#fdca26"
             ],
             [
              1,
              "#f0f921"
             ]
            ],
            "type": "histogram2d"
           }
          ],
          "histogram2dcontour": [
           {
            "colorbar": {
             "outlinewidth": 0,
             "ticks": ""
            },
            "colorscale": [
             [
              0,
              "#0d0887"
             ],
             [
              0.1111111111111111,
              "#46039f"
             ],
             [
              0.2222222222222222,
              "#7201a8"
             ],
             [
              0.3333333333333333,
              "#9c179e"
             ],
             [
              0.4444444444444444,
              "#bd3786"
             ],
             [
              0.5555555555555556,
              "#d8576b"
             ],
             [
              0.6666666666666666,
              "#ed7953"
             ],
             [
              0.7777777777777778,
              "#fb9f3a"
             ],
             [
              0.8888888888888888,
              "#fdca26"
             ],
             [
              1,
              "#f0f921"
             ]
            ],
            "type": "histogram2dcontour"
           }
          ],
          "mesh3d": [
           {
            "colorbar": {
             "outlinewidth": 0,
             "ticks": ""
            },
            "type": "mesh3d"
           }
          ],
          "parcoords": [
           {
            "line": {
             "colorbar": {
              "outlinewidth": 0,
              "ticks": ""
             }
            },
            "type": "parcoords"
           }
          ],
          "pie": [
           {
            "automargin": true,
            "type": "pie"
           }
          ],
          "scatter": [
           {
            "fillpattern": {
             "fillmode": "overlay",
             "size": 10,
             "solidity": 0.2
            },
            "type": "scatter"
           }
          ],
          "scatter3d": [
           {
            "line": {
             "colorbar": {
              "outlinewidth": 0,
              "ticks": ""
             }
            },
            "marker": {
             "colorbar": {
              "outlinewidth": 0,
              "ticks": ""
             }
            },
            "type": "scatter3d"
           }
          ],
          "scattercarpet": [
           {
            "marker": {
             "colorbar": {
              "outlinewidth": 0,
              "ticks": ""
             }
            },
            "type": "scattercarpet"
           }
          ],
          "scattergeo": [
           {
            "marker": {
             "colorbar": {
              "outlinewidth": 0,
              "ticks": ""
             }
            },
            "type": "scattergeo"
           }
          ],
          "scattergl": [
           {
            "marker": {
             "colorbar": {
              "outlinewidth": 0,
              "ticks": ""
             }
            },
            "type": "scattergl"
           }
          ],
          "scattermapbox": [
           {
            "marker": {
             "colorbar": {
              "outlinewidth": 0,
              "ticks": ""
             }
            },
            "type": "scattermapbox"
           }
          ],
          "scatterpolar": [
           {
            "marker": {
             "colorbar": {
              "outlinewidth": 0,
              "ticks": ""
             }
            },
            "type": "scatterpolar"
           }
          ],
          "scatterpolargl": [
           {
            "marker": {
             "colorbar": {
              "outlinewidth": 0,
              "ticks": ""
             }
            },
            "type": "scatterpolargl"
           }
          ],
          "scatterternary": [
           {
            "marker": {
             "colorbar": {
              "outlinewidth": 0,
              "ticks": ""
             }
            },
            "type": "scatterternary"
           }
          ],
          "surface": [
           {
            "colorbar": {
             "outlinewidth": 0,
             "ticks": ""
            },
            "colorscale": [
             [
              0,
              "#0d0887"
             ],
             [
              0.1111111111111111,
              "#46039f"
             ],
             [
              0.2222222222222222,
              "#7201a8"
             ],
             [
              0.3333333333333333,
              "#9c179e"
             ],
             [
              0.4444444444444444,
              "#bd3786"
             ],
             [
              0.5555555555555556,
              "#d8576b"
             ],
             [
              0.6666666666666666,
              "#ed7953"
             ],
             [
              0.7777777777777778,
              "#fb9f3a"
             ],
             [
              0.8888888888888888,
              "#fdca26"
             ],
             [
              1,
              "#f0f921"
             ]
            ],
            "type": "surface"
           }
          ],
          "table": [
           {
            "cells": {
             "fill": {
              "color": "#EBF0F8"
             },
             "line": {
              "color": "white"
             }
            },
            "header": {
             "fill": {
              "color": "#C8D4E3"
             },
             "line": {
              "color": "white"
             }
            },
            "type": "table"
           }
          ]
         },
         "layout": {
          "annotationdefaults": {
           "arrowcolor": "#2a3f5f",
           "arrowhead": 0,
           "arrowwidth": 1
          },
          "autotypenumbers": "strict",
          "coloraxis": {
           "colorbar": {
            "outlinewidth": 0,
            "ticks": ""
           }
          },
          "colorscale": {
           "diverging": [
            [
             0,
             "#8e0152"
            ],
            [
             0.1,
             "#c51b7d"
            ],
            [
             0.2,
             "#de77ae"
            ],
            [
             0.3,
             "#f1b6da"
            ],
            [
             0.4,
             "#fde0ef"
            ],
            [
             0.5,
             "#f7f7f7"
            ],
            [
             0.6,
             "#e6f5d0"
            ],
            [
             0.7,
             "#b8e186"
            ],
            [
             0.8,
             "#7fbc41"
            ],
            [
             0.9,
             "#4d9221"
            ],
            [
             1,
             "#276419"
            ]
           ],
           "sequential": [
            [
             0,
             "#0d0887"
            ],
            [
             0.1111111111111111,
             "#46039f"
            ],
            [
             0.2222222222222222,
             "#7201a8"
            ],
            [
             0.3333333333333333,
             "#9c179e"
            ],
            [
             0.4444444444444444,
             "#bd3786"
            ],
            [
             0.5555555555555556,
             "#d8576b"
            ],
            [
             0.6666666666666666,
             "#ed7953"
            ],
            [
             0.7777777777777778,
             "#fb9f3a"
            ],
            [
             0.8888888888888888,
             "#fdca26"
            ],
            [
             1,
             "#f0f921"
            ]
           ],
           "sequentialminus": [
            [
             0,
             "#0d0887"
            ],
            [
             0.1111111111111111,
             "#46039f"
            ],
            [
             0.2222222222222222,
             "#7201a8"
            ],
            [
             0.3333333333333333,
             "#9c179e"
            ],
            [
             0.4444444444444444,
             "#bd3786"
            ],
            [
             0.5555555555555556,
             "#d8576b"
            ],
            [
             0.6666666666666666,
             "#ed7953"
            ],
            [
             0.7777777777777778,
             "#fb9f3a"
            ],
            [
             0.8888888888888888,
             "#fdca26"
            ],
            [
             1,
             "#f0f921"
            ]
           ]
          },
          "colorway": [
           "#636efa",
           "#EF553B",
           "#00cc96",
           "#ab63fa",
           "#FFA15A",
           "#19d3f3",
           "#FF6692",
           "#B6E880",
           "#FF97FF",
           "#FECB52"
          ],
          "font": {
           "color": "#2a3f5f"
          },
          "geo": {
           "bgcolor": "white",
           "lakecolor": "white",
           "landcolor": "#E5ECF6",
           "showlakes": true,
           "showland": true,
           "subunitcolor": "white"
          },
          "hoverlabel": {
           "align": "left"
          },
          "hovermode": "closest",
          "mapbox": {
           "style": "light"
          },
          "paper_bgcolor": "white",
          "plot_bgcolor": "#E5ECF6",
          "polar": {
           "angularaxis": {
            "gridcolor": "white",
            "linecolor": "white",
            "ticks": ""
           },
           "bgcolor": "#E5ECF6",
           "radialaxis": {
            "gridcolor": "white",
            "linecolor": "white",
            "ticks": ""
           }
          },
          "scene": {
           "xaxis": {
            "backgroundcolor": "#E5ECF6",
            "gridcolor": "white",
            "gridwidth": 2,
            "linecolor": "white",
            "showbackground": true,
            "ticks": "",
            "zerolinecolor": "white"
           },
           "yaxis": {
            "backgroundcolor": "#E5ECF6",
            "gridcolor": "white",
            "gridwidth": 2,
            "linecolor": "white",
            "showbackground": true,
            "ticks": "",
            "zerolinecolor": "white"
           },
           "zaxis": {
            "backgroundcolor": "#E5ECF6",
            "gridcolor": "white",
            "gridwidth": 2,
            "linecolor": "white",
            "showbackground": true,
            "ticks": "",
            "zerolinecolor": "white"
           }
          },
          "shapedefaults": {
           "line": {
            "color": "#2a3f5f"
           }
          },
          "ternary": {
           "aaxis": {
            "gridcolor": "white",
            "linecolor": "white",
            "ticks": ""
           },
           "baxis": {
            "gridcolor": "white",
            "linecolor": "white",
            "ticks": ""
           },
           "bgcolor": "#E5ECF6",
           "caxis": {
            "gridcolor": "white",
            "linecolor": "white",
            "ticks": ""
           }
          },
          "title": {
           "x": 0.05
          },
          "xaxis": {
           "automargin": true,
           "gridcolor": "white",
           "linecolor": "white",
           "ticks": "",
           "title": {
            "standoff": 15
           },
           "zerolinecolor": "white",
           "zerolinewidth": 2
          },
          "yaxis": {
           "automargin": true,
           "gridcolor": "white",
           "linecolor": "white",
           "ticks": "",
           "title": {
            "standoff": 15
           },
           "zerolinecolor": "white",
           "zerolinewidth": 2
          }
         }
        },
        "title": {
         "text": "AP@N histograms"
        },
        "width": 1000,
        "xaxis": {
         "anchor": "y",
         "domain": [
          0,
          0.2888888888888889
         ]
        },
        "xaxis2": {
         "anchor": "y2",
         "domain": [
          0.35555555555555557,
          0.6444444444444445
         ]
        },
        "xaxis3": {
         "anchor": "y3",
         "domain": [
          0.7111111111111111,
          1
         ]
        },
        "xaxis4": {
         "anchor": "y4",
         "domain": [
          0,
          0.2888888888888889
         ]
        },
        "xaxis5": {
         "anchor": "y5",
         "domain": [
          0.35555555555555557,
          0.6444444444444445
         ]
        },
        "xaxis6": {
         "anchor": "y6",
         "domain": [
          0.7111111111111111,
          1
         ]
        },
        "yaxis": {
         "anchor": "x",
         "domain": [
          0.625,
          1
         ]
        },
        "yaxis2": {
         "anchor": "x2",
         "domain": [
          0.625,
          1
         ]
        },
        "yaxis3": {
         "anchor": "x3",
         "domain": [
          0.625,
          1
         ]
        },
        "yaxis4": {
         "anchor": "x4",
         "domain": [
          0,
          0.375
         ]
        },
        "yaxis5": {
         "anchor": "x5",
         "domain": [
          0,
          0.375
         ]
        },
        "yaxis6": {
         "anchor": "x6",
         "domain": [
          0,
          0.375
         ]
        }
       }
      }
     },
     "metadata": {},
     "output_type": "display_data"
    }
   ],
   "source": [
    "fig = make_subplots(rows=2, cols=3, subplot_titles=(\"AP@2\", \"AP@3\", \"AP@5\", \"AP@10\", \"AP@15\"))\n",
    "\n",
    "fig.add_trace(go.Histogram(x=AP_songs[0]), row=1, col=1)\n",
    "fig.add_trace(go.Histogram(x=AP_songs[1]), row=1, col=2)\n",
    "fig.add_trace(go.Histogram(x=AP_songs[2]), row=1, col=3)\n",
    "fig.add_trace(go.Histogram(x=AP_songs[3]), row=2, col=1)\n",
    "fig.add_trace(go.Histogram(x=AP_songs[4]), row=2, col=2)\n",
    "\n",
    "fig.update_layout(height=500, \n",
    "                  width=1000, \n",
    "                  showlegend=False,\n",
    "                  title_text=\"AP@N histograms\")\n",
    "\n",
    "fig.show()"
   ]
  },
  {
   "cell_type": "markdown",
   "metadata": {},
   "source": [
    "### Step 11: Compute mAP@N for each genre and for the whole dataset"
   ]
  },
  {
   "cell_type": "code",
   "execution_count": 14,
   "metadata": {},
   "outputs": [
    {
     "name": "stdout",
     "output_type": "stream",
     "text": [
      "Mean average precision for each genre: \n",
      "                          @3        @5       @10       @13       @15\n",
      "genre                                                               \n",
      "Folk,Dance          0.333333  0.333333  0.408333  0.453788  0.453788\n",
      "Inspirational,Mass  0.500000  0.500000  0.642857  0.642857  0.642857\n",
      "Mass,Inspirational  0.500000  0.500000  0.642857  0.642857  0.642857\n",
      "Melody              0.833333  0.655000  0.484345  0.480232  0.528934\n",
      "Romantic,Folk       0.555556  0.643333  0.625873  0.544378  0.568302\n",
      "Romantic,Melody     0.888889  0.858889  0.720983  0.686000  0.664692\n",
      "Romantic,Sad        1.000000  0.700000  0.525595  0.531164  0.567884\n",
      "Romantic,Upbeat     0.833333  0.775000  0.646627  0.578520  0.614408\n",
      "Mean average precision for entire dataset: \n",
      "          mAP\n",
      "@3   0.777778\n",
      "@5   0.715000\n",
      "@10  0.626512\n",
      "@13  0.604575\n",
      "@15  0.608314\n"
     ]
    },
    {
     "data": {
      "application/vnd.plotly.v1+json": {
       "config": {
        "plotlyServerURL": "https://plot.ly"
       },
       "data": [
        {
         "mode": "lines+markers",
         "name": "Romantic,Melody",
         "type": "scatter",
         "x": [
          3,
          5,
          10,
          13,
          15
         ],
         "y": [
          0.8888888888888888,
          0.8588888888888889,
          0.7209832451499119,
          0.6860003007438906,
          0.6646923241367687
         ]
        },
        {
         "mode": "lines+markers",
         "name": "Romantic,Sad",
         "type": "scatter",
         "x": [
          3,
          5,
          10,
          13,
          15
         ],
         "y": [
          1,
          0.7000000000000001,
          0.5255952380952381,
          0.5311643484720409,
          0.5678839018124733
         ]
        },
        {
         "mode": "lines+markers",
         "name": "Romantic,Upbeat",
         "type": "scatter",
         "x": [
          3,
          5,
          10,
          13,
          15
         ],
         "y": [
          0.8333333333333333,
          0.775,
          0.646626984126984,
          0.5785197708274631,
          0.6144078144078142
         ]
        },
        {
         "mode": "lines+markers",
         "name": "Romantic,Folk",
         "type": "scatter",
         "x": [
          3,
          5,
          10,
          13,
          15
         ],
         "y": [
          0.5555555555555555,
          0.6433333333333334,
          0.6258730158730159,
          0.5443778443778444,
          0.5683020683020683
         ]
        },
        {
         "mode": "lines+markers",
         "name": "Mass,Inspirational",
         "type": "scatter",
         "x": [
          3,
          5,
          10,
          13,
          15
         ],
         "y": [
          0.5,
          0.5,
          0.6428571428571428,
          0.6428571428571428,
          0.6428571428571428
         ]
        },
        {
         "mode": "lines+markers",
         "name": "Melody",
         "type": "scatter",
         "x": [
          3,
          5,
          10,
          13,
          15
         ],
         "y": [
          0.8333333333333333,
          0.655,
          0.4843452380952381,
          0.4802322677322677,
          0.5289335664335664
         ]
        },
        {
         "mode": "lines+markers",
         "name": "Folk,Dance",
         "type": "scatter",
         "x": [
          3,
          5,
          10,
          13,
          15
         ],
         "y": [
          0.3333333333333333,
          0.3333333333333333,
          0.4083333333333333,
          0.45378787878787874,
          0.45378787878787874
         ]
        },
        {
         "mode": "lines+markers",
         "name": "Inspirational,Mass",
         "type": "scatter",
         "x": [
          3,
          5,
          10,
          13,
          15
         ],
         "y": [
          0.5,
          0.5,
          0.6428571428571428,
          0.6428571428571428,
          0.6428571428571428
         ]
        },
        {
         "line": {
          "dash": "dash",
          "width": 4
         },
         "mode": "lines+markers",
         "name": "mean",
         "type": "scatter",
         "x": [
          3,
          5,
          10,
          13,
          15
         ],
         "y": [
          0.7777777777777778,
          0.7150000000000001,
          0.6265119047619048,
          0.6045751684213223,
          0.6083136797065369
         ]
        }
       ],
       "layout": {
        "template": {
         "data": {
          "bar": [
           {
            "error_x": {
             "color": "#2a3f5f"
            },
            "error_y": {
             "color": "#2a3f5f"
            },
            "marker": {
             "line": {
              "color": "#E5ECF6",
              "width": 0.5
             },
             "pattern": {
              "fillmode": "overlay",
              "size": 10,
              "solidity": 0.2
             }
            },
            "type": "bar"
           }
          ],
          "barpolar": [
           {
            "marker": {
             "line": {
              "color": "#E5ECF6",
              "width": 0.5
             },
             "pattern": {
              "fillmode": "overlay",
              "size": 10,
              "solidity": 0.2
             }
            },
            "type": "barpolar"
           }
          ],
          "carpet": [
           {
            "aaxis": {
             "endlinecolor": "#2a3f5f",
             "gridcolor": "white",
             "linecolor": "white",
             "minorgridcolor": "white",
             "startlinecolor": "#2a3f5f"
            },
            "baxis": {
             "endlinecolor": "#2a3f5f",
             "gridcolor": "white",
             "linecolor": "white",
             "minorgridcolor": "white",
             "startlinecolor": "#2a3f5f"
            },
            "type": "carpet"
           }
          ],
          "choropleth": [
           {
            "colorbar": {
             "outlinewidth": 0,
             "ticks": ""
            },
            "type": "choropleth"
           }
          ],
          "contour": [
           {
            "colorbar": {
             "outlinewidth": 0,
             "ticks": ""
            },
            "colorscale": [
             [
              0,
              "#0d0887"
             ],
             [
              0.1111111111111111,
              "#46039f"
             ],
             [
              0.2222222222222222,
              "#7201a8"
             ],
             [
              0.3333333333333333,
              "#9c179e"
             ],
             [
              0.4444444444444444,
              "#bd3786"
             ],
             [
              0.5555555555555556,
              "#d8576b"
             ],
             [
              0.6666666666666666,
              "#ed7953"
             ],
             [
              0.7777777777777778,
              "#fb9f3a"
             ],
             [
              0.8888888888888888,
              "#fdca26"
             ],
             [
              1,
              "#f0f921"
             ]
            ],
            "type": "contour"
           }
          ],
          "contourcarpet": [
           {
            "colorbar": {
             "outlinewidth": 0,
             "ticks": ""
            },
            "type": "contourcarpet"
           }
          ],
          "heatmap": [
           {
            "colorbar": {
             "outlinewidth": 0,
             "ticks": ""
            },
            "colorscale": [
             [
              0,
              "#0d0887"
             ],
             [
              0.1111111111111111,
              "#46039f"
             ],
             [
              0.2222222222222222,
              "#7201a8"
             ],
             [
              0.3333333333333333,
              "#9c179e"
             ],
             [
              0.4444444444444444,
              "#bd3786"
             ],
             [
              0.5555555555555556,
              "#d8576b"
             ],
             [
              0.6666666666666666,
              "#ed7953"
             ],
             [
              0.7777777777777778,
              "#fb9f3a"
             ],
             [
              0.8888888888888888,
              "#fdca26"
             ],
             [
              1,
              "#f0f921"
             ]
            ],
            "type": "heatmap"
           }
          ],
          "heatmapgl": [
           {
            "colorbar": {
             "outlinewidth": 0,
             "ticks": ""
            },
            "colorscale": [
             [
              0,
              "#0d0887"
             ],
             [
              0.1111111111111111,
              "#46039f"
             ],
             [
              0.2222222222222222,
              "#7201a8"
             ],
             [
              0.3333333333333333,
              "#9c179e"
             ],
             [
              0.4444444444444444,
              "#bd3786"
             ],
             [
              0.5555555555555556,
              "#d8576b"
             ],
             [
              0.6666666666666666,
              "#ed7953"
             ],
             [
              0.7777777777777778,
              "#fb9f3a"
             ],
             [
              0.8888888888888888,
              "#fdca26"
             ],
             [
              1,
              "#f0f921"
             ]
            ],
            "type": "heatmapgl"
           }
          ],
          "histogram": [
           {
            "marker": {
             "pattern": {
              "fillmode": "overlay",
              "size": 10,
              "solidity": 0.2
             }
            },
            "type": "histogram"
           }
          ],
          "histogram2d": [
           {
            "colorbar": {
             "outlinewidth": 0,
             "ticks": ""
            },
            "colorscale": [
             [
              0,
              "#0d0887"
             ],
             [
              0.1111111111111111,
              "#46039f"
             ],
             [
              0.2222222222222222,
              "#7201a8"
             ],
             [
              0.3333333333333333,
              "#9c179e"
             ],
             [
              0.4444444444444444,
              "#bd3786"
             ],
             [
              0.5555555555555556,
              "#d8576b"
             ],
             [
              0.6666666666666666,
              "#ed7953"
             ],
             [
              0.7777777777777778,
              "#fb9f3a"
             ],
             [
              0.8888888888888888,
              "#fdca26"
             ],
             [
              1,
              "#f0f921"
             ]
            ],
            "type": "histogram2d"
           }
          ],
          "histogram2dcontour": [
           {
            "colorbar": {
             "outlinewidth": 0,
             "ticks": ""
            },
            "colorscale": [
             [
              0,
              "#0d0887"
             ],
             [
              0.1111111111111111,
              "#46039f"
             ],
             [
              0.2222222222222222,
              "#7201a8"
             ],
             [
              0.3333333333333333,
              "#9c179e"
             ],
             [
              0.4444444444444444,
              "#bd3786"
             ],
             [
              0.5555555555555556,
              "#d8576b"
             ],
             [
              0.6666666666666666,
              "#ed7953"
             ],
             [
              0.7777777777777778,
              "#fb9f3a"
             ],
             [
              0.8888888888888888,
              "#fdca26"
             ],
             [
              1,
              "#f0f921"
             ]
            ],
            "type": "histogram2dcontour"
           }
          ],
          "mesh3d": [
           {
            "colorbar": {
             "outlinewidth": 0,
             "ticks": ""
            },
            "type": "mesh3d"
           }
          ],
          "parcoords": [
           {
            "line": {
             "colorbar": {
              "outlinewidth": 0,
              "ticks": ""
             }
            },
            "type": "parcoords"
           }
          ],
          "pie": [
           {
            "automargin": true,
            "type": "pie"
           }
          ],
          "scatter": [
           {
            "fillpattern": {
             "fillmode": "overlay",
             "size": 10,
             "solidity": 0.2
            },
            "type": "scatter"
           }
          ],
          "scatter3d": [
           {
            "line": {
             "colorbar": {
              "outlinewidth": 0,
              "ticks": ""
             }
            },
            "marker": {
             "colorbar": {
              "outlinewidth": 0,
              "ticks": ""
             }
            },
            "type": "scatter3d"
           }
          ],
          "scattercarpet": [
           {
            "marker": {
             "colorbar": {
              "outlinewidth": 0,
              "ticks": ""
             }
            },
            "type": "scattercarpet"
           }
          ],
          "scattergeo": [
           {
            "marker": {
             "colorbar": {
              "outlinewidth": 0,
              "ticks": ""
             }
            },
            "type": "scattergeo"
           }
          ],
          "scattergl": [
           {
            "marker": {
             "colorbar": {
              "outlinewidth": 0,
              "ticks": ""
             }
            },
            "type": "scattergl"
           }
          ],
          "scattermapbox": [
           {
            "marker": {
             "colorbar": {
              "outlinewidth": 0,
              "ticks": ""
             }
            },
            "type": "scattermapbox"
           }
          ],
          "scatterpolar": [
           {
            "marker": {
             "colorbar": {
              "outlinewidth": 0,
              "ticks": ""
             }
            },
            "type": "scatterpolar"
           }
          ],
          "scatterpolargl": [
           {
            "marker": {
             "colorbar": {
              "outlinewidth": 0,
              "ticks": ""
             }
            },
            "type": "scatterpolargl"
           }
          ],
          "scatterternary": [
           {
            "marker": {
             "colorbar": {
              "outlinewidth": 0,
              "ticks": ""
             }
            },
            "type": "scatterternary"
           }
          ],
          "surface": [
           {
            "colorbar": {
             "outlinewidth": 0,
             "ticks": ""
            },
            "colorscale": [
             [
              0,
              "#0d0887"
             ],
             [
              0.1111111111111111,
              "#46039f"
             ],
             [
              0.2222222222222222,
              "#7201a8"
             ],
             [
              0.3333333333333333,
              "#9c179e"
             ],
             [
              0.4444444444444444,
              "#bd3786"
             ],
             [
              0.5555555555555556,
              "#d8576b"
             ],
             [
              0.6666666666666666,
              "#ed7953"
             ],
             [
              0.7777777777777778,
              "#fb9f3a"
             ],
             [
              0.8888888888888888,
              "#fdca26"
             ],
             [
              1,
              "#f0f921"
             ]
            ],
            "type": "surface"
           }
          ],
          "table": [
           {
            "cells": {
             "fill": {
              "color": "#EBF0F8"
             },
             "line": {
              "color": "white"
             }
            },
            "header": {
             "fill": {
              "color": "#C8D4E3"
             },
             "line": {
              "color": "white"
             }
            },
            "type": "table"
           }
          ]
         },
         "layout": {
          "annotationdefaults": {
           "arrowcolor": "#2a3f5f",
           "arrowhead": 0,
           "arrowwidth": 1
          },
          "autotypenumbers": "strict",
          "coloraxis": {
           "colorbar": {
            "outlinewidth": 0,
            "ticks": ""
           }
          },
          "colorscale": {
           "diverging": [
            [
             0,
             "#8e0152"
            ],
            [
             0.1,
             "#c51b7d"
            ],
            [
             0.2,
             "#de77ae"
            ],
            [
             0.3,
             "#f1b6da"
            ],
            [
             0.4,
             "#fde0ef"
            ],
            [
             0.5,
             "#f7f7f7"
            ],
            [
             0.6,
             "#e6f5d0"
            ],
            [
             0.7,
             "#b8e186"
            ],
            [
             0.8,
             "#7fbc41"
            ],
            [
             0.9,
             "#4d9221"
            ],
            [
             1,
             "#276419"
            ]
           ],
           "sequential": [
            [
             0,
             "#0d0887"
            ],
            [
             0.1111111111111111,
             "#46039f"
            ],
            [
             0.2222222222222222,
             "#7201a8"
            ],
            [
             0.3333333333333333,
             "#9c179e"
            ],
            [
             0.4444444444444444,
             "#bd3786"
            ],
            [
             0.5555555555555556,
             "#d8576b"
            ],
            [
             0.6666666666666666,
             "#ed7953"
            ],
            [
             0.7777777777777778,
             "#fb9f3a"
            ],
            [
             0.8888888888888888,
             "#fdca26"
            ],
            [
             1,
             "#f0f921"
            ]
           ],
           "sequentialminus": [
            [
             0,
             "#0d0887"
            ],
            [
             0.1111111111111111,
             "#46039f"
            ],
            [
             0.2222222222222222,
             "#7201a8"
            ],
            [
             0.3333333333333333,
             "#9c179e"
            ],
            [
             0.4444444444444444,
             "#bd3786"
            ],
            [
             0.5555555555555556,
             "#d8576b"
            ],
            [
             0.6666666666666666,
             "#ed7953"
            ],
            [
             0.7777777777777778,
             "#fb9f3a"
            ],
            [
             0.8888888888888888,
             "#fdca26"
            ],
            [
             1,
             "#f0f921"
            ]
           ]
          },
          "colorway": [
           "#636efa",
           "#EF553B",
           "#00cc96",
           "#ab63fa",
           "#FFA15A",
           "#19d3f3",
           "#FF6692",
           "#B6E880",
           "#FF97FF",
           "#FECB52"
          ],
          "font": {
           "color": "#2a3f5f"
          },
          "geo": {
           "bgcolor": "white",
           "lakecolor": "white",
           "landcolor": "#E5ECF6",
           "showlakes": true,
           "showland": true,
           "subunitcolor": "white"
          },
          "hoverlabel": {
           "align": "left"
          },
          "hovermode": "closest",
          "mapbox": {
           "style": "light"
          },
          "paper_bgcolor": "white",
          "plot_bgcolor": "#E5ECF6",
          "polar": {
           "angularaxis": {
            "gridcolor": "white",
            "linecolor": "white",
            "ticks": ""
           },
           "bgcolor": "#E5ECF6",
           "radialaxis": {
            "gridcolor": "white",
            "linecolor": "white",
            "ticks": ""
           }
          },
          "scene": {
           "xaxis": {
            "backgroundcolor": "#E5ECF6",
            "gridcolor": "white",
            "gridwidth": 2,
            "linecolor": "white",
            "showbackground": true,
            "ticks": "",
            "zerolinecolor": "white"
           },
           "yaxis": {
            "backgroundcolor": "#E5ECF6",
            "gridcolor": "white",
            "gridwidth": 2,
            "linecolor": "white",
            "showbackground": true,
            "ticks": "",
            "zerolinecolor": "white"
           },
           "zaxis": {
            "backgroundcolor": "#E5ECF6",
            "gridcolor": "white",
            "gridwidth": 2,
            "linecolor": "white",
            "showbackground": true,
            "ticks": "",
            "zerolinecolor": "white"
           }
          },
          "shapedefaults": {
           "line": {
            "color": "#2a3f5f"
           }
          },
          "ternary": {
           "aaxis": {
            "gridcolor": "white",
            "linecolor": "white",
            "ticks": ""
           },
           "baxis": {
            "gridcolor": "white",
            "linecolor": "white",
            "ticks": ""
           },
           "bgcolor": "#E5ECF6",
           "caxis": {
            "gridcolor": "white",
            "linecolor": "white",
            "ticks": ""
           }
          },
          "title": {
           "x": 0.05
          },
          "xaxis": {
           "automargin": true,
           "gridcolor": "white",
           "linecolor": "white",
           "ticks": "",
           "title": {
            "standoff": 15
           },
           "zerolinecolor": "white",
           "zerolinewidth": 2
          },
          "yaxis": {
           "automargin": true,
           "gridcolor": "white",
           "linecolor": "white",
           "ticks": "",
           "title": {
            "standoff": 15
           },
           "zerolinecolor": "white",
           "zerolinewidth": 2
          }
         }
        },
        "title": {
         "text": "MAP@N by genre"
        },
        "xaxis": {
         "title": {
          "text": "N"
         }
        },
        "yaxis": {
         "title": {
          "text": "MAP@N"
         }
        }
       }
      }
     },
     "metadata": {},
     "output_type": "display_data"
    }
   ],
   "source": [
    "numeric_columns = [f'@{N}' for N in N_range]\n",
    "\n",
    "mAP_by_genre = df.groupby('genre')[numeric_columns].mean()\n",
    "mAP_dataset = df[numeric_columns].mean().to_frame().rename(columns={0: 'mAP'})\n",
    "\n",
    "print('Mean average precision for each genre: ')\n",
    "print(mAP_by_genre)\n",
    "print('Mean average precision for entire dataset: ')\n",
    "print(mAP_dataset)\n",
    "\n",
    "\n",
    "fig = go.Figure()\n",
    "for genre in df['genre'].unique():\n",
    "    fig.add_trace(go.Scatter(y=mAP_by_genre.loc[genre], x=N_range, mode='lines+markers', name=genre))\n",
    "fig.add_trace(go.Scatter(y=mAP_dataset['mAP'], x=N_range, mode='lines+markers', name='mean', line=dict(width=4, dash='dash')))\n",
    "\n",
    "fig.update_layout(title='MAP@N by genre', xaxis_title='N', yaxis_title='MAP@N')\n",
    "fig.show()"
   ]
  },
  {
   "cell_type": "markdown",
   "metadata": {},
   "source": [
    "Saving the similarities to a csv file"
   ]
  },
  {
   "cell_type": "code",
   "execution_count": 15,
   "metadata": {},
   "outputs": [],
   "source": [
    "# df_similarities = pd.DataFrame(similarities)\n",
    "# df.to_csv('../data/genre_similarity.csv',index=False)\n",
    "mAP_by_genre.to_csv('../data/map_by_genre.csv')"
   ]
  },
  {
   "cell_type": "code",
   "execution_count": 20,
   "metadata": {},
   "outputs": [
    {
     "name": "stdout",
     "output_type": "stream",
     "text": [
      "                    @3     @5       @10       @13       @15\n",
      "All Combined  0.777778  0.715  0.626512  0.604575  0.608314\n"
     ]
    }
   ],
   "source": [
    "mAP_dataset = mAP_dataset.transpose()\n",
    "mAP_dataset = mAP_dataset.rename(index={'mAP':'All Combined'})\n",
    "print(mAP_dataset)"
   ]
  },
  {
   "cell_type": "code",
   "execution_count": 21,
   "metadata": {},
   "outputs": [],
   "source": [
    "mAP_dataset.to_csv('../data/demucs_similarity.csv', mode='a', header=False)"
   ]
  },
  {
   "cell_type": "markdown",
   "metadata": {},
   "source": [
    "Saving the song names"
   ]
  },
  {
   "cell_type": "code",
   "execution_count": 24,
   "metadata": {},
   "outputs": [
    {
     "name": "stdout",
     "output_type": "stream",
     "text": [
      "20\n"
     ]
    }
   ],
   "source": [
    "genres = [\n",
    "     'Allantha Doorala' \n",
    "    , 'Pranavalaya' \n",
    "    , 'Adiga Adiga' \n",
    "    , 'Guruvaram' \n",
    "    , 'Ghal Ghal' \n",
    "    , 'Ninnila' \n",
    "    , 'Hukum' \n",
    "    , 'Chinnari Thalli' \n",
    "    , 'O Cheliya' \n",
    "    , 'Naatu Naatu'  \n",
    "    , 'Kurchi Madathapetti' \n",
    "    , 'Urike Urike' \n",
    "    , 'Saahore Baahubali' \n",
    "    , 'Nenani Neevani'\n",
    "    , 'Manasavacha'\n",
    "    , 'Ammaadi' \n",
    "    , 'Dheera Dheera' \n",
    "    , 'Pedave Palikina'  \n",
    "    , 'Oosupodu' \n",
    "    , 'Sirivennela' \n",
    "]\n",
    "\n",
    "print(len(genres))"
   ]
  },
  {
   "cell_type": "code",
   "execution_count": 32,
   "metadata": {},
   "outputs": [],
   "source": [
    "import pandas as pd\n",
    "\n",
    "data = pd.read_csv('../data/genre_similarity.csv')\n",
    "data = pd.DataFrame(data)\n",
    "data['song_name'] = genres\n",
    "data = data.rename(columns={'song_name':'Song Name','genre':'Genre'})\n",
    "data.to_csv('../data/genre_similarity.csv',index=False)"
   ]
  }
 ],
 "metadata": {
  "kernelspec": {
   "display_name": ".venv",
   "language": "python",
   "name": "python3"
  },
  "language_info": {
   "codemirror_mode": {
    "name": "ipython",
    "version": 3
   },
   "file_extension": ".py",
   "mimetype": "text/x-python",
   "name": "python",
   "nbconvert_exporter": "python",
   "pygments_lexer": "ipython3",
   "version": "3.10.12"
  }
 },
 "nbformat": 4,
 "nbformat_minor": 2
}
