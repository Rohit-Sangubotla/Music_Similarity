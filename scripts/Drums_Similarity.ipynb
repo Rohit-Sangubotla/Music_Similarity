{
 "cells": [
  {
   "cell_type": "markdown",
   "metadata": {},
   "source": [
    "### Step 1: Import necessary libraries"
   ]
  },
  {
   "cell_type": "code",
   "execution_count": 1,
   "metadata": {},
   "outputs": [
    {
     "name": "stderr",
     "output_type": "stream",
     "text": [
      "2024-06-19 15:23:01.424065: I tensorflow/core/util/port.cc:113] oneDNN custom operations are on. You may see slightly different numerical results due to floating-point round-off errors from different computation orders. To turn them off, set the environment variable `TF_ENABLE_ONEDNN_OPTS=0`.\n",
      "2024-06-19 15:23:01.460941: I tensorflow/core/platform/cpu_feature_guard.cc:210] This TensorFlow binary is optimized to use available CPU instructions in performance-critical operations.\n",
      "To enable the following instructions: AVX2 AVX_VNNI FMA, in other operations, rebuild TensorFlow with the appropriate compiler flags.\n",
      "2024-06-19 15:23:02.003515: W tensorflow/compiler/tf2tensorrt/utils/py_utils.cc:38] TF-TRT Warning: Could not find TensorRT\n"
     ]
    }
   ],
   "source": [
    "import os\n",
    "import numpy as np\n",
    "import librosa\n",
    "import tensorflow as tf\n",
    "from sklearn.metrics.pairwise import cosine_similarity\n",
    "from sklearn.preprocessing import MultiLabelBinarizer\n",
    "import plotly.express as px\n",
    "import pandas as pd\n",
    "from plotly.subplots import make_subplots\n",
    "import plotly.graph_objects as go\n",
    "import json"
   ]
  },
  {
   "cell_type": "markdown",
   "metadata": {},
   "source": [
    "### Step 2: Download model and define paths"
   ]
  },
  {
   "cell_type": "markdown",
   "metadata": {},
   "source": [
    "Download the model and move to 'model' directory. (skip this step if model is already downloaded)"
   ]
  },
  {
   "cell_type": "code",
   "execution_count": 3,
   "metadata": {},
   "outputs": [
    {
     "name": "stdout",
     "output_type": "stream",
     "text": [
      "  % Total    % Received % Xferd  Average Speed   Time    Time     Time  Current\n",
      "                                 Dload  Upload   Total   Spent    Left  Speed\n",
      "100  3101  100  3101    0     0   2416      0  0:00:01  0:00:01 --:--:--  2416\n",
      "  % Total    % Received % Xferd  Average Speed   Time    Time     Time  Current\n",
      "                                 Dload  Upload   Total   Spent    Left  Speed\n",
      "  0     0    0     0    0     0      0      0 --:--:-- --:--:-- --:--:--     0^C\n"
     ]
    }
   ],
   "source": [
    "!curl -SLO https://essentia.upf.edu/models/classifiers/genre_tzanetakis/genre_tzanetakis-musicnn-msd-1.json\n",
    "!curl -SLO https://essentia.upf.edu/models/classifiers/genre_tzanetakis/genre_tzanetakis-musicnn-msd-1.pb"
   ]
  },
  {
   "cell_type": "code",
   "execution_count": 2,
   "metadata": {},
   "outputs": [],
   "source": [
    "MUSICNN_SR = 16000\n",
    "MODEL_PATH = '../model/genre_tzanetakis-musicnn-msd-1.pb'\n",
    "DATASET_DIR = '../dataset/drums'"
   ]
  },
  {
   "cell_type": "code",
   "execution_count": 3,
   "metadata": {},
   "outputs": [
    {
     "name": "stdout",
     "output_type": "stream",
     "text": [
      "name: genre GTZAN\n",
      "type: multi-class classifier\n",
      "link: https://essentia.upf.edu/models/classifiers/genre_tzanetakis/genre_tzanetakis-musicnn-msd-1.pb\n",
      "version: 1\n",
      "description: classification of music by genre\n",
      "author: Pablo Alonso\n",
      "email: pablo.alonso@upf.edu\n",
      "release_date: 2020-03-31\n",
      "framework: tensorflow\n",
      "framework_version: 1.15.0\n",
      "classes: ['blu', 'cla', 'cou', 'dis', 'hip', 'jaz', 'met', 'pop', 'reg', 'roc']\n",
      "model_types: ['frozen_model']\n",
      "dataset: {'name': 'the GTZAN Genre Collection', 'citation': '@article{tzanetakis2002musical,\\n  title={Musical genre classification of audio signals},\\n  author={Tzanetakis, George and Cook, Perry},\\n  journal={IEEE Transactions on speech and audio processing},\\n  volume={10},\\n  number={5},\\n  pages={293--302},\\n  year={2002},\\n  publisher={IEEE}\\n}', 'size': '1000 track excerpts, 100 per genre', 'metrics': {'5-fold_cross_validation_normalized_accuracy': 0.83}}\n",
      "schema: {'inputs': [{'name': 'model/Placeholder', 'type': 'float', 'shape': [187, 96]}], 'outputs': [{'name': 'model/Sigmoid', 'type': 'float', 'shape': [1, 10], 'op': 'Sigmoid', 'output_purpose': 'predictions'}, {'name': 'model/dense_2/BiasAdd', 'type': 'float', 'shape': [1, 10], 'op': 'fully connected', 'description': 'logits', 'output_purpose': ''}, {'name': 'model/dense_1/BiasAdd', 'type': 'float', 'shape': [1, 100], 'op': 'fully connected', 'description': 'penultimate layer', 'output_purpose': ''}, {'name': 'model/dense/BiasAdd', 'type': 'float', 'shape': [1, 200], 'op': 'fully connected', 'output_purpose': 'embeddings'}]}\n",
      "citation: @inproceedings{alonso2020tensorflow,\n",
      "  title={Tensorflow Audio Models in Essentia},\n",
      "  author={Alonso-Jim{\\'e}nez, Pablo and Bogdanov, Dmitry and Pons, Jordi and Serra, Xavier},\n",
      "  booktitle={IEEE International Conference on Acoustics, Speech and Signal Processing (ICASSP)},\n",
      "  year={2020}\n",
      "}\n",
      "inference: {'sample_rate': 16000, 'algorithm': 'TensorflowPredictMusiCNN'}\n"
     ]
    }
   ],
   "source": [
    "MODEL_NAME = '../model/genre_tzanetakis-musicnn-msd-1'\n",
    "MODEL_JSON = f'{MODEL_NAME}.json'\n",
    "MODEL_PB = f'{MODEL_NAME}.pb'\n",
    "\n",
    "musicnn_metadata = json.load(open(MODEL_JSON, 'r'))\n",
    "for k, v in musicnn_metadata.items():\n",
    "    print('{}: {}'.format(k , v))"
   ]
  },
  {
   "cell_type": "markdown",
   "metadata": {},
   "source": [
    "We can observe the output of the penultimate dense layer is proposed as embeddings. \n",
    "We will use it to extract songs embeddings from our dataset."
   ]
  },
  {
   "cell_type": "markdown",
   "metadata": {},
   "source": [
    "### Step 3: Define genres for each song"
   ]
  },
  {
   "cell_type": "code",
   "execution_count": 4,
   "metadata": {},
   "outputs": [],
   "source": [
    "genres = [\n",
    "    ['Romantic', 'Melody'], # Allantha Doorala 0\n",
    "    ['Romantic', 'Melody'], # Pranavalaya 1\n",
    "    ['Romantic', 'Sad'], # Adiga Adiga 2\n",
    "    ['Romantic', 'Upbeat'], # Guruvaram 3\n",
    "    ['Romantic', 'Folk'],   # Ghal Ghal 4\n",
    "    ['Romantic', 'Melody'], # Ninnila 5\n",
    "    ['Mass', 'Inspirational'], # Hukum 6\n",
    "    ['Melody'], # Chinnari Thalli 7\n",
    "    ['Romantic', 'Melody'], # O Cheliya 8\n",
    "    ['Folk', 'Dance'],      # Naatu Naatu 9 \n",
    "    ['Folk', 'Dance'],      # Kurchi Madathapetti 10\n",
    "    ['Romantic', 'Upbeat'], # Urike Urike 11\n",
    "    ['Inspirational', 'Mass'], # Saahore Baahubali 12\n",
    "    ['Romantic', 'Melody'], # Nenani Neevani 13\n",
    "    ['Romantic', 'Melody'], # Manasavacha 14\n",
    "    ['Romantic', 'Melody'],       # Ammaadi 15\n",
    "    ['Romantic', 'Melody'], # Dheera Dheera 16\n",
    "    ['Melody'], # Pedave Palikina 17 \n",
    "    ['Romantic', 'Sad'],   # Oosupodu 18\n",
    "    ['Romantic', 'Melody'] # Sirivennela 19\n",
    "]"
   ]
  },
  {
   "cell_type": "markdown",
   "metadata": {},
   "source": [
    "### Step 4: Encode genres"
   ]
  },
  {
   "cell_type": "code",
   "execution_count": 5,
   "metadata": {},
   "outputs": [],
   "source": [
    "mlb = MultiLabelBinarizer()\n",
    "genre_labels = mlb.fit_transform(genres)"
   ]
  },
  {
   "cell_type": "markdown",
   "metadata": {},
   "source": [
    "### Step 5: Functions for loading and processing audio"
   ]
  },
  {
   "cell_type": "code",
   "execution_count": 6,
   "metadata": {},
   "outputs": [],
   "source": [
    "def load_model(pb_file_path):\n",
    "    with tf.io.gfile.GFile(pb_file_path, \"rb\") as f:\n",
    "        graph_def = tf.compat.v1.GraphDef()\n",
    "        graph_def.ParseFromString(f.read())\n",
    "    with tf.compat.v1.Graph().as_default() as graph:\n",
    "        tf.import_graph_def(graph_def, name=\"\")\n",
    "    return graph\n",
    "\n",
    "def preprocess_audio(file_path, sample_rate=MUSICNN_SR):\n",
    "    y, sr = librosa.load(file_path, sr=sample_rate)\n",
    "    mel_spec = librosa.feature.melspectrogram(y=y, sr=sr, n_mels=96, n_fft=2048, hop_length=512)\n",
    "    log_mel_spec = librosa.power_to_db(mel_spec, ref=np.max)\n",
    "    if log_mel_spec.shape[1] > 187:\n",
    "        log_mel_spec = log_mel_spec[:, :187]\n",
    "    else:\n",
    "        pad_width = 187 - log_mel_spec.shape[1]\n",
    "        log_mel_spec = np.pad(log_mel_spec, ((0, 0), (0, pad_width)), mode='constant')\n",
    "    return log_mel_spec.T[np.newaxis, :, :]\n",
    "\n",
    "def run_model(graph, input_data):\n",
    "    input_tensor = graph.get_tensor_by_name('model/Placeholder:0')\n",
    "    output_tensor = graph.get_tensor_by_name('model/dense/BiasAdd:0')\n",
    "    with tf.compat.v1.Session(graph=graph) as sess:\n",
    "        embeddings = sess.run(output_tensor, feed_dict={input_tensor: input_data})\n",
    "    return embeddings\n",
    "\n",
    "def extract_mean_embedding(filename):\n",
    "    audio_data = preprocess_audio(filename)\n",
    "    graph = load_model(MODEL_PATH)\n",
    "    embeddings = run_model(graph, audio_data)\n",
    "    return embeddings\n",
    "\n",
    "def process_dataset(dataset_dir):\n",
    "    embeddings = []\n",
    "    for root, dirs, files in os.walk(dataset_dir):\n",
    "        for file in files:\n",
    "            if file.endswith('.wav'):\n",
    "                file_path = os.path.join(root, file)\n",
    "                mean_embedding = extract_mean_embedding(file_path)\n",
    "                embeddings.append((file_path, mean_embedding))\n",
    "    return embeddings"
   ]
  },
  {
   "cell_type": "markdown",
   "metadata": {},
   "source": [
    "### Step 6: Process dataset and extract embeddings"
   ]
  },
  {
   "cell_type": "code",
   "execution_count": 7,
   "metadata": {},
   "outputs": [
    {
     "name": "stderr",
     "output_type": "stream",
     "text": [
      "2024-06-19 15:23:26.130848: I external/local_xla/xla/stream_executor/cuda/cuda_executor.cc:998] successful NUMA node read from SysFS had negative value (-1), but there must be at least one NUMA node, so returning NUMA node zero. See more at https://github.com/torvalds/linux/blob/v6.0/Documentation/ABI/testing/sysfs-bus-pci#L344-L355\n",
      "2024-06-19 15:23:26.181665: W tensorflow/core/common_runtime/gpu/gpu_device.cc:2251] Cannot dlopen some GPU libraries. Please make sure the missing libraries mentioned above are installed properly if you would like to use GPU. Follow the guide at https://www.tensorflow.org/install/gpu for how to download and setup the required libraries for your platform.\n",
      "Skipping registering GPU devices...\n",
      "2024-06-19 15:23:26.189582: I tensorflow/compiler/mlir/mlir_graph_optimization_pass.cc:388] MLIR V1 optimization pass is not enabled\n"
     ]
    },
    {
     "name": "stdout",
     "output_type": "stream",
     "text": [
      "File path: ../dataset/drums/Oosupodu_drums.wav\n",
      "File path: ../dataset/drums/Kurchi Madathapetti_drums.wav\n",
      "File path: ../dataset/drums/Allantha Doorala_drums.wav\n",
      "File path: ../dataset/drums/Hukum_drums.wav\n",
      "File path: ../dataset/drums/Pranavalaya_drums.wav\n",
      "File path: ../dataset/drums/Dheera Dheera Dheera_drums.wav\n",
      "File path: ../dataset/drums/Ghal Ghal Ghal Ghal_drums.wav\n",
      "File path: ../dataset/drums/O Cheliya_drums.wav\n",
      "File path: ../dataset/drums/Saahore Baahubali_drums.wav\n",
      "File path: ../dataset/drums/Ammaadi_drums.wav\n",
      "File path: ../dataset/drums/Ninnila_drums.wav\n",
      "File path: ../dataset/drums/Chinnari Thalli_drums.wav\n",
      "File path: ../dataset/drums/Nenani Neevani_drums.wav\n",
      "File path: ../dataset/drums/Adiga Adiga_drums.wav\n",
      "File path: ../dataset/drums/Sirivennela_drums.wav\n",
      "File path: ../dataset/drums/Nattu Nattu_drums.wav\n",
      "File path: ../dataset/drums/Pedave Palikina_drums.wav\n",
      "File path: ../dataset/drums/Urike Urike_drums.wav\n",
      "File path: ../dataset/drums/Manasavacha_drums.wav\n",
      "File path: ../dataset/drums/Guruvaram_drums.wav\n"
     ]
    }
   ],
   "source": [
    "file_embeddings = process_dataset(DATASET_DIR)\n",
    "embeddings = []\n",
    "for file_path, embedding in file_embeddings:\n",
    "    print(f'File path: {file_path}')\n",
    "    embeddings.append(embedding)\n",
    "\n",
    "embeddings = np.array(embeddings)\n",
    "embeddings_matrix = np.vstack([emb for emb in embeddings])  # to convert list of tuples to a numpy matrix\n",
    "similarities = cosine_similarity(embeddings_matrix)"
   ]
  },
  {
   "cell_type": "code",
   "execution_count": 8,
   "metadata": {},
   "outputs": [
    {
     "name": "stdout",
     "output_type": "stream",
     "text": [
      "(20, 20)\n",
      "Min value: 0.6634206771850586\n",
      "Max value: 1.0000003576278687\n"
     ]
    },
    {
     "data": {
      "application/vnd.plotly.v1+json": {
       "config": {
        "plotlyServerURL": "https://plot.ly"
       },
       "data": [
        {
         "coloraxis": "coloraxis",
         "hovertemplate": "x: %{x}<br>y: %{y}<br>color: %{z}<extra></extra>",
         "name": "0",
         "type": "heatmap",
         "xaxis": "x",
         "yaxis": "y",
         "z": [
          [
           0.9999998211860657,
           0.9990315437316895,
           0.9994036555290222,
           0.9628927111625671,
           0.9994578957557678,
           0.9996451139450073,
           0.8521628975868225,
           0.9076244831085205,
           0.9366811513900757,
           0.9970954060554504,
           0.9997966885566711,
           0.6707906126976013,
           0.9994661211967468,
           0.8773398995399475,
           0.9666627645492554,
           0.8818230032920837,
           0.9990431070327759,
           0.9990155696868896,
           0.9973423480987549,
           0.9989317655563354
          ],
          [
           0.9990315437316895,
           1.0000001192092896,
           0.9998046159744263,
           0.9610631465911865,
           0.9996516704559326,
           0.997918963432312,
           0.8520573973655701,
           0.9109739065170288,
           0.9340919852256775,
           0.9986299276351929,
           0.9996347427368164,
           0.6699643731117249,
           0.9995328187942505,
           0.8753137588500977,
           0.9626298546791077,
           0.88064044713974,
           0.9995930194854736,
           0.9989911913871765,
           0.9951583743095398,
           0.9999028444290161
          ],
          [
           0.9994036555290222,
           0.9998046159744263,
           1,
           0.9589603543281555,
           0.9997522234916687,
           0.9982879161834717,
           0.8477128148078918,
           0.9069508910179138,
           0.9319568276405334,
           0.9979251027107239,
           0.9998410940170288,
           0.6659311056137085,
           0.9994329214096069,
           0.8726187348365784,
           0.9614428877830505,
           0.8770399689674377,
           0.9997522830963135,
           0.9986695647239685,
           0.995284914970398,
           0.9998578429222107
          ],
          [
           0.9628927111625671,
           0.9610631465911865,
           0.9589603543281555,
           1.000000238418579,
           0.9600076079368591,
           0.9671076536178589,
           0.948915958404541,
           0.9723618626594543,
           0.9851287603378296,
           0.9641331434249878,
           0.9610273241996765,
           0.791836678981781,
           0.964847207069397,
           0.9610241651535034,
           0.9841681122779846,
           0.9551140069961548,
           0.9577527046203613,
           0.9694798588752747,
           0.9724342226982117,
           0.9600604772567749
          ],
          [
           0.9994578957557678,
           0.9996516704559326,
           0.9997522234916687,
           0.9600076079368591,
           0.9999999403953552,
           0.998452365398407,
           0.8513273596763611,
           0.9071711897850037,
           0.9347962141036987,
           0.9984740614891052,
           0.9997777938842773,
           0.6718781590461731,
           0.9993752837181091,
           0.875085175037384,
           0.9651936292648315,
           0.8821808695793152,
           0.9993882179260254,
           0.998813271522522,
           0.9950427412986755,
           0.9995104670524597
          ],
          [
           0.9996451139450073,
           0.997918963432312,
           0.9982879161834717,
           0.9671076536178589,
           0.998452365398407,
           1,
           0.8576591610908508,
           0.9119585752487183,
           0.9411062002182007,
           0.9959724545478821,
           0.9990405440330505,
           0.6758033037185669,
           0.9989988803863525,
           0.882757842540741,
           0.9698982834815979,
           0.8869074583053589,
           0.9978266358375549,
           0.9989045262336731,
           0.9986048936843872,
           0.997722864151001
          ],
          [
           0.8521628975868225,
           0.8520573973655701,
           0.8477128148078918,
           0.948915958404541,
           0.8513273596763611,
           0.8576591610908508,
           1.0000001192092896,
           0.9540561437606812,
           0.9749748110771179,
           0.863990843296051,
           0.8498519062995911,
           0.9324774146080017,
           0.8559847474098206,
           0.992142379283905,
           0.9308184385299683,
           0.9859713912010193,
           0.845656156539917,
           0.8643282055854797,
           0.8626989126205444,
           0.8500824570655823
          ],
          [
           0.9076244831085205,
           0.9109739065170288,
           0.9069508910179138,
           0.9723618626594543,
           0.9071711897850037,
           0.9119585752487183,
           0.9540561437606812,
           1.0000001192092896,
           0.9597789645195007,
           0.9172301888465881,
           0.9073270559310913,
           0.809773325920105,
           0.9143556952476501,
           0.9565511345863342,
           0.9383190274238586,
           0.9535338282585144,
           0.9049975872039795,
           0.9204602241516113,
           0.9189472198486328,
           0.9101682901382446
          ],
          [
           0.9366811513900757,
           0.9340919852256775,
           0.9319568276405334,
           0.9851287603378296,
           0.9347962141036987,
           0.9411062002182007,
           0.9749748110771179,
           0.9597789645195007,
           1.000000238418579,
           0.941543459892273,
           0.9341062307357788,
           0.8700782060623169,
           0.9375958442687988,
           0.9837626814842224,
           0.9790061712265015,
           0.9845000505447388,
           0.9299953579902649,
           0.9427690505981445,
           0.9441241025924683,
           0.9324371814727783
          ],
          [
           0.9970954060554504,
           0.9986299276351929,
           0.9979251027107239,
           0.9641331434249878,
           0.9984740614891052,
           0.9959724545478821,
           0.863990843296051,
           0.9172301888465881,
           0.941543459892273,
           1.0000003576278687,
           0.9976768493652344,
           0.6873912215232849,
           0.9980627298355103,
           0.8835731148719788,
           0.9684399366378784,
           0.8939136862754822,
           0.9971145391464233,
           0.9981917142868042,
           0.9925163984298706,
           0.9980777502059937
          ],
          [
           0.9997966885566711,
           0.9996347427368164,
           0.9998410940170288,
           0.9610273241996765,
           0.9997777938842773,
           0.9990405440330505,
           0.8498519062995911,
           0.9073270559310913,
           0.9341062307357788,
           0.9976768493652344,
           0.9999997615814209,
           0.6676607131958008,
           0.9996234774589539,
           0.8746318817138672,
           0.9642017483711243,
           0.8792809844017029,
           0.999640166759491,
           0.9990122318267822,
           0.9964495897293091,
           0.9995906949043274
          ],
          [
           0.6707906126976013,
           0.6699643731117249,
           0.6659311056137085,
           0.791836678981781,
           0.6718781590461731,
           0.6758033037185669,
           0.9324774146080017,
           0.809773325920105,
           0.8700782060623169,
           0.6873912215232849,
           0.6676607131958008,
           1.0000003576278687,
           0.6714978218078613,
           0.9205828905105591,
           0.7818235754966736,
           0.9145307540893555,
           0.6634206771850586,
           0.6804931163787842,
           0.6757187843322754,
           0.6676115989685059
          ],
          [
           0.9994661211967468,
           0.9995328187942505,
           0.9994329214096069,
           0.964847207069397,
           0.9993752837181091,
           0.9989988803863525,
           0.8559847474098206,
           0.9143556952476501,
           0.9375958442687988,
           0.9980627298355103,
           0.9996234774589539,
           0.6714978218078613,
           1.0000001192092896,
           0.8789505958557129,
           0.9664115905761719,
           0.8844677805900574,
           0.9990593194961548,
           0.9997389316558838,
           0.9970417618751526,
           0.9993981719017029
          ],
          [
           0.8773398995399475,
           0.8753137588500977,
           0.8726187348365784,
           0.9610241651535034,
           0.875085175037384,
           0.882757842540741,
           0.992142379283905,
           0.9565511345863342,
           0.9837626814842224,
           0.8835731148719788,
           0.8746318817138672,
           0.9205828905105591,
           0.8789505958557129,
           0.9999999403953552,
           0.9398928284645081,
           0.9817861914634705,
           0.8705090880393982,
           0.8860092759132385,
           0.8873210549354553,
           0.8741870522499084
          ],
          [
           0.9666627645492554,
           0.9626298546791077,
           0.9614428877830505,
           0.9841681122779846,
           0.9651936292648315,
           0.9698982834815979,
           0.9308184385299683,
           0.9383190274238586,
           0.9790061712265015,
           0.9684399366378784,
           0.9642017483711243,
           0.7818235754966736,
           0.9664115905761719,
           0.9398928284645081,
           1.000000238418579,
           0.9535622596740723,
           0.9599560499191284,
           0.970198929309845,
           0.9702841639518738,
           0.9607282876968384
          ],
          [
           0.8818230032920837,
           0.88064044713974,
           0.8770399689674377,
           0.9551140069961548,
           0.8821808695793152,
           0.8869074583053589,
           0.9859713912010193,
           0.9535338282585144,
           0.9845000505447388,
           0.8939136862754822,
           0.8792809844017029,
           0.9145307540893555,
           0.8844677805900574,
           0.9817861914634705,
           0.9535622596740723,
           1,
           0.8739157319068909,
           0.8916866183280945,
           0.8881008625030518,
           0.8782433867454529
          ],
          [
           0.9990431070327759,
           0.9995930194854736,
           0.9997522830963135,
           0.9577527046203613,
           0.9993882179260254,
           0.9978266358375549,
           0.845656156539917,
           0.9049975872039795,
           0.9299953579902649,
           0.9971145391464233,
           0.999640166759491,
           0.6634206771850586,
           0.9990593194961548,
           0.8705090880393982,
           0.9599560499191284,
           0.8739157319068909,
           1,
           0.998108983039856,
           0.9951362609863281,
           0.9996916651725769
          ],
          [
           0.9990155696868896,
           0.9989911913871765,
           0.9986695647239685,
           0.9694798588752747,
           0.998813271522522,
           0.9989045262336731,
           0.8643282055854797,
           0.9204602241516113,
           0.9427690505981445,
           0.9981917142868042,
           0.9990122318267822,
           0.6804931163787842,
           0.9997389316558838,
           0.8860092759132385,
           0.970198929309845,
           0.8916866183280945,
           0.998108983039856,
           1.0000003576278687,
           0.9973374009132385,
           0.9987137913703918
          ],
          [
           0.9973423480987549,
           0.9951583743095398,
           0.995284914970398,
           0.9724342226982117,
           0.9950427412986755,
           0.9986048936843872,
           0.8626989126205444,
           0.9189472198486328,
           0.9441241025924683,
           0.9925163984298706,
           0.9964495897293091,
           0.6757187843322754,
           0.9970417618751526,
           0.8873210549354553,
           0.9702841639518738,
           0.8881008625030518,
           0.9951362609863281,
           0.9973374009132385,
           0.9999998807907104,
           0.9948647618293762
          ],
          [
           0.9989317655563354,
           0.9999028444290161,
           0.9998578429222107,
           0.9600604772567749,
           0.9995104670524597,
           0.997722864151001,
           0.8500824570655823,
           0.9101682901382446,
           0.9324371814727783,
           0.9980777502059937,
           0.9995906949043274,
           0.6676115989685059,
           0.9993981719017029,
           0.8741870522499084,
           0.9607282876968384,
           0.8782433867454529,
           0.9996916651725769,
           0.9987137913703918,
           0.9948647618293762,
           1
          ]
         ]
        }
       ],
       "layout": {
        "coloraxis": {
         "colorscale": [
          [
           0,
           "rgb(165,0,38)"
          ],
          [
           0.1,
           "rgb(215,48,39)"
          ],
          [
           0.2,
           "rgb(244,109,67)"
          ],
          [
           0.3,
           "rgb(253,174,97)"
          ],
          [
           0.4,
           "rgb(254,224,139)"
          ],
          [
           0.5,
           "rgb(255,255,191)"
          ],
          [
           0.6,
           "rgb(217,239,139)"
          ],
          [
           0.7,
           "rgb(166,217,106)"
          ],
          [
           0.8,
           "rgb(102,189,99)"
          ],
          [
           0.9,
           "rgb(26,152,80)"
          ],
          [
           1,
           "rgb(0,104,55)"
          ]
         ]
        },
        "margin": {
         "t": 60
        },
        "template": {
         "data": {
          "bar": [
           {
            "error_x": {
             "color": "#2a3f5f"
            },
            "error_y": {
             "color": "#2a3f5f"
            },
            "marker": {
             "line": {
              "color": "#E5ECF6",
              "width": 0.5
             },
             "pattern": {
              "fillmode": "overlay",
              "size": 10,
              "solidity": 0.2
             }
            },
            "type": "bar"
           }
          ],
          "barpolar": [
           {
            "marker": {
             "line": {
              "color": "#E5ECF6",
              "width": 0.5
             },
             "pattern": {
              "fillmode": "overlay",
              "size": 10,
              "solidity": 0.2
             }
            },
            "type": "barpolar"
           }
          ],
          "carpet": [
           {
            "aaxis": {
             "endlinecolor": "#2a3f5f",
             "gridcolor": "white",
             "linecolor": "white",
             "minorgridcolor": "white",
             "startlinecolor": "#2a3f5f"
            },
            "baxis": {
             "endlinecolor": "#2a3f5f",
             "gridcolor": "white",
             "linecolor": "white",
             "minorgridcolor": "white",
             "startlinecolor": "#2a3f5f"
            },
            "type": "carpet"
           }
          ],
          "choropleth": [
           {
            "colorbar": {
             "outlinewidth": 0,
             "ticks": ""
            },
            "type": "choropleth"
           }
          ],
          "contour": [
           {
            "colorbar": {
             "outlinewidth": 0,
             "ticks": ""
            },
            "colorscale": [
             [
              0,
              "#0d0887"
             ],
             [
              0.1111111111111111,
              "#46039f"
             ],
             [
              0.2222222222222222,
              "#7201a8"
             ],
             [
              0.3333333333333333,
              "#9c179e"
             ],
             [
              0.4444444444444444,
              "#bd3786"
             ],
             [
              0.5555555555555556,
              "#d8576b"
             ],
             [
              0.6666666666666666,
              "#ed7953"
             ],
             [
              0.7777777777777778,
              "#fb9f3a"
             ],
             [
              0.8888888888888888,
              "#fdca26"
             ],
             [
              1,
              "#f0f921"
             ]
            ],
            "type": "contour"
           }
          ],
          "contourcarpet": [
           {
            "colorbar": {
             "outlinewidth": 0,
             "ticks": ""
            },
            "type": "contourcarpet"
           }
          ],
          "heatmap": [
           {
            "colorbar": {
             "outlinewidth": 0,
             "ticks": ""
            },
            "colorscale": [
             [
              0,
              "#0d0887"
             ],
             [
              0.1111111111111111,
              "#46039f"
             ],
             [
              0.2222222222222222,
              "#7201a8"
             ],
             [
              0.3333333333333333,
              "#9c179e"
             ],
             [
              0.4444444444444444,
              "#bd3786"
             ],
             [
              0.5555555555555556,
              "#d8576b"
             ],
             [
              0.6666666666666666,
              "#ed7953"
             ],
             [
              0.7777777777777778,
              "#fb9f3a"
             ],
             [
              0.8888888888888888,
              "#fdca26"
             ],
             [
              1,
              "#f0f921"
             ]
            ],
            "type": "heatmap"
           }
          ],
          "heatmapgl": [
           {
            "colorbar": {
             "outlinewidth": 0,
             "ticks": ""
            },
            "colorscale": [
             [
              0,
              "#0d0887"
             ],
             [
              0.1111111111111111,
              "#46039f"
             ],
             [
              0.2222222222222222,
              "#7201a8"
             ],
             [
              0.3333333333333333,
              "#9c179e"
             ],
             [
              0.4444444444444444,
              "#bd3786"
             ],
             [
              0.5555555555555556,
              "#d8576b"
             ],
             [
              0.6666666666666666,
              "#ed7953"
             ],
             [
              0.7777777777777778,
              "#fb9f3a"
             ],
             [
              0.8888888888888888,
              "#fdca26"
             ],
             [
              1,
              "#f0f921"
             ]
            ],
            "type": "heatmapgl"
           }
          ],
          "histogram": [
           {
            "marker": {
             "pattern": {
              "fillmode": "overlay",
              "size": 10,
              "solidity": 0.2
             }
            },
            "type": "histogram"
           }
          ],
          "histogram2d": [
           {
            "colorbar": {
             "outlinewidth": 0,
             "ticks": ""
            },
            "colorscale": [
             [
              0,
              "#0d0887"
             ],
             [
              0.1111111111111111,
              "#46039f"
             ],
             [
              0.2222222222222222,
              "#7201a8"
             ],
             [
              0.3333333333333333,
              "#9c179e"
             ],
             [
              0.4444444444444444,
              "#bd3786"
             ],
             [
              0.5555555555555556,
              "#d8576b"
             ],
             [
              0.6666666666666666,
              "#ed7953"
             ],
             [
              0.7777777777777778,
              "#fb9f3a"
             ],
             [
              0.8888888888888888,
              "#fdca26"
             ],
             [
              1,
              "#f0f921"
             ]
            ],
            "type": "histogram2d"
           }
          ],
          "histogram2dcontour": [
           {
            "colorbar": {
             "outlinewidth": 0,
             "ticks": ""
            },
            "colorscale": [
             [
              0,
              "#0d0887"
             ],
             [
              0.1111111111111111,
              "#46039f"
             ],
             [
              0.2222222222222222,
              "#7201a8"
             ],
             [
              0.3333333333333333,
              "#9c179e"
             ],
             [
              0.4444444444444444,
              "#bd3786"
             ],
             [
              0.5555555555555556,
              "#d8576b"
             ],
             [
              0.6666666666666666,
              "#ed7953"
             ],
             [
              0.7777777777777778,
              "#fb9f3a"
             ],
             [
              0.8888888888888888,
              "#fdca26"
             ],
             [
              1,
              "#f0f921"
             ]
            ],
            "type": "histogram2dcontour"
           }
          ],
          "mesh3d": [
           {
            "colorbar": {
             "outlinewidth": 0,
             "ticks": ""
            },
            "type": "mesh3d"
           }
          ],
          "parcoords": [
           {
            "line": {
             "colorbar": {
              "outlinewidth": 0,
              "ticks": ""
             }
            },
            "type": "parcoords"
           }
          ],
          "pie": [
           {
            "automargin": true,
            "type": "pie"
           }
          ],
          "scatter": [
           {
            "fillpattern": {
             "fillmode": "overlay",
             "size": 10,
             "solidity": 0.2
            },
            "type": "scatter"
           }
          ],
          "scatter3d": [
           {
            "line": {
             "colorbar": {
              "outlinewidth": 0,
              "ticks": ""
             }
            },
            "marker": {
             "colorbar": {
              "outlinewidth": 0,
              "ticks": ""
             }
            },
            "type": "scatter3d"
           }
          ],
          "scattercarpet": [
           {
            "marker": {
             "colorbar": {
              "outlinewidth": 0,
              "ticks": ""
             }
            },
            "type": "scattercarpet"
           }
          ],
          "scattergeo": [
           {
            "marker": {
             "colorbar": {
              "outlinewidth": 0,
              "ticks": ""
             }
            },
            "type": "scattergeo"
           }
          ],
          "scattergl": [
           {
            "marker": {
             "colorbar": {
              "outlinewidth": 0,
              "ticks": ""
             }
            },
            "type": "scattergl"
           }
          ],
          "scattermapbox": [
           {
            "marker": {
             "colorbar": {
              "outlinewidth": 0,
              "ticks": ""
             }
            },
            "type": "scattermapbox"
           }
          ],
          "scatterpolar": [
           {
            "marker": {
             "colorbar": {
              "outlinewidth": 0,
              "ticks": ""
             }
            },
            "type": "scatterpolar"
           }
          ],
          "scatterpolargl": [
           {
            "marker": {
             "colorbar": {
              "outlinewidth": 0,
              "ticks": ""
             }
            },
            "type": "scatterpolargl"
           }
          ],
          "scatterternary": [
           {
            "marker": {
             "colorbar": {
              "outlinewidth": 0,
              "ticks": ""
             }
            },
            "type": "scatterternary"
           }
          ],
          "surface": [
           {
            "colorbar": {
             "outlinewidth": 0,
             "ticks": ""
            },
            "colorscale": [
             [
              0,
              "#0d0887"
             ],
             [
              0.1111111111111111,
              "#46039f"
             ],
             [
              0.2222222222222222,
              "#7201a8"
             ],
             [
              0.3333333333333333,
              "#9c179e"
             ],
             [
              0.4444444444444444,
              "#bd3786"
             ],
             [
              0.5555555555555556,
              "#d8576b"
             ],
             [
              0.6666666666666666,
              "#ed7953"
             ],
             [
              0.7777777777777778,
              "#fb9f3a"
             ],
             [
              0.8888888888888888,
              "#fdca26"
             ],
             [
              1,
              "#f0f921"
             ]
            ],
            "type": "surface"
           }
          ],
          "table": [
           {
            "cells": {
             "fill": {
              "color": "#EBF0F8"
             },
             "line": {
              "color": "white"
             }
            },
            "header": {
             "fill": {
              "color": "#C8D4E3"
             },
             "line": {
              "color": "white"
             }
            },
            "type": "table"
           }
          ]
         },
         "layout": {
          "annotationdefaults": {
           "arrowcolor": "#2a3f5f",
           "arrowhead": 0,
           "arrowwidth": 1
          },
          "autotypenumbers": "strict",
          "coloraxis": {
           "colorbar": {
            "outlinewidth": 0,
            "ticks": ""
           }
          },
          "colorscale": {
           "diverging": [
            [
             0,
             "#8e0152"
            ],
            [
             0.1,
             "#c51b7d"
            ],
            [
             0.2,
             "#de77ae"
            ],
            [
             0.3,
             "#f1b6da"
            ],
            [
             0.4,
             "#fde0ef"
            ],
            [
             0.5,
             "#f7f7f7"
            ],
            [
             0.6,
             "#e6f5d0"
            ],
            [
             0.7,
             "#b8e186"
            ],
            [
             0.8,
             "#7fbc41"
            ],
            [
             0.9,
             "#4d9221"
            ],
            [
             1,
             "#276419"
            ]
           ],
           "sequential": [
            [
             0,
             "#0d0887"
            ],
            [
             0.1111111111111111,
             "#46039f"
            ],
            [
             0.2222222222222222,
             "#7201a8"
            ],
            [
             0.3333333333333333,
             "#9c179e"
            ],
            [
             0.4444444444444444,
             "#bd3786"
            ],
            [
             0.5555555555555556,
             "#d8576b"
            ],
            [
             0.6666666666666666,
             "#ed7953"
            ],
            [
             0.7777777777777778,
             "#fb9f3a"
            ],
            [
             0.8888888888888888,
             "#fdca26"
            ],
            [
             1,
             "#f0f921"
            ]
           ],
           "sequentialminus": [
            [
             0,
             "#0d0887"
            ],
            [
             0.1111111111111111,
             "#46039f"
            ],
            [
             0.2222222222222222,
             "#7201a8"
            ],
            [
             0.3333333333333333,
             "#9c179e"
            ],
            [
             0.4444444444444444,
             "#bd3786"
            ],
            [
             0.5555555555555556,
             "#d8576b"
            ],
            [
             0.6666666666666666,
             "#ed7953"
            ],
            [
             0.7777777777777778,
             "#fb9f3a"
            ],
            [
             0.8888888888888888,
             "#fdca26"
            ],
            [
             1,
             "#f0f921"
            ]
           ]
          },
          "colorway": [
           "#636efa",
           "#EF553B",
           "#00cc96",
           "#ab63fa",
           "#FFA15A",
           "#19d3f3",
           "#FF6692",
           "#B6E880",
           "#FF97FF",
           "#FECB52"
          ],
          "font": {
           "color": "#2a3f5f"
          },
          "geo": {
           "bgcolor": "white",
           "lakecolor": "white",
           "landcolor": "#E5ECF6",
           "showlakes": true,
           "showland": true,
           "subunitcolor": "white"
          },
          "hoverlabel": {
           "align": "left"
          },
          "hovermode": "closest",
          "mapbox": {
           "style": "light"
          },
          "paper_bgcolor": "white",
          "plot_bgcolor": "#E5ECF6",
          "polar": {
           "angularaxis": {
            "gridcolor": "white",
            "linecolor": "white",
            "ticks": ""
           },
           "bgcolor": "#E5ECF6",
           "radialaxis": {
            "gridcolor": "white",
            "linecolor": "white",
            "ticks": ""
           }
          },
          "scene": {
           "xaxis": {
            "backgroundcolor": "#E5ECF6",
            "gridcolor": "white",
            "gridwidth": 2,
            "linecolor": "white",
            "showbackground": true,
            "ticks": "",
            "zerolinecolor": "white"
           },
           "yaxis": {
            "backgroundcolor": "#E5ECF6",
            "gridcolor": "white",
            "gridwidth": 2,
            "linecolor": "white",
            "showbackground": true,
            "ticks": "",
            "zerolinecolor": "white"
           },
           "zaxis": {
            "backgroundcolor": "#E5ECF6",
            "gridcolor": "white",
            "gridwidth": 2,
            "linecolor": "white",
            "showbackground": true,
            "ticks": "",
            "zerolinecolor": "white"
           }
          },
          "shapedefaults": {
           "line": {
            "color": "#2a3f5f"
           }
          },
          "ternary": {
           "aaxis": {
            "gridcolor": "white",
            "linecolor": "white",
            "ticks": ""
           },
           "baxis": {
            "gridcolor": "white",
            "linecolor": "white",
            "ticks": ""
           },
           "bgcolor": "#E5ECF6",
           "caxis": {
            "gridcolor": "white",
            "linecolor": "white",
            "ticks": ""
           }
          },
          "title": {
           "x": 0.05
          },
          "xaxis": {
           "automargin": true,
           "gridcolor": "white",
           "linecolor": "white",
           "ticks": "",
           "title": {
            "standoff": 15
           },
           "zerolinecolor": "white",
           "zerolinewidth": 2
          },
          "yaxis": {
           "automargin": true,
           "gridcolor": "white",
           "linecolor": "white",
           "ticks": "",
           "title": {
            "standoff": 15
           },
           "zerolinecolor": "white",
           "zerolinewidth": 2
          }
         }
        },
        "xaxis": {
         "anchor": "y",
         "constrain": "domain",
         "domain": [
          0,
          1
         ],
         "scaleanchor": "y"
        },
        "yaxis": {
         "anchor": "x",
         "autorange": "reversed",
         "constrain": "domain",
         "domain": [
          0,
          1
         ]
        }
       }
      }
     },
     "metadata": {},
     "output_type": "display_data"
    }
   ],
   "source": [
    "print(similarities.shape)\n",
    "print(f'Min value: {similarities.min()}')\n",
    "print(f'Max value: {similarities.max()}')\n",
    "\n",
    "fig = px.imshow(similarities, color_continuous_scale='RdYlGn')\n",
    "fig.show()"
   ]
  },
  {
   "cell_type": "markdown",
   "metadata": {},
   "source": [
    "### Step 7: Compute sorted indexes and similar songs matrix"
   ]
  },
  {
   "cell_type": "code",
   "execution_count": 9,
   "metadata": {},
   "outputs": [],
   "source": [
    "sorted_indexes = np.argsort(similarities, axis=1)\n",
    "sorted_indexes = np.fliplr(sorted_indexes)\n",
    "\n",
    "def match_genres(genres_i, genres_j):\n",
    "    return any(genre in genres_j for genre in genres_i)\n",
    "\n",
    "similar_songs = np.zeros_like(sorted_indexes)\n",
    "\n",
    "for i in range(sorted_indexes.shape[0]):\n",
    "    genre_i = genres[i] \n",
    "    sorted_indexes_i = sorted_indexes[i, :]  \n",
    "    similar_songs_i = np.array([1 if match_genres(genre_i, genres[j]) else 0 for j in sorted_indexes_i])\n",
    "    similar_songs[i, :] = similar_songs_i\n"
   ]
  },
  {
   "cell_type": "markdown",
   "metadata": {},
   "source": [
    "### Step 8: Evaluation metrics: AP@N and MAP@N"
   ]
  },
  {
   "cell_type": "code",
   "execution_count": 10,
   "metadata": {},
   "outputs": [],
   "source": [
    "def precision_k(similar_items, k):\n",
    "    similar_items_k = similar_items[:k]\n",
    "    P = sum(similar_items_k) / k\n",
    "    return P\n",
    "\n",
    "def average_precision_N(similar_items, N):\n",
    "    m = np.min([np.sum(similar_items), N])\n",
    "    sum_vector = []\n",
    "    for k in range(1, N+1):\n",
    "        if k-1 < len(similar_items):\n",
    "            sum_vector.append(precision_k(similar_items, k) * similar_items[k-1])\n",
    "    AP = (1/m) * sum(sum_vector)\n",
    "    return AP\n"
   ]
  },
  {
   "cell_type": "markdown",
   "metadata": {},
   "source": [
    "### Step 9: Evaluate music similarity"
   ]
  },
  {
   "cell_type": "code",
   "execution_count": 11,
   "metadata": {},
   "outputs": [
    {
     "data": {
      "text/html": [
       "<div>\n",
       "<style scoped>\n",
       "    .dataframe tbody tr th:only-of-type {\n",
       "        vertical-align: middle;\n",
       "    }\n",
       "\n",
       "    .dataframe tbody tr th {\n",
       "        vertical-align: top;\n",
       "    }\n",
       "\n",
       "    .dataframe thead th {\n",
       "        text-align: right;\n",
       "    }\n",
       "</style>\n",
       "<table border=\"1\" class=\"dataframe\">\n",
       "  <thead>\n",
       "    <tr style=\"text-align: right;\">\n",
       "      <th></th>\n",
       "      <th>song_name</th>\n",
       "      <th>genre</th>\n",
       "      <th>@3</th>\n",
       "      <th>@5</th>\n",
       "      <th>@10</th>\n",
       "      <th>@13</th>\n",
       "      <th>@15</th>\n",
       "    </tr>\n",
       "  </thead>\n",
       "  <tbody>\n",
       "    <tr>\n",
       "      <th>0</th>\n",
       "      <td>0</td>\n",
       "      <td>Romantic,Melody</td>\n",
       "      <td>0.555556</td>\n",
       "      <td>0.453333</td>\n",
       "      <td>0.597540</td>\n",
       "      <td>0.581755</td>\n",
       "      <td>0.609902</td>\n",
       "    </tr>\n",
       "    <tr>\n",
       "      <th>1</th>\n",
       "      <td>1</td>\n",
       "      <td>Romantic,Melody</td>\n",
       "      <td>1.000000</td>\n",
       "      <td>0.800000</td>\n",
       "      <td>0.636111</td>\n",
       "      <td>0.662124</td>\n",
       "      <td>0.679555</td>\n",
       "    </tr>\n",
       "    <tr>\n",
       "      <th>2</th>\n",
       "      <td>2</td>\n",
       "      <td>Romantic,Sad</td>\n",
       "      <td>0.666667</td>\n",
       "      <td>0.710000</td>\n",
       "      <td>0.583333</td>\n",
       "      <td>0.553254</td>\n",
       "      <td>0.617138</td>\n",
       "    </tr>\n",
       "    <tr>\n",
       "      <th>3</th>\n",
       "      <td>3</td>\n",
       "      <td>Romantic,Upbeat</td>\n",
       "      <td>1.000000</td>\n",
       "      <td>0.800000</td>\n",
       "      <td>0.531429</td>\n",
       "      <td>0.505080</td>\n",
       "      <td>0.562540</td>\n",
       "    </tr>\n",
       "    <tr>\n",
       "      <th>4</th>\n",
       "      <td>4</td>\n",
       "      <td>Romantic,Folk</td>\n",
       "      <td>1.000000</td>\n",
       "      <td>1.000000</td>\n",
       "      <td>0.780000</td>\n",
       "      <td>0.792128</td>\n",
       "      <td>0.801432</td>\n",
       "    </tr>\n",
       "    <tr>\n",
       "      <th>5</th>\n",
       "      <td>5</td>\n",
       "      <td>Romantic,Melody</td>\n",
       "      <td>0.666667</td>\n",
       "      <td>0.520000</td>\n",
       "      <td>0.630873</td>\n",
       "      <td>0.607396</td>\n",
       "      <td>0.632124</td>\n",
       "    </tr>\n",
       "    <tr>\n",
       "      <th>6</th>\n",
       "      <td>6</td>\n",
       "      <td>Mass,Inspirational</td>\n",
       "      <td>0.500000</td>\n",
       "      <td>0.500000</td>\n",
       "      <td>0.500000</td>\n",
       "      <td>0.576923</td>\n",
       "      <td>0.576923</td>\n",
       "    </tr>\n",
       "    <tr>\n",
       "      <th>7</th>\n",
       "      <td>7</td>\n",
       "      <td>Melody</td>\n",
       "      <td>0.555556</td>\n",
       "      <td>0.483333</td>\n",
       "      <td>0.454762</td>\n",
       "      <td>0.522394</td>\n",
       "      <td>0.641442</td>\n",
       "    </tr>\n",
       "    <tr>\n",
       "      <th>8</th>\n",
       "      <td>8</td>\n",
       "      <td>Romantic,Melody</td>\n",
       "      <td>1.000000</td>\n",
       "      <td>1.000000</td>\n",
       "      <td>0.762103</td>\n",
       "      <td>0.708342</td>\n",
       "      <td>0.666277</td>\n",
       "    </tr>\n",
       "    <tr>\n",
       "      <th>9</th>\n",
       "      <td>9</td>\n",
       "      <td>Folk,Dance</td>\n",
       "      <td>0.555556</td>\n",
       "      <td>0.555556</td>\n",
       "      <td>0.680556</td>\n",
       "      <td>0.680556</td>\n",
       "      <td>0.680556</td>\n",
       "    </tr>\n",
       "    <tr>\n",
       "      <th>10</th>\n",
       "      <td>10</td>\n",
       "      <td>Folk,Dance</td>\n",
       "      <td>0.333333</td>\n",
       "      <td>0.500000</td>\n",
       "      <td>0.500000</td>\n",
       "      <td>0.590909</td>\n",
       "      <td>0.590909</td>\n",
       "    </tr>\n",
       "    <tr>\n",
       "      <th>11</th>\n",
       "      <td>11</td>\n",
       "      <td>Romantic,Upbeat</td>\n",
       "      <td>0.555556</td>\n",
       "      <td>0.643333</td>\n",
       "      <td>0.468095</td>\n",
       "      <td>0.513561</td>\n",
       "      <td>0.524497</td>\n",
       "    </tr>\n",
       "    <tr>\n",
       "      <th>12</th>\n",
       "      <td>12</td>\n",
       "      <td>Inspirational,Mass</td>\n",
       "      <td>0.500000</td>\n",
       "      <td>0.500000</td>\n",
       "      <td>0.500000</td>\n",
       "      <td>0.500000</td>\n",
       "      <td>0.500000</td>\n",
       "    </tr>\n",
       "    <tr>\n",
       "      <th>13</th>\n",
       "      <td>13</td>\n",
       "      <td>Romantic,Melody</td>\n",
       "      <td>0.555556</td>\n",
       "      <td>0.643333</td>\n",
       "      <td>0.757103</td>\n",
       "      <td>0.646490</td>\n",
       "      <td>0.666005</td>\n",
       "    </tr>\n",
       "    <tr>\n",
       "      <th>14</th>\n",
       "      <td>14</td>\n",
       "      <td>Romantic,Melody</td>\n",
       "      <td>1.000000</td>\n",
       "      <td>1.000000</td>\n",
       "      <td>0.767500</td>\n",
       "      <td>0.707249</td>\n",
       "      <td>0.718663</td>\n",
       "    </tr>\n",
       "    <tr>\n",
       "      <th>15</th>\n",
       "      <td>15</td>\n",
       "      <td>Romantic,Melody</td>\n",
       "      <td>0.555556</td>\n",
       "      <td>0.643333</td>\n",
       "      <td>0.658214</td>\n",
       "      <td>0.633358</td>\n",
       "      <td>0.654625</td>\n",
       "    </tr>\n",
       "    <tr>\n",
       "      <th>16</th>\n",
       "      <td>16</td>\n",
       "      <td>Romantic,Melody</td>\n",
       "      <td>1.000000</td>\n",
       "      <td>0.760000</td>\n",
       "      <td>0.696111</td>\n",
       "      <td>0.652334</td>\n",
       "      <td>0.671070</td>\n",
       "    </tr>\n",
       "    <tr>\n",
       "      <th>17</th>\n",
       "      <td>17</td>\n",
       "      <td>Melody</td>\n",
       "      <td>0.555556</td>\n",
       "      <td>0.453333</td>\n",
       "      <td>0.355833</td>\n",
       "      <td>0.422023</td>\n",
       "      <td>0.470508</td>\n",
       "    </tr>\n",
       "    <tr>\n",
       "      <th>18</th>\n",
       "      <td>18</td>\n",
       "      <td>Romantic,Sad</td>\n",
       "      <td>1.000000</td>\n",
       "      <td>0.600000</td>\n",
       "      <td>0.556310</td>\n",
       "      <td>0.537129</td>\n",
       "      <td>0.602164</td>\n",
       "    </tr>\n",
       "    <tr>\n",
       "      <th>19</th>\n",
       "      <td>19</td>\n",
       "      <td>Romantic,Melody</td>\n",
       "      <td>1.000000</td>\n",
       "      <td>0.800000</td>\n",
       "      <td>0.636111</td>\n",
       "      <td>0.662124</td>\n",
       "      <td>0.679555</td>\n",
       "    </tr>\n",
       "  </tbody>\n",
       "</table>\n",
       "</div>"
      ],
      "text/plain": [
       "    song_name               genre        @3        @5       @10       @13  \\\n",
       "0           0     Romantic,Melody  0.555556  0.453333  0.597540  0.581755   \n",
       "1           1     Romantic,Melody  1.000000  0.800000  0.636111  0.662124   \n",
       "2           2        Romantic,Sad  0.666667  0.710000  0.583333  0.553254   \n",
       "3           3     Romantic,Upbeat  1.000000  0.800000  0.531429  0.505080   \n",
       "4           4       Romantic,Folk  1.000000  1.000000  0.780000  0.792128   \n",
       "5           5     Romantic,Melody  0.666667  0.520000  0.630873  0.607396   \n",
       "6           6  Mass,Inspirational  0.500000  0.500000  0.500000  0.576923   \n",
       "7           7              Melody  0.555556  0.483333  0.454762  0.522394   \n",
       "8           8     Romantic,Melody  1.000000  1.000000  0.762103  0.708342   \n",
       "9           9          Folk,Dance  0.555556  0.555556  0.680556  0.680556   \n",
       "10         10          Folk,Dance  0.333333  0.500000  0.500000  0.590909   \n",
       "11         11     Romantic,Upbeat  0.555556  0.643333  0.468095  0.513561   \n",
       "12         12  Inspirational,Mass  0.500000  0.500000  0.500000  0.500000   \n",
       "13         13     Romantic,Melody  0.555556  0.643333  0.757103  0.646490   \n",
       "14         14     Romantic,Melody  1.000000  1.000000  0.767500  0.707249   \n",
       "15         15     Romantic,Melody  0.555556  0.643333  0.658214  0.633358   \n",
       "16         16     Romantic,Melody  1.000000  0.760000  0.696111  0.652334   \n",
       "17         17              Melody  0.555556  0.453333  0.355833  0.422023   \n",
       "18         18        Romantic,Sad  1.000000  0.600000  0.556310  0.537129   \n",
       "19         19     Romantic,Melody  1.000000  0.800000  0.636111  0.662124   \n",
       "\n",
       "         @15  \n",
       "0   0.609902  \n",
       "1   0.679555  \n",
       "2   0.617138  \n",
       "3   0.562540  \n",
       "4   0.801432  \n",
       "5   0.632124  \n",
       "6   0.576923  \n",
       "7   0.641442  \n",
       "8   0.666277  \n",
       "9   0.680556  \n",
       "10  0.590909  \n",
       "11  0.524497  \n",
       "12  0.500000  \n",
       "13  0.666005  \n",
       "14  0.718663  \n",
       "15  0.654625  \n",
       "16  0.671070  \n",
       "17  0.470508  \n",
       "18  0.602164  \n",
       "19  0.679555  "
      ]
     },
     "execution_count": 11,
     "metadata": {},
     "output_type": "execute_result"
    }
   ],
   "source": [
    "N_range = [3, 5, 10, 13, 15]\n",
    "AP_songs = []\n",
    "\n",
    "for N in N_range:\n",
    "    AP_by_N = []\n",
    "    for i in range(similar_songs.shape[0]):\n",
    "        AP_by_N.append(average_precision_N(similar_songs[i, :], N))\n",
    "    AP_songs.append(AP_by_N)\n",
    "\n",
    "genre_strings = [','.join(genre) for genre in genres]\n",
    "\n",
    "df = pd.DataFrame(\n",
    "    list(zip(\n",
    "        [file_path for file_path in range(len(file_path))], \n",
    "        genre_strings,\n",
    "        *AP_songs\n",
    "    )),\n",
    "    columns=['song_name', 'genre'] + [f'@{N}' for N in N_range]\n",
    ")\n",
    "\n",
    "df.head(20)"
   ]
  },
  {
   "cell_type": "markdown",
   "metadata": {},
   "source": [
    "### Step 10: Plotting AP@N histograms"
   ]
  },
  {
   "cell_type": "code",
   "execution_count": 12,
   "metadata": {},
   "outputs": [
    {
     "data": {
      "application/vnd.plotly.v1+json": {
       "config": {
        "plotlyServerURL": "https://plot.ly"
       },
       "data": [
        {
         "type": "histogram",
         "x": [
          0.5555555555555555,
          1,
          0.6666666666666666,
          1,
          1,
          0.6666666666666666,
          0.5,
          0.5555555555555555,
          1,
          0.5555555555555555,
          0.3333333333333333,
          0.5555555555555555,
          0.5,
          0.5555555555555555,
          1,
          0.5555555555555555,
          1,
          0.5555555555555555,
          1,
          1
         ],
         "xaxis": "x",
         "yaxis": "y"
        },
        {
         "type": "histogram",
         "x": [
          0.45333333333333337,
          0.8,
          0.71,
          0.8,
          1,
          0.52,
          0.5,
          0.48333333333333334,
          1,
          0.5555555555555555,
          0.5,
          0.6433333333333334,
          0.5,
          0.6433333333333334,
          1,
          0.6433333333333334,
          0.76,
          0.45333333333333337,
          0.6000000000000001,
          0.8
         ],
         "xaxis": "x2",
         "yaxis": "y2"
        },
        {
         "type": "histogram",
         "x": [
          0.5975396825396825,
          0.6361111111111111,
          0.5833333333333334,
          0.5314285714285715,
          0.78,
          0.6308730158730159,
          0.5,
          0.45476190476190476,
          0.7621031746031746,
          0.6805555555555555,
          0.5,
          0.4680952380952381,
          0.5,
          0.7571031746031747,
          0.7675000000000001,
          0.6582142857142856,
          0.6961111111111111,
          0.35583333333333333,
          0.5563095238095238,
          0.6361111111111111
         ],
         "xaxis": "x3",
         "yaxis": "y3"
        },
        {
         "type": "histogram",
         "x": [
          0.5817545702161087,
          0.6621242005857391,
          0.5532544378698225,
          0.5050795358487666,
          0.7921283844360768,
          0.6073955958571343,
          0.5769230769230769,
          0.5223942723942724,
          0.7083418718034104,
          0.6805555555555555,
          0.5909090909090908,
          0.5135607981761829,
          0.5,
          0.6464896214896216,
          0.7072485207100593,
          0.6333583083583083,
          0.6523339907955293,
          0.4220226742954015,
          0.5371288967442814,
          0.6621242005857391
         ],
         "xaxis": "x4",
         "yaxis": "y4"
        },
        {
         "type": "histogram",
         "x": [
          0.6099015799015799,
          0.6795552595552596,
          0.6171376242804814,
          0.5625398411112698,
          0.8014319014319015,
          0.6321238021238021,
          0.5769230769230769,
          0.6414418914418916,
          0.6662772412772413,
          0.6805555555555555,
          0.5909090909090908,
          0.5244969316397888,
          0.5,
          0.6660052910052912,
          0.7186630036630038,
          0.6546248196248197,
          0.6710704110704112,
          0.47050752278025004,
          0.6021639075210504,
          0.6795552595552596
         ],
         "xaxis": "x5",
         "yaxis": "y5"
        }
       ],
       "layout": {
        "annotations": [
         {
          "font": {
           "size": 16
          },
          "showarrow": false,
          "text": "AP@2",
          "x": 0.14444444444444446,
          "xanchor": "center",
          "xref": "paper",
          "y": 1,
          "yanchor": "bottom",
          "yref": "paper"
         },
         {
          "font": {
           "size": 16
          },
          "showarrow": false,
          "text": "AP@3",
          "x": 0.5,
          "xanchor": "center",
          "xref": "paper",
          "y": 1,
          "yanchor": "bottom",
          "yref": "paper"
         },
         {
          "font": {
           "size": 16
          },
          "showarrow": false,
          "text": "AP@5",
          "x": 0.8555555555555556,
          "xanchor": "center",
          "xref": "paper",
          "y": 1,
          "yanchor": "bottom",
          "yref": "paper"
         },
         {
          "font": {
           "size": 16
          },
          "showarrow": false,
          "text": "AP@10",
          "x": 0.14444444444444446,
          "xanchor": "center",
          "xref": "paper",
          "y": 0.375,
          "yanchor": "bottom",
          "yref": "paper"
         },
         {
          "font": {
           "size": 16
          },
          "showarrow": false,
          "text": "AP@15",
          "x": 0.5,
          "xanchor": "center",
          "xref": "paper",
          "y": 0.375,
          "yanchor": "bottom",
          "yref": "paper"
         }
        ],
        "height": 500,
        "showlegend": false,
        "template": {
         "data": {
          "bar": [
           {
            "error_x": {
             "color": "#2a3f5f"
            },
            "error_y": {
             "color": "#2a3f5f"
            },
            "marker": {
             "line": {
              "color": "#E5ECF6",
              "width": 0.5
             },
             "pattern": {
              "fillmode": "overlay",
              "size": 10,
              "solidity": 0.2
             }
            },
            "type": "bar"
           }
          ],
          "barpolar": [
           {
            "marker": {
             "line": {
              "color": "#E5ECF6",
              "width": 0.5
             },
             "pattern": {
              "fillmode": "overlay",
              "size": 10,
              "solidity": 0.2
             }
            },
            "type": "barpolar"
           }
          ],
          "carpet": [
           {
            "aaxis": {
             "endlinecolor": "#2a3f5f",
             "gridcolor": "white",
             "linecolor": "white",
             "minorgridcolor": "white",
             "startlinecolor": "#2a3f5f"
            },
            "baxis": {
             "endlinecolor": "#2a3f5f",
             "gridcolor": "white",
             "linecolor": "white",
             "minorgridcolor": "white",
             "startlinecolor": "#2a3f5f"
            },
            "type": "carpet"
           }
          ],
          "choropleth": [
           {
            "colorbar": {
             "outlinewidth": 0,
             "ticks": ""
            },
            "type": "choropleth"
           }
          ],
          "contour": [
           {
            "colorbar": {
             "outlinewidth": 0,
             "ticks": ""
            },
            "colorscale": [
             [
              0,
              "#0d0887"
             ],
             [
              0.1111111111111111,
              "#46039f"
             ],
             [
              0.2222222222222222,
              "#7201a8"
             ],
             [
              0.3333333333333333,
              "#9c179e"
             ],
             [
              0.4444444444444444,
              "#bd3786"
             ],
             [
              0.5555555555555556,
              "#d8576b"
             ],
             [
              0.6666666666666666,
              "#ed7953"
             ],
             [
              0.7777777777777778,
              "#fb9f3a"
             ],
             [
              0.8888888888888888,
              "#fdca26"
             ],
             [
              1,
              "#f0f921"
             ]
            ],
            "type": "contour"
           }
          ],
          "contourcarpet": [
           {
            "colorbar": {
             "outlinewidth": 0,
             "ticks": ""
            },
            "type": "contourcarpet"
           }
          ],
          "heatmap": [
           {
            "colorbar": {
             "outlinewidth": 0,
             "ticks": ""
            },
            "colorscale": [
             [
              0,
              "#0d0887"
             ],
             [
              0.1111111111111111,
              "#46039f"
             ],
             [
              0.2222222222222222,
              "#7201a8"
             ],
             [
              0.3333333333333333,
              "#9c179e"
             ],
             [
              0.4444444444444444,
              "#bd3786"
             ],
             [
              0.5555555555555556,
              "#d8576b"
             ],
             [
              0.6666666666666666,
              "#ed7953"
             ],
             [
              0.7777777777777778,
              "#fb9f3a"
             ],
             [
              0.8888888888888888,
              "#fdca26"
             ],
             [
              1,
              "#f0f921"
             ]
            ],
            "type": "heatmap"
           }
          ],
          "heatmapgl": [
           {
            "colorbar": {
             "outlinewidth": 0,
             "ticks": ""
            },
            "colorscale": [
             [
              0,
              "#0d0887"
             ],
             [
              0.1111111111111111,
              "#46039f"
             ],
             [
              0.2222222222222222,
              "#7201a8"
             ],
             [
              0.3333333333333333,
              "#9c179e"
             ],
             [
              0.4444444444444444,
              "#bd3786"
             ],
             [
              0.5555555555555556,
              "#d8576b"
             ],
             [
              0.6666666666666666,
              "#ed7953"
             ],
             [
              0.7777777777777778,
              "#fb9f3a"
             ],
             [
              0.8888888888888888,
              "#fdca26"
             ],
             [
              1,
              "#f0f921"
             ]
            ],
            "type": "heatmapgl"
           }
          ],
          "histogram": [
           {
            "marker": {
             "pattern": {
              "fillmode": "overlay",
              "size": 10,
              "solidity": 0.2
             }
            },
            "type": "histogram"
           }
          ],
          "histogram2d": [
           {
            "colorbar": {
             "outlinewidth": 0,
             "ticks": ""
            },
            "colorscale": [
             [
              0,
              "#0d0887"
             ],
             [
              0.1111111111111111,
              "#46039f"
             ],
             [
              0.2222222222222222,
              "#7201a8"
             ],
             [
              0.3333333333333333,
              "#9c179e"
             ],
             [
              0.4444444444444444,
              "#bd3786"
             ],
             [
              0.5555555555555556,
              "#d8576b"
             ],
             [
              0.6666666666666666,
              "#ed7953"
             ],
             [
              0.7777777777777778,
              "#fb9f3a"
             ],
             [
              0.8888888888888888,
              "#fdca26"
             ],
             [
              1,
              "#f0f921"
             ]
            ],
            "type": "histogram2d"
           }
          ],
          "histogram2dcontour": [
           {
            "colorbar": {
             "outlinewidth": 0,
             "ticks": ""
            },
            "colorscale": [
             [
              0,
              "#0d0887"
             ],
             [
              0.1111111111111111,
              "#46039f"
             ],
             [
              0.2222222222222222,
              "#7201a8"
             ],
             [
              0.3333333333333333,
              "#9c179e"
             ],
             [
              0.4444444444444444,
              "#bd3786"
             ],
             [
              0.5555555555555556,
              "#d8576b"
             ],
             [
              0.6666666666666666,
              "#ed7953"
             ],
             [
              0.7777777777777778,
              "#fb9f3a"
             ],
             [
              0.8888888888888888,
              "#fdca26"
             ],
             [
              1,
              "#f0f921"
             ]
            ],
            "type": "histogram2dcontour"
           }
          ],
          "mesh3d": [
           {
            "colorbar": {
             "outlinewidth": 0,
             "ticks": ""
            },
            "type": "mesh3d"
           }
          ],
          "parcoords": [
           {
            "line": {
             "colorbar": {
              "outlinewidth": 0,
              "ticks": ""
             }
            },
            "type": "parcoords"
           }
          ],
          "pie": [
           {
            "automargin": true,
            "type": "pie"
           }
          ],
          "scatter": [
           {
            "fillpattern": {
             "fillmode": "overlay",
             "size": 10,
             "solidity": 0.2
            },
            "type": "scatter"
           }
          ],
          "scatter3d": [
           {
            "line": {
             "colorbar": {
              "outlinewidth": 0,
              "ticks": ""
             }
            },
            "marker": {
             "colorbar": {
              "outlinewidth": 0,
              "ticks": ""
             }
            },
            "type": "scatter3d"
           }
          ],
          "scattercarpet": [
           {
            "marker": {
             "colorbar": {
              "outlinewidth": 0,
              "ticks": ""
             }
            },
            "type": "scattercarpet"
           }
          ],
          "scattergeo": [
           {
            "marker": {
             "colorbar": {
              "outlinewidth": 0,
              "ticks": ""
             }
            },
            "type": "scattergeo"
           }
          ],
          "scattergl": [
           {
            "marker": {
             "colorbar": {
              "outlinewidth": 0,
              "ticks": ""
             }
            },
            "type": "scattergl"
           }
          ],
          "scattermapbox": [
           {
            "marker": {
             "colorbar": {
              "outlinewidth": 0,
              "ticks": ""
             }
            },
            "type": "scattermapbox"
           }
          ],
          "scatterpolar": [
           {
            "marker": {
             "colorbar": {
              "outlinewidth": 0,
              "ticks": ""
             }
            },
            "type": "scatterpolar"
           }
          ],
          "scatterpolargl": [
           {
            "marker": {
             "colorbar": {
              "outlinewidth": 0,
              "ticks": ""
             }
            },
            "type": "scatterpolargl"
           }
          ],
          "scatterternary": [
           {
            "marker": {
             "colorbar": {
              "outlinewidth": 0,
              "ticks": ""
             }
            },
            "type": "scatterternary"
           }
          ],
          "surface": [
           {
            "colorbar": {
             "outlinewidth": 0,
             "ticks": ""
            },
            "colorscale": [
             [
              0,
              "#0d0887"
             ],
             [
              0.1111111111111111,
              "#46039f"
             ],
             [
              0.2222222222222222,
              "#7201a8"
             ],
             [
              0.3333333333333333,
              "#9c179e"
             ],
             [
              0.4444444444444444,
              "#bd3786"
             ],
             [
              0.5555555555555556,
              "#d8576b"
             ],
             [
              0.6666666666666666,
              "#ed7953"
             ],
             [
              0.7777777777777778,
              "#fb9f3a"
             ],
             [
              0.8888888888888888,
              "#fdca26"
             ],
             [
              1,
              "#f0f921"
             ]
            ],
            "type": "surface"
           }
          ],
          "table": [
           {
            "cells": {
             "fill": {
              "color": "#EBF0F8"
             },
             "line": {
              "color": "white"
             }
            },
            "header": {
             "fill": {
              "color": "#C8D4E3"
             },
             "line": {
              "color": "white"
             }
            },
            "type": "table"
           }
          ]
         },
         "layout": {
          "annotationdefaults": {
           "arrowcolor": "#2a3f5f",
           "arrowhead": 0,
           "arrowwidth": 1
          },
          "autotypenumbers": "strict",
          "coloraxis": {
           "colorbar": {
            "outlinewidth": 0,
            "ticks": ""
           }
          },
          "colorscale": {
           "diverging": [
            [
             0,
             "#8e0152"
            ],
            [
             0.1,
             "#c51b7d"
            ],
            [
             0.2,
             "#de77ae"
            ],
            [
             0.3,
             "#f1b6da"
            ],
            [
             0.4,
             "#fde0ef"
            ],
            [
             0.5,
             "#f7f7f7"
            ],
            [
             0.6,
             "#e6f5d0"
            ],
            [
             0.7,
             "#b8e186"
            ],
            [
             0.8,
             "#7fbc41"
            ],
            [
             0.9,
             "#4d9221"
            ],
            [
             1,
             "#276419"
            ]
           ],
           "sequential": [
            [
             0,
             "#0d0887"
            ],
            [
             0.1111111111111111,
             "#46039f"
            ],
            [
             0.2222222222222222,
             "#7201a8"
            ],
            [
             0.3333333333333333,
             "#9c179e"
            ],
            [
             0.4444444444444444,
             "#bd3786"
            ],
            [
             0.5555555555555556,
             "#d8576b"
            ],
            [
             0.6666666666666666,
             "#ed7953"
            ],
            [
             0.7777777777777778,
             "#fb9f3a"
            ],
            [
             0.8888888888888888,
             "#fdca26"
            ],
            [
             1,
             "#f0f921"
            ]
           ],
           "sequentialminus": [
            [
             0,
             "#0d0887"
            ],
            [
             0.1111111111111111,
             "#46039f"
            ],
            [
             0.2222222222222222,
             "#7201a8"
            ],
            [
             0.3333333333333333,
             "#9c179e"
            ],
            [
             0.4444444444444444,
             "#bd3786"
            ],
            [
             0.5555555555555556,
             "#d8576b"
            ],
            [
             0.6666666666666666,
             "#ed7953"
            ],
            [
             0.7777777777777778,
             "#fb9f3a"
            ],
            [
             0.8888888888888888,
             "#fdca26"
            ],
            [
             1,
             "#f0f921"
            ]
           ]
          },
          "colorway": [
           "#636efa",
           "#EF553B",
           "#00cc96",
           "#ab63fa",
           "#FFA15A",
           "#19d3f3",
           "#FF6692",
           "#B6E880",
           "#FF97FF",
           "#FECB52"
          ],
          "font": {
           "color": "#2a3f5f"
          },
          "geo": {
           "bgcolor": "white",
           "lakecolor": "white",
           "landcolor": "#E5ECF6",
           "showlakes": true,
           "showland": true,
           "subunitcolor": "white"
          },
          "hoverlabel": {
           "align": "left"
          },
          "hovermode": "closest",
          "mapbox": {
           "style": "light"
          },
          "paper_bgcolor": "white",
          "plot_bgcolor": "#E5ECF6",
          "polar": {
           "angularaxis": {
            "gridcolor": "white",
            "linecolor": "white",
            "ticks": ""
           },
           "bgcolor": "#E5ECF6",
           "radialaxis": {
            "gridcolor": "white",
            "linecolor": "white",
            "ticks": ""
           }
          },
          "scene": {
           "xaxis": {
            "backgroundcolor": "#E5ECF6",
            "gridcolor": "white",
            "gridwidth": 2,
            "linecolor": "white",
            "showbackground": true,
            "ticks": "",
            "zerolinecolor": "white"
           },
           "yaxis": {
            "backgroundcolor": "#E5ECF6",
            "gridcolor": "white",
            "gridwidth": 2,
            "linecolor": "white",
            "showbackground": true,
            "ticks": "",
            "zerolinecolor": "white"
           },
           "zaxis": {
            "backgroundcolor": "#E5ECF6",
            "gridcolor": "white",
            "gridwidth": 2,
            "linecolor": "white",
            "showbackground": true,
            "ticks": "",
            "zerolinecolor": "white"
           }
          },
          "shapedefaults": {
           "line": {
            "color": "#2a3f5f"
           }
          },
          "ternary": {
           "aaxis": {
            "gridcolor": "white",
            "linecolor": "white",
            "ticks": ""
           },
           "baxis": {
            "gridcolor": "white",
            "linecolor": "white",
            "ticks": ""
           },
           "bgcolor": "#E5ECF6",
           "caxis": {
            "gridcolor": "white",
            "linecolor": "white",
            "ticks": ""
           }
          },
          "title": {
           "x": 0.05
          },
          "xaxis": {
           "automargin": true,
           "gridcolor": "white",
           "linecolor": "white",
           "ticks": "",
           "title": {
            "standoff": 15
           },
           "zerolinecolor": "white",
           "zerolinewidth": 2
          },
          "yaxis": {
           "automargin": true,
           "gridcolor": "white",
           "linecolor": "white",
           "ticks": "",
           "title": {
            "standoff": 15
           },
           "zerolinecolor": "white",
           "zerolinewidth": 2
          }
         }
        },
        "title": {
         "text": "AP@N histograms"
        },
        "width": 1000,
        "xaxis": {
         "anchor": "y",
         "domain": [
          0,
          0.2888888888888889
         ]
        },
        "xaxis2": {
         "anchor": "y2",
         "domain": [
          0.35555555555555557,
          0.6444444444444445
         ]
        },
        "xaxis3": {
         "anchor": "y3",
         "domain": [
          0.7111111111111111,
          1
         ]
        },
        "xaxis4": {
         "anchor": "y4",
         "domain": [
          0,
          0.2888888888888889
         ]
        },
        "xaxis5": {
         "anchor": "y5",
         "domain": [
          0.35555555555555557,
          0.6444444444444445
         ]
        },
        "xaxis6": {
         "anchor": "y6",
         "domain": [
          0.7111111111111111,
          1
         ]
        },
        "yaxis": {
         "anchor": "x",
         "domain": [
          0.625,
          1
         ]
        },
        "yaxis2": {
         "anchor": "x2",
         "domain": [
          0.625,
          1
         ]
        },
        "yaxis3": {
         "anchor": "x3",
         "domain": [
          0.625,
          1
         ]
        },
        "yaxis4": {
         "anchor": "x4",
         "domain": [
          0,
          0.375
         ]
        },
        "yaxis5": {
         "anchor": "x5",
         "domain": [
          0,
          0.375
         ]
        },
        "yaxis6": {
         "anchor": "x6",
         "domain": [
          0,
          0.375
         ]
        }
       }
      }
     },
     "metadata": {},
     "output_type": "display_data"
    }
   ],
   "source": [
    "fig = make_subplots(rows=2, cols=3, subplot_titles=(\"AP@2\", \"AP@3\", \"AP@5\", \"AP@10\", \"AP@15\"))\n",
    "\n",
    "fig.add_trace(go.Histogram(x=AP_songs[0]), row=1, col=1)\n",
    "fig.add_trace(go.Histogram(x=AP_songs[1]), row=1, col=2)\n",
    "fig.add_trace(go.Histogram(x=AP_songs[2]), row=1, col=3)\n",
    "fig.add_trace(go.Histogram(x=AP_songs[3]), row=2, col=1)\n",
    "fig.add_trace(go.Histogram(x=AP_songs[4]), row=2, col=2)\n",
    "\n",
    "fig.update_layout(height=500, \n",
    "                  width=1000, \n",
    "                  showlegend=False,\n",
    "                  title_text=\"AP@N histograms\")\n",
    "\n",
    "fig.show()"
   ]
  },
  {
   "cell_type": "markdown",
   "metadata": {},
   "source": [
    "### Step 11: Compute mAP@N for each genre and for the whole dataset"
   ]
  },
  {
   "cell_type": "code",
   "execution_count": 13,
   "metadata": {},
   "outputs": [
    {
     "name": "stdout",
     "output_type": "stream",
     "text": [
      "Mean average precision for each genre: \n",
      "                          @3        @5       @10       @13       @15\n",
      "genre                                                               \n",
      "Folk,Dance          0.444444  0.527778  0.590278  0.635732  0.635732\n",
      "Inspirational,Mass  0.500000  0.500000  0.500000  0.500000  0.500000\n",
      "Mass,Inspirational  0.500000  0.500000  0.500000  0.576923  0.576923\n",
      "Melody              0.555556  0.468333  0.405298  0.472208  0.555975\n",
      "Romantic,Folk       1.000000  1.000000  0.780000  0.792128  0.801432\n",
      "Romantic,Melody     0.814815  0.735556  0.682407  0.651241  0.664197\n",
      "Romantic,Sad        0.833333  0.655000  0.569821  0.545192  0.609651\n",
      "Romantic,Upbeat     0.777778  0.721667  0.499762  0.509320  0.543518\n",
      "Mean average precision for entire dataset: \n",
      "          mAP\n",
      "@3   0.727778\n",
      "@5   0.668278\n",
      "@10  0.602599\n",
      "@13  0.602756\n",
      "@15  0.627294\n"
     ]
    },
    {
     "data": {
      "application/vnd.plotly.v1+json": {
       "config": {
        "plotlyServerURL": "https://plot.ly"
       },
       "data": [
        {
         "mode": "lines+markers",
         "name": "Romantic,Melody",
         "type": "scatter",
         "x": [
          3,
          5,
          10,
          13,
          15
         ],
         "y": [
          0.8148148148148148,
          0.7355555555555555,
          0.6824074074074074,
          0.6512412089335167,
          0.6641974075307409
         ]
        },
        {
         "mode": "lines+markers",
         "name": "Romantic,Sad",
         "type": "scatter",
         "x": [
          3,
          5,
          10,
          13,
          15
         ],
         "y": [
          0.8333333333333333,
          0.655,
          0.5698214285714286,
          0.545191667307052,
          0.609650765900766
         ]
        },
        {
         "mode": "lines+markers",
         "name": "Romantic,Upbeat",
         "type": "scatter",
         "x": [
          3,
          5,
          10,
          13,
          15
         ],
         "y": [
          0.7777777777777777,
          0.7216666666666667,
          0.4997619047619048,
          0.5093201670124747,
          0.5435183863755293
         ]
        },
        {
         "mode": "lines+markers",
         "name": "Romantic,Folk",
         "type": "scatter",
         "x": [
          3,
          5,
          10,
          13,
          15
         ],
         "y": [
          1,
          1,
          0.78,
          0.7921283844360768,
          0.8014319014319015
         ]
        },
        {
         "mode": "lines+markers",
         "name": "Mass,Inspirational",
         "type": "scatter",
         "x": [
          3,
          5,
          10,
          13,
          15
         ],
         "y": [
          0.5,
          0.5,
          0.5,
          0.5769230769230769,
          0.5769230769230769
         ]
        },
        {
         "mode": "lines+markers",
         "name": "Melody",
         "type": "scatter",
         "x": [
          3,
          5,
          10,
          13,
          15
         ],
         "y": [
          0.5555555555555555,
          0.4683333333333334,
          0.4052976190476191,
          0.47220847334483695,
          0.5559747071110708
         ]
        },
        {
         "mode": "lines+markers",
         "name": "Folk,Dance",
         "type": "scatter",
         "x": [
          3,
          5,
          10,
          13,
          15
         ],
         "y": [
          0.4444444444444444,
          0.5277777777777777,
          0.5902777777777777,
          0.6357323232323231,
          0.6357323232323231
         ]
        },
        {
         "mode": "lines+markers",
         "name": "Inspirational,Mass",
         "type": "scatter",
         "x": [
          3,
          5,
          10,
          13,
          15
         ],
         "y": [
          0.5,
          0.5,
          0.5,
          0.5,
          0.5
         ]
        },
        {
         "line": {
          "dash": "dash",
          "width": 4
         },
         "mode": "lines+markers",
         "name": "mean",
         "type": "scatter",
         "x": [
          3,
          5,
          10,
          13,
          15
         ],
         "y": [
          0.7277777777777777,
          0.6682777777777777,
          0.6025992063492065,
          0.6027563801777089,
          0.6272942005685513
         ]
        }
       ],
       "layout": {
        "template": {
         "data": {
          "bar": [
           {
            "error_x": {
             "color": "#2a3f5f"
            },
            "error_y": {
             "color": "#2a3f5f"
            },
            "marker": {
             "line": {
              "color": "#E5ECF6",
              "width": 0.5
             },
             "pattern": {
              "fillmode": "overlay",
              "size": 10,
              "solidity": 0.2
             }
            },
            "type": "bar"
           }
          ],
          "barpolar": [
           {
            "marker": {
             "line": {
              "color": "#E5ECF6",
              "width": 0.5
             },
             "pattern": {
              "fillmode": "overlay",
              "size": 10,
              "solidity": 0.2
             }
            },
            "type": "barpolar"
           }
          ],
          "carpet": [
           {
            "aaxis": {
             "endlinecolor": "#2a3f5f",
             "gridcolor": "white",
             "linecolor": "white",
             "minorgridcolor": "white",
             "startlinecolor": "#2a3f5f"
            },
            "baxis": {
             "endlinecolor": "#2a3f5f",
             "gridcolor": "white",
             "linecolor": "white",
             "minorgridcolor": "white",
             "startlinecolor": "#2a3f5f"
            },
            "type": "carpet"
           }
          ],
          "choropleth": [
           {
            "colorbar": {
             "outlinewidth": 0,
             "ticks": ""
            },
            "type": "choropleth"
           }
          ],
          "contour": [
           {
            "colorbar": {
             "outlinewidth": 0,
             "ticks": ""
            },
            "colorscale": [
             [
              0,
              "#0d0887"
             ],
             [
              0.1111111111111111,
              "#46039f"
             ],
             [
              0.2222222222222222,
              "#7201a8"
             ],
             [
              0.3333333333333333,
              "#9c179e"
             ],
             [
              0.4444444444444444,
              "#bd3786"
             ],
             [
              0.5555555555555556,
              "#d8576b"
             ],
             [
              0.6666666666666666,
              "#ed7953"
             ],
             [
              0.7777777777777778,
              "#fb9f3a"
             ],
             [
              0.8888888888888888,
              "#fdca26"
             ],
             [
              1,
              "#f0f921"
             ]
            ],
            "type": "contour"
           }
          ],
          "contourcarpet": [
           {
            "colorbar": {
             "outlinewidth": 0,
             "ticks": ""
            },
            "type": "contourcarpet"
           }
          ],
          "heatmap": [
           {
            "colorbar": {
             "outlinewidth": 0,
             "ticks": ""
            },
            "colorscale": [
             [
              0,
              "#0d0887"
             ],
             [
              0.1111111111111111,
              "#46039f"
             ],
             [
              0.2222222222222222,
              "#7201a8"
             ],
             [
              0.3333333333333333,
              "#9c179e"
             ],
             [
              0.4444444444444444,
              "#bd3786"
             ],
             [
              0.5555555555555556,
              "#d8576b"
             ],
             [
              0.6666666666666666,
              "#ed7953"
             ],
             [
              0.7777777777777778,
              "#fb9f3a"
             ],
             [
              0.8888888888888888,
              "#fdca26"
             ],
             [
              1,
              "#f0f921"
             ]
            ],
            "type": "heatmap"
           }
          ],
          "heatmapgl": [
           {
            "colorbar": {
             "outlinewidth": 0,
             "ticks": ""
            },
            "colorscale": [
             [
              0,
              "#0d0887"
             ],
             [
              0.1111111111111111,
              "#46039f"
             ],
             [
              0.2222222222222222,
              "#7201a8"
             ],
             [
              0.3333333333333333,
              "#9c179e"
             ],
             [
              0.4444444444444444,
              "#bd3786"
             ],
             [
              0.5555555555555556,
              "#d8576b"
             ],
             [
              0.6666666666666666,
              "#ed7953"
             ],
             [
              0.7777777777777778,
              "#fb9f3a"
             ],
             [
              0.8888888888888888,
              "#fdca26"
             ],
             [
              1,
              "#f0f921"
             ]
            ],
            "type": "heatmapgl"
           }
          ],
          "histogram": [
           {
            "marker": {
             "pattern": {
              "fillmode": "overlay",
              "size": 10,
              "solidity": 0.2
             }
            },
            "type": "histogram"
           }
          ],
          "histogram2d": [
           {
            "colorbar": {
             "outlinewidth": 0,
             "ticks": ""
            },
            "colorscale": [
             [
              0,
              "#0d0887"
             ],
             [
              0.1111111111111111,
              "#46039f"
             ],
             [
              0.2222222222222222,
              "#7201a8"
             ],
             [
              0.3333333333333333,
              "#9c179e"
             ],
             [
              0.4444444444444444,
              "#bd3786"
             ],
             [
              0.5555555555555556,
              "#d8576b"
             ],
             [
              0.6666666666666666,
              "#ed7953"
             ],
             [
              0.7777777777777778,
              "#fb9f3a"
             ],
             [
              0.8888888888888888,
              "#fdca26"
             ],
             [
              1,
              "#f0f921"
             ]
            ],
            "type": "histogram2d"
           }
          ],
          "histogram2dcontour": [
           {
            "colorbar": {
             "outlinewidth": 0,
             "ticks": ""
            },
            "colorscale": [
             [
              0,
              "#0d0887"
             ],
             [
              0.1111111111111111,
              "#46039f"
             ],
             [
              0.2222222222222222,
              "#7201a8"
             ],
             [
              0.3333333333333333,
              "#9c179e"
             ],
             [
              0.4444444444444444,
              "#bd3786"
             ],
             [
              0.5555555555555556,
              "#d8576b"
             ],
             [
              0.6666666666666666,
              "#ed7953"
             ],
             [
              0.7777777777777778,
              "#fb9f3a"
             ],
             [
              0.8888888888888888,
              "#fdca26"
             ],
             [
              1,
              "#f0f921"
             ]
            ],
            "type": "histogram2dcontour"
           }
          ],
          "mesh3d": [
           {
            "colorbar": {
             "outlinewidth": 0,
             "ticks": ""
            },
            "type": "mesh3d"
           }
          ],
          "parcoords": [
           {
            "line": {
             "colorbar": {
              "outlinewidth": 0,
              "ticks": ""
             }
            },
            "type": "parcoords"
           }
          ],
          "pie": [
           {
            "automargin": true,
            "type": "pie"
           }
          ],
          "scatter": [
           {
            "fillpattern": {
             "fillmode": "overlay",
             "size": 10,
             "solidity": 0.2
            },
            "type": "scatter"
           }
          ],
          "scatter3d": [
           {
            "line": {
             "colorbar": {
              "outlinewidth": 0,
              "ticks": ""
             }
            },
            "marker": {
             "colorbar": {
              "outlinewidth": 0,
              "ticks": ""
             }
            },
            "type": "scatter3d"
           }
          ],
          "scattercarpet": [
           {
            "marker": {
             "colorbar": {
              "outlinewidth": 0,
              "ticks": ""
             }
            },
            "type": "scattercarpet"
           }
          ],
          "scattergeo": [
           {
            "marker": {
             "colorbar": {
              "outlinewidth": 0,
              "ticks": ""
             }
            },
            "type": "scattergeo"
           }
          ],
          "scattergl": [
           {
            "marker": {
             "colorbar": {
              "outlinewidth": 0,
              "ticks": ""
             }
            },
            "type": "scattergl"
           }
          ],
          "scattermapbox": [
           {
            "marker": {
             "colorbar": {
              "outlinewidth": 0,
              "ticks": ""
             }
            },
            "type": "scattermapbox"
           }
          ],
          "scatterpolar": [
           {
            "marker": {
             "colorbar": {
              "outlinewidth": 0,
              "ticks": ""
             }
            },
            "type": "scatterpolar"
           }
          ],
          "scatterpolargl": [
           {
            "marker": {
             "colorbar": {
              "outlinewidth": 0,
              "ticks": ""
             }
            },
            "type": "scatterpolargl"
           }
          ],
          "scatterternary": [
           {
            "marker": {
             "colorbar": {
              "outlinewidth": 0,
              "ticks": ""
             }
            },
            "type": "scatterternary"
           }
          ],
          "surface": [
           {
            "colorbar": {
             "outlinewidth": 0,
             "ticks": ""
            },
            "colorscale": [
             [
              0,
              "#0d0887"
             ],
             [
              0.1111111111111111,
              "#46039f"
             ],
             [
              0.2222222222222222,
              "#7201a8"
             ],
             [
              0.3333333333333333,
              "#9c179e"
             ],
             [
              0.4444444444444444,
              "#bd3786"
             ],
             [
              0.5555555555555556,
              "#d8576b"
             ],
             [
              0.6666666666666666,
              "#ed7953"
             ],
             [
              0.7777777777777778,
              "#fb9f3a"
             ],
             [
              0.8888888888888888,
              "#fdca26"
             ],
             [
              1,
              "#f0f921"
             ]
            ],
            "type": "surface"
           }
          ],
          "table": [
           {
            "cells": {
             "fill": {
              "color": "#EBF0F8"
             },
             "line": {
              "color": "white"
             }
            },
            "header": {
             "fill": {
              "color": "#C8D4E3"
             },
             "line": {
              "color": "white"
             }
            },
            "type": "table"
           }
          ]
         },
         "layout": {
          "annotationdefaults": {
           "arrowcolor": "#2a3f5f",
           "arrowhead": 0,
           "arrowwidth": 1
          },
          "autotypenumbers": "strict",
          "coloraxis": {
           "colorbar": {
            "outlinewidth": 0,
            "ticks": ""
           }
          },
          "colorscale": {
           "diverging": [
            [
             0,
             "#8e0152"
            ],
            [
             0.1,
             "#c51b7d"
            ],
            [
             0.2,
             "#de77ae"
            ],
            [
             0.3,
             "#f1b6da"
            ],
            [
             0.4,
             "#fde0ef"
            ],
            [
             0.5,
             "#f7f7f7"
            ],
            [
             0.6,
             "#e6f5d0"
            ],
            [
             0.7,
             "#b8e186"
            ],
            [
             0.8,
             "#7fbc41"
            ],
            [
             0.9,
             "#4d9221"
            ],
            [
             1,
             "#276419"
            ]
           ],
           "sequential": [
            [
             0,
             "#0d0887"
            ],
            [
             0.1111111111111111,
             "#46039f"
            ],
            [
             0.2222222222222222,
             "#7201a8"
            ],
            [
             0.3333333333333333,
             "#9c179e"
            ],
            [
             0.4444444444444444,
             "#bd3786"
            ],
            [
             0.5555555555555556,
             "#d8576b"
            ],
            [
             0.6666666666666666,
             "#ed7953"
            ],
            [
             0.7777777777777778,
             "#fb9f3a"
            ],
            [
             0.8888888888888888,
             "#fdca26"
            ],
            [
             1,
             "#f0f921"
            ]
           ],
           "sequentialminus": [
            [
             0,
             "#0d0887"
            ],
            [
             0.1111111111111111,
             "#46039f"
            ],
            [
             0.2222222222222222,
             "#7201a8"
            ],
            [
             0.3333333333333333,
             "#9c179e"
            ],
            [
             0.4444444444444444,
             "#bd3786"
            ],
            [
             0.5555555555555556,
             "#d8576b"
            ],
            [
             0.6666666666666666,
             "#ed7953"
            ],
            [
             0.7777777777777778,
             "#fb9f3a"
            ],
            [
             0.8888888888888888,
             "#fdca26"
            ],
            [
             1,
             "#f0f921"
            ]
           ]
          },
          "colorway": [
           "#636efa",
           "#EF553B",
           "#00cc96",
           "#ab63fa",
           "#FFA15A",
           "#19d3f3",
           "#FF6692",
           "#B6E880",
           "#FF97FF",
           "#FECB52"
          ],
          "font": {
           "color": "#2a3f5f"
          },
          "geo": {
           "bgcolor": "white",
           "lakecolor": "white",
           "landcolor": "#E5ECF6",
           "showlakes": true,
           "showland": true,
           "subunitcolor": "white"
          },
          "hoverlabel": {
           "align": "left"
          },
          "hovermode": "closest",
          "mapbox": {
           "style": "light"
          },
          "paper_bgcolor": "white",
          "plot_bgcolor": "#E5ECF6",
          "polar": {
           "angularaxis": {
            "gridcolor": "white",
            "linecolor": "white",
            "ticks": ""
           },
           "bgcolor": "#E5ECF6",
           "radialaxis": {
            "gridcolor": "white",
            "linecolor": "white",
            "ticks": ""
           }
          },
          "scene": {
           "xaxis": {
            "backgroundcolor": "#E5ECF6",
            "gridcolor": "white",
            "gridwidth": 2,
            "linecolor": "white",
            "showbackground": true,
            "ticks": "",
            "zerolinecolor": "white"
           },
           "yaxis": {
            "backgroundcolor": "#E5ECF6",
            "gridcolor": "white",
            "gridwidth": 2,
            "linecolor": "white",
            "showbackground": true,
            "ticks": "",
            "zerolinecolor": "white"
           },
           "zaxis": {
            "backgroundcolor": "#E5ECF6",
            "gridcolor": "white",
            "gridwidth": 2,
            "linecolor": "white",
            "showbackground": true,
            "ticks": "",
            "zerolinecolor": "white"
           }
          },
          "shapedefaults": {
           "line": {
            "color": "#2a3f5f"
           }
          },
          "ternary": {
           "aaxis": {
            "gridcolor": "white",
            "linecolor": "white",
            "ticks": ""
           },
           "baxis": {
            "gridcolor": "white",
            "linecolor": "white",
            "ticks": ""
           },
           "bgcolor": "#E5ECF6",
           "caxis": {
            "gridcolor": "white",
            "linecolor": "white",
            "ticks": ""
           }
          },
          "title": {
           "x": 0.05
          },
          "xaxis": {
           "automargin": true,
           "gridcolor": "white",
           "linecolor": "white",
           "ticks": "",
           "title": {
            "standoff": 15
           },
           "zerolinecolor": "white",
           "zerolinewidth": 2
          },
          "yaxis": {
           "automargin": true,
           "gridcolor": "white",
           "linecolor": "white",
           "ticks": "",
           "title": {
            "standoff": 15
           },
           "zerolinecolor": "white",
           "zerolinewidth": 2
          }
         }
        },
        "title": {
         "text": "MAP@N by genre"
        },
        "xaxis": {
         "title": {
          "text": "N"
         }
        },
        "yaxis": {
         "title": {
          "text": "MAP@N"
         }
        }
       }
      }
     },
     "metadata": {},
     "output_type": "display_data"
    }
   ],
   "source": [
    "numeric_columns = [f'@{N}' for N in N_range]\n",
    "\n",
    "mAP_by_genre = df.groupby('genre')[numeric_columns].mean()\n",
    "mAP_dataset = df[numeric_columns].mean().to_frame().rename(columns={0: 'mAP'})\n",
    "\n",
    "print('Mean average precision for each genre: ')\n",
    "print(mAP_by_genre)\n",
    "print('Mean average precision for entire dataset: ')\n",
    "print(mAP_dataset)\n",
    "\n",
    "fig = go.Figure()\n",
    "for genre in df['genre'].unique():\n",
    "    fig.add_trace(go.Scatter(y=mAP_by_genre.loc[genre], x=N_range, mode='lines+markers', name=genre))\n",
    "fig.add_trace(go.Scatter(y=mAP_dataset['mAP'], x=N_range, mode='lines+markers', name='mean', line=dict(width=4, dash='dash')))\n",
    "\n",
    "fig.update_layout(title='MAP@N by genre', xaxis_title='N', yaxis_title='MAP@N')\n",
    "fig.show()"
   ]
  },
  {
   "cell_type": "code",
   "execution_count": 19,
   "metadata": {},
   "outputs": [
    {
     "name": "stdout",
     "output_type": "stream",
     "text": [
      "           @3        @5       @10       @13       @15\n",
      "mAP  0.727778  0.668278  0.602599  0.602756  0.627294\n",
      "             @3        @5       @10       @13       @15\n",
      "Drums  0.727778  0.668278  0.602599  0.602756  0.627294\n"
     ]
    }
   ],
   "source": [
    "print(mAP_dataset)\n",
    "mAP_dataset = mAP_dataset.rename(index={'mAP':'Drums'})\n",
    "print(mAP_dataset)"
   ]
  },
  {
   "cell_type": "code",
   "execution_count": 22,
   "metadata": {},
   "outputs": [],
   "source": [
    "mAP_dataset.to_csv('../data/demucs_similarity.csv', mode='a', header=False)"
   ]
  }
 ],
 "metadata": {
  "kernelspec": {
   "display_name": ".venv",
   "language": "python",
   "name": "python3"
  },
  "language_info": {
   "codemirror_mode": {
    "name": "ipython",
    "version": 3
   },
   "file_extension": ".py",
   "mimetype": "text/x-python",
   "name": "python",
   "nbconvert_exporter": "python",
   "pygments_lexer": "ipython3",
   "version": "3.10.12"
  }
 },
 "nbformat": 4,
 "nbformat_minor": 2
}
