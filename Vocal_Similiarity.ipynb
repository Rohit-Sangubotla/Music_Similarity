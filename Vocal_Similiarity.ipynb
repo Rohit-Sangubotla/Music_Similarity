{
 "cells": [
  {
   "cell_type": "markdown",
   "metadata": {},
   "source": [
    "### Step 1: Import necessary libraries"
   ]
  },
  {
   "cell_type": "code",
   "execution_count": 1,
   "metadata": {},
   "outputs": [
    {
     "name": "stderr",
     "output_type": "stream",
     "text": [
      "2024-05-25 04:26:18.942313: I tensorflow/core/util/port.cc:113] oneDNN custom operations are on. You may see slightly different numerical results due to floating-point round-off errors from different computation orders. To turn them off, set the environment variable `TF_ENABLE_ONEDNN_OPTS=0`.\n",
      "2024-05-25 04:26:18.979382: I tensorflow/core/platform/cpu_feature_guard.cc:210] This TensorFlow binary is optimized to use available CPU instructions in performance-critical operations.\n",
      "To enable the following instructions: AVX2 AVX_VNNI FMA, in other operations, rebuild TensorFlow with the appropriate compiler flags.\n",
      "2024-05-25 04:26:19.517628: W tensorflow/compiler/tf2tensorrt/utils/py_utils.cc:38] TF-TRT Warning: Could not find TensorRT\n"
     ]
    }
   ],
   "source": [
    "import os\n",
    "import numpy as np\n",
    "import librosa\n",
    "import tensorflow as tf\n",
    "from sklearn.metrics.pairwise import cosine_similarity\n",
    "from sklearn.preprocessing import MultiLabelBinarizer\n",
    "import plotly.express as px\n",
    "import pandas as pd\n",
    "from plotly.subplots import make_subplots\n",
    "import plotly.graph_objects as go\n",
    "import json"
   ]
  },
  {
   "cell_type": "markdown",
   "metadata": {},
   "source": [
    "### Step 2: Download model and define paths"
   ]
  },
  {
   "cell_type": "markdown",
   "metadata": {},
   "source": [
    "Download the model and move to 'model' directory. (skip this step if model is already downloaded)"
   ]
  },
  {
   "cell_type": "code",
   "execution_count": 3,
   "metadata": {},
   "outputs": [
    {
     "name": "stdout",
     "output_type": "stream",
     "text": [
      "  % Total    % Received % Xferd  Average Speed   Time    Time     Time  Current\n",
      "                                 Dload  Upload   Total   Spent    Left  Speed\n",
      "100  3101  100  3101    0     0   2416      0  0:00:01  0:00:01 --:--:--  2416\n",
      "  % Total    % Received % Xferd  Average Speed   Time    Time     Time  Current\n",
      "                                 Dload  Upload   Total   Spent    Left  Speed\n",
      "  0     0    0     0    0     0      0      0 --:--:-- --:--:-- --:--:--     0^C\n"
     ]
    }
   ],
   "source": [
    "!curl -SLO https://essentia.upf.edu/models/classifiers/genre_tzanetakis/genre_tzanetakis-musicnn-msd-1.json\n",
    "!curl -SLO https://essentia.upf.edu/models/classifiers/genre_tzanetakis/genre_tzanetakis-musicnn-msd-1.pb"
   ]
  },
  {
   "cell_type": "code",
   "execution_count": 2,
   "metadata": {},
   "outputs": [],
   "source": [
    "MUSICNN_SR = 16000\n",
    "MODEL_PATH = 'model/genre_tzanetakis-musicnn-msd-1.pb'\n",
    "DATASET_DIR = 'dataset/vocals'"
   ]
  },
  {
   "cell_type": "code",
   "execution_count": 3,
   "metadata": {},
   "outputs": [
    {
     "name": "stdout",
     "output_type": "stream",
     "text": [
      "name: genre GTZAN\n",
      "type: multi-class classifier\n",
      "link: https://essentia.upf.edu/models/classifiers/genre_tzanetakis/genre_tzanetakis-musicnn-msd-1.pb\n",
      "version: 1\n",
      "description: classification of music by genre\n",
      "author: Pablo Alonso\n",
      "email: pablo.alonso@upf.edu\n",
      "release_date: 2020-03-31\n",
      "framework: tensorflow\n",
      "framework_version: 1.15.0\n",
      "classes: ['blu', 'cla', 'cou', 'dis', 'hip', 'jaz', 'met', 'pop', 'reg', 'roc']\n",
      "model_types: ['frozen_model']\n",
      "dataset: {'name': 'the GTZAN Genre Collection', 'citation': '@article{tzanetakis2002musical,\\n  title={Musical genre classification of audio signals},\\n  author={Tzanetakis, George and Cook, Perry},\\n  journal={IEEE Transactions on speech and audio processing},\\n  volume={10},\\n  number={5},\\n  pages={293--302},\\n  year={2002},\\n  publisher={IEEE}\\n}', 'size': '1000 track excerpts, 100 per genre', 'metrics': {'5-fold_cross_validation_normalized_accuracy': 0.83}}\n",
      "schema: {'inputs': [{'name': 'model/Placeholder', 'type': 'float', 'shape': [187, 96]}], 'outputs': [{'name': 'model/Sigmoid', 'type': 'float', 'shape': [1, 10], 'op': 'Sigmoid', 'output_purpose': 'predictions'}, {'name': 'model/dense_2/BiasAdd', 'type': 'float', 'shape': [1, 10], 'op': 'fully connected', 'description': 'logits', 'output_purpose': ''}, {'name': 'model/dense_1/BiasAdd', 'type': 'float', 'shape': [1, 100], 'op': 'fully connected', 'description': 'penultimate layer', 'output_purpose': ''}, {'name': 'model/dense/BiasAdd', 'type': 'float', 'shape': [1, 200], 'op': 'fully connected', 'output_purpose': 'embeddings'}]}\n",
      "citation: @inproceedings{alonso2020tensorflow,\n",
      "  title={Tensorflow Audio Models in Essentia},\n",
      "  author={Alonso-Jim{\\'e}nez, Pablo and Bogdanov, Dmitry and Pons, Jordi and Serra, Xavier},\n",
      "  booktitle={IEEE International Conference on Acoustics, Speech and Signal Processing (ICASSP)},\n",
      "  year={2020}\n",
      "}\n",
      "inference: {'sample_rate': 16000, 'algorithm': 'TensorflowPredictMusiCNN'}\n"
     ]
    }
   ],
   "source": [
    "MODEL_NAME = 'model/genre_tzanetakis-musicnn-msd-1'\n",
    "MODEL_JSON = f'{MODEL_NAME}.json'\n",
    "MODEL_PB = f'{MODEL_NAME}.pb'\n",
    "\n",
    "musicnn_metadata = json.load(open(MODEL_JSON, 'r'))\n",
    "for k, v in musicnn_metadata.items():\n",
    "    print('{}: {}'.format(k , v))"
   ]
  },
  {
   "cell_type": "markdown",
   "metadata": {},
   "source": [
    "We can observe the output of the penultimate dense layer is proposed as embeddings. \n",
    "We will use it to extract songs embeddings from our dataset."
   ]
  },
  {
   "cell_type": "markdown",
   "metadata": {},
   "source": [
    "### Step 3: Define genres for each song"
   ]
  },
  {
   "cell_type": "code",
   "execution_count": 4,
   "metadata": {},
   "outputs": [],
   "source": [
    "genres = [\n",
    "    ['Romantic', 'Melody'], # Allantha Doorala 0\n",
    "    ['Romantic', 'Melody'], # Pranavalaya 1\n",
    "    ['Romantic', 'Sad'], # Adiga Adiga 2\n",
    "    ['Romantic', 'Upbeat'], # Guruvaram 3\n",
    "    ['Romantic', 'Folk'],   # Ghal Ghal 4\n",
    "    ['Romantic', 'Melody'], # Ninnila 5\n",
    "    ['Mass', 'Inspirational'], # Hukum 6\n",
    "    ['Melody'], # Chinnari Thalli 7\n",
    "    ['Romantic', 'Melody'], # O Cheliya 8\n",
    "    ['Folk', 'Dance'],      # Naatu Naatu 9 \n",
    "    ['Folk', 'Dance'],      # Kurchi Madathapetti 10\n",
    "    ['Romantic', 'Upbeat'], # Urike Urike 11\n",
    "    ['Inspirational', 'Mass'], # Saahore Baahubali 12\n",
    "    ['Romantic', 'Melody'], # Nenani Neevani 13\n",
    "    ['Romantic', 'Melody'], # Manasavacha 14\n",
    "    ['Romantic', 'Melody'],       # Ammaadi 15\n",
    "    ['Romantic', 'Melody'], # Dheera Dheera 16\n",
    "    ['Melody'], # Pedave Palikina 17 \n",
    "    ['Romantic', 'Sad'],   # Oosupodu 18\n",
    "    ['Romantic', 'Melody'] # Sirivennela 19\n",
    "]"
   ]
  },
  {
   "cell_type": "markdown",
   "metadata": {},
   "source": [
    "### Step 4: Encode genres"
   ]
  },
  {
   "cell_type": "code",
   "execution_count": 5,
   "metadata": {},
   "outputs": [],
   "source": [
    "mlb = MultiLabelBinarizer()\n",
    "genre_labels = mlb.fit_transform(genres)"
   ]
  },
  {
   "cell_type": "markdown",
   "metadata": {},
   "source": [
    "### Step 5: Functions for loading and processing audio"
   ]
  },
  {
   "cell_type": "code",
   "execution_count": 6,
   "metadata": {},
   "outputs": [],
   "source": [
    "def load_model(pb_file_path):\n",
    "    with tf.io.gfile.GFile(pb_file_path, \"rb\") as f:\n",
    "        graph_def = tf.compat.v1.GraphDef()\n",
    "        graph_def.ParseFromString(f.read())\n",
    "    with tf.compat.v1.Graph().as_default() as graph:\n",
    "        tf.import_graph_def(graph_def, name=\"\")\n",
    "    return graph\n",
    "\n",
    "def preprocess_audio(file_path, sample_rate=MUSICNN_SR):\n",
    "    y, sr = librosa.load(file_path, sr=sample_rate)\n",
    "    mel_spec = librosa.feature.melspectrogram(y=y, sr=sr, n_mels=96, n_fft=2048, hop_length=512)\n",
    "    log_mel_spec = librosa.power_to_db(mel_spec, ref=np.max)\n",
    "    if log_mel_spec.shape[1] > 187:\n",
    "        log_mel_spec = log_mel_spec[:, :187]\n",
    "    else:\n",
    "        pad_width = 187 - log_mel_spec.shape[1]\n",
    "        log_mel_spec = np.pad(log_mel_spec, ((0, 0), (0, pad_width)), mode='constant')\n",
    "    return log_mel_spec.T[np.newaxis, :, :]\n",
    "\n",
    "def run_model(graph, input_data):\n",
    "    input_tensor = graph.get_tensor_by_name('model/Placeholder:0')\n",
    "    output_tensor = graph.get_tensor_by_name('model/dense/BiasAdd:0')\n",
    "    with tf.compat.v1.Session(graph=graph) as sess:\n",
    "        embeddings = sess.run(output_tensor, feed_dict={input_tensor: input_data})\n",
    "    return embeddings\n",
    "\n",
    "def extract_mean_embedding(filename):\n",
    "    audio_data = preprocess_audio(filename)\n",
    "    graph = load_model(MODEL_PATH)\n",
    "    embeddings = run_model(graph, audio_data)\n",
    "    return embeddings\n",
    "\n",
    "def process_dataset(dataset_dir):\n",
    "    embeddings = []\n",
    "    for root, dirs, files in os.walk(dataset_dir):\n",
    "        for file in files:\n",
    "            if file.endswith('.wav'):\n",
    "                file_path = os.path.join(root, file)\n",
    "                mean_embedding = extract_mean_embedding(file_path)\n",
    "                embeddings.append((file_path, mean_embedding))\n",
    "    return embeddings"
   ]
  },
  {
   "cell_type": "markdown",
   "metadata": {},
   "source": [
    "### Step 6: Process dataset and extract embeddings"
   ]
  },
  {
   "cell_type": "code",
   "execution_count": 7,
   "metadata": {},
   "outputs": [
    {
     "name": "stderr",
     "output_type": "stream",
     "text": [
      "2024-05-25 04:26:30.595203: I external/local_xla/xla/stream_executor/cuda/cuda_executor.cc:998] successful NUMA node read from SysFS had negative value (-1), but there must be at least one NUMA node, so returning NUMA node zero. See more at https://github.com/torvalds/linux/blob/v6.0/Documentation/ABI/testing/sysfs-bus-pci#L344-L355\n",
      "2024-05-25 04:26:30.652487: W tensorflow/core/common_runtime/gpu/gpu_device.cc:2251] Cannot dlopen some GPU libraries. Please make sure the missing libraries mentioned above are installed properly if you would like to use GPU. Follow the guide at https://www.tensorflow.org/install/gpu for how to download and setup the required libraries for your platform.\n",
      "Skipping registering GPU devices...\n",
      "2024-05-25 04:26:30.658316: I tensorflow/compiler/mlir/mlir_graph_optimization_pass.cc:388] MLIR V1 optimization pass is not enabled\n"
     ]
    },
    {
     "name": "stdout",
     "output_type": "stream",
     "text": [
      "File path: dataset/vocals/Nattu Nattu_vocals.wav\n",
      "File path: dataset/vocals/Guruvaram_vocals.wav\n",
      "File path: dataset/vocals/Oosupodu_vocals.wav\n",
      "File path: dataset/vocals/Nenani Neevani_vocals.wav\n",
      "File path: dataset/vocals/Saahore Baahubali_vocals.wav\n",
      "File path: dataset/vocals/Adiga Adiga_vocals.wav\n",
      "File path: dataset/vocals/Ammaadi_vocals.wav\n",
      "File path: dataset/vocals/O Cheliya_vocals.wav\n",
      "File path: dataset/vocals/Manasavacha_vocals.wav\n",
      "File path: dataset/vocals/Pedave Palikina_vocals.wav\n",
      "File path: dataset/vocals/Hukum_vocals.wav\n",
      "File path: dataset/vocals/Dheera Dheera Dheera_vocals.wav\n",
      "File path: dataset/vocals/Ninnila_vocals.wav\n",
      "File path: dataset/vocals/Ghal Ghal Ghal Ghal_vocals.wav\n",
      "File path: dataset/vocals/Kurchi Madathapetti_vocals.wav\n",
      "File path: dataset/vocals/Urike Urike_vocals.wav\n",
      "File path: dataset/vocals/Allantha Doorala_vocals.wav\n",
      "File path: dataset/vocals/Chinnari Thalli_vocals.wav\n",
      "File path: dataset/vocals/Pranavalaya_vocals.wav\n",
      "File path: dataset/vocals/Sirivennela_vocals.wav\n"
     ]
    }
   ],
   "source": [
    "file_embeddings = process_dataset(DATASET_DIR)\n",
    "embeddings = []\n",
    "for file_path, embedding in file_embeddings:\n",
    "    print(f'File path: {file_path}')\n",
    "    embeddings.append(embedding)\n",
    "\n",
    "embeddings = np.array(embeddings)\n",
    "embeddings_matrix = np.vstack([emb for emb in embeddings])  # to convert list of tuples to a numpy matrix\n",
    "similarities = cosine_similarity(embeddings_matrix)"
   ]
  },
  {
   "cell_type": "code",
   "execution_count": 8,
   "metadata": {},
   "outputs": [
    {
     "name": "stdout",
     "output_type": "stream",
     "text": [
      "(20, 20)\n",
      "Min value: 0.9490228891372681\n",
      "Max value: 1.000000238418579\n"
     ]
    },
    {
     "data": {
      "application/vnd.plotly.v1+json": {
       "config": {
        "plotlyServerURL": "https://plot.ly"
       },
       "data": [
        {
         "coloraxis": "coloraxis",
         "hovertemplate": "x: %{x}<br>y: %{y}<br>color: %{z}<extra></extra>",
         "name": "0",
         "type": "heatmap",
         "xaxis": "x",
         "yaxis": "y",
         "z": [
          [
           1,
           0.9992348551750183,
           0.9989516139030457,
           0.9998076558113098,
           0.959510326385498,
           0.9991068243980408,
           0.9774207472801208,
           0.9783973097801208,
           0.9985383152961731,
           0.999709963798523,
           0.9615516662597656,
           0.966835081577301,
           0.9998751282691956,
           0.9906187653541565,
           0.9622403979301453,
           0.957844614982605,
           0.9567383527755737,
           0.9996373057365417,
           0.9998729825019836,
           0.9737632274627686
          ],
          [
           0.9992348551750183,
           0.9999997615814209,
           0.9982802867889404,
           0.9994673132896423,
           0.9547629356384277,
           0.9993181824684143,
           0.9744498133659363,
           0.974323034286499,
           0.9980461597442627,
           0.9996964335441589,
           0.9584896564483643,
           0.962382435798645,
           0.9993655681610107,
           0.9874817728996277,
           0.9602480530738831,
           0.9508551359176636,
           0.9539827704429626,
           0.9992823600769043,
           0.9995242357254028,
           0.9710609316825867
          ],
          [
           0.9989516139030457,
           0.9982802867889404,
           0.9999999403953552,
           0.9986789226531982,
           0.958635151386261,
           0.9994556307792664,
           0.9824220538139343,
           0.9827861785888672,
           0.999897301197052,
           0.9983605742454529,
           0.9660268425941467,
           0.9705287218093872,
           0.9983760118484497,
           0.9881346225738525,
           0.9671570658683777,
           0.9605352878570557,
           0.965323805809021,
           0.9996502995491028,
           0.9986137747764587,
           0.9801449179649353
          ],
          [
           0.9998076558113098,
           0.9994673132896423,
           0.9986789226531982,
           0.9999997615814209,
           0.9595956206321716,
           0.999163806438446,
           0.9765774011611938,
           0.9772269129753113,
           0.9982753396034241,
           0.9996638298034668,
           0.9623013138771057,
           0.9653456807136536,
           0.9997329711914062,
           0.9906476736068726,
           0.9637314081192017,
           0.95655757188797,
           0.9558082818984985,
           0.999500036239624,
           0.9998088479042053,
           0.973534107208252
          ],
          [
           0.959510326385498,
           0.9547629356384277,
           0.958635151386261,
           0.9595956206321716,
           0.9999999403953552,
           0.9555690288543701,
           0.975455641746521,
           0.9796167612075806,
           0.9585026502609253,
           0.9558045864105225,
           0.9829106330871582,
           0.9808717966079712,
           0.9579746723175049,
           0.9814900159835815,
           0.9695347547531128,
           0.9839175343513489,
           0.9490228891372681,
           0.9564477801322937,
           0.9575124979019165,
           0.9717747569084167
          ],
          [
           0.9991068243980408,
           0.9993181824684143,
           0.9994556307792664,
           0.999163806438446,
           0.9555690288543701,
           0.9999997615814209,
           0.9781286716461182,
           0.978410005569458,
           0.9993709921836853,
           0.9989932179450989,
           0.9637661576271057,
           0.9652547240257263,
           0.9987384676933289,
           0.9863784313201904,
           0.965187668800354,
           0.9542236924171448,
           0.96059250831604,
           0.9996681213378906,
           0.9990051984786987,
           0.976192057132721
          ],
          [
           0.9774207472801208,
           0.9744498133659363,
           0.9824220538139343,
           0.9765774011611938,
           0.975455641746521,
           0.9781286716461182,
           0.9999998211860657,
           0.9983969926834106,
           0.9831196665763855,
           0.9744154810905457,
           0.9820348620414734,
           0.9945260286331177,
           0.9753524661064148,
           0.9798927903175354,
           0.9809939861297607,
           0.9850987792015076,
           0.9876441955566406,
           0.9787780046463013,
           0.9756649136543274,
           0.9947671890258789
          ],
          [
           0.9783973097801208,
           0.974323034286499,
           0.9827861785888672,
           0.9772269129753113,
           0.9796167612075806,
           0.978410005569458,
           0.9983969926834106,
           0.9999999403953552,
           0.9832270741462708,
           0.9749904870986938,
           0.9853443503379822,
           0.9943568110466003,
           0.976199209690094,
           0.9813452363014221,
           0.9804403185844421,
           0.9881662130355835,
           0.9855217933654785,
           0.97910475730896,
           0.9763718247413635,
           0.993893027305603
          ],
          [
           0.9985383152961731,
           0.9980461597442627,
           0.999897301197052,
           0.9982753396034241,
           0.9585026502609253,
           0.9993709921836853,
           0.9831196665763855,
           0.9832270741462708,
           1.0000001192092896,
           0.9979040026664734,
           0.9666044116020203,
           0.9706341028213501,
           0.9978854656219482,
           0.987525463104248,
           0.9675423502922058,
           0.9604017734527588,
           0.9664394855499268,
           0.9993613362312317,
           0.9981574416160583,
           0.9812100529670715
          ],
          [
           0.999709963798523,
           0.9996964335441589,
           0.9983605742454529,
           0.9996638298034668,
           0.9558045864105225,
           0.9989932179450989,
           0.9744154810905457,
           0.9749904870986938,
           0.9979040026664734,
           1,
           0.9574919939041138,
           0.9635124802589417,
           0.9998909831047058,
           0.9889476895332336,
           0.9585015773773193,
           0.9533395171165466,
           0.9532521963119507,
           0.9994469881057739,
           0.9999197721481323,
           0.9702839851379395
          ],
          [
           0.9615516662597656,
           0.9584896564483643,
           0.9660268425941467,
           0.9623013138771057,
           0.9829106330871582,
           0.9637661576271057,
           0.9820348620414734,
           0.9853443503379822,
           0.9666044116020203,
           0.9574919939041138,
           0.9999998211860657,
           0.9764699339866638,
           0.958444356918335,
           0.9675602316856384,
           0.9920775890350342,
           0.9763652682304382,
           0.9720141291618347,
           0.9619549512863159,
           0.9590383172035217,
           0.9867221713066101
          ],
          [
           0.966835081577301,
           0.962382435798645,
           0.9705287218093872,
           0.9653456807136536,
           0.9808717966079712,
           0.9652547240257263,
           0.9945260286331177,
           0.9943568110466003,
           0.9706341028213501,
           0.9635124802589417,
           0.9764699339866638,
           1.000000238418579,
           0.9650640487670898,
           0.9770248532295227,
           0.972314715385437,
           0.9904585480690002,
           0.9814493656158447,
           0.9670063853263855,
           0.9649780988693237,
           0.9857199788093567
          ],
          [
           0.9998751282691956,
           0.9993655681610107,
           0.9983760118484497,
           0.9997329711914062,
           0.9579746723175049,
           0.9987384676933289,
           0.9753524661064148,
           0.976199209690094,
           0.9978854656219482,
           0.9998909831047058,
           0.958444356918335,
           0.9650640487670898,
           1.000000238418579,
           0.9904794096946716,
           0.9591779708862305,
           0.9558348655700684,
           0.9537035822868347,
           0.9993847012519836,
           0.9999626278877258,
           0.9711272716522217
          ],
          [
           0.9906187653541565,
           0.9874817728996277,
           0.9881346225738525,
           0.9906476736068726,
           0.9814900159835815,
           0.9863784313201904,
           0.9798927903175354,
           0.9813452363014221,
           0.987525463104248,
           0.9889476895332336,
           0.9675602316856384,
           0.9770248532295227,
           0.9904794096946716,
           1.0000001192092896,
           0.9648407101631165,
           0.9758767485618591,
           0.9520335793495178,
           0.9883715510368347,
           0.9900230169296265,
           0.9746050834655762
          ],
          [
           0.9622403979301453,
           0.9602480530738831,
           0.9671570658683777,
           0.9637314081192017,
           0.9695347547531128,
           0.965187668800354,
           0.9809939861297607,
           0.9804403185844421,
           0.9675423502922058,
           0.9585015773773193,
           0.9920775890350342,
           0.972314715385437,
           0.9591779708862305,
           0.9648407101631165,
           1.000000238418579,
           0.9695141315460205,
           0.976370096206665,
           0.9637871980667114,
           0.9599848985671997,
           0.9879616498947144
          ],
          [
           0.957844614982605,
           0.9508551359176636,
           0.9605352878570557,
           0.95655757188797,
           0.9839175343513489,
           0.9542236924171448,
           0.9850987792015076,
           0.9881662130355835,
           0.9604017734527588,
           0.9533395171165466,
           0.9763652682304382,
           0.9904585480690002,
           0.9558348655700684,
           0.9758767485618591,
           0.9695141315460205,
           0.9999999403953552,
           0.9750818610191345,
           0.9568302631378174,
           0.9554489254951477,
           0.9832051396369934
          ],
          [
           0.9567383527755737,
           0.9539827704429626,
           0.965323805809021,
           0.9558082818984985,
           0.9490228891372681,
           0.96059250831604,
           0.9876441955566406,
           0.9855217933654785,
           0.9664394855499268,
           0.9532521963119507,
           0.9720141291618347,
           0.9814493656158447,
           0.9537035822868347,
           0.9520335793495178,
           0.976370096206665,
           0.9750818610191345,
           1,
           0.9603780508041382,
           0.9544517993927002,
           0.9915198683738708
          ],
          [
           0.9996373057365417,
           0.9992823600769043,
           0.9996502995491028,
           0.999500036239624,
           0.9564477801322937,
           0.9996681213378906,
           0.9787780046463013,
           0.97910475730896,
           0.9993613362312317,
           0.9994469881057739,
           0.9619549512863159,
           0.9670063853263855,
           0.9993847012519836,
           0.9883715510368347,
           0.9637871980667114,
           0.9568302631378174,
           0.9603780508041382,
           0.9999998211860657,
           0.9995436668395996,
           0.9758554100990295
          ],
          [
           0.9998729825019836,
           0.9995242357254028,
           0.9986137747764587,
           0.9998088479042053,
           0.9575124979019165,
           0.9990051984786987,
           0.9756649136543274,
           0.9763718247413635,
           0.9981574416160583,
           0.9999197721481323,
           0.9590383172035217,
           0.9649780988693237,
           0.9999626278877258,
           0.9900230169296265,
           0.9599848985671997,
           0.9554489254951477,
           0.9544517993927002,
           0.9995436668395996,
           0.9999997019767761,
           0.9717022180557251
          ],
          [
           0.9737632274627686,
           0.9710609316825867,
           0.9801449179649353,
           0.973534107208252,
           0.9717747569084167,
           0.976192057132721,
           0.9947671890258789,
           0.993893027305603,
           0.9812100529670715,
           0.9702839851379395,
           0.9867221713066101,
           0.9857199788093567,
           0.9711272716522217,
           0.9746050834655762,
           0.9879616498947144,
           0.9832051396369934,
           0.9915198683738708,
           0.9758554100990295,
           0.9717022180557251,
           0.9999997615814209
          ]
         ]
        }
       ],
       "layout": {
        "coloraxis": {
         "colorscale": [
          [
           0,
           "rgb(165,0,38)"
          ],
          [
           0.1,
           "rgb(215,48,39)"
          ],
          [
           0.2,
           "rgb(244,109,67)"
          ],
          [
           0.3,
           "rgb(253,174,97)"
          ],
          [
           0.4,
           "rgb(254,224,139)"
          ],
          [
           0.5,
           "rgb(255,255,191)"
          ],
          [
           0.6,
           "rgb(217,239,139)"
          ],
          [
           0.7,
           "rgb(166,217,106)"
          ],
          [
           0.8,
           "rgb(102,189,99)"
          ],
          [
           0.9,
           "rgb(26,152,80)"
          ],
          [
           1,
           "rgb(0,104,55)"
          ]
         ]
        },
        "margin": {
         "t": 60
        },
        "template": {
         "data": {
          "bar": [
           {
            "error_x": {
             "color": "#2a3f5f"
            },
            "error_y": {
             "color": "#2a3f5f"
            },
            "marker": {
             "line": {
              "color": "#E5ECF6",
              "width": 0.5
             },
             "pattern": {
              "fillmode": "overlay",
              "size": 10,
              "solidity": 0.2
             }
            },
            "type": "bar"
           }
          ],
          "barpolar": [
           {
            "marker": {
             "line": {
              "color": "#E5ECF6",
              "width": 0.5
             },
             "pattern": {
              "fillmode": "overlay",
              "size": 10,
              "solidity": 0.2
             }
            },
            "type": "barpolar"
           }
          ],
          "carpet": [
           {
            "aaxis": {
             "endlinecolor": "#2a3f5f",
             "gridcolor": "white",
             "linecolor": "white",
             "minorgridcolor": "white",
             "startlinecolor": "#2a3f5f"
            },
            "baxis": {
             "endlinecolor": "#2a3f5f",
             "gridcolor": "white",
             "linecolor": "white",
             "minorgridcolor": "white",
             "startlinecolor": "#2a3f5f"
            },
            "type": "carpet"
           }
          ],
          "choropleth": [
           {
            "colorbar": {
             "outlinewidth": 0,
             "ticks": ""
            },
            "type": "choropleth"
           }
          ],
          "contour": [
           {
            "colorbar": {
             "outlinewidth": 0,
             "ticks": ""
            },
            "colorscale": [
             [
              0,
              "#0d0887"
             ],
             [
              0.1111111111111111,
              "#46039f"
             ],
             [
              0.2222222222222222,
              "#7201a8"
             ],
             [
              0.3333333333333333,
              "#9c179e"
             ],
             [
              0.4444444444444444,
              "#bd3786"
             ],
             [
              0.5555555555555556,
              "#d8576b"
             ],
             [
              0.6666666666666666,
              "#ed7953"
             ],
             [
              0.7777777777777778,
              "#fb9f3a"
             ],
             [
              0.8888888888888888,
              "#fdca26"
             ],
             [
              1,
              "#f0f921"
             ]
            ],
            "type": "contour"
           }
          ],
          "contourcarpet": [
           {
            "colorbar": {
             "outlinewidth": 0,
             "ticks": ""
            },
            "type": "contourcarpet"
           }
          ],
          "heatmap": [
           {
            "colorbar": {
             "outlinewidth": 0,
             "ticks": ""
            },
            "colorscale": [
             [
              0,
              "#0d0887"
             ],
             [
              0.1111111111111111,
              "#46039f"
             ],
             [
              0.2222222222222222,
              "#7201a8"
             ],
             [
              0.3333333333333333,
              "#9c179e"
             ],
             [
              0.4444444444444444,
              "#bd3786"
             ],
             [
              0.5555555555555556,
              "#d8576b"
             ],
             [
              0.6666666666666666,
              "#ed7953"
             ],
             [
              0.7777777777777778,
              "#fb9f3a"
             ],
             [
              0.8888888888888888,
              "#fdca26"
             ],
             [
              1,
              "#f0f921"
             ]
            ],
            "type": "heatmap"
           }
          ],
          "heatmapgl": [
           {
            "colorbar": {
             "outlinewidth": 0,
             "ticks": ""
            },
            "colorscale": [
             [
              0,
              "#0d0887"
             ],
             [
              0.1111111111111111,
              "#46039f"
             ],
             [
              0.2222222222222222,
              "#7201a8"
             ],
             [
              0.3333333333333333,
              "#9c179e"
             ],
             [
              0.4444444444444444,
              "#bd3786"
             ],
             [
              0.5555555555555556,
              "#d8576b"
             ],
             [
              0.6666666666666666,
              "#ed7953"
             ],
             [
              0.7777777777777778,
              "#fb9f3a"
             ],
             [
              0.8888888888888888,
              "#fdca26"
             ],
             [
              1,
              "#f0f921"
             ]
            ],
            "type": "heatmapgl"
           }
          ],
          "histogram": [
           {
            "marker": {
             "pattern": {
              "fillmode": "overlay",
              "size": 10,
              "solidity": 0.2
             }
            },
            "type": "histogram"
           }
          ],
          "histogram2d": [
           {
            "colorbar": {
             "outlinewidth": 0,
             "ticks": ""
            },
            "colorscale": [
             [
              0,
              "#0d0887"
             ],
             [
              0.1111111111111111,
              "#46039f"
             ],
             [
              0.2222222222222222,
              "#7201a8"
             ],
             [
              0.3333333333333333,
              "#9c179e"
             ],
             [
              0.4444444444444444,
              "#bd3786"
             ],
             [
              0.5555555555555556,
              "#d8576b"
             ],
             [
              0.6666666666666666,
              "#ed7953"
             ],
             [
              0.7777777777777778,
              "#fb9f3a"
             ],
             [
              0.8888888888888888,
              "#fdca26"
             ],
             [
              1,
              "#f0f921"
             ]
            ],
            "type": "histogram2d"
           }
          ],
          "histogram2dcontour": [
           {
            "colorbar": {
             "outlinewidth": 0,
             "ticks": ""
            },
            "colorscale": [
             [
              0,
              "#0d0887"
             ],
             [
              0.1111111111111111,
              "#46039f"
             ],
             [
              0.2222222222222222,
              "#7201a8"
             ],
             [
              0.3333333333333333,
              "#9c179e"
             ],
             [
              0.4444444444444444,
              "#bd3786"
             ],
             [
              0.5555555555555556,
              "#d8576b"
             ],
             [
              0.6666666666666666,
              "#ed7953"
             ],
             [
              0.7777777777777778,
              "#fb9f3a"
             ],
             [
              0.8888888888888888,
              "#fdca26"
             ],
             [
              1,
              "#f0f921"
             ]
            ],
            "type": "histogram2dcontour"
           }
          ],
          "mesh3d": [
           {
            "colorbar": {
             "outlinewidth": 0,
             "ticks": ""
            },
            "type": "mesh3d"
           }
          ],
          "parcoords": [
           {
            "line": {
             "colorbar": {
              "outlinewidth": 0,
              "ticks": ""
             }
            },
            "type": "parcoords"
           }
          ],
          "pie": [
           {
            "automargin": true,
            "type": "pie"
           }
          ],
          "scatter": [
           {
            "fillpattern": {
             "fillmode": "overlay",
             "size": 10,
             "solidity": 0.2
            },
            "type": "scatter"
           }
          ],
          "scatter3d": [
           {
            "line": {
             "colorbar": {
              "outlinewidth": 0,
              "ticks": ""
             }
            },
            "marker": {
             "colorbar": {
              "outlinewidth": 0,
              "ticks": ""
             }
            },
            "type": "scatter3d"
           }
          ],
          "scattercarpet": [
           {
            "marker": {
             "colorbar": {
              "outlinewidth": 0,
              "ticks": ""
             }
            },
            "type": "scattercarpet"
           }
          ],
          "scattergeo": [
           {
            "marker": {
             "colorbar": {
              "outlinewidth": 0,
              "ticks": ""
             }
            },
            "type": "scattergeo"
           }
          ],
          "scattergl": [
           {
            "marker": {
             "colorbar": {
              "outlinewidth": 0,
              "ticks": ""
             }
            },
            "type": "scattergl"
           }
          ],
          "scattermapbox": [
           {
            "marker": {
             "colorbar": {
              "outlinewidth": 0,
              "ticks": ""
             }
            },
            "type": "scattermapbox"
           }
          ],
          "scatterpolar": [
           {
            "marker": {
             "colorbar": {
              "outlinewidth": 0,
              "ticks": ""
             }
            },
            "type": "scatterpolar"
           }
          ],
          "scatterpolargl": [
           {
            "marker": {
             "colorbar": {
              "outlinewidth": 0,
              "ticks": ""
             }
            },
            "type": "scatterpolargl"
           }
          ],
          "scatterternary": [
           {
            "marker": {
             "colorbar": {
              "outlinewidth": 0,
              "ticks": ""
             }
            },
            "type": "scatterternary"
           }
          ],
          "surface": [
           {
            "colorbar": {
             "outlinewidth": 0,
             "ticks": ""
            },
            "colorscale": [
             [
              0,
              "#0d0887"
             ],
             [
              0.1111111111111111,
              "#46039f"
             ],
             [
              0.2222222222222222,
              "#7201a8"
             ],
             [
              0.3333333333333333,
              "#9c179e"
             ],
             [
              0.4444444444444444,
              "#bd3786"
             ],
             [
              0.5555555555555556,
              "#d8576b"
             ],
             [
              0.6666666666666666,
              "#ed7953"
             ],
             [
              0.7777777777777778,
              "#fb9f3a"
             ],
             [
              0.8888888888888888,
              "#fdca26"
             ],
             [
              1,
              "#f0f921"
             ]
            ],
            "type": "surface"
           }
          ],
          "table": [
           {
            "cells": {
             "fill": {
              "color": "#EBF0F8"
             },
             "line": {
              "color": "white"
             }
            },
            "header": {
             "fill": {
              "color": "#C8D4E3"
             },
             "line": {
              "color": "white"
             }
            },
            "type": "table"
           }
          ]
         },
         "layout": {
          "annotationdefaults": {
           "arrowcolor": "#2a3f5f",
           "arrowhead": 0,
           "arrowwidth": 1
          },
          "autotypenumbers": "strict",
          "coloraxis": {
           "colorbar": {
            "outlinewidth": 0,
            "ticks": ""
           }
          },
          "colorscale": {
           "diverging": [
            [
             0,
             "#8e0152"
            ],
            [
             0.1,
             "#c51b7d"
            ],
            [
             0.2,
             "#de77ae"
            ],
            [
             0.3,
             "#f1b6da"
            ],
            [
             0.4,
             "#fde0ef"
            ],
            [
             0.5,
             "#f7f7f7"
            ],
            [
             0.6,
             "#e6f5d0"
            ],
            [
             0.7,
             "#b8e186"
            ],
            [
             0.8,
             "#7fbc41"
            ],
            [
             0.9,
             "#4d9221"
            ],
            [
             1,
             "#276419"
            ]
           ],
           "sequential": [
            [
             0,
             "#0d0887"
            ],
            [
             0.1111111111111111,
             "#46039f"
            ],
            [
             0.2222222222222222,
             "#7201a8"
            ],
            [
             0.3333333333333333,
             "#9c179e"
            ],
            [
             0.4444444444444444,
             "#bd3786"
            ],
            [
             0.5555555555555556,
             "#d8576b"
            ],
            [
             0.6666666666666666,
             "#ed7953"
            ],
            [
             0.7777777777777778,
             "#fb9f3a"
            ],
            [
             0.8888888888888888,
             "#fdca26"
            ],
            [
             1,
             "#f0f921"
            ]
           ],
           "sequentialminus": [
            [
             0,
             "#0d0887"
            ],
            [
             0.1111111111111111,
             "#46039f"
            ],
            [
             0.2222222222222222,
             "#7201a8"
            ],
            [
             0.3333333333333333,
             "#9c179e"
            ],
            [
             0.4444444444444444,
             "#bd3786"
            ],
            [
             0.5555555555555556,
             "#d8576b"
            ],
            [
             0.6666666666666666,
             "#ed7953"
            ],
            [
             0.7777777777777778,
             "#fb9f3a"
            ],
            [
             0.8888888888888888,
             "#fdca26"
            ],
            [
             1,
             "#f0f921"
            ]
           ]
          },
          "colorway": [
           "#636efa",
           "#EF553B",
           "#00cc96",
           "#ab63fa",
           "#FFA15A",
           "#19d3f3",
           "#FF6692",
           "#B6E880",
           "#FF97FF",
           "#FECB52"
          ],
          "font": {
           "color": "#2a3f5f"
          },
          "geo": {
           "bgcolor": "white",
           "lakecolor": "white",
           "landcolor": "#E5ECF6",
           "showlakes": true,
           "showland": true,
           "subunitcolor": "white"
          },
          "hoverlabel": {
           "align": "left"
          },
          "hovermode": "closest",
          "mapbox": {
           "style": "light"
          },
          "paper_bgcolor": "white",
          "plot_bgcolor": "#E5ECF6",
          "polar": {
           "angularaxis": {
            "gridcolor": "white",
            "linecolor": "white",
            "ticks": ""
           },
           "bgcolor": "#E5ECF6",
           "radialaxis": {
            "gridcolor": "white",
            "linecolor": "white",
            "ticks": ""
           }
          },
          "scene": {
           "xaxis": {
            "backgroundcolor": "#E5ECF6",
            "gridcolor": "white",
            "gridwidth": 2,
            "linecolor": "white",
            "showbackground": true,
            "ticks": "",
            "zerolinecolor": "white"
           },
           "yaxis": {
            "backgroundcolor": "#E5ECF6",
            "gridcolor": "white",
            "gridwidth": 2,
            "linecolor": "white",
            "showbackground": true,
            "ticks": "",
            "zerolinecolor": "white"
           },
           "zaxis": {
            "backgroundcolor": "#E5ECF6",
            "gridcolor": "white",
            "gridwidth": 2,
            "linecolor": "white",
            "showbackground": true,
            "ticks": "",
            "zerolinecolor": "white"
           }
          },
          "shapedefaults": {
           "line": {
            "color": "#2a3f5f"
           }
          },
          "ternary": {
           "aaxis": {
            "gridcolor": "white",
            "linecolor": "white",
            "ticks": ""
           },
           "baxis": {
            "gridcolor": "white",
            "linecolor": "white",
            "ticks": ""
           },
           "bgcolor": "#E5ECF6",
           "caxis": {
            "gridcolor": "white",
            "linecolor": "white",
            "ticks": ""
           }
          },
          "title": {
           "x": 0.05
          },
          "xaxis": {
           "automargin": true,
           "gridcolor": "white",
           "linecolor": "white",
           "ticks": "",
           "title": {
            "standoff": 15
           },
           "zerolinecolor": "white",
           "zerolinewidth": 2
          },
          "yaxis": {
           "automargin": true,
           "gridcolor": "white",
           "linecolor": "white",
           "ticks": "",
           "title": {
            "standoff": 15
           },
           "zerolinecolor": "white",
           "zerolinewidth": 2
          }
         }
        },
        "xaxis": {
         "anchor": "y",
         "constrain": "domain",
         "domain": [
          0,
          1
         ],
         "scaleanchor": "y"
        },
        "yaxis": {
         "anchor": "x",
         "autorange": "reversed",
         "constrain": "domain",
         "domain": [
          0,
          1
         ]
        }
       }
      }
     },
     "metadata": {},
     "output_type": "display_data"
    }
   ],
   "source": [
    "print(similarities.shape)\n",
    "print(f'Min value: {similarities.min()}')\n",
    "print(f'Max value: {similarities.max()}')\n",
    "\n",
    "fig = px.imshow(similarities, color_continuous_scale='RdYlGn')\n",
    "fig.show()"
   ]
  },
  {
   "cell_type": "markdown",
   "metadata": {},
   "source": [
    "### Step 7: Compute sorted indexes and similar songs matrix"
   ]
  },
  {
   "cell_type": "code",
   "execution_count": 9,
   "metadata": {},
   "outputs": [],
   "source": [
    "sorted_indexes = np.argsort(similarities, axis=1)\n",
    "sorted_indexes = np.fliplr(sorted_indexes)\n",
    "\n",
    "def match_genres(genres_i, genres_j):\n",
    "    return any(genre in genres_j for genre in genres_i)\n",
    "\n",
    "similar_songs = np.zeros_like(sorted_indexes)\n",
    "\n",
    "for i in range(sorted_indexes.shape[0]):\n",
    "    genre_i = genres[i] \n",
    "    sorted_indexes_i = sorted_indexes[i, :]  \n",
    "    similar_songs_i = np.array([1 if match_genres(genre_i, genres[j]) else 0 for j in sorted_indexes_i])\n",
    "    similar_songs[i, :] = similar_songs_i\n"
   ]
  },
  {
   "cell_type": "markdown",
   "metadata": {},
   "source": [
    "### Step 8: Evaluation metrics: AP@N and MAP@N"
   ]
  },
  {
   "cell_type": "code",
   "execution_count": 10,
   "metadata": {},
   "outputs": [],
   "source": [
    "def precision_k(similar_items, k):\n",
    "    similar_items_k = similar_items[:k]\n",
    "    P = sum(similar_items_k) / k\n",
    "    return P\n",
    "\n",
    "def average_precision_N(similar_items, N):\n",
    "    m = np.min([np.sum(similar_items), N])\n",
    "    sum_vector = []\n",
    "    for k in range(1, N+1):\n",
    "        if k-1 < len(similar_items):\n",
    "            sum_vector.append(precision_k(similar_items, k) * similar_items[k-1])\n",
    "    AP = (1/m) * sum(sum_vector)\n",
    "    return AP\n"
   ]
  },
  {
   "cell_type": "markdown",
   "metadata": {},
   "source": [
    "### Step 9: Evaluate music similarity"
   ]
  },
  {
   "cell_type": "code",
   "execution_count": 11,
   "metadata": {},
   "outputs": [
    {
     "data": {
      "text/html": [
       "<div>\n",
       "<style scoped>\n",
       "    .dataframe tbody tr th:only-of-type {\n",
       "        vertical-align: middle;\n",
       "    }\n",
       "\n",
       "    .dataframe tbody tr th {\n",
       "        vertical-align: top;\n",
       "    }\n",
       "\n",
       "    .dataframe thead th {\n",
       "        text-align: right;\n",
       "    }\n",
       "</style>\n",
       "<table border=\"1\" class=\"dataframe\">\n",
       "  <thead>\n",
       "    <tr style=\"text-align: right;\">\n",
       "      <th></th>\n",
       "      <th>song_name</th>\n",
       "      <th>genre</th>\n",
       "      <th>@3</th>\n",
       "      <th>@5</th>\n",
       "      <th>@10</th>\n",
       "      <th>@13</th>\n",
       "      <th>@15</th>\n",
       "    </tr>\n",
       "  </thead>\n",
       "  <tbody>\n",
       "    <tr>\n",
       "      <th>0</th>\n",
       "      <td>0</td>\n",
       "      <td>Romantic,Melody</td>\n",
       "      <td>0.555556</td>\n",
       "      <td>0.483333</td>\n",
       "      <td>0.612540</td>\n",
       "      <td>0.598224</td>\n",
       "      <td>0.624175</td>\n",
       "    </tr>\n",
       "    <tr>\n",
       "      <th>1</th>\n",
       "      <td>1</td>\n",
       "      <td>Romantic,Melody</td>\n",
       "      <td>0.555556</td>\n",
       "      <td>0.483333</td>\n",
       "      <td>0.612540</td>\n",
       "      <td>0.593293</td>\n",
       "      <td>0.619902</td>\n",
       "    </tr>\n",
       "    <tr>\n",
       "      <th>2</th>\n",
       "      <td>2</td>\n",
       "      <td>Romantic,Sad</td>\n",
       "      <td>0.666667</td>\n",
       "      <td>0.710000</td>\n",
       "      <td>0.594048</td>\n",
       "      <td>0.512904</td>\n",
       "      <td>0.569805</td>\n",
       "    </tr>\n",
       "    <tr>\n",
       "      <th>3</th>\n",
       "      <td>3</td>\n",
       "      <td>Romantic,Upbeat</td>\n",
       "      <td>1.000000</td>\n",
       "      <td>0.600000</td>\n",
       "      <td>0.556310</td>\n",
       "      <td>0.483874</td>\n",
       "      <td>0.542849</td>\n",
       "    </tr>\n",
       "    <tr>\n",
       "      <th>4</th>\n",
       "      <td>4</td>\n",
       "      <td>Romantic,Folk</td>\n",
       "      <td>1.000000</td>\n",
       "      <td>1.000000</td>\n",
       "      <td>0.732778</td>\n",
       "      <td>0.755804</td>\n",
       "      <td>0.708363</td>\n",
       "    </tr>\n",
       "    <tr>\n",
       "      <th>5</th>\n",
       "      <td>5</td>\n",
       "      <td>Romantic,Melody</td>\n",
       "      <td>1.000000</td>\n",
       "      <td>1.000000</td>\n",
       "      <td>0.800000</td>\n",
       "      <td>0.742424</td>\n",
       "      <td>0.749149</td>\n",
       "    </tr>\n",
       "    <tr>\n",
       "      <th>6</th>\n",
       "      <td>6</td>\n",
       "      <td>Mass,Inspirational</td>\n",
       "      <td>0.500000</td>\n",
       "      <td>0.500000</td>\n",
       "      <td>0.500000</td>\n",
       "      <td>0.500000</td>\n",
       "      <td>0.500000</td>\n",
       "    </tr>\n",
       "    <tr>\n",
       "      <th>7</th>\n",
       "      <td>7</td>\n",
       "      <td>Melody</td>\n",
       "      <td>0.333333</td>\n",
       "      <td>0.420000</td>\n",
       "      <td>0.399167</td>\n",
       "      <td>0.476674</td>\n",
       "      <td>0.595722</td>\n",
       "    </tr>\n",
       "    <tr>\n",
       "      <th>8</th>\n",
       "      <td>8</td>\n",
       "      <td>Romantic,Melody</td>\n",
       "      <td>1.000000</td>\n",
       "      <td>1.000000</td>\n",
       "      <td>0.800000</td>\n",
       "      <td>0.742424</td>\n",
       "      <td>0.749149</td>\n",
       "    </tr>\n",
       "    <tr>\n",
       "      <th>9</th>\n",
       "      <td>9</td>\n",
       "      <td>Folk,Dance</td>\n",
       "      <td>0.333333</td>\n",
       "      <td>0.333333</td>\n",
       "      <td>0.333333</td>\n",
       "      <td>0.333333</td>\n",
       "      <td>0.333333</td>\n",
       "    </tr>\n",
       "    <tr>\n",
       "      <th>10</th>\n",
       "      <td>10</td>\n",
       "      <td>Folk,Dance</td>\n",
       "      <td>0.333333</td>\n",
       "      <td>0.466667</td>\n",
       "      <td>0.466667</td>\n",
       "      <td>0.466667</td>\n",
       "      <td>0.466667</td>\n",
       "    </tr>\n",
       "    <tr>\n",
       "      <th>11</th>\n",
       "      <td>11</td>\n",
       "      <td>Romantic,Upbeat</td>\n",
       "      <td>0.333333</td>\n",
       "      <td>0.420000</td>\n",
       "      <td>0.493095</td>\n",
       "      <td>0.492940</td>\n",
       "      <td>0.561132</td>\n",
       "    </tr>\n",
       "    <tr>\n",
       "      <th>12</th>\n",
       "      <td>12</td>\n",
       "      <td>Inspirational,Mass</td>\n",
       "      <td>0.500000</td>\n",
       "      <td>0.500000</td>\n",
       "      <td>0.500000</td>\n",
       "      <td>0.576923</td>\n",
       "      <td>0.576923</td>\n",
       "    </tr>\n",
       "    <tr>\n",
       "      <th>13</th>\n",
       "      <td>13</td>\n",
       "      <td>Romantic,Melody</td>\n",
       "      <td>1.000000</td>\n",
       "      <td>0.760000</td>\n",
       "      <td>0.684206</td>\n",
       "      <td>0.718441</td>\n",
       "      <td>0.675982</td>\n",
       "    </tr>\n",
       "    <tr>\n",
       "      <th>14</th>\n",
       "      <td>14</td>\n",
       "      <td>Romantic,Melody</td>\n",
       "      <td>0.555556</td>\n",
       "      <td>0.453333</td>\n",
       "      <td>0.597540</td>\n",
       "      <td>0.651774</td>\n",
       "      <td>0.679792</td>\n",
       "    </tr>\n",
       "    <tr>\n",
       "      <th>15</th>\n",
       "      <td>15</td>\n",
       "      <td>Romantic,Melody</td>\n",
       "      <td>1.000000</td>\n",
       "      <td>0.760000</td>\n",
       "      <td>0.696111</td>\n",
       "      <td>0.727598</td>\n",
       "      <td>0.745506</td>\n",
       "    </tr>\n",
       "    <tr>\n",
       "      <th>16</th>\n",
       "      <td>16</td>\n",
       "      <td>Romantic,Melody</td>\n",
       "      <td>0.666667</td>\n",
       "      <td>0.710000</td>\n",
       "      <td>0.681825</td>\n",
       "      <td>0.716609</td>\n",
       "      <td>0.735982</td>\n",
       "    </tr>\n",
       "    <tr>\n",
       "      <th>17</th>\n",
       "      <td>17</td>\n",
       "      <td>Melody</td>\n",
       "      <td>0.666667</td>\n",
       "      <td>0.550000</td>\n",
       "      <td>0.369444</td>\n",
       "      <td>0.438476</td>\n",
       "      <td>0.490424</td>\n",
       "    </tr>\n",
       "    <tr>\n",
       "      <th>18</th>\n",
       "      <td>18</td>\n",
       "      <td>Romantic,Sad</td>\n",
       "      <td>0.333333</td>\n",
       "      <td>0.420000</td>\n",
       "      <td>0.466310</td>\n",
       "      <td>0.414644</td>\n",
       "      <td>0.478564</td>\n",
       "    </tr>\n",
       "    <tr>\n",
       "      <th>19</th>\n",
       "      <td>19</td>\n",
       "      <td>Romantic,Melody</td>\n",
       "      <td>0.555556</td>\n",
       "      <td>0.643333</td>\n",
       "      <td>0.625873</td>\n",
       "      <td>0.673569</td>\n",
       "      <td>0.698681</td>\n",
       "    </tr>\n",
       "  </tbody>\n",
       "</table>\n",
       "</div>"
      ],
      "text/plain": [
       "    song_name               genre        @3        @5       @10       @13  \\\n",
       "0           0     Romantic,Melody  0.555556  0.483333  0.612540  0.598224   \n",
       "1           1     Romantic,Melody  0.555556  0.483333  0.612540  0.593293   \n",
       "2           2        Romantic,Sad  0.666667  0.710000  0.594048  0.512904   \n",
       "3           3     Romantic,Upbeat  1.000000  0.600000  0.556310  0.483874   \n",
       "4           4       Romantic,Folk  1.000000  1.000000  0.732778  0.755804   \n",
       "5           5     Romantic,Melody  1.000000  1.000000  0.800000  0.742424   \n",
       "6           6  Mass,Inspirational  0.500000  0.500000  0.500000  0.500000   \n",
       "7           7              Melody  0.333333  0.420000  0.399167  0.476674   \n",
       "8           8     Romantic,Melody  1.000000  1.000000  0.800000  0.742424   \n",
       "9           9          Folk,Dance  0.333333  0.333333  0.333333  0.333333   \n",
       "10         10          Folk,Dance  0.333333  0.466667  0.466667  0.466667   \n",
       "11         11     Romantic,Upbeat  0.333333  0.420000  0.493095  0.492940   \n",
       "12         12  Inspirational,Mass  0.500000  0.500000  0.500000  0.576923   \n",
       "13         13     Romantic,Melody  1.000000  0.760000  0.684206  0.718441   \n",
       "14         14     Romantic,Melody  0.555556  0.453333  0.597540  0.651774   \n",
       "15         15     Romantic,Melody  1.000000  0.760000  0.696111  0.727598   \n",
       "16         16     Romantic,Melody  0.666667  0.710000  0.681825  0.716609   \n",
       "17         17              Melody  0.666667  0.550000  0.369444  0.438476   \n",
       "18         18        Romantic,Sad  0.333333  0.420000  0.466310  0.414644   \n",
       "19         19     Romantic,Melody  0.555556  0.643333  0.625873  0.673569   \n",
       "\n",
       "         @15  \n",
       "0   0.624175  \n",
       "1   0.619902  \n",
       "2   0.569805  \n",
       "3   0.542849  \n",
       "4   0.708363  \n",
       "5   0.749149  \n",
       "6   0.500000  \n",
       "7   0.595722  \n",
       "8   0.749149  \n",
       "9   0.333333  \n",
       "10  0.466667  \n",
       "11  0.561132  \n",
       "12  0.576923  \n",
       "13  0.675982  \n",
       "14  0.679792  \n",
       "15  0.745506  \n",
       "16  0.735982  \n",
       "17  0.490424  \n",
       "18  0.478564  \n",
       "19  0.698681  "
      ]
     },
     "execution_count": 11,
     "metadata": {},
     "output_type": "execute_result"
    }
   ],
   "source": [
    "N_range = [3, 5, 10, 13, 15]\n",
    "AP_songs = []\n",
    "\n",
    "for N in N_range:\n",
    "    AP_by_N = []\n",
    "    for i in range(similar_songs.shape[0]):\n",
    "        AP_by_N.append(average_precision_N(similar_songs[i, :], N))\n",
    "    AP_songs.append(AP_by_N)\n",
    "\n",
    "genre_strings = [','.join(genre) for genre in genres]\n",
    "\n",
    "df = pd.DataFrame(\n",
    "    list(zip(\n",
    "        [file_path for file_path in range(len(file_path))], \n",
    "        genre_strings,\n",
    "        *AP_songs\n",
    "    )),\n",
    "    columns=['song_name', 'genre'] + [f'@{N}' for N in N_range]\n",
    ")\n",
    "\n",
    "df.head(20)"
   ]
  },
  {
   "cell_type": "markdown",
   "metadata": {},
   "source": [
    "### Step 10: Plotting AP@N histograms"
   ]
  },
  {
   "cell_type": "code",
   "execution_count": 12,
   "metadata": {},
   "outputs": [
    {
     "data": {
      "application/vnd.plotly.v1+json": {
       "config": {
        "plotlyServerURL": "https://plot.ly"
       },
       "data": [
        {
         "type": "histogram",
         "x": [
          0.5555555555555555,
          0.5555555555555555,
          0.6666666666666666,
          1,
          1,
          1,
          0.5,
          0.3333333333333333,
          1,
          0.3333333333333333,
          0.3333333333333333,
          0.3333333333333333,
          0.5,
          1,
          0.5555555555555555,
          1,
          0.6666666666666666,
          0.6666666666666666,
          0.3333333333333333,
          0.5555555555555555
         ],
         "xaxis": "x",
         "yaxis": "y"
        },
        {
         "type": "histogram",
         "x": [
          0.48333333333333334,
          0.48333333333333334,
          0.71,
          0.6000000000000001,
          1,
          1,
          0.5,
          0.42000000000000004,
          1,
          0.3333333333333333,
          0.4666666666666666,
          0.42000000000000004,
          0.5,
          0.76,
          0.45333333333333337,
          0.76,
          0.71,
          0.55,
          0.42000000000000004,
          0.6433333333333334
         ],
         "xaxis": "x2",
         "yaxis": "y2"
        },
        {
         "type": "histogram",
         "x": [
          0.6125396825396825,
          0.6125396825396825,
          0.594047619047619,
          0.5563095238095238,
          0.7327777777777778,
          0.8,
          0.5,
          0.39916666666666667,
          0.8,
          0.3333333333333333,
          0.4666666666666666,
          0.49309523809523814,
          0.5,
          0.6842063492063493,
          0.5975396825396825,
          0.6961111111111111,
          0.6818253968253968,
          0.36944444444444446,
          0.46630952380952384,
          0.6258730158730159
         ],
         "xaxis": "x3",
         "yaxis": "y3"
        },
        {
         "type": "histogram",
         "x": [
          0.5982239982239982,
          0.5932930317545703,
          0.5129037629037629,
          0.48387445887445896,
          0.7558035981112905,
          0.7424242424242425,
          0.5,
          0.47667408349226537,
          0.7424242424242425,
          0.3333333333333333,
          0.4666666666666666,
          0.492940392940393,
          0.5769230769230769,
          0.7184409607486532,
          0.6517742940819863,
          0.7275984699061623,
          0.7166094589171512,
          0.438475665748393,
          0.4146436896436897,
          0.6735691658768582
         ],
         "xaxis": "x4",
         "yaxis": "y4"
        },
        {
         "type": "histogram",
         "x": [
          0.6241750841750842,
          0.6199015799015799,
          0.5698051948051948,
          0.5428494124922697,
          0.7083631183631185,
          0.7491486291486293,
          0.5,
          0.5957217025398844,
          0.7491486291486293,
          0.3333333333333333,
          0.4666666666666666,
          0.5611317254174397,
          0.5769230769230769,
          0.6759821659821661,
          0.6797916897916898,
          0.7455059755059756,
          0.735982165982166,
          0.4904237176964449,
          0.47856369820655537,
          0.6986805786805788
         ],
         "xaxis": "x5",
         "yaxis": "y5"
        }
       ],
       "layout": {
        "annotations": [
         {
          "font": {
           "size": 16
          },
          "showarrow": false,
          "text": "AP@2",
          "x": 0.14444444444444446,
          "xanchor": "center",
          "xref": "paper",
          "y": 1,
          "yanchor": "bottom",
          "yref": "paper"
         },
         {
          "font": {
           "size": 16
          },
          "showarrow": false,
          "text": "AP@3",
          "x": 0.5,
          "xanchor": "center",
          "xref": "paper",
          "y": 1,
          "yanchor": "bottom",
          "yref": "paper"
         },
         {
          "font": {
           "size": 16
          },
          "showarrow": false,
          "text": "AP@5",
          "x": 0.8555555555555556,
          "xanchor": "center",
          "xref": "paper",
          "y": 1,
          "yanchor": "bottom",
          "yref": "paper"
         },
         {
          "font": {
           "size": 16
          },
          "showarrow": false,
          "text": "AP@10",
          "x": 0.14444444444444446,
          "xanchor": "center",
          "xref": "paper",
          "y": 0.375,
          "yanchor": "bottom",
          "yref": "paper"
         },
         {
          "font": {
           "size": 16
          },
          "showarrow": false,
          "text": "AP@15",
          "x": 0.5,
          "xanchor": "center",
          "xref": "paper",
          "y": 0.375,
          "yanchor": "bottom",
          "yref": "paper"
         }
        ],
        "height": 500,
        "showlegend": false,
        "template": {
         "data": {
          "bar": [
           {
            "error_x": {
             "color": "#2a3f5f"
            },
            "error_y": {
             "color": "#2a3f5f"
            },
            "marker": {
             "line": {
              "color": "#E5ECF6",
              "width": 0.5
             },
             "pattern": {
              "fillmode": "overlay",
              "size": 10,
              "solidity": 0.2
             }
            },
            "type": "bar"
           }
          ],
          "barpolar": [
           {
            "marker": {
             "line": {
              "color": "#E5ECF6",
              "width": 0.5
             },
             "pattern": {
              "fillmode": "overlay",
              "size": 10,
              "solidity": 0.2
             }
            },
            "type": "barpolar"
           }
          ],
          "carpet": [
           {
            "aaxis": {
             "endlinecolor": "#2a3f5f",
             "gridcolor": "white",
             "linecolor": "white",
             "minorgridcolor": "white",
             "startlinecolor": "#2a3f5f"
            },
            "baxis": {
             "endlinecolor": "#2a3f5f",
             "gridcolor": "white",
             "linecolor": "white",
             "minorgridcolor": "white",
             "startlinecolor": "#2a3f5f"
            },
            "type": "carpet"
           }
          ],
          "choropleth": [
           {
            "colorbar": {
             "outlinewidth": 0,
             "ticks": ""
            },
            "type": "choropleth"
           }
          ],
          "contour": [
           {
            "colorbar": {
             "outlinewidth": 0,
             "ticks": ""
            },
            "colorscale": [
             [
              0,
              "#0d0887"
             ],
             [
              0.1111111111111111,
              "#46039f"
             ],
             [
              0.2222222222222222,
              "#7201a8"
             ],
             [
              0.3333333333333333,
              "#9c179e"
             ],
             [
              0.4444444444444444,
              "#bd3786"
             ],
             [
              0.5555555555555556,
              "#d8576b"
             ],
             [
              0.6666666666666666,
              "#ed7953"
             ],
             [
              0.7777777777777778,
              "#fb9f3a"
             ],
             [
              0.8888888888888888,
              "#fdca26"
             ],
             [
              1,
              "#f0f921"
             ]
            ],
            "type": "contour"
           }
          ],
          "contourcarpet": [
           {
            "colorbar": {
             "outlinewidth": 0,
             "ticks": ""
            },
            "type": "contourcarpet"
           }
          ],
          "heatmap": [
           {
            "colorbar": {
             "outlinewidth": 0,
             "ticks": ""
            },
            "colorscale": [
             [
              0,
              "#0d0887"
             ],
             [
              0.1111111111111111,
              "#46039f"
             ],
             [
              0.2222222222222222,
              "#7201a8"
             ],
             [
              0.3333333333333333,
              "#9c179e"
             ],
             [
              0.4444444444444444,
              "#bd3786"
             ],
             [
              0.5555555555555556,
              "#d8576b"
             ],
             [
              0.6666666666666666,
              "#ed7953"
             ],
             [
              0.7777777777777778,
              "#fb9f3a"
             ],
             [
              0.8888888888888888,
              "#fdca26"
             ],
             [
              1,
              "#f0f921"
             ]
            ],
            "type": "heatmap"
           }
          ],
          "heatmapgl": [
           {
            "colorbar": {
             "outlinewidth": 0,
             "ticks": ""
            },
            "colorscale": [
             [
              0,
              "#0d0887"
             ],
             [
              0.1111111111111111,
              "#46039f"
             ],
             [
              0.2222222222222222,
              "#7201a8"
             ],
             [
              0.3333333333333333,
              "#9c179e"
             ],
             [
              0.4444444444444444,
              "#bd3786"
             ],
             [
              0.5555555555555556,
              "#d8576b"
             ],
             [
              0.6666666666666666,
              "#ed7953"
             ],
             [
              0.7777777777777778,
              "#fb9f3a"
             ],
             [
              0.8888888888888888,
              "#fdca26"
             ],
             [
              1,
              "#f0f921"
             ]
            ],
            "type": "heatmapgl"
           }
          ],
          "histogram": [
           {
            "marker": {
             "pattern": {
              "fillmode": "overlay",
              "size": 10,
              "solidity": 0.2
             }
            },
            "type": "histogram"
           }
          ],
          "histogram2d": [
           {
            "colorbar": {
             "outlinewidth": 0,
             "ticks": ""
            },
            "colorscale": [
             [
              0,
              "#0d0887"
             ],
             [
              0.1111111111111111,
              "#46039f"
             ],
             [
              0.2222222222222222,
              "#7201a8"
             ],
             [
              0.3333333333333333,
              "#9c179e"
             ],
             [
              0.4444444444444444,
              "#bd3786"
             ],
             [
              0.5555555555555556,
              "#d8576b"
             ],
             [
              0.6666666666666666,
              "#ed7953"
             ],
             [
              0.7777777777777778,
              "#fb9f3a"
             ],
             [
              0.8888888888888888,
              "#fdca26"
             ],
             [
              1,
              "#f0f921"
             ]
            ],
            "type": "histogram2d"
           }
          ],
          "histogram2dcontour": [
           {
            "colorbar": {
             "outlinewidth": 0,
             "ticks": ""
            },
            "colorscale": [
             [
              0,
              "#0d0887"
             ],
             [
              0.1111111111111111,
              "#46039f"
             ],
             [
              0.2222222222222222,
              "#7201a8"
             ],
             [
              0.3333333333333333,
              "#9c179e"
             ],
             [
              0.4444444444444444,
              "#bd3786"
             ],
             [
              0.5555555555555556,
              "#d8576b"
             ],
             [
              0.6666666666666666,
              "#ed7953"
             ],
             [
              0.7777777777777778,
              "#fb9f3a"
             ],
             [
              0.8888888888888888,
              "#fdca26"
             ],
             [
              1,
              "#f0f921"
             ]
            ],
            "type": "histogram2dcontour"
           }
          ],
          "mesh3d": [
           {
            "colorbar": {
             "outlinewidth": 0,
             "ticks": ""
            },
            "type": "mesh3d"
           }
          ],
          "parcoords": [
           {
            "line": {
             "colorbar": {
              "outlinewidth": 0,
              "ticks": ""
             }
            },
            "type": "parcoords"
           }
          ],
          "pie": [
           {
            "automargin": true,
            "type": "pie"
           }
          ],
          "scatter": [
           {
            "fillpattern": {
             "fillmode": "overlay",
             "size": 10,
             "solidity": 0.2
            },
            "type": "scatter"
           }
          ],
          "scatter3d": [
           {
            "line": {
             "colorbar": {
              "outlinewidth": 0,
              "ticks": ""
             }
            },
            "marker": {
             "colorbar": {
              "outlinewidth": 0,
              "ticks": ""
             }
            },
            "type": "scatter3d"
           }
          ],
          "scattercarpet": [
           {
            "marker": {
             "colorbar": {
              "outlinewidth": 0,
              "ticks": ""
             }
            },
            "type": "scattercarpet"
           }
          ],
          "scattergeo": [
           {
            "marker": {
             "colorbar": {
              "outlinewidth": 0,
              "ticks": ""
             }
            },
            "type": "scattergeo"
           }
          ],
          "scattergl": [
           {
            "marker": {
             "colorbar": {
              "outlinewidth": 0,
              "ticks": ""
             }
            },
            "type": "scattergl"
           }
          ],
          "scattermapbox": [
           {
            "marker": {
             "colorbar": {
              "outlinewidth": 0,
              "ticks": ""
             }
            },
            "type": "scattermapbox"
           }
          ],
          "scatterpolar": [
           {
            "marker": {
             "colorbar": {
              "outlinewidth": 0,
              "ticks": ""
             }
            },
            "type": "scatterpolar"
           }
          ],
          "scatterpolargl": [
           {
            "marker": {
             "colorbar": {
              "outlinewidth": 0,
              "ticks": ""
             }
            },
            "type": "scatterpolargl"
           }
          ],
          "scatterternary": [
           {
            "marker": {
             "colorbar": {
              "outlinewidth": 0,
              "ticks": ""
             }
            },
            "type": "scatterternary"
           }
          ],
          "surface": [
           {
            "colorbar": {
             "outlinewidth": 0,
             "ticks": ""
            },
            "colorscale": [
             [
              0,
              "#0d0887"
             ],
             [
              0.1111111111111111,
              "#46039f"
             ],
             [
              0.2222222222222222,
              "#7201a8"
             ],
             [
              0.3333333333333333,
              "#9c179e"
             ],
             [
              0.4444444444444444,
              "#bd3786"
             ],
             [
              0.5555555555555556,
              "#d8576b"
             ],
             [
              0.6666666666666666,
              "#ed7953"
             ],
             [
              0.7777777777777778,
              "#fb9f3a"
             ],
             [
              0.8888888888888888,
              "#fdca26"
             ],
             [
              1,
              "#f0f921"
             ]
            ],
            "type": "surface"
           }
          ],
          "table": [
           {
            "cells": {
             "fill": {
              "color": "#EBF0F8"
             },
             "line": {
              "color": "white"
             }
            },
            "header": {
             "fill": {
              "color": "#C8D4E3"
             },
             "line": {
              "color": "white"
             }
            },
            "type": "table"
           }
          ]
         },
         "layout": {
          "annotationdefaults": {
           "arrowcolor": "#2a3f5f",
           "arrowhead": 0,
           "arrowwidth": 1
          },
          "autotypenumbers": "strict",
          "coloraxis": {
           "colorbar": {
            "outlinewidth": 0,
            "ticks": ""
           }
          },
          "colorscale": {
           "diverging": [
            [
             0,
             "#8e0152"
            ],
            [
             0.1,
             "#c51b7d"
            ],
            [
             0.2,
             "#de77ae"
            ],
            [
             0.3,
             "#f1b6da"
            ],
            [
             0.4,
             "#fde0ef"
            ],
            [
             0.5,
             "#f7f7f7"
            ],
            [
             0.6,
             "#e6f5d0"
            ],
            [
             0.7,
             "#b8e186"
            ],
            [
             0.8,
             "#7fbc41"
            ],
            [
             0.9,
             "#4d9221"
            ],
            [
             1,
             "#276419"
            ]
           ],
           "sequential": [
            [
             0,
             "#0d0887"
            ],
            [
             0.1111111111111111,
             "#46039f"
            ],
            [
             0.2222222222222222,
             "#7201a8"
            ],
            [
             0.3333333333333333,
             "#9c179e"
            ],
            [
             0.4444444444444444,
             "#bd3786"
            ],
            [
             0.5555555555555556,
             "#d8576b"
            ],
            [
             0.6666666666666666,
             "#ed7953"
            ],
            [
             0.7777777777777778,
             "#fb9f3a"
            ],
            [
             0.8888888888888888,
             "#fdca26"
            ],
            [
             1,
             "#f0f921"
            ]
           ],
           "sequentialminus": [
            [
             0,
             "#0d0887"
            ],
            [
             0.1111111111111111,
             "#46039f"
            ],
            [
             0.2222222222222222,
             "#7201a8"
            ],
            [
             0.3333333333333333,
             "#9c179e"
            ],
            [
             0.4444444444444444,
             "#bd3786"
            ],
            [
             0.5555555555555556,
             "#d8576b"
            ],
            [
             0.6666666666666666,
             "#ed7953"
            ],
            [
             0.7777777777777778,
             "#fb9f3a"
            ],
            [
             0.8888888888888888,
             "#fdca26"
            ],
            [
             1,
             "#f0f921"
            ]
           ]
          },
          "colorway": [
           "#636efa",
           "#EF553B",
           "#00cc96",
           "#ab63fa",
           "#FFA15A",
           "#19d3f3",
           "#FF6692",
           "#B6E880",
           "#FF97FF",
           "#FECB52"
          ],
          "font": {
           "color": "#2a3f5f"
          },
          "geo": {
           "bgcolor": "white",
           "lakecolor": "white",
           "landcolor": "#E5ECF6",
           "showlakes": true,
           "showland": true,
           "subunitcolor": "white"
          },
          "hoverlabel": {
           "align": "left"
          },
          "hovermode": "closest",
          "mapbox": {
           "style": "light"
          },
          "paper_bgcolor": "white",
          "plot_bgcolor": "#E5ECF6",
          "polar": {
           "angularaxis": {
            "gridcolor": "white",
            "linecolor": "white",
            "ticks": ""
           },
           "bgcolor": "#E5ECF6",
           "radialaxis": {
            "gridcolor": "white",
            "linecolor": "white",
            "ticks": ""
           }
          },
          "scene": {
           "xaxis": {
            "backgroundcolor": "#E5ECF6",
            "gridcolor": "white",
            "gridwidth": 2,
            "linecolor": "white",
            "showbackground": true,
            "ticks": "",
            "zerolinecolor": "white"
           },
           "yaxis": {
            "backgroundcolor": "#E5ECF6",
            "gridcolor": "white",
            "gridwidth": 2,
            "linecolor": "white",
            "showbackground": true,
            "ticks": "",
            "zerolinecolor": "white"
           },
           "zaxis": {
            "backgroundcolor": "#E5ECF6",
            "gridcolor": "white",
            "gridwidth": 2,
            "linecolor": "white",
            "showbackground": true,
            "ticks": "",
            "zerolinecolor": "white"
           }
          },
          "shapedefaults": {
           "line": {
            "color": "#2a3f5f"
           }
          },
          "ternary": {
           "aaxis": {
            "gridcolor": "white",
            "linecolor": "white",
            "ticks": ""
           },
           "baxis": {
            "gridcolor": "white",
            "linecolor": "white",
            "ticks": ""
           },
           "bgcolor": "#E5ECF6",
           "caxis": {
            "gridcolor": "white",
            "linecolor": "white",
            "ticks": ""
           }
          },
          "title": {
           "x": 0.05
          },
          "xaxis": {
           "automargin": true,
           "gridcolor": "white",
           "linecolor": "white",
           "ticks": "",
           "title": {
            "standoff": 15
           },
           "zerolinecolor": "white",
           "zerolinewidth": 2
          },
          "yaxis": {
           "automargin": true,
           "gridcolor": "white",
           "linecolor": "white",
           "ticks": "",
           "title": {
            "standoff": 15
           },
           "zerolinecolor": "white",
           "zerolinewidth": 2
          }
         }
        },
        "title": {
         "text": "AP@N histograms"
        },
        "width": 1000,
        "xaxis": {
         "anchor": "y",
         "domain": [
          0,
          0.2888888888888889
         ]
        },
        "xaxis2": {
         "anchor": "y2",
         "domain": [
          0.35555555555555557,
          0.6444444444444445
         ]
        },
        "xaxis3": {
         "anchor": "y3",
         "domain": [
          0.7111111111111111,
          1
         ]
        },
        "xaxis4": {
         "anchor": "y4",
         "domain": [
          0,
          0.2888888888888889
         ]
        },
        "xaxis5": {
         "anchor": "y5",
         "domain": [
          0.35555555555555557,
          0.6444444444444445
         ]
        },
        "xaxis6": {
         "anchor": "y6",
         "domain": [
          0.7111111111111111,
          1
         ]
        },
        "yaxis": {
         "anchor": "x",
         "domain": [
          0.625,
          1
         ]
        },
        "yaxis2": {
         "anchor": "x2",
         "domain": [
          0.625,
          1
         ]
        },
        "yaxis3": {
         "anchor": "x3",
         "domain": [
          0.625,
          1
         ]
        },
        "yaxis4": {
         "anchor": "x4",
         "domain": [
          0,
          0.375
         ]
        },
        "yaxis5": {
         "anchor": "x5",
         "domain": [
          0,
          0.375
         ]
        },
        "yaxis6": {
         "anchor": "x6",
         "domain": [
          0,
          0.375
         ]
        }
       }
      }
     },
     "metadata": {},
     "output_type": "display_data"
    }
   ],
   "source": [
    "fig = make_subplots(rows=2, cols=3, subplot_titles=(\"AP@2\", \"AP@3\", \"AP@5\", \"AP@10\", \"AP@15\"))\n",
    "\n",
    "fig.add_trace(go.Histogram(x=AP_songs[0]), row=1, col=1)\n",
    "fig.add_trace(go.Histogram(x=AP_songs[1]), row=1, col=2)\n",
    "fig.add_trace(go.Histogram(x=AP_songs[2]), row=1, col=3)\n",
    "fig.add_trace(go.Histogram(x=AP_songs[3]), row=2, col=1)\n",
    "fig.add_trace(go.Histogram(x=AP_songs[4]), row=2, col=2)\n",
    "\n",
    "fig.update_layout(height=500, \n",
    "                  width=1000, \n",
    "                  showlegend=False,\n",
    "                  title_text=\"AP@N histograms\")\n",
    "\n",
    "fig.show()"
   ]
  },
  {
   "cell_type": "markdown",
   "metadata": {},
   "source": [
    "### Step 11: Compute mAP@N for each genre and for the whole dataset"
   ]
  },
  {
   "cell_type": "code",
   "execution_count": 13,
   "metadata": {},
   "outputs": [
    {
     "name": "stdout",
     "output_type": "stream",
     "text": [
      "Mean average precision for each genre: \n",
      "                          @3        @5       @10       @13       @15\n",
      "genre                                                               \n",
      "Folk,Dance          0.333333  0.400000  0.400000  0.400000  0.400000\n",
      "Inspirational,Mass  0.500000  0.500000  0.500000  0.576923  0.576923\n",
      "Mass,Inspirational  0.500000  0.500000  0.500000  0.500000  0.500000\n",
      "Melody              0.500000  0.485000  0.384306  0.457575  0.543073\n",
      "Romantic,Folk       1.000000  1.000000  0.732778  0.755804  0.708363\n",
      "Romantic,Melody     0.765432  0.699259  0.678959  0.684929  0.697591\n",
      "Romantic,Sad        0.500000  0.565000  0.530179  0.463774  0.524184\n",
      "Romantic,Upbeat     0.666667  0.510000  0.524702  0.488407  0.551991\n",
      "Mean average precision for entire dataset: \n",
      "          mAP\n",
      "@3   0.644444\n",
      "@5   0.610667\n",
      "@10  0.576089\n",
      "@13  0.580830\n",
      "@15  0.605105\n"
     ]
    },
    {
     "data": {
      "application/vnd.plotly.v1+json": {
       "config": {
        "plotlyServerURL": "https://plot.ly"
       },
       "data": [
        {
         "mode": "lines+markers",
         "name": "Romantic,Melody",
         "type": "scatter",
         "x": [
          3,
          5,
          10,
          13,
          15
         ],
         "y": [
          0.7654320987654321,
          0.6992592592592594,
          0.6789594356261023,
          0.6849286515953182,
          0.6975907220351666
         ]
        },
        {
         "mode": "lines+markers",
         "name": "Romantic,Sad",
         "type": "scatter",
         "x": [
          3,
          5,
          10,
          13,
          15
         ],
         "y": [
          0.5,
          0.565,
          0.5301785714285714,
          0.4637737262737263,
          0.524184446505875
         ]
        },
        {
         "mode": "lines+markers",
         "name": "Romantic,Upbeat",
         "type": "scatter",
         "x": [
          3,
          5,
          10,
          13,
          15
         ],
         "y": [
          0.6666666666666666,
          0.51,
          0.524702380952381,
          0.488407425907426,
          0.5519905689548548
         ]
        },
        {
         "mode": "lines+markers",
         "name": "Romantic,Folk",
         "type": "scatter",
         "x": [
          3,
          5,
          10,
          13,
          15
         ],
         "y": [
          1,
          1,
          0.7327777777777778,
          0.7558035981112905,
          0.7083631183631185
         ]
        },
        {
         "mode": "lines+markers",
         "name": "Mass,Inspirational",
         "type": "scatter",
         "x": [
          3,
          5,
          10,
          13,
          15
         ],
         "y": [
          0.5,
          0.5,
          0.5,
          0.5,
          0.5
         ]
        },
        {
         "mode": "lines+markers",
         "name": "Melody",
         "type": "scatter",
         "x": [
          3,
          5,
          10,
          13,
          15
         ],
         "y": [
          0.5,
          0.48500000000000004,
          0.38430555555555557,
          0.4575748746203292,
          0.5430727101181647
         ]
        },
        {
         "mode": "lines+markers",
         "name": "Folk,Dance",
         "type": "scatter",
         "x": [
          3,
          5,
          10,
          13,
          15
         ],
         "y": [
          0.3333333333333333,
          0.39999999999999997,
          0.39999999999999997,
          0.39999999999999997,
          0.39999999999999997
         ]
        },
        {
         "mode": "lines+markers",
         "name": "Inspirational,Mass",
         "type": "scatter",
         "x": [
          3,
          5,
          10,
          13,
          15
         ],
         "y": [
          0.5,
          0.5,
          0.5,
          0.5769230769230769,
          0.5769230769230769
         ]
        },
        {
         "line": {
          "dash": "dash",
          "width": 4
         },
         "mode": "lines+markers",
         "name": "mean",
         "type": "scatter",
         "x": [
          3,
          5,
          10,
          13,
          15
         ],
         "y": [
          0.6444444444444443,
          0.6106666666666667,
          0.5760892857142859,
          0.5808298296497597,
          0.6051049072380241
         ]
        }
       ],
       "layout": {
        "template": {
         "data": {
          "bar": [
           {
            "error_x": {
             "color": "#2a3f5f"
            },
            "error_y": {
             "color": "#2a3f5f"
            },
            "marker": {
             "line": {
              "color": "#E5ECF6",
              "width": 0.5
             },
             "pattern": {
              "fillmode": "overlay",
              "size": 10,
              "solidity": 0.2
             }
            },
            "type": "bar"
           }
          ],
          "barpolar": [
           {
            "marker": {
             "line": {
              "color": "#E5ECF6",
              "width": 0.5
             },
             "pattern": {
              "fillmode": "overlay",
              "size": 10,
              "solidity": 0.2
             }
            },
            "type": "barpolar"
           }
          ],
          "carpet": [
           {
            "aaxis": {
             "endlinecolor": "#2a3f5f",
             "gridcolor": "white",
             "linecolor": "white",
             "minorgridcolor": "white",
             "startlinecolor": "#2a3f5f"
            },
            "baxis": {
             "endlinecolor": "#2a3f5f",
             "gridcolor": "white",
             "linecolor": "white",
             "minorgridcolor": "white",
             "startlinecolor": "#2a3f5f"
            },
            "type": "carpet"
           }
          ],
          "choropleth": [
           {
            "colorbar": {
             "outlinewidth": 0,
             "ticks": ""
            },
            "type": "choropleth"
           }
          ],
          "contour": [
           {
            "colorbar": {
             "outlinewidth": 0,
             "ticks": ""
            },
            "colorscale": [
             [
              0,
              "#0d0887"
             ],
             [
              0.1111111111111111,
              "#46039f"
             ],
             [
              0.2222222222222222,
              "#7201a8"
             ],
             [
              0.3333333333333333,
              "#9c179e"
             ],
             [
              0.4444444444444444,
              "#bd3786"
             ],
             [
              0.5555555555555556,
              "#d8576b"
             ],
             [
              0.6666666666666666,
              "#ed7953"
             ],
             [
              0.7777777777777778,
              "#fb9f3a"
             ],
             [
              0.8888888888888888,
              "#fdca26"
             ],
             [
              1,
              "#f0f921"
             ]
            ],
            "type": "contour"
           }
          ],
          "contourcarpet": [
           {
            "colorbar": {
             "outlinewidth": 0,
             "ticks": ""
            },
            "type": "contourcarpet"
           }
          ],
          "heatmap": [
           {
            "colorbar": {
             "outlinewidth": 0,
             "ticks": ""
            },
            "colorscale": [
             [
              0,
              "#0d0887"
             ],
             [
              0.1111111111111111,
              "#46039f"
             ],
             [
              0.2222222222222222,
              "#7201a8"
             ],
             [
              0.3333333333333333,
              "#9c179e"
             ],
             [
              0.4444444444444444,
              "#bd3786"
             ],
             [
              0.5555555555555556,
              "#d8576b"
             ],
             [
              0.6666666666666666,
              "#ed7953"
             ],
             [
              0.7777777777777778,
              "#fb9f3a"
             ],
             [
              0.8888888888888888,
              "#fdca26"
             ],
             [
              1,
              "#f0f921"
             ]
            ],
            "type": "heatmap"
           }
          ],
          "heatmapgl": [
           {
            "colorbar": {
             "outlinewidth": 0,
             "ticks": ""
            },
            "colorscale": [
             [
              0,
              "#0d0887"
             ],
             [
              0.1111111111111111,
              "#46039f"
             ],
             [
              0.2222222222222222,
              "#7201a8"
             ],
             [
              0.3333333333333333,
              "#9c179e"
             ],
             [
              0.4444444444444444,
              "#bd3786"
             ],
             [
              0.5555555555555556,
              "#d8576b"
             ],
             [
              0.6666666666666666,
              "#ed7953"
             ],
             [
              0.7777777777777778,
              "#fb9f3a"
             ],
             [
              0.8888888888888888,
              "#fdca26"
             ],
             [
              1,
              "#f0f921"
             ]
            ],
            "type": "heatmapgl"
           }
          ],
          "histogram": [
           {
            "marker": {
             "pattern": {
              "fillmode": "overlay",
              "size": 10,
              "solidity": 0.2
             }
            },
            "type": "histogram"
           }
          ],
          "histogram2d": [
           {
            "colorbar": {
             "outlinewidth": 0,
             "ticks": ""
            },
            "colorscale": [
             [
              0,
              "#0d0887"
             ],
             [
              0.1111111111111111,
              "#46039f"
             ],
             [
              0.2222222222222222,
              "#7201a8"
             ],
             [
              0.3333333333333333,
              "#9c179e"
             ],
             [
              0.4444444444444444,
              "#bd3786"
             ],
             [
              0.5555555555555556,
              "#d8576b"
             ],
             [
              0.6666666666666666,
              "#ed7953"
             ],
             [
              0.7777777777777778,
              "#fb9f3a"
             ],
             [
              0.8888888888888888,
              "#fdca26"
             ],
             [
              1,
              "#f0f921"
             ]
            ],
            "type": "histogram2d"
           }
          ],
          "histogram2dcontour": [
           {
            "colorbar": {
             "outlinewidth": 0,
             "ticks": ""
            },
            "colorscale": [
             [
              0,
              "#0d0887"
             ],
             [
              0.1111111111111111,
              "#46039f"
             ],
             [
              0.2222222222222222,
              "#7201a8"
             ],
             [
              0.3333333333333333,
              "#9c179e"
             ],
             [
              0.4444444444444444,
              "#bd3786"
             ],
             [
              0.5555555555555556,
              "#d8576b"
             ],
             [
              0.6666666666666666,
              "#ed7953"
             ],
             [
              0.7777777777777778,
              "#fb9f3a"
             ],
             [
              0.8888888888888888,
              "#fdca26"
             ],
             [
              1,
              "#f0f921"
             ]
            ],
            "type": "histogram2dcontour"
           }
          ],
          "mesh3d": [
           {
            "colorbar": {
             "outlinewidth": 0,
             "ticks": ""
            },
            "type": "mesh3d"
           }
          ],
          "parcoords": [
           {
            "line": {
             "colorbar": {
              "outlinewidth": 0,
              "ticks": ""
             }
            },
            "type": "parcoords"
           }
          ],
          "pie": [
           {
            "automargin": true,
            "type": "pie"
           }
          ],
          "scatter": [
           {
            "fillpattern": {
             "fillmode": "overlay",
             "size": 10,
             "solidity": 0.2
            },
            "type": "scatter"
           }
          ],
          "scatter3d": [
           {
            "line": {
             "colorbar": {
              "outlinewidth": 0,
              "ticks": ""
             }
            },
            "marker": {
             "colorbar": {
              "outlinewidth": 0,
              "ticks": ""
             }
            },
            "type": "scatter3d"
           }
          ],
          "scattercarpet": [
           {
            "marker": {
             "colorbar": {
              "outlinewidth": 0,
              "ticks": ""
             }
            },
            "type": "scattercarpet"
           }
          ],
          "scattergeo": [
           {
            "marker": {
             "colorbar": {
              "outlinewidth": 0,
              "ticks": ""
             }
            },
            "type": "scattergeo"
           }
          ],
          "scattergl": [
           {
            "marker": {
             "colorbar": {
              "outlinewidth": 0,
              "ticks": ""
             }
            },
            "type": "scattergl"
           }
          ],
          "scattermapbox": [
           {
            "marker": {
             "colorbar": {
              "outlinewidth": 0,
              "ticks": ""
             }
            },
            "type": "scattermapbox"
           }
          ],
          "scatterpolar": [
           {
            "marker": {
             "colorbar": {
              "outlinewidth": 0,
              "ticks": ""
             }
            },
            "type": "scatterpolar"
           }
          ],
          "scatterpolargl": [
           {
            "marker": {
             "colorbar": {
              "outlinewidth": 0,
              "ticks": ""
             }
            },
            "type": "scatterpolargl"
           }
          ],
          "scatterternary": [
           {
            "marker": {
             "colorbar": {
              "outlinewidth": 0,
              "ticks": ""
             }
            },
            "type": "scatterternary"
           }
          ],
          "surface": [
           {
            "colorbar": {
             "outlinewidth": 0,
             "ticks": ""
            },
            "colorscale": [
             [
              0,
              "#0d0887"
             ],
             [
              0.1111111111111111,
              "#46039f"
             ],
             [
              0.2222222222222222,
              "#7201a8"
             ],
             [
              0.3333333333333333,
              "#9c179e"
             ],
             [
              0.4444444444444444,
              "#bd3786"
             ],
             [
              0.5555555555555556,
              "#d8576b"
             ],
             [
              0.6666666666666666,
              "#ed7953"
             ],
             [
              0.7777777777777778,
              "#fb9f3a"
             ],
             [
              0.8888888888888888,
              "#fdca26"
             ],
             [
              1,
              "#f0f921"
             ]
            ],
            "type": "surface"
           }
          ],
          "table": [
           {
            "cells": {
             "fill": {
              "color": "#EBF0F8"
             },
             "line": {
              "color": "white"
             }
            },
            "header": {
             "fill": {
              "color": "#C8D4E3"
             },
             "line": {
              "color": "white"
             }
            },
            "type": "table"
           }
          ]
         },
         "layout": {
          "annotationdefaults": {
           "arrowcolor": "#2a3f5f",
           "arrowhead": 0,
           "arrowwidth": 1
          },
          "autotypenumbers": "strict",
          "coloraxis": {
           "colorbar": {
            "outlinewidth": 0,
            "ticks": ""
           }
          },
          "colorscale": {
           "diverging": [
            [
             0,
             "#8e0152"
            ],
            [
             0.1,
             "#c51b7d"
            ],
            [
             0.2,
             "#de77ae"
            ],
            [
             0.3,
             "#f1b6da"
            ],
            [
             0.4,
             "#fde0ef"
            ],
            [
             0.5,
             "#f7f7f7"
            ],
            [
             0.6,
             "#e6f5d0"
            ],
            [
             0.7,
             "#b8e186"
            ],
            [
             0.8,
             "#7fbc41"
            ],
            [
             0.9,
             "#4d9221"
            ],
            [
             1,
             "#276419"
            ]
           ],
           "sequential": [
            [
             0,
             "#0d0887"
            ],
            [
             0.1111111111111111,
             "#46039f"
            ],
            [
             0.2222222222222222,
             "#7201a8"
            ],
            [
             0.3333333333333333,
             "#9c179e"
            ],
            [
             0.4444444444444444,
             "#bd3786"
            ],
            [
             0.5555555555555556,
             "#d8576b"
            ],
            [
             0.6666666666666666,
             "#ed7953"
            ],
            [
             0.7777777777777778,
             "#fb9f3a"
            ],
            [
             0.8888888888888888,
             "#fdca26"
            ],
            [
             1,
             "#f0f921"
            ]
           ],
           "sequentialminus": [
            [
             0,
             "#0d0887"
            ],
            [
             0.1111111111111111,
             "#46039f"
            ],
            [
             0.2222222222222222,
             "#7201a8"
            ],
            [
             0.3333333333333333,
             "#9c179e"
            ],
            [
             0.4444444444444444,
             "#bd3786"
            ],
            [
             0.5555555555555556,
             "#d8576b"
            ],
            [
             0.6666666666666666,
             "#ed7953"
            ],
            [
             0.7777777777777778,
             "#fb9f3a"
            ],
            [
             0.8888888888888888,
             "#fdca26"
            ],
            [
             1,
             "#f0f921"
            ]
           ]
          },
          "colorway": [
           "#636efa",
           "#EF553B",
           "#00cc96",
           "#ab63fa",
           "#FFA15A",
           "#19d3f3",
           "#FF6692",
           "#B6E880",
           "#FF97FF",
           "#FECB52"
          ],
          "font": {
           "color": "#2a3f5f"
          },
          "geo": {
           "bgcolor": "white",
           "lakecolor": "white",
           "landcolor": "#E5ECF6",
           "showlakes": true,
           "showland": true,
           "subunitcolor": "white"
          },
          "hoverlabel": {
           "align": "left"
          },
          "hovermode": "closest",
          "mapbox": {
           "style": "light"
          },
          "paper_bgcolor": "white",
          "plot_bgcolor": "#E5ECF6",
          "polar": {
           "angularaxis": {
            "gridcolor": "white",
            "linecolor": "white",
            "ticks": ""
           },
           "bgcolor": "#E5ECF6",
           "radialaxis": {
            "gridcolor": "white",
            "linecolor": "white",
            "ticks": ""
           }
          },
          "scene": {
           "xaxis": {
            "backgroundcolor": "#E5ECF6",
            "gridcolor": "white",
            "gridwidth": 2,
            "linecolor": "white",
            "showbackground": true,
            "ticks": "",
            "zerolinecolor": "white"
           },
           "yaxis": {
            "backgroundcolor": "#E5ECF6",
            "gridcolor": "white",
            "gridwidth": 2,
            "linecolor": "white",
            "showbackground": true,
            "ticks": "",
            "zerolinecolor": "white"
           },
           "zaxis": {
            "backgroundcolor": "#E5ECF6",
            "gridcolor": "white",
            "gridwidth": 2,
            "linecolor": "white",
            "showbackground": true,
            "ticks": "",
            "zerolinecolor": "white"
           }
          },
          "shapedefaults": {
           "line": {
            "color": "#2a3f5f"
           }
          },
          "ternary": {
           "aaxis": {
            "gridcolor": "white",
            "linecolor": "white",
            "ticks": ""
           },
           "baxis": {
            "gridcolor": "white",
            "linecolor": "white",
            "ticks": ""
           },
           "bgcolor": "#E5ECF6",
           "caxis": {
            "gridcolor": "white",
            "linecolor": "white",
            "ticks": ""
           }
          },
          "title": {
           "x": 0.05
          },
          "xaxis": {
           "automargin": true,
           "gridcolor": "white",
           "linecolor": "white",
           "ticks": "",
           "title": {
            "standoff": 15
           },
           "zerolinecolor": "white",
           "zerolinewidth": 2
          },
          "yaxis": {
           "automargin": true,
           "gridcolor": "white",
           "linecolor": "white",
           "ticks": "",
           "title": {
            "standoff": 15
           },
           "zerolinecolor": "white",
           "zerolinewidth": 2
          }
         }
        },
        "title": {
         "text": "MAP@N by genre"
        },
        "xaxis": {
         "title": {
          "text": "N"
         }
        },
        "yaxis": {
         "title": {
          "text": "MAP@N"
         }
        }
       }
      }
     },
     "metadata": {},
     "output_type": "display_data"
    }
   ],
   "source": [
    "numeric_columns = [f'@{N}' for N in N_range]\n",
    "\n",
    "mAP_by_genre = df.groupby('genre')[numeric_columns].mean()\n",
    "mAP_dataset = df[numeric_columns].mean().to_frame().rename(columns={0: 'mAP'})\n",
    "\n",
    "print('Mean average precision for each genre: ')\n",
    "print(mAP_by_genre)\n",
    "print('Mean average precision for entire dataset: ')\n",
    "print(mAP_dataset)\n",
    "\n",
    "fig = go.Figure()\n",
    "for genre in df['genre'].unique():\n",
    "    fig.add_trace(go.Scatter(y=mAP_by_genre.loc[genre], x=N_range, mode='lines+markers', name=genre))\n",
    "fig.add_trace(go.Scatter(y=mAP_dataset['mAP'], x=N_range, mode='lines+markers', name='mean', line=dict(width=4, dash='dash')))\n",
    "\n",
    "fig.update_layout(title='MAP@N by genre', xaxis_title='N', yaxis_title='MAP@N')\n",
    "fig.show()"
   ]
  }
 ],
 "metadata": {
  "kernelspec": {
   "display_name": ".venv",
   "language": "python",
   "name": "python3"
  },
  "language_info": {
   "codemirror_mode": {
    "name": "ipython",
    "version": 3
   },
   "file_extension": ".py",
   "mimetype": "text/x-python",
   "name": "python",
   "nbconvert_exporter": "python",
   "pygments_lexer": "ipython3",
   "version": "3.10.12"
  }
 },
 "nbformat": 4,
 "nbformat_minor": 2
}
