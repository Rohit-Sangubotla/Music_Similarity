{
 "cells": [
  {
   "cell_type": "markdown",
   "metadata": {},
   "source": [
    "### Step 1: Import necessary libraries"
   ]
  },
  {
   "cell_type": "code",
   "execution_count": 1,
   "metadata": {},
   "outputs": [
    {
     "name": "stderr",
     "output_type": "stream",
     "text": [
      "2024-05-25 04:25:14.248385: I tensorflow/core/util/port.cc:113] oneDNN custom operations are on. You may see slightly different numerical results due to floating-point round-off errors from different computation orders. To turn them off, set the environment variable `TF_ENABLE_ONEDNN_OPTS=0`.\n",
      "2024-05-25 04:25:14.284612: I tensorflow/core/platform/cpu_feature_guard.cc:210] This TensorFlow binary is optimized to use available CPU instructions in performance-critical operations.\n",
      "To enable the following instructions: AVX2 AVX_VNNI FMA, in other operations, rebuild TensorFlow with the appropriate compiler flags.\n",
      "2024-05-25 04:25:14.848597: W tensorflow/compiler/tf2tensorrt/utils/py_utils.cc:38] TF-TRT Warning: Could not find TensorRT\n"
     ]
    }
   ],
   "source": [
    "import os\n",
    "import numpy as np\n",
    "import librosa\n",
    "import tensorflow as tf\n",
    "from sklearn.metrics.pairwise import cosine_similarity\n",
    "from sklearn.preprocessing import MultiLabelBinarizer\n",
    "import plotly.express as px\n",
    "import pandas as pd\n",
    "from plotly.subplots import make_subplots\n",
    "import plotly.graph_objects as go\n",
    "import json"
   ]
  },
  {
   "cell_type": "markdown",
   "metadata": {},
   "source": [
    "### Step 2: Download model and define paths"
   ]
  },
  {
   "cell_type": "markdown",
   "metadata": {},
   "source": [
    "Download the model and move to 'model' directory. (skip this step if model is already downloaded)"
   ]
  },
  {
   "cell_type": "code",
   "execution_count": 3,
   "metadata": {},
   "outputs": [
    {
     "name": "stdout",
     "output_type": "stream",
     "text": [
      "  % Total    % Received % Xferd  Average Speed   Time    Time     Time  Current\n",
      "                                 Dload  Upload   Total   Spent    Left  Speed\n",
      "100  3101  100  3101    0     0   2416      0  0:00:01  0:00:01 --:--:--  2416\n",
      "  % Total    % Received % Xferd  Average Speed   Time    Time     Time  Current\n",
      "                                 Dload  Upload   Total   Spent    Left  Speed\n",
      "  0     0    0     0    0     0      0      0 --:--:-- --:--:-- --:--:--     0^C\n"
     ]
    }
   ],
   "source": [
    "!curl -SLO https://essentia.upf.edu/models/classifiers/genre_tzanetakis/genre_tzanetakis-musicnn-msd-1.json\n",
    "!curl -SLO https://essentia.upf.edu/models/classifiers/genre_tzanetakis/genre_tzanetakis-musicnn-msd-1.pb"
   ]
  },
  {
   "cell_type": "code",
   "execution_count": 2,
   "metadata": {},
   "outputs": [],
   "source": [
    "MUSICNN_SR = 16000\n",
    "MODEL_PATH = 'model/genre_tzanetakis-musicnn-msd-1.pb'\n",
    "DATASET_DIR = 'dataset/drums'"
   ]
  },
  {
   "cell_type": "code",
   "execution_count": 3,
   "metadata": {},
   "outputs": [
    {
     "name": "stdout",
     "output_type": "stream",
     "text": [
      "name: genre GTZAN\n",
      "type: multi-class classifier\n",
      "link: https://essentia.upf.edu/models/classifiers/genre_tzanetakis/genre_tzanetakis-musicnn-msd-1.pb\n",
      "version: 1\n",
      "description: classification of music by genre\n",
      "author: Pablo Alonso\n",
      "email: pablo.alonso@upf.edu\n",
      "release_date: 2020-03-31\n",
      "framework: tensorflow\n",
      "framework_version: 1.15.0\n",
      "classes: ['blu', 'cla', 'cou', 'dis', 'hip', 'jaz', 'met', 'pop', 'reg', 'roc']\n",
      "model_types: ['frozen_model']\n",
      "dataset: {'name': 'the GTZAN Genre Collection', 'citation': '@article{tzanetakis2002musical,\\n  title={Musical genre classification of audio signals},\\n  author={Tzanetakis, George and Cook, Perry},\\n  journal={IEEE Transactions on speech and audio processing},\\n  volume={10},\\n  number={5},\\n  pages={293--302},\\n  year={2002},\\n  publisher={IEEE}\\n}', 'size': '1000 track excerpts, 100 per genre', 'metrics': {'5-fold_cross_validation_normalized_accuracy': 0.83}}\n",
      "schema: {'inputs': [{'name': 'model/Placeholder', 'type': 'float', 'shape': [187, 96]}], 'outputs': [{'name': 'model/Sigmoid', 'type': 'float', 'shape': [1, 10], 'op': 'Sigmoid', 'output_purpose': 'predictions'}, {'name': 'model/dense_2/BiasAdd', 'type': 'float', 'shape': [1, 10], 'op': 'fully connected', 'description': 'logits', 'output_purpose': ''}, {'name': 'model/dense_1/BiasAdd', 'type': 'float', 'shape': [1, 100], 'op': 'fully connected', 'description': 'penultimate layer', 'output_purpose': ''}, {'name': 'model/dense/BiasAdd', 'type': 'float', 'shape': [1, 200], 'op': 'fully connected', 'output_purpose': 'embeddings'}]}\n",
      "citation: @inproceedings{alonso2020tensorflow,\n",
      "  title={Tensorflow Audio Models in Essentia},\n",
      "  author={Alonso-Jim{\\'e}nez, Pablo and Bogdanov, Dmitry and Pons, Jordi and Serra, Xavier},\n",
      "  booktitle={IEEE International Conference on Acoustics, Speech and Signal Processing (ICASSP)},\n",
      "  year={2020}\n",
      "}\n",
      "inference: {'sample_rate': 16000, 'algorithm': 'TensorflowPredictMusiCNN'}\n"
     ]
    }
   ],
   "source": [
    "MODEL_NAME = 'model/genre_tzanetakis-musicnn-msd-1'\n",
    "MODEL_JSON = f'{MODEL_NAME}.json'\n",
    "MODEL_PB = f'{MODEL_NAME}.pb'\n",
    "\n",
    "musicnn_metadata = json.load(open(MODEL_JSON, 'r'))\n",
    "for k, v in musicnn_metadata.items():\n",
    "    print('{}: {}'.format(k , v))"
   ]
  },
  {
   "cell_type": "markdown",
   "metadata": {},
   "source": [
    "We can observe the output of the penultimate dense layer is proposed as embeddings. \n",
    "We will use it to extract songs embeddings from our dataset."
   ]
  },
  {
   "cell_type": "markdown",
   "metadata": {},
   "source": [
    "### Step 3: Define genres for each song"
   ]
  },
  {
   "cell_type": "code",
   "execution_count": 4,
   "metadata": {},
   "outputs": [],
   "source": [
    "genres = [\n",
    "    ['Romantic', 'Melody'], # Allantha Doorala 0\n",
    "    ['Romantic', 'Melody'], # Pranavalaya 1\n",
    "    ['Romantic', 'Sad'], # Adiga Adiga 2\n",
    "    ['Romantic', 'Upbeat'], # Guruvaram 3\n",
    "    ['Romantic', 'Folk'],   # Ghal Ghal 4\n",
    "    ['Romantic', 'Melody'], # Ninnila 5\n",
    "    ['Mass', 'Inspirational'], # Hukum 6\n",
    "    ['Melody'], # Chinnari Thalli 7\n",
    "    ['Romantic', 'Melody'], # O Cheliya 8\n",
    "    ['Folk', 'Dance'],      # Naatu Naatu 9 \n",
    "    ['Folk', 'Dance'],      # Kurchi Madathapetti 10\n",
    "    ['Romantic', 'Upbeat'], # Urike Urike 11\n",
    "    ['Inspirational', 'Mass'], # Saahore Baahubali 12\n",
    "    ['Romantic', 'Melody'], # Nenani Neevani 13\n",
    "    ['Romantic', 'Melody'], # Manasavacha 14\n",
    "    ['Romantic', 'Melody'],       # Ammaadi 15\n",
    "    ['Romantic', 'Melody'], # Dheera Dheera 16\n",
    "    ['Melody'], # Pedave Palikina 17 \n",
    "    ['Romantic', 'Sad'],   # Oosupodu 18\n",
    "    ['Romantic', 'Melody'] # Sirivennela 19\n",
    "]"
   ]
  },
  {
   "cell_type": "markdown",
   "metadata": {},
   "source": [
    "### Step 4: Encode genres"
   ]
  },
  {
   "cell_type": "code",
   "execution_count": 5,
   "metadata": {},
   "outputs": [],
   "source": [
    "mlb = MultiLabelBinarizer()\n",
    "genre_labels = mlb.fit_transform(genres)"
   ]
  },
  {
   "cell_type": "markdown",
   "metadata": {},
   "source": [
    "### Step 5: Functions for loading and processing audio"
   ]
  },
  {
   "cell_type": "code",
   "execution_count": 6,
   "metadata": {},
   "outputs": [],
   "source": [
    "def load_model(pb_file_path):\n",
    "    with tf.io.gfile.GFile(pb_file_path, \"rb\") as f:\n",
    "        graph_def = tf.compat.v1.GraphDef()\n",
    "        graph_def.ParseFromString(f.read())\n",
    "    with tf.compat.v1.Graph().as_default() as graph:\n",
    "        tf.import_graph_def(graph_def, name=\"\")\n",
    "    return graph\n",
    "\n",
    "def preprocess_audio(file_path, sample_rate=MUSICNN_SR):\n",
    "    y, sr = librosa.load(file_path, sr=sample_rate)\n",
    "    mel_spec = librosa.feature.melspectrogram(y=y, sr=sr, n_mels=96, n_fft=2048, hop_length=512)\n",
    "    log_mel_spec = librosa.power_to_db(mel_spec, ref=np.max)\n",
    "    if log_mel_spec.shape[1] > 187:\n",
    "        log_mel_spec = log_mel_spec[:, :187]\n",
    "    else:\n",
    "        pad_width = 187 - log_mel_spec.shape[1]\n",
    "        log_mel_spec = np.pad(log_mel_spec, ((0, 0), (0, pad_width)), mode='constant')\n",
    "    return log_mel_spec.T[np.newaxis, :, :]\n",
    "\n",
    "def run_model(graph, input_data):\n",
    "    input_tensor = graph.get_tensor_by_name('model/Placeholder:0')\n",
    "    output_tensor = graph.get_tensor_by_name('model/dense/BiasAdd:0')\n",
    "    with tf.compat.v1.Session(graph=graph) as sess:\n",
    "        embeddings = sess.run(output_tensor, feed_dict={input_tensor: input_data})\n",
    "    return embeddings\n",
    "\n",
    "def extract_mean_embedding(filename):\n",
    "    audio_data = preprocess_audio(filename)\n",
    "    graph = load_model(MODEL_PATH)\n",
    "    embeddings = run_model(graph, audio_data)\n",
    "    return embeddings\n",
    "\n",
    "def process_dataset(dataset_dir):\n",
    "    embeddings = []\n",
    "    for root, dirs, files in os.walk(dataset_dir):\n",
    "        for file in files:\n",
    "            if file.endswith('.wav'):\n",
    "                file_path = os.path.join(root, file)\n",
    "                mean_embedding = extract_mean_embedding(file_path)\n",
    "                embeddings.append((file_path, mean_embedding))\n",
    "    return embeddings"
   ]
  },
  {
   "cell_type": "markdown",
   "metadata": {},
   "source": [
    "### Step 6: Process dataset and extract embeddings"
   ]
  },
  {
   "cell_type": "code",
   "execution_count": 7,
   "metadata": {},
   "outputs": [
    {
     "name": "stderr",
     "output_type": "stream",
     "text": [
      "2024-05-25 04:25:19.875193: I external/local_xla/xla/stream_executor/cuda/cuda_executor.cc:998] successful NUMA node read from SysFS had negative value (-1), but there must be at least one NUMA node, so returning NUMA node zero. See more at https://github.com/torvalds/linux/blob/v6.0/Documentation/ABI/testing/sysfs-bus-pci#L344-L355\n",
      "2024-05-25 04:25:19.925493: W tensorflow/core/common_runtime/gpu/gpu_device.cc:2251] Cannot dlopen some GPU libraries. Please make sure the missing libraries mentioned above are installed properly if you would like to use GPU. Follow the guide at https://www.tensorflow.org/install/gpu for how to download and setup the required libraries for your platform.\n",
      "Skipping registering GPU devices...\n",
      "2024-05-25 04:25:19.930379: I tensorflow/compiler/mlir/mlir_graph_optimization_pass.cc:388] MLIR V1 optimization pass is not enabled\n"
     ]
    },
    {
     "name": "stdout",
     "output_type": "stream",
     "text": [
      "File path: dataset/drums/Oosupodu_drums.wav\n",
      "File path: dataset/drums/Kurchi Madathapetti_drums.wav\n",
      "File path: dataset/drums/Allantha Doorala_drums.wav\n",
      "File path: dataset/drums/Hukum_drums.wav\n",
      "File path: dataset/drums/Pranavalaya_drums.wav\n",
      "File path: dataset/drums/Dheera Dheera Dheera_drums.wav\n",
      "File path: dataset/drums/Ghal Ghal Ghal Ghal_drums.wav\n",
      "File path: dataset/drums/O Cheliya_drums.wav\n",
      "File path: dataset/drums/Saahore Baahubali_drums.wav\n",
      "File path: dataset/drums/Ammaadi_drums.wav\n",
      "File path: dataset/drums/Ninnila_drums.wav\n",
      "File path: dataset/drums/Chinnari Thalli_drums.wav\n",
      "File path: dataset/drums/Nenani Neevani_drums.wav\n",
      "File path: dataset/drums/Adiga Adiga_drums.wav\n",
      "File path: dataset/drums/Sirivennela_drums.wav\n",
      "File path: dataset/drums/Nattu Nattu_drums.wav\n",
      "File path: dataset/drums/Pedave Palikina_drums.wav\n",
      "File path: dataset/drums/Urike Urike_drums.wav\n",
      "File path: dataset/drums/Manasavacha_drums.wav\n",
      "File path: dataset/drums/Guruvaram_drums.wav\n"
     ]
    }
   ],
   "source": [
    "file_embeddings = process_dataset(DATASET_DIR)\n",
    "embeddings = []\n",
    "for file_path, embedding in file_embeddings:\n",
    "    print(f'File path: {file_path}')\n",
    "    embeddings.append(embedding)\n",
    "\n",
    "embeddings = np.array(embeddings)\n",
    "embeddings_matrix = np.vstack([emb for emb in embeddings])  # to convert list of tuples to a numpy matrix\n",
    "similarities = cosine_similarity(embeddings_matrix)"
   ]
  },
  {
   "cell_type": "code",
   "execution_count": 8,
   "metadata": {},
   "outputs": [
    {
     "name": "stdout",
     "output_type": "stream",
     "text": [
      "(20, 20)\n",
      "Min value: 0.6748707890510559\n",
      "Max value: 1.000000238418579\n"
     ]
    },
    {
     "data": {
      "application/vnd.plotly.v1+json": {
       "config": {
        "plotlyServerURL": "https://plot.ly"
       },
       "data": [
        {
         "coloraxis": "coloraxis",
         "hovertemplate": "x: %{x}<br>y: %{y}<br>color: %{z}<extra></extra>",
         "name": "0",
         "type": "heatmap",
         "xaxis": "x",
         "yaxis": "y",
         "z": [
          [
           0.9999999403953552,
           0.998673141002655,
           0.999427080154419,
           0.9641644358634949,
           0.9994075894355774,
           0.9996775388717651,
           0.8519120216369629,
           0.9101639986038208,
           0.9381688237190247,
           0.9979843497276306,
           0.9997947812080383,
           0.682895839214325,
           0.9993284344673157,
           0.8850258588790894,
           0.9688833951950073,
           0.8761236071586609,
           0.9989974498748779,
           0.9991452693939209,
           0.9973469376564026,
           0.9989539384841919
          ],
          [
           0.998673141002655,
           0.9999997019767761,
           0.999595046043396,
           0.9620317816734314,
           0.999634325504303,
           0.9976439476013184,
           0.8526932001113892,
           0.9155495762825012,
           0.9365151524543762,
           0.999372661113739,
           0.9993282556533813,
           0.6823754906654358,
           0.9995717406272888,
           0.8836290836334229,
           0.9635067582130432,
           0.8762666583061218,
           0.9989873766899109,
           0.9991507530212402,
           0.9946842193603516,
           0.9995700120925903
          ],
          [
           0.999427080154419,
           0.999595046043396,
           1,
           0.9605464339256287,
           0.9997467398643494,
           0.9984421730041504,
           0.8480722904205322,
           0.9102308750152588,
           0.9343196749687195,
           0.998663067817688,
           0.9998841881752014,
           0.6784849762916565,
           0.9994924068450928,
           0.8809636235237122,
           0.963646650314331,
           0.8718604445457458,
           0.9996995329856873,
           0.998961865901947,
           0.9955430626869202,
           0.9998462796211243
          ],
          [
           0.9641644358634949,
           0.9620317816734314,
           0.9605464339256287,
           1.000000238418579,
           0.9615848660469055,
           0.9683592915534973,
           0.9475724697113037,
           0.9702810645103455,
           0.98667311668396,
           0.9648391008377075,
           0.961880624294281,
           0.8024232983589172,
           0.9660986661911011,
           0.9652621746063232,
           0.9833085536956787,
           0.9513010382652283,
           0.9583961367607117,
           0.969085156917572,
           0.974197506904602,
           0.9599560499191284
          ],
          [
           0.9994075894355774,
           0.999634325504303,
           0.9997467398643494,
           0.9615848660469055,
           1.000000238418579,
           0.9984984993934631,
           0.8517895340919495,
           0.9111501574516296,
           0.9369367957115173,
           0.9993067383766174,
           0.9997398853302002,
           0.6838235259056091,
           0.9995392560958862,
           0.8832647204399109,
           0.966797947883606,
           0.8770453929901123,
           0.9992411732673645,
           0.9992384314537048,
           0.9951637983322144,
           0.9994838237762451
          ],
          [
           0.9996775388717651,
           0.9976439476013184,
           0.9984421730041504,
           0.9683592915534973,
           0.9984984993934631,
           1.0000001192092896,
           0.8573635816574097,
           0.9145313501358032,
           0.9424721002578735,
           0.9971011281013489,
           0.9990681409835815,
           0.6881364583969116,
           0.9988203048706055,
           0.8904127478599548,
           0.9720017910003662,
           0.8812618255615234,
           0.9978199601173401,
           0.9988981485366821,
           0.9985548257827759,
           0.9977967739105225
          ],
          [
           0.8519120216369629,
           0.8526932001113892,
           0.8480722904205322,
           0.9475724697113037,
           0.8517895340919495,
           0.8573635816574097,
           0.9999999403953552,
           0.951359748840332,
           0.9743618965148926,
           0.8614882230758667,
           0.8490378856658936,
           0.9384677410125732,
           0.856967031955719,
           0.9918211698532104,
           0.9217826724052429,
           0.9862542748451233,
           0.8447203040122986,
           0.8622180223464966,
           0.8633742928504944,
           0.8478415012359619
          ],
          [
           0.9101639986038208,
           0.9155495762825012,
           0.9102308750152588,
           0.9702810645103455,
           0.9111501574516296,
           0.9145313501358032,
           0.951359748840332,
           1.0000001192092896,
           0.9616293907165527,
           0.9187033772468567,
           0.9097784161567688,
           0.811467170715332,
           0.9184179902076721,
           0.9565775990486145,
           0.9319584965705872,
           0.9499948620796204,
           0.9068806171417236,
           0.9209620952606201,
           0.9220640659332275,
           0.9106524586677551
          ],
          [
           0.9381688237190247,
           0.9365151524543762,
           0.9343196749687195,
           0.98667311668396,
           0.9369367957115173,
           0.9424721002578735,
           0.9743618965148926,
           0.9616293907165527,
           1,
           0.9425509572029114,
           0.9354997277259827,
           0.8757334351539612,
           0.9399722218513489,
           0.985832929611206,
           0.9750961661338806,
           0.9824250936508179,
           0.9315654039382935,
           0.9431928992271423,
           0.9462791085243225,
           0.9334304332733154
          ],
          [
           0.9979843497276306,
           0.999372661113739,
           0.998663067817688,
           0.9648391008377075,
           0.9993067383766174,
           0.9971011281013489,
           0.8614882230758667,
           0.9187033772468567,
           0.9425509572029114,
           1,
           0.9984846711158752,
           0.6951715350151062,
           0.9990006685256958,
           0.8899194598197937,
           0.969119668006897,
           0.886235773563385,
           0.997886061668396,
           0.9989487528800964,
           0.9940004944801331,
           0.9985486268997192
          ],
          [
           0.9997947812080383,
           0.9993282556533813,
           0.9998841881752014,
           0.961880624294281,
           0.9997398853302002,
           0.9990681409835815,
           0.8490378856658936,
           0.9097784161567688,
           0.9354997277259827,
           0.9984846711158752,
           1.0000001192092896,
           0.6790823340415955,
           0.99957275390625,
           0.882027804851532,
           0.9658637046813965,
           0.8729861974716187,
           0.9995961785316467,
           0.9991974830627441,
           0.9964208006858826,
           0.9996370673179626
          ],
          [
           0.682895839214325,
           0.6823754906654358,
           0.6784849762916565,
           0.8024232983589172,
           0.6838235259056091,
           0.6881364583969116,
           0.9384677410125732,
           0.811467170715332,
           0.8757334351539612,
           0.6951715350151062,
           0.6790823340415955,
           1.0000001192092896,
           0.6850836277008057,
           0.9234533309936523,
           0.7807591557502747,
           0.9252864122390747,
           0.6748707890510559,
           0.6906231045722961,
           0.6893209218978882,
           0.6775601506233215
          ],
          [
           0.9993284344673157,
           0.9995717406272888,
           0.9994924068450928,
           0.9660986661911011,
           0.9995392560958862,
           0.9988203048706055,
           0.856967031955719,
           0.9184179902076721,
           0.9399722218513489,
           0.9990006685256958,
           0.99957275390625,
           0.6850836277008057,
           0.9999999403953552,
           0.8875455260276794,
           0.9678575396537781,
           0.8797333836555481,
           0.9990267753601074,
           0.9998237490653992,
           0.996832013130188,
           0.9994024038314819
          ],
          [
           0.8850258588790894,
           0.8836290836334229,
           0.8809636235237122,
           0.9652621746063232,
           0.8832647204399109,
           0.8904127478599548,
           0.9918211698532104,
           0.9565775990486145,
           0.985832929611206,
           0.8899194598197937,
           0.882027804851532,
           0.9234533309936523,
           0.8875455260276794,
           0.9999998211860657,
           0.9378234148025513,
           0.9839195609092712,
           0.8776752352714539,
           0.8916921615600586,
           0.8957319259643555,
           0.8801746964454651
          ],
          [
           0.9688833951950073,
           0.9635067582130432,
           0.963646650314331,
           0.9833085536956787,
           0.966797947883606,
           0.9720017910003662,
           0.9217826724052429,
           0.9319584965705872,
           0.9750961661338806,
           0.969119668006897,
           0.9658637046813965,
           0.7807591557502747,
           0.9678575396537781,
           0.9378234148025513,
           1,
           0.9422390460968018,
           0.9620257019996643,
           0.9711349010467529,
           0.9728003144264221,
           0.9619199633598328
          ],
          [
           0.8761236071586609,
           0.8762666583061218,
           0.8718604445457458,
           0.9513010382652283,
           0.8770453929901123,
           0.8812618255615234,
           0.9862542748451233,
           0.9499948620796204,
           0.9824250936508179,
           0.886235773563385,
           0.8729861974716187,
           0.9252864122390747,
           0.8797333836555481,
           0.9839195609092712,
           0.9422390460968018,
           0.9999999403953552,
           0.8675259351730347,
           0.8842155933380127,
           0.8829564452171326,
           0.8705339431762695
          ],
          [
           0.9989974498748779,
           0.9989873766899109,
           0.9996995329856873,
           0.9583961367607117,
           0.9992411732673645,
           0.9978199601173401,
           0.8447203040122986,
           0.9068806171417236,
           0.9315654039382935,
           0.997886061668396,
           0.9995961785316467,
           0.6748707890510559,
           0.9990267753601074,
           0.8776752352714539,
           0.9620257019996643,
           0.8675259351730347,
           1.000000238418579,
           0.9984208941459656,
           0.9950991868972778,
           0.9998274445533752
          ],
          [
           0.9991452693939209,
           0.9991507530212402,
           0.998961865901947,
           0.969085156917572,
           0.9992384314537048,
           0.9988981485366821,
           0.8622180223464966,
           0.9209620952606201,
           0.9431928992271423,
           0.9989487528800964,
           0.9991974830627441,
           0.6906231045722961,
           0.9998237490653992,
           0.8916921615600586,
           0.9711349010467529,
           0.8842155933380127,
           0.9984208941459656,
           0.9999996423721313,
           0.997223436832428,
           0.9988234639167786
          ],
          [
           0.9973469376564026,
           0.9946842193603516,
           0.9955430626869202,
           0.974197506904602,
           0.9951637983322144,
           0.9985548257827759,
           0.8633742928504944,
           0.9220640659332275,
           0.9462791085243225,
           0.9940004944801331,
           0.9964208006858826,
           0.6893209218978882,
           0.996832013130188,
           0.8957319259643555,
           0.9728003144264221,
           0.8829564452171326,
           0.9950991868972778,
           0.997223436832428,
           1.0000001192092896,
           0.9951141476631165
          ],
          [
           0.9989539384841919,
           0.9995700120925903,
           0.9998462796211243,
           0.9599560499191284,
           0.9994838237762451,
           0.9977967739105225,
           0.8478415012359619,
           0.9106524586677551,
           0.9334304332733154,
           0.9985486268997192,
           0.9996370673179626,
           0.6775601506233215,
           0.9994024038314819,
           0.8801746964454651,
           0.9619199633598328,
           0.8705339431762695,
           0.9998274445533752,
           0.9988234639167786,
           0.9951141476631165,
           0.9999999403953552
          ]
         ]
        }
       ],
       "layout": {
        "coloraxis": {
         "colorscale": [
          [
           0,
           "rgb(165,0,38)"
          ],
          [
           0.1,
           "rgb(215,48,39)"
          ],
          [
           0.2,
           "rgb(244,109,67)"
          ],
          [
           0.3,
           "rgb(253,174,97)"
          ],
          [
           0.4,
           "rgb(254,224,139)"
          ],
          [
           0.5,
           "rgb(255,255,191)"
          ],
          [
           0.6,
           "rgb(217,239,139)"
          ],
          [
           0.7,
           "rgb(166,217,106)"
          ],
          [
           0.8,
           "rgb(102,189,99)"
          ],
          [
           0.9,
           "rgb(26,152,80)"
          ],
          [
           1,
           "rgb(0,104,55)"
          ]
         ]
        },
        "margin": {
         "t": 60
        },
        "template": {
         "data": {
          "bar": [
           {
            "error_x": {
             "color": "#2a3f5f"
            },
            "error_y": {
             "color": "#2a3f5f"
            },
            "marker": {
             "line": {
              "color": "#E5ECF6",
              "width": 0.5
             },
             "pattern": {
              "fillmode": "overlay",
              "size": 10,
              "solidity": 0.2
             }
            },
            "type": "bar"
           }
          ],
          "barpolar": [
           {
            "marker": {
             "line": {
              "color": "#E5ECF6",
              "width": 0.5
             },
             "pattern": {
              "fillmode": "overlay",
              "size": 10,
              "solidity": 0.2
             }
            },
            "type": "barpolar"
           }
          ],
          "carpet": [
           {
            "aaxis": {
             "endlinecolor": "#2a3f5f",
             "gridcolor": "white",
             "linecolor": "white",
             "minorgridcolor": "white",
             "startlinecolor": "#2a3f5f"
            },
            "baxis": {
             "endlinecolor": "#2a3f5f",
             "gridcolor": "white",
             "linecolor": "white",
             "minorgridcolor": "white",
             "startlinecolor": "#2a3f5f"
            },
            "type": "carpet"
           }
          ],
          "choropleth": [
           {
            "colorbar": {
             "outlinewidth": 0,
             "ticks": ""
            },
            "type": "choropleth"
           }
          ],
          "contour": [
           {
            "colorbar": {
             "outlinewidth": 0,
             "ticks": ""
            },
            "colorscale": [
             [
              0,
              "#0d0887"
             ],
             [
              0.1111111111111111,
              "#46039f"
             ],
             [
              0.2222222222222222,
              "#7201a8"
             ],
             [
              0.3333333333333333,
              "#9c179e"
             ],
             [
              0.4444444444444444,
              "#bd3786"
             ],
             [
              0.5555555555555556,
              "#d8576b"
             ],
             [
              0.6666666666666666,
              "#ed7953"
             ],
             [
              0.7777777777777778,
              "#fb9f3a"
             ],
             [
              0.8888888888888888,
              "#fdca26"
             ],
             [
              1,
              "#f0f921"
             ]
            ],
            "type": "contour"
           }
          ],
          "contourcarpet": [
           {
            "colorbar": {
             "outlinewidth": 0,
             "ticks": ""
            },
            "type": "contourcarpet"
           }
          ],
          "heatmap": [
           {
            "colorbar": {
             "outlinewidth": 0,
             "ticks": ""
            },
            "colorscale": [
             [
              0,
              "#0d0887"
             ],
             [
              0.1111111111111111,
              "#46039f"
             ],
             [
              0.2222222222222222,
              "#7201a8"
             ],
             [
              0.3333333333333333,
              "#9c179e"
             ],
             [
              0.4444444444444444,
              "#bd3786"
             ],
             [
              0.5555555555555556,
              "#d8576b"
             ],
             [
              0.6666666666666666,
              "#ed7953"
             ],
             [
              0.7777777777777778,
              "#fb9f3a"
             ],
             [
              0.8888888888888888,
              "#fdca26"
             ],
             [
              1,
              "#f0f921"
             ]
            ],
            "type": "heatmap"
           }
          ],
          "heatmapgl": [
           {
            "colorbar": {
             "outlinewidth": 0,
             "ticks": ""
            },
            "colorscale": [
             [
              0,
              "#0d0887"
             ],
             [
              0.1111111111111111,
              "#46039f"
             ],
             [
              0.2222222222222222,
              "#7201a8"
             ],
             [
              0.3333333333333333,
              "#9c179e"
             ],
             [
              0.4444444444444444,
              "#bd3786"
             ],
             [
              0.5555555555555556,
              "#d8576b"
             ],
             [
              0.6666666666666666,
              "#ed7953"
             ],
             [
              0.7777777777777778,
              "#fb9f3a"
             ],
             [
              0.8888888888888888,
              "#fdca26"
             ],
             [
              1,
              "#f0f921"
             ]
            ],
            "type": "heatmapgl"
           }
          ],
          "histogram": [
           {
            "marker": {
             "pattern": {
              "fillmode": "overlay",
              "size": 10,
              "solidity": 0.2
             }
            },
            "type": "histogram"
           }
          ],
          "histogram2d": [
           {
            "colorbar": {
             "outlinewidth": 0,
             "ticks": ""
            },
            "colorscale": [
             [
              0,
              "#0d0887"
             ],
             [
              0.1111111111111111,
              "#46039f"
             ],
             [
              0.2222222222222222,
              "#7201a8"
             ],
             [
              0.3333333333333333,
              "#9c179e"
             ],
             [
              0.4444444444444444,
              "#bd3786"
             ],
             [
              0.5555555555555556,
              "#d8576b"
             ],
             [
              0.6666666666666666,
              "#ed7953"
             ],
             [
              0.7777777777777778,
              "#fb9f3a"
             ],
             [
              0.8888888888888888,
              "#fdca26"
             ],
             [
              1,
              "#f0f921"
             ]
            ],
            "type": "histogram2d"
           }
          ],
          "histogram2dcontour": [
           {
            "colorbar": {
             "outlinewidth": 0,
             "ticks": ""
            },
            "colorscale": [
             [
              0,
              "#0d0887"
             ],
             [
              0.1111111111111111,
              "#46039f"
             ],
             [
              0.2222222222222222,
              "#7201a8"
             ],
             [
              0.3333333333333333,
              "#9c179e"
             ],
             [
              0.4444444444444444,
              "#bd3786"
             ],
             [
              0.5555555555555556,
              "#d8576b"
             ],
             [
              0.6666666666666666,
              "#ed7953"
             ],
             [
              0.7777777777777778,
              "#fb9f3a"
             ],
             [
              0.8888888888888888,
              "#fdca26"
             ],
             [
              1,
              "#f0f921"
             ]
            ],
            "type": "histogram2dcontour"
           }
          ],
          "mesh3d": [
           {
            "colorbar": {
             "outlinewidth": 0,
             "ticks": ""
            },
            "type": "mesh3d"
           }
          ],
          "parcoords": [
           {
            "line": {
             "colorbar": {
              "outlinewidth": 0,
              "ticks": ""
             }
            },
            "type": "parcoords"
           }
          ],
          "pie": [
           {
            "automargin": true,
            "type": "pie"
           }
          ],
          "scatter": [
           {
            "fillpattern": {
             "fillmode": "overlay",
             "size": 10,
             "solidity": 0.2
            },
            "type": "scatter"
           }
          ],
          "scatter3d": [
           {
            "line": {
             "colorbar": {
              "outlinewidth": 0,
              "ticks": ""
             }
            },
            "marker": {
             "colorbar": {
              "outlinewidth": 0,
              "ticks": ""
             }
            },
            "type": "scatter3d"
           }
          ],
          "scattercarpet": [
           {
            "marker": {
             "colorbar": {
              "outlinewidth": 0,
              "ticks": ""
             }
            },
            "type": "scattercarpet"
           }
          ],
          "scattergeo": [
           {
            "marker": {
             "colorbar": {
              "outlinewidth": 0,
              "ticks": ""
             }
            },
            "type": "scattergeo"
           }
          ],
          "scattergl": [
           {
            "marker": {
             "colorbar": {
              "outlinewidth": 0,
              "ticks": ""
             }
            },
            "type": "scattergl"
           }
          ],
          "scattermapbox": [
           {
            "marker": {
             "colorbar": {
              "outlinewidth": 0,
              "ticks": ""
             }
            },
            "type": "scattermapbox"
           }
          ],
          "scatterpolar": [
           {
            "marker": {
             "colorbar": {
              "outlinewidth": 0,
              "ticks": ""
             }
            },
            "type": "scatterpolar"
           }
          ],
          "scatterpolargl": [
           {
            "marker": {
             "colorbar": {
              "outlinewidth": 0,
              "ticks": ""
             }
            },
            "type": "scatterpolargl"
           }
          ],
          "scatterternary": [
           {
            "marker": {
             "colorbar": {
              "outlinewidth": 0,
              "ticks": ""
             }
            },
            "type": "scatterternary"
           }
          ],
          "surface": [
           {
            "colorbar": {
             "outlinewidth": 0,
             "ticks": ""
            },
            "colorscale": [
             [
              0,
              "#0d0887"
             ],
             [
              0.1111111111111111,
              "#46039f"
             ],
             [
              0.2222222222222222,
              "#7201a8"
             ],
             [
              0.3333333333333333,
              "#9c179e"
             ],
             [
              0.4444444444444444,
              "#bd3786"
             ],
             [
              0.5555555555555556,
              "#d8576b"
             ],
             [
              0.6666666666666666,
              "#ed7953"
             ],
             [
              0.7777777777777778,
              "#fb9f3a"
             ],
             [
              0.8888888888888888,
              "#fdca26"
             ],
             [
              1,
              "#f0f921"
             ]
            ],
            "type": "surface"
           }
          ],
          "table": [
           {
            "cells": {
             "fill": {
              "color": "#EBF0F8"
             },
             "line": {
              "color": "white"
             }
            },
            "header": {
             "fill": {
              "color": "#C8D4E3"
             },
             "line": {
              "color": "white"
             }
            },
            "type": "table"
           }
          ]
         },
         "layout": {
          "annotationdefaults": {
           "arrowcolor": "#2a3f5f",
           "arrowhead": 0,
           "arrowwidth": 1
          },
          "autotypenumbers": "strict",
          "coloraxis": {
           "colorbar": {
            "outlinewidth": 0,
            "ticks": ""
           }
          },
          "colorscale": {
           "diverging": [
            [
             0,
             "#8e0152"
            ],
            [
             0.1,
             "#c51b7d"
            ],
            [
             0.2,
             "#de77ae"
            ],
            [
             0.3,
             "#f1b6da"
            ],
            [
             0.4,
             "#fde0ef"
            ],
            [
             0.5,
             "#f7f7f7"
            ],
            [
             0.6,
             "#e6f5d0"
            ],
            [
             0.7,
             "#b8e186"
            ],
            [
             0.8,
             "#7fbc41"
            ],
            [
             0.9,
             "#4d9221"
            ],
            [
             1,
             "#276419"
            ]
           ],
           "sequential": [
            [
             0,
             "#0d0887"
            ],
            [
             0.1111111111111111,
             "#46039f"
            ],
            [
             0.2222222222222222,
             "#7201a8"
            ],
            [
             0.3333333333333333,
             "#9c179e"
            ],
            [
             0.4444444444444444,
             "#bd3786"
            ],
            [
             0.5555555555555556,
             "#d8576b"
            ],
            [
             0.6666666666666666,
             "#ed7953"
            ],
            [
             0.7777777777777778,
             "#fb9f3a"
            ],
            [
             0.8888888888888888,
             "#fdca26"
            ],
            [
             1,
             "#f0f921"
            ]
           ],
           "sequentialminus": [
            [
             0,
             "#0d0887"
            ],
            [
             0.1111111111111111,
             "#46039f"
            ],
            [
             0.2222222222222222,
             "#7201a8"
            ],
            [
             0.3333333333333333,
             "#9c179e"
            ],
            [
             0.4444444444444444,
             "#bd3786"
            ],
            [
             0.5555555555555556,
             "#d8576b"
            ],
            [
             0.6666666666666666,
             "#ed7953"
            ],
            [
             0.7777777777777778,
             "#fb9f3a"
            ],
            [
             0.8888888888888888,
             "#fdca26"
            ],
            [
             1,
             "#f0f921"
            ]
           ]
          },
          "colorway": [
           "#636efa",
           "#EF553B",
           "#00cc96",
           "#ab63fa",
           "#FFA15A",
           "#19d3f3",
           "#FF6692",
           "#B6E880",
           "#FF97FF",
           "#FECB52"
          ],
          "font": {
           "color": "#2a3f5f"
          },
          "geo": {
           "bgcolor": "white",
           "lakecolor": "white",
           "landcolor": "#E5ECF6",
           "showlakes": true,
           "showland": true,
           "subunitcolor": "white"
          },
          "hoverlabel": {
           "align": "left"
          },
          "hovermode": "closest",
          "mapbox": {
           "style": "light"
          },
          "paper_bgcolor": "white",
          "plot_bgcolor": "#E5ECF6",
          "polar": {
           "angularaxis": {
            "gridcolor": "white",
            "linecolor": "white",
            "ticks": ""
           },
           "bgcolor": "#E5ECF6",
           "radialaxis": {
            "gridcolor": "white",
            "linecolor": "white",
            "ticks": ""
           }
          },
          "scene": {
           "xaxis": {
            "backgroundcolor": "#E5ECF6",
            "gridcolor": "white",
            "gridwidth": 2,
            "linecolor": "white",
            "showbackground": true,
            "ticks": "",
            "zerolinecolor": "white"
           },
           "yaxis": {
            "backgroundcolor": "#E5ECF6",
            "gridcolor": "white",
            "gridwidth": 2,
            "linecolor": "white",
            "showbackground": true,
            "ticks": "",
            "zerolinecolor": "white"
           },
           "zaxis": {
            "backgroundcolor": "#E5ECF6",
            "gridcolor": "white",
            "gridwidth": 2,
            "linecolor": "white",
            "showbackground": true,
            "ticks": "",
            "zerolinecolor": "white"
           }
          },
          "shapedefaults": {
           "line": {
            "color": "#2a3f5f"
           }
          },
          "ternary": {
           "aaxis": {
            "gridcolor": "white",
            "linecolor": "white",
            "ticks": ""
           },
           "baxis": {
            "gridcolor": "white",
            "linecolor": "white",
            "ticks": ""
           },
           "bgcolor": "#E5ECF6",
           "caxis": {
            "gridcolor": "white",
            "linecolor": "white",
            "ticks": ""
           }
          },
          "title": {
           "x": 0.05
          },
          "xaxis": {
           "automargin": true,
           "gridcolor": "white",
           "linecolor": "white",
           "ticks": "",
           "title": {
            "standoff": 15
           },
           "zerolinecolor": "white",
           "zerolinewidth": 2
          },
          "yaxis": {
           "automargin": true,
           "gridcolor": "white",
           "linecolor": "white",
           "ticks": "",
           "title": {
            "standoff": 15
           },
           "zerolinecolor": "white",
           "zerolinewidth": 2
          }
         }
        },
        "xaxis": {
         "anchor": "y",
         "constrain": "domain",
         "domain": [
          0,
          1
         ],
         "scaleanchor": "y"
        },
        "yaxis": {
         "anchor": "x",
         "autorange": "reversed",
         "constrain": "domain",
         "domain": [
          0,
          1
         ]
        }
       }
      }
     },
     "metadata": {},
     "output_type": "display_data"
    }
   ],
   "source": [
    "print(similarities.shape)\n",
    "print(f'Min value: {similarities.min()}')\n",
    "print(f'Max value: {similarities.max()}')\n",
    "\n",
    "fig = px.imshow(similarities, color_continuous_scale='RdYlGn')\n",
    "fig.show()"
   ]
  },
  {
   "cell_type": "markdown",
   "metadata": {},
   "source": [
    "### Step 7: Compute sorted indexes and similar songs matrix"
   ]
  },
  {
   "cell_type": "code",
   "execution_count": 9,
   "metadata": {},
   "outputs": [],
   "source": [
    "sorted_indexes = np.argsort(similarities, axis=1)\n",
    "sorted_indexes = np.fliplr(sorted_indexes)\n",
    "\n",
    "def match_genres(genres_i, genres_j):\n",
    "    return any(genre in genres_j for genre in genres_i)\n",
    "\n",
    "similar_songs = np.zeros_like(sorted_indexes)\n",
    "\n",
    "for i in range(sorted_indexes.shape[0]):\n",
    "    genre_i = genres[i] \n",
    "    sorted_indexes_i = sorted_indexes[i, :]  \n",
    "    similar_songs_i = np.array([1 if match_genres(genre_i, genres[j]) else 0 for j in sorted_indexes_i])\n",
    "    similar_songs[i, :] = similar_songs_i\n"
   ]
  },
  {
   "cell_type": "markdown",
   "metadata": {},
   "source": [
    "### Step 8: Evaluation metrics: AP@N and MAP@N"
   ]
  },
  {
   "cell_type": "code",
   "execution_count": 10,
   "metadata": {},
   "outputs": [],
   "source": [
    "def precision_k(similar_items, k):\n",
    "    similar_items_k = similar_items[:k]\n",
    "    P = sum(similar_items_k) / k\n",
    "    return P\n",
    "\n",
    "def average_precision_N(similar_items, N):\n",
    "    m = np.min([np.sum(similar_items), N])\n",
    "    sum_vector = []\n",
    "    for k in range(1, N+1):\n",
    "        if k-1 < len(similar_items):\n",
    "            sum_vector.append(precision_k(similar_items, k) * similar_items[k-1])\n",
    "    AP = (1/m) * sum(sum_vector)\n",
    "    return AP\n"
   ]
  },
  {
   "cell_type": "markdown",
   "metadata": {},
   "source": [
    "### Step 9: Evaluate music similarity"
   ]
  },
  {
   "cell_type": "code",
   "execution_count": 11,
   "metadata": {},
   "outputs": [
    {
     "data": {
      "text/html": [
       "<div>\n",
       "<style scoped>\n",
       "    .dataframe tbody tr th:only-of-type {\n",
       "        vertical-align: middle;\n",
       "    }\n",
       "\n",
       "    .dataframe tbody tr th {\n",
       "        vertical-align: top;\n",
       "    }\n",
       "\n",
       "    .dataframe thead th {\n",
       "        text-align: right;\n",
       "    }\n",
       "</style>\n",
       "<table border=\"1\" class=\"dataframe\">\n",
       "  <thead>\n",
       "    <tr style=\"text-align: right;\">\n",
       "      <th></th>\n",
       "      <th>song_name</th>\n",
       "      <th>genre</th>\n",
       "      <th>@3</th>\n",
       "      <th>@5</th>\n",
       "      <th>@10</th>\n",
       "      <th>@13</th>\n",
       "      <th>@15</th>\n",
       "    </tr>\n",
       "  </thead>\n",
       "  <tbody>\n",
       "    <tr>\n",
       "      <th>0</th>\n",
       "      <td>0</td>\n",
       "      <td>Romantic,Melody</td>\n",
       "      <td>0.555556</td>\n",
       "      <td>0.643333</td>\n",
       "      <td>0.625873</td>\n",
       "      <td>0.598305</td>\n",
       "      <td>0.624245</td>\n",
       "    </tr>\n",
       "    <tr>\n",
       "      <th>1</th>\n",
       "      <td>1</td>\n",
       "      <td>Romantic,Melody</td>\n",
       "      <td>1.000000</td>\n",
       "      <td>0.760000</td>\n",
       "      <td>0.579167</td>\n",
       "      <td>0.618321</td>\n",
       "      <td>0.641592</td>\n",
       "    </tr>\n",
       "    <tr>\n",
       "      <th>2</th>\n",
       "      <td>2</td>\n",
       "      <td>Romantic,Sad</td>\n",
       "      <td>0.555556</td>\n",
       "      <td>0.643333</td>\n",
       "      <td>0.480000</td>\n",
       "      <td>0.522718</td>\n",
       "      <td>0.588783</td>\n",
       "    </tr>\n",
       "    <tr>\n",
       "      <th>3</th>\n",
       "      <td>3</td>\n",
       "      <td>Romantic,Upbeat</td>\n",
       "      <td>1.000000</td>\n",
       "      <td>0.800000</td>\n",
       "      <td>0.538095</td>\n",
       "      <td>0.514153</td>\n",
       "      <td>0.570965</td>\n",
       "    </tr>\n",
       "    <tr>\n",
       "      <th>4</th>\n",
       "      <td>4</td>\n",
       "      <td>Romantic,Folk</td>\n",
       "      <td>1.000000</td>\n",
       "      <td>0.800000</td>\n",
       "      <td>0.745437</td>\n",
       "      <td>0.765541</td>\n",
       "      <td>0.778390</td>\n",
       "    </tr>\n",
       "    <tr>\n",
       "      <th>5</th>\n",
       "      <td>5</td>\n",
       "      <td>Romantic,Melody</td>\n",
       "      <td>0.666667</td>\n",
       "      <td>0.550000</td>\n",
       "      <td>0.645873</td>\n",
       "      <td>0.618934</td>\n",
       "      <td>0.642124</td>\n",
       "    </tr>\n",
       "    <tr>\n",
       "      <th>6</th>\n",
       "      <td>6</td>\n",
       "      <td>Mass,Inspirational</td>\n",
       "      <td>0.500000</td>\n",
       "      <td>0.500000</td>\n",
       "      <td>0.500000</td>\n",
       "      <td>0.576923</td>\n",
       "      <td>0.576923</td>\n",
       "    </tr>\n",
       "    <tr>\n",
       "      <th>7</th>\n",
       "      <td>7</td>\n",
       "      <td>Melody</td>\n",
       "      <td>0.555556</td>\n",
       "      <td>0.483333</td>\n",
       "      <td>0.446429</td>\n",
       "      <td>0.514819</td>\n",
       "      <td>0.569364</td>\n",
       "    </tr>\n",
       "    <tr>\n",
       "      <th>8</th>\n",
       "      <td>8</td>\n",
       "      <td>Romantic,Melody</td>\n",
       "      <td>1.000000</td>\n",
       "      <td>1.000000</td>\n",
       "      <td>0.762103</td>\n",
       "      <td>0.708342</td>\n",
       "      <td>0.719611</td>\n",
       "    </tr>\n",
       "    <tr>\n",
       "      <th>9</th>\n",
       "      <td>9</td>\n",
       "      <td>Folk,Dance</td>\n",
       "      <td>0.555556</td>\n",
       "      <td>0.555556</td>\n",
       "      <td>0.680556</td>\n",
       "      <td>0.680556</td>\n",
       "      <td>0.680556</td>\n",
       "    </tr>\n",
       "    <tr>\n",
       "      <th>10</th>\n",
       "      <td>10</td>\n",
       "      <td>Folk,Dance</td>\n",
       "      <td>0.333333</td>\n",
       "      <td>0.500000</td>\n",
       "      <td>0.500000</td>\n",
       "      <td>0.590909</td>\n",
       "      <td>0.590909</td>\n",
       "    </tr>\n",
       "    <tr>\n",
       "      <th>11</th>\n",
       "      <td>11</td>\n",
       "      <td>Romantic,Upbeat</td>\n",
       "      <td>0.555556</td>\n",
       "      <td>0.643333</td>\n",
       "      <td>0.468095</td>\n",
       "      <td>0.460306</td>\n",
       "      <td>0.520965</td>\n",
       "    </tr>\n",
       "    <tr>\n",
       "      <th>12</th>\n",
       "      <td>12</td>\n",
       "      <td>Inspirational,Mass</td>\n",
       "      <td>0.500000</td>\n",
       "      <td>0.500000</td>\n",
       "      <td>0.500000</td>\n",
       "      <td>0.500000</td>\n",
       "      <td>0.500000</td>\n",
       "    </tr>\n",
       "    <tr>\n",
       "      <th>13</th>\n",
       "      <td>13</td>\n",
       "      <td>Romantic,Melody</td>\n",
       "      <td>0.555556</td>\n",
       "      <td>0.643333</td>\n",
       "      <td>0.757103</td>\n",
       "      <td>0.652317</td>\n",
       "      <td>0.671056</td>\n",
       "    </tr>\n",
       "    <tr>\n",
       "      <th>14</th>\n",
       "      <td>14</td>\n",
       "      <td>Romantic,Melody</td>\n",
       "      <td>1.000000</td>\n",
       "      <td>1.000000</td>\n",
       "      <td>0.767500</td>\n",
       "      <td>0.707249</td>\n",
       "      <td>0.718663</td>\n",
       "    </tr>\n",
       "    <tr>\n",
       "      <th>15</th>\n",
       "      <td>15</td>\n",
       "      <td>Romantic,Melody</td>\n",
       "      <td>0.555556</td>\n",
       "      <td>0.643333</td>\n",
       "      <td>0.658214</td>\n",
       "      <td>0.633358</td>\n",
       "      <td>0.654625</td>\n",
       "    </tr>\n",
       "    <tr>\n",
       "      <th>16</th>\n",
       "      <td>16</td>\n",
       "      <td>Romantic,Melody</td>\n",
       "      <td>1.000000</td>\n",
       "      <td>0.760000</td>\n",
       "      <td>0.604206</td>\n",
       "      <td>0.637582</td>\n",
       "      <td>0.658285</td>\n",
       "    </tr>\n",
       "    <tr>\n",
       "      <th>17</th>\n",
       "      <td>17</td>\n",
       "      <td>Melody</td>\n",
       "      <td>0.333333</td>\n",
       "      <td>0.280000</td>\n",
       "      <td>0.284444</td>\n",
       "      <td>0.357124</td>\n",
       "      <td>0.405609</td>\n",
       "    </tr>\n",
       "    <tr>\n",
       "      <th>18</th>\n",
       "      <td>18</td>\n",
       "      <td>Romantic,Sad</td>\n",
       "      <td>1.000000</td>\n",
       "      <td>0.600000</td>\n",
       "      <td>0.556310</td>\n",
       "      <td>0.537129</td>\n",
       "      <td>0.602164</td>\n",
       "    </tr>\n",
       "    <tr>\n",
       "      <th>19</th>\n",
       "      <td>19</td>\n",
       "      <td>Romantic,Melody</td>\n",
       "      <td>1.000000</td>\n",
       "      <td>0.760000</td>\n",
       "      <td>0.616111</td>\n",
       "      <td>0.646740</td>\n",
       "      <td>0.666222</td>\n",
       "    </tr>\n",
       "  </tbody>\n",
       "</table>\n",
       "</div>"
      ],
      "text/plain": [
       "    song_name               genre        @3        @5       @10       @13  \\\n",
       "0           0     Romantic,Melody  0.555556  0.643333  0.625873  0.598305   \n",
       "1           1     Romantic,Melody  1.000000  0.760000  0.579167  0.618321   \n",
       "2           2        Romantic,Sad  0.555556  0.643333  0.480000  0.522718   \n",
       "3           3     Romantic,Upbeat  1.000000  0.800000  0.538095  0.514153   \n",
       "4           4       Romantic,Folk  1.000000  0.800000  0.745437  0.765541   \n",
       "5           5     Romantic,Melody  0.666667  0.550000  0.645873  0.618934   \n",
       "6           6  Mass,Inspirational  0.500000  0.500000  0.500000  0.576923   \n",
       "7           7              Melody  0.555556  0.483333  0.446429  0.514819   \n",
       "8           8     Romantic,Melody  1.000000  1.000000  0.762103  0.708342   \n",
       "9           9          Folk,Dance  0.555556  0.555556  0.680556  0.680556   \n",
       "10         10          Folk,Dance  0.333333  0.500000  0.500000  0.590909   \n",
       "11         11     Romantic,Upbeat  0.555556  0.643333  0.468095  0.460306   \n",
       "12         12  Inspirational,Mass  0.500000  0.500000  0.500000  0.500000   \n",
       "13         13     Romantic,Melody  0.555556  0.643333  0.757103  0.652317   \n",
       "14         14     Romantic,Melody  1.000000  1.000000  0.767500  0.707249   \n",
       "15         15     Romantic,Melody  0.555556  0.643333  0.658214  0.633358   \n",
       "16         16     Romantic,Melody  1.000000  0.760000  0.604206  0.637582   \n",
       "17         17              Melody  0.333333  0.280000  0.284444  0.357124   \n",
       "18         18        Romantic,Sad  1.000000  0.600000  0.556310  0.537129   \n",
       "19         19     Romantic,Melody  1.000000  0.760000  0.616111  0.646740   \n",
       "\n",
       "         @15  \n",
       "0   0.624245  \n",
       "1   0.641592  \n",
       "2   0.588783  \n",
       "3   0.570965  \n",
       "4   0.778390  \n",
       "5   0.642124  \n",
       "6   0.576923  \n",
       "7   0.569364  \n",
       "8   0.719611  \n",
       "9   0.680556  \n",
       "10  0.590909  \n",
       "11  0.520965  \n",
       "12  0.500000  \n",
       "13  0.671056  \n",
       "14  0.718663  \n",
       "15  0.654625  \n",
       "16  0.658285  \n",
       "17  0.405609  \n",
       "18  0.602164  \n",
       "19  0.666222  "
      ]
     },
     "execution_count": 11,
     "metadata": {},
     "output_type": "execute_result"
    }
   ],
   "source": [
    "N_range = [3, 5, 10, 13, 15]\n",
    "AP_songs = []\n",
    "\n",
    "for N in N_range:\n",
    "    AP_by_N = []\n",
    "    for i in range(similar_songs.shape[0]):\n",
    "        AP_by_N.append(average_precision_N(similar_songs[i, :], N))\n",
    "    AP_songs.append(AP_by_N)\n",
    "\n",
    "genre_strings = [','.join(genre) for genre in genres]\n",
    "\n",
    "df = pd.DataFrame(\n",
    "    list(zip(\n",
    "        [file_path for file_path in range(len(file_path))], \n",
    "        genre_strings,\n",
    "        *AP_songs\n",
    "    )),\n",
    "    columns=['song_name', 'genre'] + [f'@{N}' for N in N_range]\n",
    ")\n",
    "\n",
    "df.head(20)"
   ]
  },
  {
   "cell_type": "markdown",
   "metadata": {},
   "source": [
    "### Step 10: Plotting AP@N histograms"
   ]
  },
  {
   "cell_type": "code",
   "execution_count": 12,
   "metadata": {},
   "outputs": [
    {
     "data": {
      "application/vnd.plotly.v1+json": {
       "config": {
        "plotlyServerURL": "https://plot.ly"
       },
       "data": [
        {
         "type": "histogram",
         "x": [
          0.5555555555555555,
          1,
          0.5555555555555555,
          1,
          1,
          0.6666666666666666,
          0.5,
          0.5555555555555555,
          1,
          0.5555555555555555,
          0.3333333333333333,
          0.5555555555555555,
          0.5,
          0.5555555555555555,
          1,
          0.5555555555555555,
          1,
          0.3333333333333333,
          1,
          1
         ],
         "xaxis": "x",
         "yaxis": "y"
        },
        {
         "type": "histogram",
         "x": [
          0.6433333333333334,
          0.76,
          0.6433333333333334,
          0.8,
          0.8,
          0.55,
          0.5,
          0.48333333333333334,
          1,
          0.5555555555555555,
          0.5,
          0.6433333333333334,
          0.5,
          0.6433333333333334,
          1,
          0.6433333333333334,
          0.76,
          0.27999999999999997,
          0.6000000000000001,
          0.76
         ],
         "xaxis": "x2",
         "yaxis": "y2"
        },
        {
         "type": "histogram",
         "x": [
          0.6258730158730159,
          0.5791666666666667,
          0.48,
          0.5380952380952382,
          0.745436507936508,
          0.6458730158730158,
          0.5,
          0.44642857142857145,
          0.7621031746031746,
          0.6805555555555555,
          0.5,
          0.4680952380952381,
          0.5,
          0.7571031746031747,
          0.7675000000000001,
          0.6582142857142856,
          0.6042063492063492,
          0.28444444444444444,
          0.5563095238095238,
          0.616111111111111
         ],
         "xaxis": "x3",
         "yaxis": "y3"
        },
        {
         "type": "histogram",
         "x": [
          0.5983046867662253,
          0.6183207817823204,
          0.5227183073336921,
          0.5141525141525143,
          0.7655410828487753,
          0.6189340573955958,
          0.5769230769230769,
          0.5148185148185148,
          0.7083418718034104,
          0.6805555555555555,
          0.5909090909090908,
          0.4603063603063604,
          0.5,
          0.6523171273171273,
          0.7072485207100593,
          0.6333583083583083,
          0.6375820760436146,
          0.3571236843964116,
          0.5371288967442814,
          0.6467395852011237
         ],
         "xaxis": "x4",
         "yaxis": "y4"
        },
        {
         "type": "histogram",
         "x": [
          0.6242450142450143,
          0.6415922965922968,
          0.588782645925503,
          0.5709647495361782,
          0.7783895733895735,
          0.6421238021238022,
          0.5769230769230769,
          0.5693639693639693,
          0.7196105746105748,
          0.6805555555555555,
          0.5909090909090908,
          0.5209647495361782,
          0.5,
          0.6710557960557961,
          0.7186630036630038,
          0.6546248196248197,
          0.6582854182854184,
          0.40560853288126014,
          0.6021639075210504,
          0.6662219262219263
         ],
         "xaxis": "x5",
         "yaxis": "y5"
        }
       ],
       "layout": {
        "annotations": [
         {
          "font": {
           "size": 16
          },
          "showarrow": false,
          "text": "AP@2",
          "x": 0.14444444444444446,
          "xanchor": "center",
          "xref": "paper",
          "y": 1,
          "yanchor": "bottom",
          "yref": "paper"
         },
         {
          "font": {
           "size": 16
          },
          "showarrow": false,
          "text": "AP@3",
          "x": 0.5,
          "xanchor": "center",
          "xref": "paper",
          "y": 1,
          "yanchor": "bottom",
          "yref": "paper"
         },
         {
          "font": {
           "size": 16
          },
          "showarrow": false,
          "text": "AP@5",
          "x": 0.8555555555555556,
          "xanchor": "center",
          "xref": "paper",
          "y": 1,
          "yanchor": "bottom",
          "yref": "paper"
         },
         {
          "font": {
           "size": 16
          },
          "showarrow": false,
          "text": "AP@10",
          "x": 0.14444444444444446,
          "xanchor": "center",
          "xref": "paper",
          "y": 0.375,
          "yanchor": "bottom",
          "yref": "paper"
         },
         {
          "font": {
           "size": 16
          },
          "showarrow": false,
          "text": "AP@15",
          "x": 0.5,
          "xanchor": "center",
          "xref": "paper",
          "y": 0.375,
          "yanchor": "bottom",
          "yref": "paper"
         }
        ],
        "height": 500,
        "showlegend": false,
        "template": {
         "data": {
          "bar": [
           {
            "error_x": {
             "color": "#2a3f5f"
            },
            "error_y": {
             "color": "#2a3f5f"
            },
            "marker": {
             "line": {
              "color": "#E5ECF6",
              "width": 0.5
             },
             "pattern": {
              "fillmode": "overlay",
              "size": 10,
              "solidity": 0.2
             }
            },
            "type": "bar"
           }
          ],
          "barpolar": [
           {
            "marker": {
             "line": {
              "color": "#E5ECF6",
              "width": 0.5
             },
             "pattern": {
              "fillmode": "overlay",
              "size": 10,
              "solidity": 0.2
             }
            },
            "type": "barpolar"
           }
          ],
          "carpet": [
           {
            "aaxis": {
             "endlinecolor": "#2a3f5f",
             "gridcolor": "white",
             "linecolor": "white",
             "minorgridcolor": "white",
             "startlinecolor": "#2a3f5f"
            },
            "baxis": {
             "endlinecolor": "#2a3f5f",
             "gridcolor": "white",
             "linecolor": "white",
             "minorgridcolor": "white",
             "startlinecolor": "#2a3f5f"
            },
            "type": "carpet"
           }
          ],
          "choropleth": [
           {
            "colorbar": {
             "outlinewidth": 0,
             "ticks": ""
            },
            "type": "choropleth"
           }
          ],
          "contour": [
           {
            "colorbar": {
             "outlinewidth": 0,
             "ticks": ""
            },
            "colorscale": [
             [
              0,
              "#0d0887"
             ],
             [
              0.1111111111111111,
              "#46039f"
             ],
             [
              0.2222222222222222,
              "#7201a8"
             ],
             [
              0.3333333333333333,
              "#9c179e"
             ],
             [
              0.4444444444444444,
              "#bd3786"
             ],
             [
              0.5555555555555556,
              "#d8576b"
             ],
             [
              0.6666666666666666,
              "#ed7953"
             ],
             [
              0.7777777777777778,
              "#fb9f3a"
             ],
             [
              0.8888888888888888,
              "#fdca26"
             ],
             [
              1,
              "#f0f921"
             ]
            ],
            "type": "contour"
           }
          ],
          "contourcarpet": [
           {
            "colorbar": {
             "outlinewidth": 0,
             "ticks": ""
            },
            "type": "contourcarpet"
           }
          ],
          "heatmap": [
           {
            "colorbar": {
             "outlinewidth": 0,
             "ticks": ""
            },
            "colorscale": [
             [
              0,
              "#0d0887"
             ],
             [
              0.1111111111111111,
              "#46039f"
             ],
             [
              0.2222222222222222,
              "#7201a8"
             ],
             [
              0.3333333333333333,
              "#9c179e"
             ],
             [
              0.4444444444444444,
              "#bd3786"
             ],
             [
              0.5555555555555556,
              "#d8576b"
             ],
             [
              0.6666666666666666,
              "#ed7953"
             ],
             [
              0.7777777777777778,
              "#fb9f3a"
             ],
             [
              0.8888888888888888,
              "#fdca26"
             ],
             [
              1,
              "#f0f921"
             ]
            ],
            "type": "heatmap"
           }
          ],
          "heatmapgl": [
           {
            "colorbar": {
             "outlinewidth": 0,
             "ticks": ""
            },
            "colorscale": [
             [
              0,
              "#0d0887"
             ],
             [
              0.1111111111111111,
              "#46039f"
             ],
             [
              0.2222222222222222,
              "#7201a8"
             ],
             [
              0.3333333333333333,
              "#9c179e"
             ],
             [
              0.4444444444444444,
              "#bd3786"
             ],
             [
              0.5555555555555556,
              "#d8576b"
             ],
             [
              0.6666666666666666,
              "#ed7953"
             ],
             [
              0.7777777777777778,
              "#fb9f3a"
             ],
             [
              0.8888888888888888,
              "#fdca26"
             ],
             [
              1,
              "#f0f921"
             ]
            ],
            "type": "heatmapgl"
           }
          ],
          "histogram": [
           {
            "marker": {
             "pattern": {
              "fillmode": "overlay",
              "size": 10,
              "solidity": 0.2
             }
            },
            "type": "histogram"
           }
          ],
          "histogram2d": [
           {
            "colorbar": {
             "outlinewidth": 0,
             "ticks": ""
            },
            "colorscale": [
             [
              0,
              "#0d0887"
             ],
             [
              0.1111111111111111,
              "#46039f"
             ],
             [
              0.2222222222222222,
              "#7201a8"
             ],
             [
              0.3333333333333333,
              "#9c179e"
             ],
             [
              0.4444444444444444,
              "#bd3786"
             ],
             [
              0.5555555555555556,
              "#d8576b"
             ],
             [
              0.6666666666666666,
              "#ed7953"
             ],
             [
              0.7777777777777778,
              "#fb9f3a"
             ],
             [
              0.8888888888888888,
              "#fdca26"
             ],
             [
              1,
              "#f0f921"
             ]
            ],
            "type": "histogram2d"
           }
          ],
          "histogram2dcontour": [
           {
            "colorbar": {
             "outlinewidth": 0,
             "ticks": ""
            },
            "colorscale": [
             [
              0,
              "#0d0887"
             ],
             [
              0.1111111111111111,
              "#46039f"
             ],
             [
              0.2222222222222222,
              "#7201a8"
             ],
             [
              0.3333333333333333,
              "#9c179e"
             ],
             [
              0.4444444444444444,
              "#bd3786"
             ],
             [
              0.5555555555555556,
              "#d8576b"
             ],
             [
              0.6666666666666666,
              "#ed7953"
             ],
             [
              0.7777777777777778,
              "#fb9f3a"
             ],
             [
              0.8888888888888888,
              "#fdca26"
             ],
             [
              1,
              "#f0f921"
             ]
            ],
            "type": "histogram2dcontour"
           }
          ],
          "mesh3d": [
           {
            "colorbar": {
             "outlinewidth": 0,
             "ticks": ""
            },
            "type": "mesh3d"
           }
          ],
          "parcoords": [
           {
            "line": {
             "colorbar": {
              "outlinewidth": 0,
              "ticks": ""
             }
            },
            "type": "parcoords"
           }
          ],
          "pie": [
           {
            "automargin": true,
            "type": "pie"
           }
          ],
          "scatter": [
           {
            "fillpattern": {
             "fillmode": "overlay",
             "size": 10,
             "solidity": 0.2
            },
            "type": "scatter"
           }
          ],
          "scatter3d": [
           {
            "line": {
             "colorbar": {
              "outlinewidth": 0,
              "ticks": ""
             }
            },
            "marker": {
             "colorbar": {
              "outlinewidth": 0,
              "ticks": ""
             }
            },
            "type": "scatter3d"
           }
          ],
          "scattercarpet": [
           {
            "marker": {
             "colorbar": {
              "outlinewidth": 0,
              "ticks": ""
             }
            },
            "type": "scattercarpet"
           }
          ],
          "scattergeo": [
           {
            "marker": {
             "colorbar": {
              "outlinewidth": 0,
              "ticks": ""
             }
            },
            "type": "scattergeo"
           }
          ],
          "scattergl": [
           {
            "marker": {
             "colorbar": {
              "outlinewidth": 0,
              "ticks": ""
             }
            },
            "type": "scattergl"
           }
          ],
          "scattermapbox": [
           {
            "marker": {
             "colorbar": {
              "outlinewidth": 0,
              "ticks": ""
             }
            },
            "type": "scattermapbox"
           }
          ],
          "scatterpolar": [
           {
            "marker": {
             "colorbar": {
              "outlinewidth": 0,
              "ticks": ""
             }
            },
            "type": "scatterpolar"
           }
          ],
          "scatterpolargl": [
           {
            "marker": {
             "colorbar": {
              "outlinewidth": 0,
              "ticks": ""
             }
            },
            "type": "scatterpolargl"
           }
          ],
          "scatterternary": [
           {
            "marker": {
             "colorbar": {
              "outlinewidth": 0,
              "ticks": ""
             }
            },
            "type": "scatterternary"
           }
          ],
          "surface": [
           {
            "colorbar": {
             "outlinewidth": 0,
             "ticks": ""
            },
            "colorscale": [
             [
              0,
              "#0d0887"
             ],
             [
              0.1111111111111111,
              "#46039f"
             ],
             [
              0.2222222222222222,
              "#7201a8"
             ],
             [
              0.3333333333333333,
              "#9c179e"
             ],
             [
              0.4444444444444444,
              "#bd3786"
             ],
             [
              0.5555555555555556,
              "#d8576b"
             ],
             [
              0.6666666666666666,
              "#ed7953"
             ],
             [
              0.7777777777777778,
              "#fb9f3a"
             ],
             [
              0.8888888888888888,
              "#fdca26"
             ],
             [
              1,
              "#f0f921"
             ]
            ],
            "type": "surface"
           }
          ],
          "table": [
           {
            "cells": {
             "fill": {
              "color": "#EBF0F8"
             },
             "line": {
              "color": "white"
             }
            },
            "header": {
             "fill": {
              "color": "#C8D4E3"
             },
             "line": {
              "color": "white"
             }
            },
            "type": "table"
           }
          ]
         },
         "layout": {
          "annotationdefaults": {
           "arrowcolor": "#2a3f5f",
           "arrowhead": 0,
           "arrowwidth": 1
          },
          "autotypenumbers": "strict",
          "coloraxis": {
           "colorbar": {
            "outlinewidth": 0,
            "ticks": ""
           }
          },
          "colorscale": {
           "diverging": [
            [
             0,
             "#8e0152"
            ],
            [
             0.1,
             "#c51b7d"
            ],
            [
             0.2,
             "#de77ae"
            ],
            [
             0.3,
             "#f1b6da"
            ],
            [
             0.4,
             "#fde0ef"
            ],
            [
             0.5,
             "#f7f7f7"
            ],
            [
             0.6,
             "#e6f5d0"
            ],
            [
             0.7,
             "#b8e186"
            ],
            [
             0.8,
             "#7fbc41"
            ],
            [
             0.9,
             "#4d9221"
            ],
            [
             1,
             "#276419"
            ]
           ],
           "sequential": [
            [
             0,
             "#0d0887"
            ],
            [
             0.1111111111111111,
             "#46039f"
            ],
            [
             0.2222222222222222,
             "#7201a8"
            ],
            [
             0.3333333333333333,
             "#9c179e"
            ],
            [
             0.4444444444444444,
             "#bd3786"
            ],
            [
             0.5555555555555556,
             "#d8576b"
            ],
            [
             0.6666666666666666,
             "#ed7953"
            ],
            [
             0.7777777777777778,
             "#fb9f3a"
            ],
            [
             0.8888888888888888,
             "#fdca26"
            ],
            [
             1,
             "#f0f921"
            ]
           ],
           "sequentialminus": [
            [
             0,
             "#0d0887"
            ],
            [
             0.1111111111111111,
             "#46039f"
            ],
            [
             0.2222222222222222,
             "#7201a8"
            ],
            [
             0.3333333333333333,
             "#9c179e"
            ],
            [
             0.4444444444444444,
             "#bd3786"
            ],
            [
             0.5555555555555556,
             "#d8576b"
            ],
            [
             0.6666666666666666,
             "#ed7953"
            ],
            [
             0.7777777777777778,
             "#fb9f3a"
            ],
            [
             0.8888888888888888,
             "#fdca26"
            ],
            [
             1,
             "#f0f921"
            ]
           ]
          },
          "colorway": [
           "#636efa",
           "#EF553B",
           "#00cc96",
           "#ab63fa",
           "#FFA15A",
           "#19d3f3",
           "#FF6692",
           "#B6E880",
           "#FF97FF",
           "#FECB52"
          ],
          "font": {
           "color": "#2a3f5f"
          },
          "geo": {
           "bgcolor": "white",
           "lakecolor": "white",
           "landcolor": "#E5ECF6",
           "showlakes": true,
           "showland": true,
           "subunitcolor": "white"
          },
          "hoverlabel": {
           "align": "left"
          },
          "hovermode": "closest",
          "mapbox": {
           "style": "light"
          },
          "paper_bgcolor": "white",
          "plot_bgcolor": "#E5ECF6",
          "polar": {
           "angularaxis": {
            "gridcolor": "white",
            "linecolor": "white",
            "ticks": ""
           },
           "bgcolor": "#E5ECF6",
           "radialaxis": {
            "gridcolor": "white",
            "linecolor": "white",
            "ticks": ""
           }
          },
          "scene": {
           "xaxis": {
            "backgroundcolor": "#E5ECF6",
            "gridcolor": "white",
            "gridwidth": 2,
            "linecolor": "white",
            "showbackground": true,
            "ticks": "",
            "zerolinecolor": "white"
           },
           "yaxis": {
            "backgroundcolor": "#E5ECF6",
            "gridcolor": "white",
            "gridwidth": 2,
            "linecolor": "white",
            "showbackground": true,
            "ticks": "",
            "zerolinecolor": "white"
           },
           "zaxis": {
            "backgroundcolor": "#E5ECF6",
            "gridcolor": "white",
            "gridwidth": 2,
            "linecolor": "white",
            "showbackground": true,
            "ticks": "",
            "zerolinecolor": "white"
           }
          },
          "shapedefaults": {
           "line": {
            "color": "#2a3f5f"
           }
          },
          "ternary": {
           "aaxis": {
            "gridcolor": "white",
            "linecolor": "white",
            "ticks": ""
           },
           "baxis": {
            "gridcolor": "white",
            "linecolor": "white",
            "ticks": ""
           },
           "bgcolor": "#E5ECF6",
           "caxis": {
            "gridcolor": "white",
            "linecolor": "white",
            "ticks": ""
           }
          },
          "title": {
           "x": 0.05
          },
          "xaxis": {
           "automargin": true,
           "gridcolor": "white",
           "linecolor": "white",
           "ticks": "",
           "title": {
            "standoff": 15
           },
           "zerolinecolor": "white",
           "zerolinewidth": 2
          },
          "yaxis": {
           "automargin": true,
           "gridcolor": "white",
           "linecolor": "white",
           "ticks": "",
           "title": {
            "standoff": 15
           },
           "zerolinecolor": "white",
           "zerolinewidth": 2
          }
         }
        },
        "title": {
         "text": "AP@N histograms"
        },
        "width": 1000,
        "xaxis": {
         "anchor": "y",
         "domain": [
          0,
          0.2888888888888889
         ]
        },
        "xaxis2": {
         "anchor": "y2",
         "domain": [
          0.35555555555555557,
          0.6444444444444445
         ]
        },
        "xaxis3": {
         "anchor": "y3",
         "domain": [
          0.7111111111111111,
          1
         ]
        },
        "xaxis4": {
         "anchor": "y4",
         "domain": [
          0,
          0.2888888888888889
         ]
        },
        "xaxis5": {
         "anchor": "y5",
         "domain": [
          0.35555555555555557,
          0.6444444444444445
         ]
        },
        "xaxis6": {
         "anchor": "y6",
         "domain": [
          0.7111111111111111,
          1
         ]
        },
        "yaxis": {
         "anchor": "x",
         "domain": [
          0.625,
          1
         ]
        },
        "yaxis2": {
         "anchor": "x2",
         "domain": [
          0.625,
          1
         ]
        },
        "yaxis3": {
         "anchor": "x3",
         "domain": [
          0.625,
          1
         ]
        },
        "yaxis4": {
         "anchor": "x4",
         "domain": [
          0,
          0.375
         ]
        },
        "yaxis5": {
         "anchor": "x5",
         "domain": [
          0,
          0.375
         ]
        },
        "yaxis6": {
         "anchor": "x6",
         "domain": [
          0,
          0.375
         ]
        }
       }
      }
     },
     "metadata": {},
     "output_type": "display_data"
    }
   ],
   "source": [
    "fig = make_subplots(rows=2, cols=3, subplot_titles=(\"AP@2\", \"AP@3\", \"AP@5\", \"AP@10\", \"AP@15\"))\n",
    "\n",
    "fig.add_trace(go.Histogram(x=AP_songs[0]), row=1, col=1)\n",
    "fig.add_trace(go.Histogram(x=AP_songs[1]), row=1, col=2)\n",
    "fig.add_trace(go.Histogram(x=AP_songs[2]), row=1, col=3)\n",
    "fig.add_trace(go.Histogram(x=AP_songs[3]), row=2, col=1)\n",
    "fig.add_trace(go.Histogram(x=AP_songs[4]), row=2, col=2)\n",
    "\n",
    "fig.update_layout(height=500, \n",
    "                  width=1000, \n",
    "                  showlegend=False,\n",
    "                  title_text=\"AP@N histograms\")\n",
    "\n",
    "fig.show()"
   ]
  },
  {
   "cell_type": "markdown",
   "metadata": {},
   "source": [
    "### Step 11: Compute mAP@N for each genre and for the whole dataset"
   ]
  },
  {
   "cell_type": "code",
   "execution_count": 13,
   "metadata": {},
   "outputs": [
    {
     "name": "stdout",
     "output_type": "stream",
     "text": [
      "Mean average precision for each genre: \n",
      "                          @3        @5       @10       @13       @15\n",
      "genre                                                               \n",
      "Folk,Dance          0.444444  0.527778  0.590278  0.635732  0.635732\n",
      "Inspirational,Mass  0.500000  0.500000  0.500000  0.500000  0.500000\n",
      "Mass,Inspirational  0.500000  0.500000  0.500000  0.576923  0.576923\n",
      "Melody              0.444444  0.381667  0.365437  0.435971  0.487486\n",
      "Romantic,Folk       1.000000  0.800000  0.745437  0.765541  0.778390\n",
      "Romantic,Melody     0.814815  0.751111  0.668461  0.646794  0.666269\n",
      "Romantic,Sad        0.777778  0.621667  0.518155  0.529924  0.595473\n",
      "Romantic,Upbeat     0.777778  0.721667  0.503095  0.487229  0.545965\n",
      "Mean average precision for entire dataset: \n",
      "          mAP\n",
      "@3   0.711111\n",
      "@5   0.653278\n",
      "@10  0.585776\n",
      "@13  0.592066\n",
      "@15  0.619052\n"
     ]
    },
    {
     "data": {
      "application/vnd.plotly.v1+json": {
       "config": {
        "plotlyServerURL": "https://plot.ly"
       },
       "data": [
        {
         "mode": "lines+markers",
         "name": "Romantic,Melody",
         "type": "scatter",
         "x": [
          3,
          5,
          10,
          13,
          15
         ],
         "y": [
          0.8148148148148148,
          0.7511111111111112,
          0.6684611992945326,
          0.6467941128197539,
          0.6662691834914058
         ]
        },
        {
         "mode": "lines+markers",
         "name": "Romantic,Sad",
         "type": "scatter",
         "x": [
          3,
          5,
          10,
          13,
          15
         ],
         "y": [
          0.7777777777777777,
          0.6216666666666668,
          0.518154761904762,
          0.5299236020389868,
          0.5954732767232767
         ]
        },
        {
         "mode": "lines+markers",
         "name": "Romantic,Upbeat",
         "type": "scatter",
         "x": [
          3,
          5,
          10,
          13,
          15
         ],
         "y": [
          0.7777777777777777,
          0.7216666666666667,
          0.5030952380952382,
          0.48722943722943735,
          0.5459647495361781
         ]
        },
        {
         "mode": "lines+markers",
         "name": "Romantic,Folk",
         "type": "scatter",
         "x": [
          3,
          5,
          10,
          13,
          15
         ],
         "y": [
          1,
          0.8,
          0.745436507936508,
          0.7655410828487753,
          0.7783895733895735
         ]
        },
        {
         "mode": "lines+markers",
         "name": "Mass,Inspirational",
         "type": "scatter",
         "x": [
          3,
          5,
          10,
          13,
          15
         ],
         "y": [
          0.5,
          0.5,
          0.5,
          0.5769230769230769,
          0.5769230769230769
         ]
        },
        {
         "mode": "lines+markers",
         "name": "Melody",
         "type": "scatter",
         "x": [
          3,
          5,
          10,
          13,
          15
         ],
         "y": [
          0.4444444444444444,
          0.38166666666666665,
          0.36543650793650795,
          0.4359710996074632,
          0.4874862511226147
         ]
        },
        {
         "mode": "lines+markers",
         "name": "Folk,Dance",
         "type": "scatter",
         "x": [
          3,
          5,
          10,
          13,
          15
         ],
         "y": [
          0.4444444444444444,
          0.5277777777777777,
          0.5902777777777777,
          0.6357323232323231,
          0.6357323232323231
         ]
        },
        {
         "mode": "lines+markers",
         "name": "Inspirational,Mass",
         "type": "scatter",
         "x": [
          3,
          5,
          10,
          13,
          15
         ],
         "y": [
          0.5,
          0.5,
          0.5,
          0.5,
          0.5
         ]
        },
        {
         "line": {
          "dash": "dash",
          "width": 4
         },
         "mode": "lines+markers",
         "name": "mean",
         "type": "scatter",
         "x": [
          3,
          5,
          10,
          13,
          15
         ],
         "y": [
          0.7111111111111111,
          0.6532777777777777,
          0.5857757936507937,
          0.5920662049683028,
          0.6190524251482044
         ]
        }
       ],
       "layout": {
        "template": {
         "data": {
          "bar": [
           {
            "error_x": {
             "color": "#2a3f5f"
            },
            "error_y": {
             "color": "#2a3f5f"
            },
            "marker": {
             "line": {
              "color": "#E5ECF6",
              "width": 0.5
             },
             "pattern": {
              "fillmode": "overlay",
              "size": 10,
              "solidity": 0.2
             }
            },
            "type": "bar"
           }
          ],
          "barpolar": [
           {
            "marker": {
             "line": {
              "color": "#E5ECF6",
              "width": 0.5
             },
             "pattern": {
              "fillmode": "overlay",
              "size": 10,
              "solidity": 0.2
             }
            },
            "type": "barpolar"
           }
          ],
          "carpet": [
           {
            "aaxis": {
             "endlinecolor": "#2a3f5f",
             "gridcolor": "white",
             "linecolor": "white",
             "minorgridcolor": "white",
             "startlinecolor": "#2a3f5f"
            },
            "baxis": {
             "endlinecolor": "#2a3f5f",
             "gridcolor": "white",
             "linecolor": "white",
             "minorgridcolor": "white",
             "startlinecolor": "#2a3f5f"
            },
            "type": "carpet"
           }
          ],
          "choropleth": [
           {
            "colorbar": {
             "outlinewidth": 0,
             "ticks": ""
            },
            "type": "choropleth"
           }
          ],
          "contour": [
           {
            "colorbar": {
             "outlinewidth": 0,
             "ticks": ""
            },
            "colorscale": [
             [
              0,
              "#0d0887"
             ],
             [
              0.1111111111111111,
              "#46039f"
             ],
             [
              0.2222222222222222,
              "#7201a8"
             ],
             [
              0.3333333333333333,
              "#9c179e"
             ],
             [
              0.4444444444444444,
              "#bd3786"
             ],
             [
              0.5555555555555556,
              "#d8576b"
             ],
             [
              0.6666666666666666,
              "#ed7953"
             ],
             [
              0.7777777777777778,
              "#fb9f3a"
             ],
             [
              0.8888888888888888,
              "#fdca26"
             ],
             [
              1,
              "#f0f921"
             ]
            ],
            "type": "contour"
           }
          ],
          "contourcarpet": [
           {
            "colorbar": {
             "outlinewidth": 0,
             "ticks": ""
            },
            "type": "contourcarpet"
           }
          ],
          "heatmap": [
           {
            "colorbar": {
             "outlinewidth": 0,
             "ticks": ""
            },
            "colorscale": [
             [
              0,
              "#0d0887"
             ],
             [
              0.1111111111111111,
              "#46039f"
             ],
             [
              0.2222222222222222,
              "#7201a8"
             ],
             [
              0.3333333333333333,
              "#9c179e"
             ],
             [
              0.4444444444444444,
              "#bd3786"
             ],
             [
              0.5555555555555556,
              "#d8576b"
             ],
             [
              0.6666666666666666,
              "#ed7953"
             ],
             [
              0.7777777777777778,
              "#fb9f3a"
             ],
             [
              0.8888888888888888,
              "#fdca26"
             ],
             [
              1,
              "#f0f921"
             ]
            ],
            "type": "heatmap"
           }
          ],
          "heatmapgl": [
           {
            "colorbar": {
             "outlinewidth": 0,
             "ticks": ""
            },
            "colorscale": [
             [
              0,
              "#0d0887"
             ],
             [
              0.1111111111111111,
              "#46039f"
             ],
             [
              0.2222222222222222,
              "#7201a8"
             ],
             [
              0.3333333333333333,
              "#9c179e"
             ],
             [
              0.4444444444444444,
              "#bd3786"
             ],
             [
              0.5555555555555556,
              "#d8576b"
             ],
             [
              0.6666666666666666,
              "#ed7953"
             ],
             [
              0.7777777777777778,
              "#fb9f3a"
             ],
             [
              0.8888888888888888,
              "#fdca26"
             ],
             [
              1,
              "#f0f921"
             ]
            ],
            "type": "heatmapgl"
           }
          ],
          "histogram": [
           {
            "marker": {
             "pattern": {
              "fillmode": "overlay",
              "size": 10,
              "solidity": 0.2
             }
            },
            "type": "histogram"
           }
          ],
          "histogram2d": [
           {
            "colorbar": {
             "outlinewidth": 0,
             "ticks": ""
            },
            "colorscale": [
             [
              0,
              "#0d0887"
             ],
             [
              0.1111111111111111,
              "#46039f"
             ],
             [
              0.2222222222222222,
              "#7201a8"
             ],
             [
              0.3333333333333333,
              "#9c179e"
             ],
             [
              0.4444444444444444,
              "#bd3786"
             ],
             [
              0.5555555555555556,
              "#d8576b"
             ],
             [
              0.6666666666666666,
              "#ed7953"
             ],
             [
              0.7777777777777778,
              "#fb9f3a"
             ],
             [
              0.8888888888888888,
              "#fdca26"
             ],
             [
              1,
              "#f0f921"
             ]
            ],
            "type": "histogram2d"
           }
          ],
          "histogram2dcontour": [
           {
            "colorbar": {
             "outlinewidth": 0,
             "ticks": ""
            },
            "colorscale": [
             [
              0,
              "#0d0887"
             ],
             [
              0.1111111111111111,
              "#46039f"
             ],
             [
              0.2222222222222222,
              "#7201a8"
             ],
             [
              0.3333333333333333,
              "#9c179e"
             ],
             [
              0.4444444444444444,
              "#bd3786"
             ],
             [
              0.5555555555555556,
              "#d8576b"
             ],
             [
              0.6666666666666666,
              "#ed7953"
             ],
             [
              0.7777777777777778,
              "#fb9f3a"
             ],
             [
              0.8888888888888888,
              "#fdca26"
             ],
             [
              1,
              "#f0f921"
             ]
            ],
            "type": "histogram2dcontour"
           }
          ],
          "mesh3d": [
           {
            "colorbar": {
             "outlinewidth": 0,
             "ticks": ""
            },
            "type": "mesh3d"
           }
          ],
          "parcoords": [
           {
            "line": {
             "colorbar": {
              "outlinewidth": 0,
              "ticks": ""
             }
            },
            "type": "parcoords"
           }
          ],
          "pie": [
           {
            "automargin": true,
            "type": "pie"
           }
          ],
          "scatter": [
           {
            "fillpattern": {
             "fillmode": "overlay",
             "size": 10,
             "solidity": 0.2
            },
            "type": "scatter"
           }
          ],
          "scatter3d": [
           {
            "line": {
             "colorbar": {
              "outlinewidth": 0,
              "ticks": ""
             }
            },
            "marker": {
             "colorbar": {
              "outlinewidth": 0,
              "ticks": ""
             }
            },
            "type": "scatter3d"
           }
          ],
          "scattercarpet": [
           {
            "marker": {
             "colorbar": {
              "outlinewidth": 0,
              "ticks": ""
             }
            },
            "type": "scattercarpet"
           }
          ],
          "scattergeo": [
           {
            "marker": {
             "colorbar": {
              "outlinewidth": 0,
              "ticks": ""
             }
            },
            "type": "scattergeo"
           }
          ],
          "scattergl": [
           {
            "marker": {
             "colorbar": {
              "outlinewidth": 0,
              "ticks": ""
             }
            },
            "type": "scattergl"
           }
          ],
          "scattermapbox": [
           {
            "marker": {
             "colorbar": {
              "outlinewidth": 0,
              "ticks": ""
             }
            },
            "type": "scattermapbox"
           }
          ],
          "scatterpolar": [
           {
            "marker": {
             "colorbar": {
              "outlinewidth": 0,
              "ticks": ""
             }
            },
            "type": "scatterpolar"
           }
          ],
          "scatterpolargl": [
           {
            "marker": {
             "colorbar": {
              "outlinewidth": 0,
              "ticks": ""
             }
            },
            "type": "scatterpolargl"
           }
          ],
          "scatterternary": [
           {
            "marker": {
             "colorbar": {
              "outlinewidth": 0,
              "ticks": ""
             }
            },
            "type": "scatterternary"
           }
          ],
          "surface": [
           {
            "colorbar": {
             "outlinewidth": 0,
             "ticks": ""
            },
            "colorscale": [
             [
              0,
              "#0d0887"
             ],
             [
              0.1111111111111111,
              "#46039f"
             ],
             [
              0.2222222222222222,
              "#7201a8"
             ],
             [
              0.3333333333333333,
              "#9c179e"
             ],
             [
              0.4444444444444444,
              "#bd3786"
             ],
             [
              0.5555555555555556,
              "#d8576b"
             ],
             [
              0.6666666666666666,
              "#ed7953"
             ],
             [
              0.7777777777777778,
              "#fb9f3a"
             ],
             [
              0.8888888888888888,
              "#fdca26"
             ],
             [
              1,
              "#f0f921"
             ]
            ],
            "type": "surface"
           }
          ],
          "table": [
           {
            "cells": {
             "fill": {
              "color": "#EBF0F8"
             },
             "line": {
              "color": "white"
             }
            },
            "header": {
             "fill": {
              "color": "#C8D4E3"
             },
             "line": {
              "color": "white"
             }
            },
            "type": "table"
           }
          ]
         },
         "layout": {
          "annotationdefaults": {
           "arrowcolor": "#2a3f5f",
           "arrowhead": 0,
           "arrowwidth": 1
          },
          "autotypenumbers": "strict",
          "coloraxis": {
           "colorbar": {
            "outlinewidth": 0,
            "ticks": ""
           }
          },
          "colorscale": {
           "diverging": [
            [
             0,
             "#8e0152"
            ],
            [
             0.1,
             "#c51b7d"
            ],
            [
             0.2,
             "#de77ae"
            ],
            [
             0.3,
             "#f1b6da"
            ],
            [
             0.4,
             "#fde0ef"
            ],
            [
             0.5,
             "#f7f7f7"
            ],
            [
             0.6,
             "#e6f5d0"
            ],
            [
             0.7,
             "#b8e186"
            ],
            [
             0.8,
             "#7fbc41"
            ],
            [
             0.9,
             "#4d9221"
            ],
            [
             1,
             "#276419"
            ]
           ],
           "sequential": [
            [
             0,
             "#0d0887"
            ],
            [
             0.1111111111111111,
             "#46039f"
            ],
            [
             0.2222222222222222,
             "#7201a8"
            ],
            [
             0.3333333333333333,
             "#9c179e"
            ],
            [
             0.4444444444444444,
             "#bd3786"
            ],
            [
             0.5555555555555556,
             "#d8576b"
            ],
            [
             0.6666666666666666,
             "#ed7953"
            ],
            [
             0.7777777777777778,
             "#fb9f3a"
            ],
            [
             0.8888888888888888,
             "#fdca26"
            ],
            [
             1,
             "#f0f921"
            ]
           ],
           "sequentialminus": [
            [
             0,
             "#0d0887"
            ],
            [
             0.1111111111111111,
             "#46039f"
            ],
            [
             0.2222222222222222,
             "#7201a8"
            ],
            [
             0.3333333333333333,
             "#9c179e"
            ],
            [
             0.4444444444444444,
             "#bd3786"
            ],
            [
             0.5555555555555556,
             "#d8576b"
            ],
            [
             0.6666666666666666,
             "#ed7953"
            ],
            [
             0.7777777777777778,
             "#fb9f3a"
            ],
            [
             0.8888888888888888,
             "#fdca26"
            ],
            [
             1,
             "#f0f921"
            ]
           ]
          },
          "colorway": [
           "#636efa",
           "#EF553B",
           "#00cc96",
           "#ab63fa",
           "#FFA15A",
           "#19d3f3",
           "#FF6692",
           "#B6E880",
           "#FF97FF",
           "#FECB52"
          ],
          "font": {
           "color": "#2a3f5f"
          },
          "geo": {
           "bgcolor": "white",
           "lakecolor": "white",
           "landcolor": "#E5ECF6",
           "showlakes": true,
           "showland": true,
           "subunitcolor": "white"
          },
          "hoverlabel": {
           "align": "left"
          },
          "hovermode": "closest",
          "mapbox": {
           "style": "light"
          },
          "paper_bgcolor": "white",
          "plot_bgcolor": "#E5ECF6",
          "polar": {
           "angularaxis": {
            "gridcolor": "white",
            "linecolor": "white",
            "ticks": ""
           },
           "bgcolor": "#E5ECF6",
           "radialaxis": {
            "gridcolor": "white",
            "linecolor": "white",
            "ticks": ""
           }
          },
          "scene": {
           "xaxis": {
            "backgroundcolor": "#E5ECF6",
            "gridcolor": "white",
            "gridwidth": 2,
            "linecolor": "white",
            "showbackground": true,
            "ticks": "",
            "zerolinecolor": "white"
           },
           "yaxis": {
            "backgroundcolor": "#E5ECF6",
            "gridcolor": "white",
            "gridwidth": 2,
            "linecolor": "white",
            "showbackground": true,
            "ticks": "",
            "zerolinecolor": "white"
           },
           "zaxis": {
            "backgroundcolor": "#E5ECF6",
            "gridcolor": "white",
            "gridwidth": 2,
            "linecolor": "white",
            "showbackground": true,
            "ticks": "",
            "zerolinecolor": "white"
           }
          },
          "shapedefaults": {
           "line": {
            "color": "#2a3f5f"
           }
          },
          "ternary": {
           "aaxis": {
            "gridcolor": "white",
            "linecolor": "white",
            "ticks": ""
           },
           "baxis": {
            "gridcolor": "white",
            "linecolor": "white",
            "ticks": ""
           },
           "bgcolor": "#E5ECF6",
           "caxis": {
            "gridcolor": "white",
            "linecolor": "white",
            "ticks": ""
           }
          },
          "title": {
           "x": 0.05
          },
          "xaxis": {
           "automargin": true,
           "gridcolor": "white",
           "linecolor": "white",
           "ticks": "",
           "title": {
            "standoff": 15
           },
           "zerolinecolor": "white",
           "zerolinewidth": 2
          },
          "yaxis": {
           "automargin": true,
           "gridcolor": "white",
           "linecolor": "white",
           "ticks": "",
           "title": {
            "standoff": 15
           },
           "zerolinecolor": "white",
           "zerolinewidth": 2
          }
         }
        },
        "title": {
         "text": "MAP@N by genre"
        },
        "xaxis": {
         "title": {
          "text": "N"
         }
        },
        "yaxis": {
         "title": {
          "text": "MAP@N"
         }
        }
       }
      }
     },
     "metadata": {},
     "output_type": "display_data"
    }
   ],
   "source": [
    "numeric_columns = [f'@{N}' for N in N_range]\n",
    "\n",
    "mAP_by_genre = df.groupby('genre')[numeric_columns].mean()\n",
    "mAP_dataset = df[numeric_columns].mean().to_frame().rename(columns={0: 'mAP'})\n",
    "\n",
    "print('Mean average precision for each genre: ')\n",
    "print(mAP_by_genre)\n",
    "print('Mean average precision for entire dataset: ')\n",
    "print(mAP_dataset)\n",
    "\n",
    "fig = go.Figure()\n",
    "for genre in df['genre'].unique():\n",
    "    fig.add_trace(go.Scatter(y=mAP_by_genre.loc[genre], x=N_range, mode='lines+markers', name=genre))\n",
    "fig.add_trace(go.Scatter(y=mAP_dataset['mAP'], x=N_range, mode='lines+markers', name='mean', line=dict(width=4, dash='dash')))\n",
    "\n",
    "fig.update_layout(title='MAP@N by genre', xaxis_title='N', yaxis_title='MAP@N')\n",
    "fig.show()"
   ]
  }
 ],
 "metadata": {
  "kernelspec": {
   "display_name": ".venv",
   "language": "python",
   "name": "python3"
  },
  "language_info": {
   "codemirror_mode": {
    "name": "ipython",
    "version": 3
   },
   "file_extension": ".py",
   "mimetype": "text/x-python",
   "name": "python",
   "nbconvert_exporter": "python",
   "pygments_lexer": "ipython3",
   "version": "3.10.12"
  }
 },
 "nbformat": 4,
 "nbformat_minor": 2
}
